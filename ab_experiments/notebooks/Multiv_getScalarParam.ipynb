{
 "cells": [
  {
   "cell_type": "markdown",
   "metadata": {},
   "source": [
    "# parameters generated using getScalar()_ HTM Univariate"
   ]
  },
  {
   "cell_type": "code",
   "execution_count": 285,
   "metadata": {},
   "outputs": [],
   "source": [
    "import numpy as np\n",
    "import pandas as pd\n",
    "import json\n",
    "import datetime\n",
    "import matplotlib.pyplot as plt \n",
    "\n",
    "# from tqdm import tqdm_notebook\n",
    "# import time"
   ]
  },
  {
   "cell_type": "markdown",
   "metadata": {},
   "source": [
    "## Load Data 1 and get Params\n",
    "Load Data and Groundtruth labels:"
   ]
  },
  {
   "cell_type": "code",
   "execution_count": 286,
   "metadata": {},
   "outputs": [],
   "source": [
    "PATH_relative = 'artificialWithAnomaly/art_daily_flatmiddle.csv'"
   ]
  },
  {
   "cell_type": "code",
   "execution_count": 287,
   "metadata": {},
   "outputs": [],
   "source": [
    "df1 = pd.read_csv('../data/NAB/' + PATH_relative) #parse_dates=True\n",
    "with open('../labels/NAB/combined_windows.json') as f:\n",
    "    labels = json.loads(f.read())"
   ]
  },
  {
   "cell_type": "code",
   "execution_count": 288,
   "metadata": {},
   "outputs": [
    {
     "name": "stdout",
     "output_type": "stream",
     "text": [
      "(4032, 2)\n",
      "             timestamp      value\n",
      "0  2014-04-01 00:00:00 -21.048383\n",
      "1  2014-04-01 00:05:00 -20.295477\n",
      "2  2014-04-01 00:10:00 -18.127229\n",
      "3  2014-04-01 00:15:00 -20.171665\n",
      "4  2014-04-01 00:20:00 -21.223762\n"
     ]
    }
   ],
   "source": [
    "print df1.shape\n",
    "print df1.head()"
   ]
  },
  {
   "cell_type": "code",
   "execution_count": 289,
   "metadata": {},
   "outputs": [],
   "source": [
    "df1['value'] = pd.to_numeric(df1['value'])\n",
    "df1['timestamp'] = pd.to_datetime(df1['timestamp'], format=\"%Y-%m-%d %H:%M:%S\")"
   ]
  },
  {
   "cell_type": "markdown",
   "metadata": {},
   "source": [
    "Groundtruth labels for anomaly"
   ]
  },
  {
   "cell_type": "code",
   "execution_count": 290,
   "metadata": {},
   "outputs": [
    {
     "data": {
      "text/plain": [
       "[[u'2014-04-10 07:15:00.000000', u'2014-04-11 16:45:00.000000']]"
      ]
     },
     "execution_count": 290,
     "metadata": {},
     "output_type": "execute_result"
    }
   ],
   "source": [
    "labels[PATH_relative]"
   ]
  },
  {
   "cell_type": "code",
   "execution_count": 291,
   "metadata": {},
   "outputs": [],
   "source": [
    "df1['labels'] = np.zeros_like(df1.value)\n",
    "\n",
    "# set values within the range = 1\n",
    "for i in range(len(labels[PATH_relative])):\n",
    "    df1.loc[(df1['timestamp'] >= labels[PATH_relative][i][0]) & \n",
    "           (df1['timestamp'] <= labels[PATH_relative][i][1]), 'labels'] = 1"
   ]
  },
  {
   "cell_type": "code",
   "execution_count": 292,
   "metadata": {},
   "outputs": [
    {
     "data": {
      "text/html": [
       "<div>\n",
       "<style>\n",
       "    .dataframe thead tr:only-child th {\n",
       "        text-align: right;\n",
       "    }\n",
       "\n",
       "    .dataframe thead th {\n",
       "        text-align: left;\n",
       "    }\n",
       "\n",
       "    .dataframe tbody tr th {\n",
       "        vertical-align: top;\n",
       "    }\n",
       "</style>\n",
       "<table border=\"1\" class=\"dataframe\">\n",
       "  <thead>\n",
       "    <tr style=\"text-align: right;\">\n",
       "      <th></th>\n",
       "      <th>timestamp</th>\n",
       "      <th>value</th>\n",
       "      <th>labels</th>\n",
       "    </tr>\n",
       "  </thead>\n",
       "  <tbody>\n",
       "    <tr>\n",
       "      <th>0</th>\n",
       "      <td>2014-04-01 00:00:00</td>\n",
       "      <td>-21.048383</td>\n",
       "      <td>0.0</td>\n",
       "    </tr>\n",
       "    <tr>\n",
       "      <th>1</th>\n",
       "      <td>2014-04-01 00:05:00</td>\n",
       "      <td>-20.295477</td>\n",
       "      <td>0.0</td>\n",
       "    </tr>\n",
       "    <tr>\n",
       "      <th>2</th>\n",
       "      <td>2014-04-01 00:10:00</td>\n",
       "      <td>-18.127229</td>\n",
       "      <td>0.0</td>\n",
       "    </tr>\n",
       "    <tr>\n",
       "      <th>3</th>\n",
       "      <td>2014-04-01 00:15:00</td>\n",
       "      <td>-20.171665</td>\n",
       "      <td>0.0</td>\n",
       "    </tr>\n",
       "    <tr>\n",
       "      <th>4</th>\n",
       "      <td>2014-04-01 00:20:00</td>\n",
       "      <td>-21.223762</td>\n",
       "      <td>0.0</td>\n",
       "    </tr>\n",
       "  </tbody>\n",
       "</table>\n",
       "</div>"
      ],
      "text/plain": [
       "            timestamp      value  labels\n",
       "0 2014-04-01 00:00:00 -21.048383     0.0\n",
       "1 2014-04-01 00:05:00 -20.295477     0.0\n",
       "2 2014-04-01 00:10:00 -18.127229     0.0\n",
       "3 2014-04-01 00:15:00 -20.171665     0.0\n",
       "4 2014-04-01 00:20:00 -21.223762     0.0"
      ]
     },
     "execution_count": 292,
     "metadata": {},
     "output_type": "execute_result"
    }
   ],
   "source": [
    "df1[0:5]"
   ]
  },
  {
   "cell_type": "markdown",
   "metadata": {},
   "source": [
    "## Suggested Hyperparameters 1"
   ]
  },
  {
   "cell_type": "code",
   "execution_count": 293,
   "metadata": {},
   "outputs": [],
   "source": [
    "from nupic.frameworks.opf.common_models.cluster_params import getScalarMetricWithTimeOfDayAnomalyParams"
   ]
  },
  {
   "cell_type": "code",
   "execution_count": 294,
   "metadata": {},
   "outputs": [],
   "source": [
    "modelParams1 = getScalarMetricWithTimeOfDayAnomalyParams(df1['value'],\n",
    "                                                        minVal=df1['value'].min(), \n",
    "                                                        maxVal=df1['value'].max()\n",
    "                                                       )"
   ]
  },
  {
   "cell_type": "code",
   "execution_count": 295,
   "metadata": {},
   "outputs": [
    {
     "data": {
      "text/plain": [
       "{u'inferenceArgs': {u'inputPredictedField': u'auto',\n",
       "  u'predictedField': u'c1',\n",
       "  u'predictionSteps': [1]},\n",
       " u'modelConfig': {u'aggregationInfo': {u'days': 0,\n",
       "   u'fields': [],\n",
       "   u'hours': 0,\n",
       "   u'microseconds': 0,\n",
       "   u'milliseconds': 0,\n",
       "   u'minutes': 0,\n",
       "   u'months': 0,\n",
       "   u'seconds': 0,\n",
       "   u'weeks': 0,\n",
       "   u'years': 0},\n",
       "  u'model': u'HTMPrediction',\n",
       "  u'modelParams': {u'anomalyParams': {u'anomalyCacheRecords': None,\n",
       "    u'autoDetectThreshold': None,\n",
       "    u'autoDetectWaitRecords': 5030},\n",
       "   u'clEnable': False,\n",
       "   u'clParams': {u'alpha': 0.035828933612158,\n",
       "    u'regionName': u'SDRClassifierRegion',\n",
       "    u'steps': u'1',\n",
       "    u'verbosity': 0},\n",
       "   u'inferenceType': u'TemporalAnomaly',\n",
       "   u'sensorParams': {u'encoders': {u'c0_dayOfWeek': None,\n",
       "     u'c0_timeOfDay': {u'fieldname': u'c0',\n",
       "      u'name': u'c0',\n",
       "      u'timeOfDay': [21, 9.49],\n",
       "      u'type': u'DateEncoder'},\n",
       "     u'c0_weekend': None,\n",
       "     u'c1': {u'fieldname': u'c1',\n",
       "      u'name': u'c1',\n",
       "      'resolution': 0.84582413051000005,\n",
       "      u'seed': 42,\n",
       "      u'type': u'RandomDistributedScalarEncoder'}},\n",
       "    u'sensorAutoReset': None,\n",
       "    u'verbosity': 0},\n",
       "   u'spEnable': True,\n",
       "   u'spParams': {u'boostStrength': 0.0,\n",
       "    u'columnCount': 2048,\n",
       "    u'globalInhibition': 1,\n",
       "    u'inputWidth': 0,\n",
       "    u'numActiveColumnsPerInhArea': 40,\n",
       "    u'potentialPct': 0.8,\n",
       "    u'seed': 1956,\n",
       "    u'spVerbosity': 0,\n",
       "    u'spatialImp': u'cpp',\n",
       "    u'synPermActiveInc': 0.003,\n",
       "    u'synPermConnected': 0.2,\n",
       "    u'synPermInactiveDec': 0.0005},\n",
       "   u'tmEnable': True,\n",
       "   u'tmParams': {u'activationThreshold': 13,\n",
       "    u'cellsPerColumn': 32,\n",
       "    u'columnCount': 2048,\n",
       "    u'globalDecay': 0.0,\n",
       "    u'initialPerm': 0.21,\n",
       "    u'inputWidth': 2048,\n",
       "    u'maxAge': 0,\n",
       "    u'maxSegmentsPerCell': 128,\n",
       "    u'maxSynapsesPerSegment': 32,\n",
       "    u'minThreshold': 10,\n",
       "    u'newSynapseCount': 20,\n",
       "    u'outputType': u'normal',\n",
       "    u'pamLength': 3,\n",
       "    u'permanenceDec': 0.1,\n",
       "    u'permanenceInc': 0.1,\n",
       "    u'seed': 1960,\n",
       "    u'temporalImp': u'cpp',\n",
       "    u'verbosity': 0},\n",
       "   u'trainSPNetOnlyIfRequested': False},\n",
       "  u'predictAheadTime': None,\n",
       "  u'version': 1}}"
      ]
     },
     "execution_count": 295,
     "metadata": {},
     "output_type": "execute_result"
    }
   ],
   "source": [
    "modelParams1"
   ]
  },
  {
   "cell_type": "markdown",
   "metadata": {},
   "source": [
    "## Load Data 2 and get Params\n",
    "Load Data and Groundtruth labels:"
   ]
  },
  {
   "cell_type": "code",
   "execution_count": 296,
   "metadata": {},
   "outputs": [],
   "source": [
    "PATH_relative = 'artificialWithAnomaly/art_daily_jumpsup_AB.csv'\n"
   ]
  },
  {
   "cell_type": "code",
   "execution_count": 297,
   "metadata": {},
   "outputs": [],
   "source": [
    "df2 = pd.read_csv('../data/NAB/' + PATH_relative) #parse_dates=True\n",
    "with open('../labels/NAB/combined_windows.json') as f:\n",
    "    labels = json.loads(f.read())"
   ]
  },
  {
   "cell_type": "code",
   "execution_count": 298,
   "metadata": {},
   "outputs": [
    {
     "name": "stdout",
     "output_type": "stream",
     "text": [
      "(4032, 3)\n",
      "(4032, 2)\n",
      "             timestamp      value\n",
      "0  2014-04-01 00:00:00  21.519280\n",
      "1  2014-04-01 00:05:00  21.707762\n",
      "2  2014-04-01 00:10:00  18.097725\n",
      "3  2014-04-01 00:15:00  21.954012\n",
      "4  2014-04-01 00:20:00  20.840091\n"
     ]
    }
   ],
   "source": [
    "print df1.shape\n",
    "print df2.shape\n",
    "print df2.head()"
   ]
  },
  {
   "cell_type": "code",
   "execution_count": 299,
   "metadata": {},
   "outputs": [],
   "source": [
    "df2['value'] = pd.to_numeric(df2['value'])\n",
    "df2['timestamp'] = pd.to_datetime(df2['timestamp'], format=\"%Y-%m-%d %H:%M:%S\")"
   ]
  },
  {
   "cell_type": "markdown",
   "metadata": {},
   "source": [
    "Groundtruth labels for anomaly"
   ]
  },
  {
   "cell_type": "code",
   "execution_count": 300,
   "metadata": {},
   "outputs": [
    {
     "data": {
      "text/plain": [
       "[[u'2014-04-03 20:10:00.000000', u'2014-04-04 16:25:00.000000']]"
      ]
     },
     "execution_count": 300,
     "metadata": {},
     "output_type": "execute_result"
    }
   ],
   "source": [
    "labels[PATH_relative]"
   ]
  },
  {
   "cell_type": "code",
   "execution_count": 301,
   "metadata": {},
   "outputs": [],
   "source": [
    "df2['labels'] = np.zeros_like(df2.value)\n",
    "\n",
    "# set values within the range = 1\n",
    "for i in range(len(labels[PATH_relative])):\n",
    "    df2.loc[(df2['timestamp'] >= labels[PATH_relative][i][0]) & \n",
    "           (df2['timestamp'] <= labels[PATH_relative][i][1]), 'labels'] = 1"
   ]
  },
  {
   "cell_type": "code",
   "execution_count": 302,
   "metadata": {},
   "outputs": [
    {
     "data": {
      "text/html": [
       "<div>\n",
       "<style>\n",
       "    .dataframe thead tr:only-child th {\n",
       "        text-align: right;\n",
       "    }\n",
       "\n",
       "    .dataframe thead th {\n",
       "        text-align: left;\n",
       "    }\n",
       "\n",
       "    .dataframe tbody tr th {\n",
       "        vertical-align: top;\n",
       "    }\n",
       "</style>\n",
       "<table border=\"1\" class=\"dataframe\">\n",
       "  <thead>\n",
       "    <tr style=\"text-align: right;\">\n",
       "      <th></th>\n",
       "      <th>timestamp</th>\n",
       "      <th>value</th>\n",
       "      <th>labels</th>\n",
       "    </tr>\n",
       "  </thead>\n",
       "  <tbody>\n",
       "    <tr>\n",
       "      <th>0</th>\n",
       "      <td>2014-04-01 00:00:00</td>\n",
       "      <td>21.519280</td>\n",
       "      <td>0.0</td>\n",
       "    </tr>\n",
       "    <tr>\n",
       "      <th>1</th>\n",
       "      <td>2014-04-01 00:05:00</td>\n",
       "      <td>21.707762</td>\n",
       "      <td>0.0</td>\n",
       "    </tr>\n",
       "    <tr>\n",
       "      <th>2</th>\n",
       "      <td>2014-04-01 00:10:00</td>\n",
       "      <td>18.097725</td>\n",
       "      <td>0.0</td>\n",
       "    </tr>\n",
       "    <tr>\n",
       "      <th>3</th>\n",
       "      <td>2014-04-01 00:15:00</td>\n",
       "      <td>21.954012</td>\n",
       "      <td>0.0</td>\n",
       "    </tr>\n",
       "    <tr>\n",
       "      <th>4</th>\n",
       "      <td>2014-04-01 00:20:00</td>\n",
       "      <td>20.840091</td>\n",
       "      <td>0.0</td>\n",
       "    </tr>\n",
       "  </tbody>\n",
       "</table>\n",
       "</div>"
      ],
      "text/plain": [
       "            timestamp      value  labels\n",
       "0 2014-04-01 00:00:00  21.519280     0.0\n",
       "1 2014-04-01 00:05:00  21.707762     0.0\n",
       "2 2014-04-01 00:10:00  18.097725     0.0\n",
       "3 2014-04-01 00:15:00  21.954012     0.0\n",
       "4 2014-04-01 00:20:00  20.840091     0.0"
      ]
     },
     "execution_count": 302,
     "metadata": {},
     "output_type": "execute_result"
    }
   ],
   "source": [
    "df2[0:5]"
   ]
  },
  {
   "cell_type": "markdown",
   "metadata": {},
   "source": [
    "## Suggested Hyperparameters 2"
   ]
  },
  {
   "cell_type": "code",
   "execution_count": 303,
   "metadata": {},
   "outputs": [],
   "source": [
    "from nupic.frameworks.opf.common_models.cluster_params import getScalarMetricWithTimeOfDayAnomalyParams"
   ]
  },
  {
   "cell_type": "code",
   "execution_count": 304,
   "metadata": {},
   "outputs": [],
   "source": [
    "modelParams2 = getScalarMetricWithTimeOfDayAnomalyParams(df2['value'],\n",
    "                                                        minVal=df2['value'].min(), \n",
    "                                                        maxVal=df2['value'].max()\n",
    "                                                       )"
   ]
  },
  {
   "cell_type": "code",
   "execution_count": 305,
   "metadata": {},
   "outputs": [
    {
     "data": {
      "text/plain": [
       "{u'inferenceArgs': {u'inputPredictedField': u'auto',\n",
       "  u'predictedField': u'c1',\n",
       "  u'predictionSteps': [1]},\n",
       " u'modelConfig': {u'aggregationInfo': {u'days': 0,\n",
       "   u'fields': [],\n",
       "   u'hours': 0,\n",
       "   u'microseconds': 0,\n",
       "   u'milliseconds': 0,\n",
       "   u'minutes': 0,\n",
       "   u'months': 0,\n",
       "   u'seconds': 0,\n",
       "   u'weeks': 0,\n",
       "   u'years': 0},\n",
       "  u'model': u'HTMPrediction',\n",
       "  u'modelParams': {u'anomalyParams': {u'anomalyCacheRecords': None,\n",
       "    u'autoDetectThreshold': None,\n",
       "    u'autoDetectWaitRecords': 5030},\n",
       "   u'clEnable': False,\n",
       "   u'clParams': {u'alpha': 0.035828933612158,\n",
       "    u'regionName': u'SDRClassifierRegion',\n",
       "    u'steps': u'1',\n",
       "    u'verbosity': 0},\n",
       "   u'inferenceType': u'TemporalAnomaly',\n",
       "   u'sensorParams': {u'encoders': {u'c0_dayOfWeek': None,\n",
       "     u'c0_timeOfDay': {u'fieldname': u'c0',\n",
       "      u'name': u'c0',\n",
       "      u'timeOfDay': [21, 9.49],\n",
       "      u'type': u'DateEncoder'},\n",
       "     u'c0_weekend': None,\n",
       "     u'c1': {u'fieldname': u'c1',\n",
       "      u'name': u'c1',\n",
       "      'resolution': 1.1303574668846152,\n",
       "      u'seed': 42,\n",
       "      u'type': u'RandomDistributedScalarEncoder'}},\n",
       "    u'sensorAutoReset': None,\n",
       "    u'verbosity': 0},\n",
       "   u'spEnable': True,\n",
       "   u'spParams': {u'boostStrength': 0.0,\n",
       "    u'columnCount': 2048,\n",
       "    u'globalInhibition': 1,\n",
       "    u'inputWidth': 0,\n",
       "    u'numActiveColumnsPerInhArea': 40,\n",
       "    u'potentialPct': 0.8,\n",
       "    u'seed': 1956,\n",
       "    u'spVerbosity': 0,\n",
       "    u'spatialImp': u'cpp',\n",
       "    u'synPermActiveInc': 0.003,\n",
       "    u'synPermConnected': 0.2,\n",
       "    u'synPermInactiveDec': 0.0005},\n",
       "   u'tmEnable': True,\n",
       "   u'tmParams': {u'activationThreshold': 13,\n",
       "    u'cellsPerColumn': 32,\n",
       "    u'columnCount': 2048,\n",
       "    u'globalDecay': 0.0,\n",
       "    u'initialPerm': 0.21,\n",
       "    u'inputWidth': 2048,\n",
       "    u'maxAge': 0,\n",
       "    u'maxSegmentsPerCell': 128,\n",
       "    u'maxSynapsesPerSegment': 32,\n",
       "    u'minThreshold': 10,\n",
       "    u'newSynapseCount': 20,\n",
       "    u'outputType': u'normal',\n",
       "    u'pamLength': 3,\n",
       "    u'permanenceDec': 0.1,\n",
       "    u'permanenceInc': 0.1,\n",
       "    u'seed': 1960,\n",
       "    u'temporalImp': u'cpp',\n",
       "    u'verbosity': 0},\n",
       "   u'trainSPNetOnlyIfRequested': False},\n",
       "  u'predictAheadTime': None,\n",
       "  u'version': 1}}"
      ]
     },
     "execution_count": 305,
     "metadata": {},
     "output_type": "execute_result"
    }
   ],
   "source": [
    "modelParams2"
   ]
  },
  {
   "cell_type": "markdown",
   "metadata": {},
   "source": [
    "## Merge DataFrames"
   ]
  },
  {
   "cell_type": "code",
   "execution_count": 306,
   "metadata": {},
   "outputs": [],
   "source": [
    "df = pd.DataFrame.merge(df1, df2, how='left', on='timestamp', suffixes=('1','2'))"
   ]
  },
  {
   "cell_type": "code",
   "execution_count": 307,
   "metadata": {},
   "outputs": [
    {
     "data": {
      "text/plain": [
       "[{'labels1': 0.0,\n",
       "  'labels2': 0.0,\n",
       "  'timestamp': Timestamp('2014-04-01 00:00:00'),\n",
       "  'value1': -21.0483826823,\n",
       "  'value2': 21.519279906799998},\n",
       " {'labels1': 0.0,\n",
       "  'labels2': 0.0,\n",
       "  'timestamp': Timestamp('2014-04-01 00:05:00'),\n",
       "  'value1': -20.2954768676,\n",
       "  'value2': 21.7077624925},\n",
       " {'labels1': 0.0,\n",
       "  'labels2': 0.0,\n",
       "  'timestamp': Timestamp('2014-04-01 00:10:00'),\n",
       "  'value1': -18.127229468299998,\n",
       "  'value2': 18.0977252372},\n",
       " {'labels1': 0.0,\n",
       "  'labels2': 0.0,\n",
       "  'timestamp': Timestamp('2014-04-01 00:15:00'),\n",
       "  'value1': -20.1716653997,\n",
       "  'value2': 21.9540122797},\n",
       " {'labels1': 0.0,\n",
       "  'labels2': 0.0,\n",
       "  'timestamp': Timestamp('2014-04-01 00:20:00'),\n",
       "  'value1': -21.223761612,\n",
       "  'value2': 20.840090926}]"
      ]
     },
     "execution_count": 307,
     "metadata": {},
     "output_type": "execute_result"
    }
   ],
   "source": [
    "data = df.to_dict(orient='records')\n",
    "data[0:5]"
   ]
  },
  {
   "cell_type": "code",
   "execution_count": 308,
   "metadata": {},
   "outputs": [],
   "source": [
    "import pandas_profiling"
   ]
  },
  {
   "cell_type": "code",
   "execution_count": 309,
   "metadata": {},
   "outputs": [
    {
     "data": {
      "text/html": [
       "<meta charset=\"UTF-8\">\n",
       "\n",
       "<style>\n",
       "\n",
       "        .variablerow {\n",
       "            border: 1px solid #e1e1e8;\n",
       "            border-top: hidden;\n",
       "            padding-top: 2em;\n",
       "            padding-bottom: 2em;\n",
       "            padding-left: 1em;\n",
       "            padding-right: 1em;\n",
       "        }\n",
       "\n",
       "        .headerrow {\n",
       "            border: 1px solid #e1e1e8;\n",
       "            background-color: #f5f5f5;\n",
       "            padding: 2em;\n",
       "        }\n",
       "        .namecol {\n",
       "            margin-top: -1em;\n",
       "            overflow-x: auto;\n",
       "        }\n",
       "\n",
       "        .dl-horizontal dt {\n",
       "            text-align: left;\n",
       "            padding-right: 1em;\n",
       "            white-space: normal;\n",
       "        }\n",
       "\n",
       "        .dl-horizontal dd {\n",
       "            margin-left: 0;\n",
       "        }\n",
       "\n",
       "        .ignore {\n",
       "            opacity: 0.4;\n",
       "        }\n",
       "\n",
       "        .container.pandas-profiling {\n",
       "            max-width:975px;\n",
       "        }\n",
       "\n",
       "        .col-md-12 {\n",
       "            padding-left: 2em;\n",
       "        }\n",
       "\n",
       "        .indent {\n",
       "            margin-left: 1em;\n",
       "        }\n",
       "\n",
       "        .center-img {\n",
       "            margin-left: auto !important;\n",
       "            margin-right: auto !important;\n",
       "            display: block;\n",
       "        }\n",
       "\n",
       "        /* Table example_values */\n",
       "            table.example_values {\n",
       "                border: 0;\n",
       "            }\n",
       "\n",
       "            .example_values th {\n",
       "                border: 0;\n",
       "                padding: 0 ;\n",
       "                color: #555;\n",
       "                font-weight: 600;\n",
       "            }\n",
       "\n",
       "            .example_values tr, .example_values td{\n",
       "                border: 0;\n",
       "                padding: 0;\n",
       "                color: #555;\n",
       "            }\n",
       "\n",
       "        /* STATS */\n",
       "            table.stats {\n",
       "                border: 0;\n",
       "            }\n",
       "\n",
       "            .stats th {\n",
       "                border: 0;\n",
       "                padding: 0 2em 0 0;\n",
       "                color: #555;\n",
       "                font-weight: 600;\n",
       "            }\n",
       "\n",
       "            .stats tr {\n",
       "                border: 0;\n",
       "            }\n",
       "\n",
       "            .stats td{\n",
       "                color: #555;\n",
       "                padding: 1px;\n",
       "                border: 0;\n",
       "            }\n",
       "\n",
       "\n",
       "        /* Sample table */\n",
       "            table.sample {\n",
       "                border: 0;\n",
       "                margin-bottom: 2em;\n",
       "                margin-left:1em;\n",
       "            }\n",
       "            .sample tr {\n",
       "                border:0;\n",
       "            }\n",
       "            .sample td, .sample th{\n",
       "                padding: 0.5em;\n",
       "                white-space: nowrap;\n",
       "                border: none;\n",
       "\n",
       "            }\n",
       "\n",
       "            .sample thead {\n",
       "                border-top: 0;\n",
       "                border-bottom: 2px solid #ddd;\n",
       "            }\n",
       "\n",
       "            .sample td {\n",
       "                width:100%;\n",
       "            }\n",
       "\n",
       "\n",
       "        /* There is no good solution available to make the divs equal height and then center ... */\n",
       "            .histogram {\n",
       "                margin-top: 3em;\n",
       "            }\n",
       "        /* Freq table */\n",
       "\n",
       "            table.freq {\n",
       "                margin-bottom: 2em;\n",
       "                border: 0;\n",
       "            }\n",
       "            table.freq th, table.freq tr, table.freq td {\n",
       "                border: 0;\n",
       "                padding: 0;\n",
       "            }\n",
       "\n",
       "            .freq thead {\n",
       "                font-weight: 600;\n",
       "                white-space: nowrap;\n",
       "                overflow: hidden;\n",
       "                text-overflow: ellipsis;\n",
       "\n",
       "            }\n",
       "\n",
       "            td.fillremaining{\n",
       "                width:auto;\n",
       "                max-width: none;\n",
       "            }\n",
       "\n",
       "            td.number, th.number {\n",
       "                text-align:right ;\n",
       "            }\n",
       "\n",
       "        /* Freq mini */\n",
       "            .freq.mini td{\n",
       "                width: 50%;\n",
       "                padding: 1px;\n",
       "                font-size: 12px;\n",
       "\n",
       "            }\n",
       "            table.freq.mini {\n",
       "                 width:100%;\n",
       "            }\n",
       "            .freq.mini th {\n",
       "                overflow: hidden;\n",
       "                text-overflow: ellipsis;\n",
       "                white-space: nowrap;\n",
       "                max-width: 5em;\n",
       "                font-weight: 400;\n",
       "                text-align:right;\n",
       "                padding-right: 0.5em;\n",
       "            }\n",
       "\n",
       "            .missing {\n",
       "                color: #a94442;\n",
       "            }\n",
       "            .alert, .alert > th, .alert > td {\n",
       "                color: #a94442;\n",
       "            }\n",
       "\n",
       "\n",
       "        /* Bars in tables */\n",
       "            .freq .bar{\n",
       "                float: left;\n",
       "                width: 0;\n",
       "                height: 100%;\n",
       "                line-height: 20px;\n",
       "                color: #fff;\n",
       "                text-align: center;\n",
       "                background-color: #337ab7;\n",
       "                border-radius: 3px;\n",
       "                margin-right: 4px;\n",
       "            }\n",
       "            .other .bar {\n",
       "                background-color: #999;\n",
       "            }\n",
       "            .missing .bar{\n",
       "                background-color: #a94442;\n",
       "            }\n",
       "            .tooltip-inner {\n",
       "                width: 100%;\n",
       "                white-space: nowrap;\n",
       "                text-align:left;\n",
       "            }\n",
       "\n",
       "            .extrapadding{\n",
       "                padding: 2em;\n",
       "            }\n",
       "\n",
       "            .pp-anchor{\n",
       "\n",
       "            }\n",
       "\n",
       "</style>\n",
       "\n",
       "<div class=\"container pandas-profiling\">\n",
       "    <div class=\"row headerrow highlight\">\n",
       "        <h1>Overview</h1>\n",
       "    </div>\n",
       "    <div class=\"row variablerow\">\n",
       "    <div class=\"col-md-6 namecol\">\n",
       "        <p class=\"h4\">Dataset info</p>\n",
       "        <table class=\"stats\" style=\"margin-left: 1em;\">\n",
       "            <tbody>\n",
       "            <tr>\n",
       "                <th>Number of variables</th>\n",
       "                <td>5 </td>\n",
       "            </tr>\n",
       "            <tr>\n",
       "                <th>Number of observations</th>\n",
       "                <td>4032 </td>\n",
       "            </tr>\n",
       "            <tr>\n",
       "                <th>Total Missing (%)</th>\n",
       "                <td>0.0% </td>\n",
       "            </tr>\n",
       "            <tr>\n",
       "                <th>Total size in memory</th>\n",
       "                <td>349.0 KiB </td>\n",
       "            </tr>\n",
       "            <tr>\n",
       "                <th>Average record size in memory</th>\n",
       "                <td>88.0 B </td>\n",
       "            </tr>\n",
       "            </tbody>\n",
       "        </table>\n",
       "    </div>\n",
       "    <div class=\"col-md-6 namecol\">\n",
       "        <p class=\"h4\">Variables types</p>\n",
       "        <table class=\"stats\" style=\"margin-left: 1em;\">\n",
       "            <tbody>\n",
       "            <tr>\n",
       "                <th>Numeric</th>\n",
       "                <td>2 </td>\n",
       "            </tr>\n",
       "            <tr>\n",
       "                <th>Categorical</th>\n",
       "                <td>0 </td>\n",
       "            </tr>\n",
       "            <tr>\n",
       "                <th>Boolean</th>\n",
       "                <td>2 </td>\n",
       "            </tr>\n",
       "            <tr>\n",
       "                <th>Date</th>\n",
       "                <td>1 </td>\n",
       "            </tr>\n",
       "            <tr>\n",
       "                <th>Text (Unique)</th>\n",
       "                <td>0 </td>\n",
       "            </tr>\n",
       "            <tr>\n",
       "                <th>Rejected</th>\n",
       "                <td>0 </td>\n",
       "            </tr>\n",
       "            <tr>\n",
       "                <th>Unsupported</th>\n",
       "                <td>0 </td>\n",
       "            </tr>\n",
       "            </tbody>\n",
       "        </table>\n",
       "    </div>\n",
       "</div>\n",
       "    <div class=\"row headerrow highlight\">\n",
       "        <h1>Variables</h1>\n",
       "    </div>\n",
       "    <div class=\"row variablerow\">\n",
       "    <div class=\"col-md-3 namecol\">\n",
       "        <p class=\"h4 pp-anchor\" id=\"pp_var_labels1\">labels1<br/>\n",
       "            <small>Boolean</small>\n",
       "        </p>\n",
       "    </div><div class=\"col-md-6\">\n",
       "    <div class=\"row\">\n",
       "        <div class=\"col-sm-6\">\n",
       "            <table class=\"stats \">\n",
       "                <tr class=\"\">\n",
       "                    <th>Distinct count</th>\n",
       "                    <td>2</td>\n",
       "                </tr>\n",
       "                <tr>\n",
       "                    <th>Unique (%)</th>\n",
       "                    <td>0.0%</td>\n",
       "                </tr>\n",
       "                <tr class=\"ignore\">\n",
       "                    <th>Missing (%)</th>\n",
       "                    <td>0.0%</td>\n",
       "                </tr>\n",
       "                <tr class=\"ignore\">\n",
       "                    <th>Missing (n)</th>\n",
       "                    <td>0</td>\n",
       "                </tr>\n",
       "            </table>\n",
       "        </div>\n",
       "        <div class=\"col-sm-6\">\n",
       "            <table class=\"stats \">\n",
       "                <tr>\n",
       "                    <th>Mean</th>\n",
       "                    <td>0.09995</td>\n",
       "                </tr>\n",
       "            </table>\n",
       "        </div>\n",
       "    </div>\n",
       "</div>\n",
       "<div class=\"col-md-3 collapse in\" id=\"minifreqtable-7022691666446972591\">\n",
       "    <table class=\"mini freq\">\n",
       "        <tr class=\"\">\n",
       "    <th>0.0</th>\n",
       "    <td>\n",
       "        <div class=\"bar\" style=\"width:100%\" data-toggle=\"tooltip\" data-placement=\"right\" data-html=\"true\"\n",
       "             data-delay=500 title=\"Percentage: 0.0%\">\n",
       "            3629\n",
       "        </div>\n",
       "        \n",
       "    </td>\n",
       "</tr><tr class=\"\">\n",
       "    <th>1.0</th>\n",
       "    <td>\n",
       "        <div class=\"bar\" style=\"width:1%\" data-toggle=\"tooltip\" data-placement=\"right\" data-html=\"true\"\n",
       "             data-delay=500 title=\"Percentage: 0.0%\">\n",
       "            &nbsp;\n",
       "        </div>\n",
       "        403\n",
       "    </td>\n",
       "</tr>\n",
       "    </table>\n",
       "</div>\n",
       "<div class=\"col-md-12 text-right\">\n",
       "    <a role=\"button\" data-toggle=\"collapse\" data-target=\"#freqtable-7022691666446972591, #minifreqtable-7022691666446972591\"\n",
       "        aria-expanded=\"true\" aria-controls=\"collapseExample\">\n",
       "        Toggle details\n",
       "    </a>\n",
       "</div>\n",
       "<div class=\"col-md-12 extrapadding collapse\" id=\"freqtable-7022691666446972591\">\n",
       "    \n",
       "<table class=\"freq table table-hover\">\n",
       "    <thead>\n",
       "    <tr>\n",
       "        <td class=\"fillremaining\">Value</td>\n",
       "        <td class=\"number\">Count</td>\n",
       "        <td class=\"number\">Frequency (%)</td>\n",
       "        <td style=\"min-width:200px\">&nbsp;</td>\n",
       "    </tr>\n",
       "    </thead>\n",
       "    <tr class=\"\">\n",
       "        <td class=\"fillremaining\">0.0</td>\n",
       "        <td class=\"number\">3629</td>\n",
       "        <td class=\"number\">0.0%</td>\n",
       "        <td>\n",
       "            <div class=\"bar\" style=\"width:100%\">&nbsp;</div>\n",
       "        </td>\n",
       "</tr><tr class=\"\">\n",
       "        <td class=\"fillremaining\">1.0</td>\n",
       "        <td class=\"number\">403</td>\n",
       "        <td class=\"number\">0.0%</td>\n",
       "        <td>\n",
       "            <div class=\"bar\" style=\"width:1%\">&nbsp;</div>\n",
       "        </td>\n",
       "</tr>\n",
       "</table>\n",
       "</div>\n",
       "</div><div class=\"row variablerow\">\n",
       "    <div class=\"col-md-3 namecol\">\n",
       "        <p class=\"h4 pp-anchor\" id=\"pp_var_labels2\">labels2<br/>\n",
       "            <small>Boolean</small>\n",
       "        </p>\n",
       "    </div><div class=\"col-md-6\">\n",
       "    <div class=\"row\">\n",
       "        <div class=\"col-sm-6\">\n",
       "            <table class=\"stats \">\n",
       "                <tr class=\"\">\n",
       "                    <th>Distinct count</th>\n",
       "                    <td>2</td>\n",
       "                </tr>\n",
       "                <tr>\n",
       "                    <th>Unique (%)</th>\n",
       "                    <td>0.0%</td>\n",
       "                </tr>\n",
       "                <tr class=\"ignore\">\n",
       "                    <th>Missing (%)</th>\n",
       "                    <td>0.0%</td>\n",
       "                </tr>\n",
       "                <tr class=\"ignore\">\n",
       "                    <th>Missing (n)</th>\n",
       "                    <td>0</td>\n",
       "                </tr>\n",
       "            </table>\n",
       "        </div>\n",
       "        <div class=\"col-sm-6\">\n",
       "            <table class=\"stats \">\n",
       "                <tr>\n",
       "                    <th>Mean</th>\n",
       "                    <td>0.060516</td>\n",
       "                </tr>\n",
       "            </table>\n",
       "        </div>\n",
       "    </div>\n",
       "</div>\n",
       "<div class=\"col-md-3 collapse in\" id=\"minifreqtable-7022691666446972590\">\n",
       "    <table class=\"mini freq\">\n",
       "        <tr class=\"\">\n",
       "    <th>0.0</th>\n",
       "    <td>\n",
       "        <div class=\"bar\" style=\"width:100%\" data-toggle=\"tooltip\" data-placement=\"right\" data-html=\"true\"\n",
       "             data-delay=500 title=\"Percentage: 0.0%\">\n",
       "            3788\n",
       "        </div>\n",
       "        \n",
       "    </td>\n",
       "</tr><tr class=\"\">\n",
       "    <th>1.0</th>\n",
       "    <td>\n",
       "        <div class=\"bar\" style=\"width:1%\" data-toggle=\"tooltip\" data-placement=\"right\" data-html=\"true\"\n",
       "             data-delay=500 title=\"Percentage: 0.0%\">\n",
       "            &nbsp;\n",
       "        </div>\n",
       "        244\n",
       "    </td>\n",
       "</tr>\n",
       "    </table>\n",
       "</div>\n",
       "<div class=\"col-md-12 text-right\">\n",
       "    <a role=\"button\" data-toggle=\"collapse\" data-target=\"#freqtable-7022691666446972590, #minifreqtable-7022691666446972590\"\n",
       "        aria-expanded=\"true\" aria-controls=\"collapseExample\">\n",
       "        Toggle details\n",
       "    </a>\n",
       "</div>\n",
       "<div class=\"col-md-12 extrapadding collapse\" id=\"freqtable-7022691666446972590\">\n",
       "    \n",
       "<table class=\"freq table table-hover\">\n",
       "    <thead>\n",
       "    <tr>\n",
       "        <td class=\"fillremaining\">Value</td>\n",
       "        <td class=\"number\">Count</td>\n",
       "        <td class=\"number\">Frequency (%)</td>\n",
       "        <td style=\"min-width:200px\">&nbsp;</td>\n",
       "    </tr>\n",
       "    </thead>\n",
       "    <tr class=\"\">\n",
       "        <td class=\"fillremaining\">0.0</td>\n",
       "        <td class=\"number\">3788</td>\n",
       "        <td class=\"number\">0.0%</td>\n",
       "        <td>\n",
       "            <div class=\"bar\" style=\"width:100%\">&nbsp;</div>\n",
       "        </td>\n",
       "</tr><tr class=\"\">\n",
       "        <td class=\"fillremaining\">1.0</td>\n",
       "        <td class=\"number\">244</td>\n",
       "        <td class=\"number\">0.0%</td>\n",
       "        <td>\n",
       "            <div class=\"bar\" style=\"width:1%\">&nbsp;</div>\n",
       "        </td>\n",
       "</tr>\n",
       "</table>\n",
       "</div>\n",
       "</div><div class=\"row variablerow\">\n",
       "    <div class=\"col-md-3 namecol\">\n",
       "        <p class=\"h4 pp-anchor\" id=\"pp_var_timestamp\">timestamp<br/>\n",
       "            <small>Date</small>\n",
       "        </p>\n",
       "    </div><div class=\"col-md-6\">\n",
       "    <div class=\"row\">\n",
       "        <div class=\"col-sm-6\">\n",
       "            <table class=\"stats \">\n",
       "                <tr>\n",
       "                    <th>Distinct count</th>\n",
       "                    <td>4032</td>\n",
       "                </tr>\n",
       "                <tr>\n",
       "                    <th>Unique (%)</th>\n",
       "                    <td>100.0%</td>\n",
       "                </tr>\n",
       "                <tr class=\"ignore\">\n",
       "                    <th>Missing (%)</th>\n",
       "                    <td>0.0%</td>\n",
       "                </tr>\n",
       "                <tr class=\"ignore\">\n",
       "                    <th>Missing (n)</th>\n",
       "                    <td>0</td>\n",
       "                </tr>\n",
       "                <tr class=\"ignore\">\n",
       "                    <th>Infinite (%)</th>\n",
       "                    <td>0.0%</td>\n",
       "                </tr>\n",
       "                <tr class=\"ignore\">\n",
       "                    <th>Infinite (n)</th>\n",
       "                    <td>0</td>\n",
       "                </tr>\n",
       "            </table>\n",
       "        </div>\n",
       "        <div class=\"col-sm-6\">\n",
       "            <table class=\"stats \">\n",
       "                <tr>\n",
       "                    <th>Minimum</th>\n",
       "                    <td>2014-04-01 00:00:00</td>\n",
       "                </tr>\n",
       "                <tr>\n",
       "                    <th>Maximum</th>\n",
       "                    <td>2014-04-14 23:55:00</td>\n",
       "                </tr>\n",
       "            </table>\n",
       "        </div>\n",
       "    </div>\n",
       "</div>\n",
       "<div class=\"col-md-3 collapse in\" id=\"minihistogram1020477123525792329\">\n",
       "    <img src=\"data:image/png;base64,iVBORw0KGgoAAAANSUhEUgAAAMgAAABLCAYAAAA1fMjoAAAABHNCSVQICAgIfAhkiAAAAAlwSFlzAAAPYQAAD2EBqD%2BnaQAAADl0RVh0U29mdHdhcmUAbWF0cGxvdGxpYiB2ZXJzaW9uIDIuMi40LCBodHRwOi8vbWF0cGxvdGxpYi5vcmcv7US4rQAABWdJREFUeJzt209I028Ax/G36axm0T9WCh06dijxoCB1iKCDdYnCMHCHiA4REbTCVT8oqBnVtMPypJYU5VqieKgwhME6B2JK26GCLtGm9GfQkCU%2Bv8OPRuZ60tyv9Y3P67jvnu/3%2BT4Pb7%2BiW4kxxiAieS0p9gRE/mRlxZ7A92r/GSr2FKSInrU2FHsKs%2BgJImKhQEQsFIiIhQIRsVAgIhYKRMRCgYhYKBARCwUiYqFARCwUiIiFAhGxUCAiFgpExEKBiFgoEBELBSJioUBELBSIiIUCEbFQICIWCkTEQoGIWCgQEQsFImKhQEQsFIiIhQIRsVAgIhYKRMRCgYhYKBARCwUiYqFARCwUiIiFAhGxUCAiFgpExEKBiFgoEBELBSJioUBELBSIiIUCEbFQICIWCkTEosQYY4o9iYVIpVJEIhGamppYv359sacj8%2BTUfXPcE2RiYoKOjg4mJiaKPRVZAKfum%2BMCEfmdFIiIhQIRsXBcIB6Ph%2BPHj%2BPxeIo9FVkAp%2B6b4/6KJfI7Oe4JIvI7KRARCwUiYqFARCwUiIiFAhGxUCAiFgUNpKenh8bGRpqamjh16hTZbJZnz55x8OBBDhw4wNGjR0mn07n39/X1UVNTw9OnT%2BecK51Os2PHDgYGBvJeK5lMcuTIkdy54/F4QcZ//PiRY8eO0dzczP79%2BxkcHPzV5XAEJ%2B0ZQDQapb6%2BnnA4POfYly9f2LdvHzdu3Jjv7f9UwQIZGRlhYGCAcDhMJBIhm80yODiIz%2BfjypUr9PX1sXXrVjo7OwG4e/cuL1%2B%2BZPPmzXnPd%2BnSJaqqqn54vUAgwO7du7l//z5%2Bv58LFy4UZPz169epqanh3r17dHV1cfHiRTKZzEKXwxGctmfRaJRHjx5RV1eX93hHRwfLli372W0vSMECqa6uJhwO43K5AFizZg2pVIrKyko2bdoEQENDA8PDwwDs3buXs2fP5t7/rSdPnuByudi%2BfXveaxljiMVi7NmzB4Da2lrevn1LKpVa9PgzZ85w6NAhAFatWoUxhqmpqV9blD%2Bck/YMoK6ujvb2dioqKuYcGx0dZXx8nMbGxvkvwDwULJDS0lJWrFgBwJs3b4jFYmzcuHHWZ288Hk9uQVauXJn3PJOTk3R2dnLu3LkfXuvDhw8sXbqU5cuX515bt24dyWRy0ePdbjfl5eUA3L59m/r6etauXTuPFXAeJ%2B2Z7fpTU1MEAgECgQAlJSXWcyxUWUHPBiQSCU6cOEEgECCTyfDtR71mZmZ%2BegPnz5%2BnpaUlt3H5lJSU8P1HyGZmZliyZMmix3/V3d3N0NAQN2/etM73b%2BCEPbMJBoM0Nzdbfz37VQUN5MWLF5w8eZK2tjaqq6sZHR3N/fSB/752abuJZDJJIpGgvb0dgHfv3lFeXo7L5eL58%2BckEglcLhe3bt1ienqaTCaD2%2B3GGMPk5CSrV69e1PjKykoAQqEQ4%2BPj3LlzB7fbXcgl%2BuM4ac9%2BJBqNMjY2Rm9vL%2B/fvyebzVJRUcHhw4cXv0CmQD5//mx27dpl4vF47rXp6Wmzc%2BdO8%2BrVK2OMMcFg0IRCoVnjvF6vicViec8ZCoVMf39/3mM%2Bn888ePDAGGNMLBYzXq%2B3IOOHh4eN1%2Bs12WzWdrt/Baft2Vd%2Bv9/09vbmPdbf3z9nvotRsCfIw4cP%2BfTpE62trbnXtm3bxuXLl/H5fJSWllJVVcXVq1cBuHbtGmNjY8TjcYLBIF1dXbS1tbFhw4Z5Xe/06dO0tLQQiUQoKyubdd3FjO/u7iadTs/66eP3%2B9myZcuCzu8ETtuznp4eotEor1%2B/ZmRkhMePH//ve6Pvg4hY6D/pIhYKRMRCgYhY/At8QbDRwwwHXQAAAABJRU5ErkJggg%3D%3D\">\n",
       "</div>\n",
       "<div class=\"col-md-12 text-right\">\n",
       "    <a role=\"button\" data-toggle=\"collapse\" data-target=\"#descriptives1020477123525792329,#minihistogram1020477123525792329\"\n",
       "       aria-expanded=\"false\" aria-controls=\"collapseExample\">\n",
       "        Toggle details\n",
       "    </a>\n",
       "</div>\n",
       "<div class=\"row collapse col-md-12\" id=\"descriptives1020477123525792329\">\n",
       "    <img src=\"data:image/png;base64,iVBORw0KGgoAAAANSUhEUgAAAlgAAAGQCAYAAAByNR6YAAAABHNCSVQICAgIfAhkiAAAAAlwSFlzAAAPYQAAD2EBqD%2BnaQAAADl0RVh0U29mdHdhcmUAbWF0cGxvdGxpYiB2ZXJzaW9uIDIuMi40LCBodHRwOi8vbWF0cGxvdGxpYi5vcmcv7US4rQAAIABJREFUeJzt3XtUlPW%2Bx/HP6IQXJBhMKrXU7Q4UGLTSTDFUWmheMo9JaO60MnUTpZTmJS1p285sZ3nUbpaZ2tpFqEUe724ri0xNd3GztqV5TZlkUERMkOf80ZHThMaoD80w836tNWvF7/fMd77fhpxPzzMzWgzDMAQAAADT1PF0AwAAAL6GgAUAAGAyAhYAAIDJCFgAAAAmI2ABAACYjIAFAABgMgIWAACAyQhYAAAAJiNgAQAAmIyABQAAYDICFgAAgMkIWAAAACYjYAEAAJiMgAUAAGAyAhYAAIDJCFgAAAAmI2ABAACYjIAFAABgMgIWAACAyQhYAAAAJiNgAQAAmIyABQAAYDICFgAAgMkIWAAAACYjYAEAAJiMgAUAAGAyAhYAAIDJCFgAAAAmI2ABAACYjIAFAABgMgIWAACAyQhYAAAAJiNgAQAAmIyABQAAYDICFgAAgMkIWAAAACYjYAEAAJiMgAUAAGAyAhYAAIDJrJ5uwF84HMWebsFUdepYFBoaqMLCElVUGJ5u5w/jr3NL/js7c/vX3JL/zu6rczdpEuSRx%2BUMFi5KnToWWSwW1alj8XQrfyh/nVvy39mZ27/mlvx3dn%2Bdu6YQsAAAAExGwAIAADAZAQsAAMBkBCwAAACTEbAAAABMRsACAAAwGQELAADAZAQsAAAAkxGwAAAATEbAAgAAMBkBCwAAwGQELAAAAJP5RcB65plnFBERUfnz5s2b1b9/f9ntdiUkJOjDDz90OX7RokXq0aOHYmJilJiYqLy8vD%2B6ZQAAUItZPd1ATdu5c6cyMzMrfz5y5IiSk5P16KOPKjExUZs3b1ZqaqpatmypmJgYrV%2B/XrNnz9Yrr7yidu3aacGCBRo9erTWrVunhg0benCSc%2Bs9O8vTLbhtdWqsp1sAAL/Ca4Tn%2BHTAqqio0LRp03Tvvfdq9uzZkqQVK1aoRYsWGjZsmCQpPj5et956q5YuXaqYmBhlZGRo0KBBuvnmmyVJKSkpevfdd7Vx40b169fPY7P4gtr0HzoAAJfCpwPWu%2B%2B%2Bq/r16%2Bv222%2BvDFj5%2BfmKiopyOS4yMlKrV6%2Bu3O/Tp0/lnsViUdu2bZWbm%2Bt2wCooKJDD4XBZs1obKiws7FLGAQDAZ1mtvvWuJZ8NWD/99JNeeuklLVmyxGXd6XSqTZs2LmshISEqLCys3A8JCXHZDw4Ortx3R3p6uubNm%2BeylpKSojFjxlzICAAA%2BA2bLdDTLZjKZwPWjBkzdNddd%2BlPf/qTDhw4ULlusVjOefzZ9er23ZGUlKT4%2BHiXNau1oZzOErdrAADgT2rqNdJTwc0nA9bmzZuVm5urZ555psqezWZTUVGRy5rT6VRoaOjv7oeHh7v9%2BGFhYVUuBzocxSovr3C7BgAA/sTXXiN964Ln//nwww91%2BPBhxcXFqVOnTho4cKAkqVOnToqIiKjytQvZ2dmKiYmRJNntduXm5lbunTlzRvn5%2BZX7AAAA1fHJgDVp0iStXbtWmZmZyszM1Pz58yVJmZmZ6tevnw4ePKi33npLpaWlWrNmjTZt2qSkpCRJ0uDBg7Vs2TJ98cUXOnnypF544QXVr1%2B/yiU/AACA8/HJS4TBwcEKDg6u/Lm8vFySdNVVV0mSXnvtNU2fPl2zZs1S06ZNNWvWrMo3vsfFxWnChAmaPHmyjh49qujoaM2fP1/16tX74wcBAAC1ksUwDMPTTfgDh6O4Rury3VIAAF9QU1802qRJUI3UrY5PXiIEAADwJAIWAACAyQhYAAAAJiNgAQAAmIyABQAAYDICFgAAgMkIWAAAACYjYAEAAJiMgAUAAGAyAhYAAIDJCFgAAAAmI2ABAACYjIAFAABgMgIWAACAyQhYAAAAJiNgAQAAmIyABQAAYDICFgAAgMkIWAAAACYjYAEAAJiMgAUAAGAyAhYAAIDJCFgAAAAmI2ABAACYjIAFAABgMgIWAACAyXw2YH3zzTe699571aFDB918880aO3asCgoKtGXLFkVERMhut7vcVq9eXXnfRYsWqUePHoqJiVFiYqLy8vI8OAkAAKhtfDJgnT59Wvfff786duyozz//XKtWrVJhYaHS0tIkSc2aNVNOTo7LrXfv3pKk9evXa/bs2ZoxY4a2bNmibt26afTo0Tp58qQHJwIAALWJTwas0tJSPfLIIxo9erQCAgIUGhqqXr166bvvvqv2vhkZGRo0aJBuvvlmNWjQQCkpKZKkjRs31nTbAADAR/hkwAoODlZiYqKsVqsMw9Du3bu1fPnyyrNUJSUlSk5O1k033aSEhAS9%2BeabMgxDkpSfn6%2BoqKjKWhaLRW3btlVubq5HZgEAALWP1dMN1KSDBw%2BqZ8%2BeOnPmjJKSkjR27Fjt3LlT4eHhGjZsmF588UV9%2BeWXGjt2rIKCgpSYmCin06mQkBCXOsHBwSosLHT7cQsKCuRwOFzWrNaGCgsLM2UuAAB8jdXqW%2Bd8fDpgNWvWTLm5udq7d6%2BeeOIJPfbYY5o1a5aWLFlSeUzXrl2VlJSkZcuWKTExURaL5Zy1zrd%2BLunp6Zo3b57LWkpKisaMGXNxgwAA4ONstkBPt2Aqnw5Y0i/BqGXLlpowYYIGDRqkKVOmKDQ01OWY5s2ba926dZIkm82moqIil32n06nw8HC3HzMpKUnx8fEua1ZrQzmdJRc5BQAAvq2mXiM9Fdx8MmBt3bpVjz/%2BuNasWSOr9ZcRKyoqJElbtmzR8ePHlZSUVHn8nj17dM0110iS7Ha7cnNzNWDAAEnSmTNnlJ%2Bfr0GDBrn9%2BGFhYVUuBzocxSovr7ikuQAA8FW%2B9hrpWxc8/09kZKRKS0s1a9YslZaWqrCwUHPnzlWHDh1Uv359Pfvss/riiy9UXl6urKwsLV26VEOHDpUkDR48WMuWLdMXX3yhkydP6oUXXlD9%2BvWrnJECAAA4H4tx9uNzPmbnzp2aOXOmcnNzZbVa1alTJz3%2B%2BOO68sorlZ6erjfffFNHjhxR8%2BbNNWLECP3Xf/1X5X3feecdzZ8/X0ePHlV0dLSeeuopXXfddZfUj8NRfKkjnVPv2Vk1UhcAgD/S6tTYGqnbpElQjdStjs8GLG9DwAIA4Px8LWD55CVCAAAATyJgAQAAmIyABQAAYDICFgAAgMkIWAAAACYjYAEAAJiMgAUAAGAyAhYAAIDJCFgAAAAmI2ABAACYjIAFAABgMgIWAACAyQhYAAAAJiNgAQAAmIyABQAAYDICFgAAgMkIWAAAACYjYAEAAJiMgAUAAGAyAhYAAIDJCFgAAAAmI2ABAACYjIAFAABgMgIWAACAyQhYAAAAJiNgAQAAmIyABQAAYDKfDVjffPON7r33XnXo0EE333yzxo4dq4KCAknS5s2b1b9/f9ntdiUkJOjDDz90ue%2BiRYvUo0cPxcTEKDExUXl5eZ4YAQAA1FI%2BGbBOnz6t%2B%2B%2B/Xx07dtTnn3%2BuVatWqbCwUGlpaTpy5IiSk5M1aNAgbd26VZMnT9bUqVOVnZ0tSVq/fr1mz56tGTNmaMuWLerWrZtGjx6tkydPengqAABQW/hkwCotLdUjjzyi0aNHKyAgQKGhoerVq5e%2B%2B%2B47rVixQi1atNCwYcPUoEEDxcfH69Zbb9XSpUslSRkZGRo0aJBuvvlmNWjQQCkpKZKkjRs3enIkAABQi/hkwAoODlZiYqKsVqsMw9Du3bu1fPly9e7dW/n5%2BYqKinI5PjIyUrm5uZJUZd9isaht27aV%2BwAAANWxerqBmnTw4EH17NlTZ86cUVJSksaOHasRI0aoTZs2LseFhISosLBQkuR0OhUSEuKyHxwcXLnvjoKCAjkcDpc1q7WhwsLCLnISAAB8m9XqW%2Bd8fDpgNWvWTLm5udq7d6%2BeeOIJPfbYY7JYLOc89ux6dfvuSE9P17x581zWUlJSNGbMGLdrAADgT2y2QE%2B3YCqfDljSL8GoZcuWmjBhggYNGqRu3bqpqKjI5Rin06nQ0FBJks1mO%2Bd%2BeHi424%2BZlJSk%2BPh4lzWrtaGczpKLnAIAAN9WU6%2BRngpuPhmwtm7dqscff1xr1qyR1frLiBUVFZKkLl26aPny5S7HZ2dnKyYmRpJkt9uVm5urAQMGSJLOnDmj/Px8DRo0yO3HDwsLq3I50OEoVnl5xUXPBACAL/O110jfuuD5fyIjI1VaWqpZs2aptLRUhYWFmjt3rjp06KDbb79dBw8e1FtvvaXS0lKtWbNGmzZtUlJSkiRp8ODBWrZsmb744gudPHlSL7zwgurXr1/ljBQAAMD5WAzDMDzdRE3YuXOnZs6cqdzcXFmtVnXq1EmPP/64rrzySn355ZeaPn26du/eraZNm2r8%2BPFKSEiovO8777yj%2BfPn6%2BjRo4qOjtZTTz2l66677pL6cTiKL3Wkc%2Bo9O6tG6gIA8EdanRpbI3WbNAmqkbrV8dmA5W0IWAAAnJ%2BvBSyfvEQIAADgSQQsAAAAkxGwAAAATEbAAgAAMBkBCwAAwGQELAAAAJMRsAAAAExGwAIAADAZAQsAAMBkBCwAAACTEbAAAABMRsACAAAwGQELAADAZAQsAAAAkxGwAAAATEbAAgAAMBkBCwAAwGQELAAAAJMRsAAAAExGwAIAADAZAQsAAMBkBCwAAACTEbAAAABMRsACAAAwGQELAADAZAQsAAAAk3ldwDpx4oSnWwAAALgkXhewbrnlFk2ePFk7duy4pDoHDhxQcnKybrrpJnXu3FkTJkzQsWPHdODAAUVERMhut7vcFixYUHnflStXqlevXrLb7erXr5%2BysrIudSwAAOBHvC5gTZs2TQ6HQ8OGDVOfPn20cOFCFRYWXnCd5ORkhYSE6KOPPlJmZqa%2B//57Pffcc5X7OTk5LrcRI0ZIknJzczVx4kSNHTtW27Zt0/Dhw5WSkqLDhw%2BbNiMAAPBtXhewBgwYoDfeeEObNm3SkCFDtHbtWnXv3l2pqalun0kqLi5WdHS0xo8fr8DAQIWFhWngwIHatm1btfddtmyZ4uLi1KdPH9WvX1%2BJiYkKDw9XZmbmpY4GAAD8hNXTDZxPaGio7rnnHt1zzz1auXKl0tLStHbtWrVo0UJjx45V7969z3vfoKAgzZgxw2Xt0KFDCg0Nrfz5scce02effaZ69eqpX79%2BGjt2rC677DLl5%2BcrLi7O5b6RkZHKzc11u/eCggI5HA6XNau1ocLCwtyuAQCAP7Fave6czyXx2oB19OhRLV%2B%2BXMuXL9e%2BffvUtWtX3XXXXXI4HHrqqae0f/9%2BjRo1yq1aOTk5WrJkiebOnauAgABdf/31SkhI0N/%2B9jft2rVLDz/8sKxWq1JTU%2BV0OhUSEuJy/%2BDgYO3atcvt3tPT0zVv3jyXtZSUFI0ZM8btGgAA%2BBObLdDTLZjK6wLWpk2btHTpUm3cuFE2m0133nmn7rrrLjVt2rTymMjISI0cOdKtgLV9%2B3YlJydr3Lhx6tatmyTp3XffrdyPiYnRqFGj9Oqrryo1NVUWi%2BWcdc63fi5JSUmKj493WbNaG8rpLHG7BgAA/qSmXiM9Fdy8LmCNHj1aXbp00Ysvvqj4%2BHjVrVu3yjExMTFuXW7buHGjHnvsMT355JO64447zntc8%2BbNVVhYKMMwZLPZ5HQ6XfadTqfL5cXqhIWFVenP4ShWeXmF2zUAAPAnvvYa6XUBa926dbrmmmt0%2BvTpynBVUlKiwEDXBLpixYrfrbNjxw5NmjRJc%2BbMUWxsbOX65s2blZOT43L2a8%2BePWrWrJksFovsdrvy8vJcauXk5Khv376XOhoAAPATXveOMovFottvv10bN26sXEtPT1ffvn21f/9%2Bt2qUl5dr6tSpmjBhgku4kqSQkBDNnTtXq1atUnl5ubKzs7VgwQINHTpUkpSYmKisrCytWrVKp06d0pIlS7Rv3z4NGDDAvCEBAIBPsxiGYXi6iV9LTk5WQECApkyZUnmZ7aefftLzzz%2BvoqIivfrqq9XW%2BPLLLzV06FAFBARU2VuzZo3y8/M1d%2B5c7du3T2FhYUpKStJ9992nOnV%2ByZvr1q3TrFmzdOjQIbVu3VpTp05Vhw4dLmkuh6P4ku5/Pr1n8yWoAIDab3VqbPUHXYQmTYJqpG51vC5g3XTTTfr444/VsGFDl/WSkhL16NFDW7du9VBnl4aABQDA%2BflawPK6S4SGYai8vLzKemlpqSoqfOsNcAAAwDd5XcCKjY3VhAkTlJ%2Bfr%2BPHj6uoqEjbt2/XI488oq5du3q6PQAAgGp53acIn3jiCY0fP14DBw50%2Be6pTp06aerUqR7sDAAAwD1eF7AaN26shQsX6vvvv9cPP/wgSWrZsqVat27t2cYAAADc5HUB66zWrVvrmmuuqfz59OnTknTOTwYCAAB4E68LWF999ZXS0tL03Xff6cyZM1X2d%2B7c6YGuAAAA3Od1ASstLU2NGzdWUlKS6tev7%2Bl2AAAALpjXBawffvhB6enpqlevnqdbAQAAuChe9zUNTZs2VVlZmafbAAAAuGheF7DGjx%2BvGTNm6MSJE55uBQAA4KJ43SXCefPm6cCBA3r//fdls9lcvgtLkj777DMPdQYAAOAerwtYcXFxslq9ri0AAAC3eV2SSU1N9XQLAAAAl8Tr3oMlSV9//bUmT56s4cOHS5IqKiq0evVqD3cFAADgHq8LWP/617909913y%2Bl0aseOHZKkw4cP64knnlBGRoaHuwMAAKie1wWsV199Vf/4xz/06quvVr7BvWnTpvrv//5vvfXWW55tDgAAwA1eF7D27Nmjnj17SpLLJwg7d%2B6sgwcPeqotAAAAt3ldwLrssst07NixKus//PADf3UOAACoFbwuYHXv3l1TpkzR999/L0lyOp369NNPlZqaqh49eni4OwAAgOp5XcCaPHmyDMNQ37599fPPP6tLly4aOXKkrr76ak2aNMnT7QEAAFTL674H6/LLL9drr72m77//Xj/88IMsFotatWqlVq1aebo1AAAAt3hdwDqrdevWat26tafbAAAAuGBeF7C6du163r0zZ85o8%2BbNf2A3AAAAF87rAlZSUpLL1zNUVFTowIEDysrK0ujRoz3YGQAAgHu8LmA9/PDD51zPzs7WP//5zz%2B4GwAAgAvndZ8iPJ%2BYmBjl5OR4ug0AAIBq1ZqAtXfv3nN%2BASkAAIC38bpLhIMHD66ydvr0ae3evVu33nqr23UOHDigv//979q%2Bfbvq1q2rW265RVOmTFFwcLB27typp556Svn5%2BQoJCdF9992n%2B%2B67r/K%2BK1eu1Jw5c3To0CG1aNFCkydPVmxsrCnzAQAA3%2Bd1Aatly5Yub3KXpHr16unOO%2B/UnXfe6Xad5ORkRUdH66OPPlJJSYmSk5P13HPPaerUqRo5cqT69%2B%2BvBQsWaNeuXRo5cqSaNWumnj17Kjc3VxMnTtRzzz2n%2BPh4rVixQikpKVqzZo2uuuoqs8cFAAA%2ByOsC1rPPPnvJNYqLixUdHa3x48crMDBQgYGBGjhwoBYtWqSPP/5YZWVlGjdunOrWrav27dsrKSlJ6enp6tmzp5YtW6a4uDj16dNHkpSYmKiMjAxlZmbyKUYAAOAWrwtYGRkZuuyyy9w6dsCAAedcDwoK0owZM1zWDh06pNDQUOXn56tNmzaqW7du5V5kZKQyMjIkSfn5%2BYqLi3O5b2RkpHJzc92eoaCgQA6Hw2XNam2osLAwt2sAAOBPrNZa87Zwt3hdwHrmmWd06tQpGYbhsm6xWFzWLBbLeQPWb%2BXk5GjJkiWaO3eu1q9fr%2BDgYJf9kJAQFRUVqaKiQk6nUyEhIS77wcHB2rVrl9szpKena968eS5rKSkpGjNmjNs1AADwJzZboKdbMJXXBayXX35Zb7/9tpKTk9W6dWudOXNGu3bt0vz58zVs2DB17tz5gupt375dycnJGjdunLp166YNGzb87vG/ff9XdevnkpSUpPj4eJc1q7WhnM4St2sAAOBPauo10lPBzesC1jPPPKMFCxa4XE67/vrrNW3aNN1///1atWqV27U2btyoxx57TE8%2B%2BaTuuOMOSVJoaKj27t3rcpzT6ZTNZlOdOnVks9nkdDqr7IeGhrr9uGFhYVUuBzocxSovr3C7BgAA/sTXXiO97oLngQMHdPnll1dZDw4O1qFDh9yus2PHDk2aNElz5sypDFeSZLfb9e2336q8vLxyLTs7WzExMZX7eXl5LrVycnIq9wEAAKrjdQGrVatWmjFjhstZpGPHjmnWrFlq1aqVWzXKy8s1depUTZgwocr3V8XFxSkwMFCzZs1SSUmJtm7dqvfee09Dhw6V9MunBrOysrRq1SqdOnVKS5Ys0b59%2B9x%2BvxcAAIDF%2BO27yT1sx44dSk5O1vHjxxUY%2BMt105KSEgUGBuqll15Sp06dqq3x5ZdfaujQoQoICKiyt2bNGp08eVJPPvmk8vLy1LhxY40aNUpDhgypPGbdunWaNWuWDh06pNatW2vq1Knq0KHDJc3lcBRf0v3Pp/fsrBqpCwDAH2l1as18oXeTJkE1Urc6XhewJKm0tFSffPKJDh8%2BLMMwdOWVVyouLk6NGjXydGsXjYAFAMD5%2BVrA8ro3uUtSgwYNlJCQoEOHDumaa67xdDsAAAAXxOveg3Xq1ClNmzZN7dq1U%2B/evSVJx48f16hRo1RcXDNngQAAAMzkdQFrzpw5%2Buqrr/T888%2BrTp3/b6%2BsrEwzZ870YGcAAADu8bqAtWHDBs2ePVu33XZb5Zd7Xn755ZoxY4Y%2B%2BugjD3cHAABQPa8LWAUFBWrZsmWV9caNG%2BvEiRN/fEMAAAAXyOsC1lVXXaUdO3ZUWV%2B7dq2uvvpqD3QEAABwYbzuU4T33nuvHnzwQQ0aNEhnzpzRm2%2B%2BqdzcXK1bt05TpkzxdHsAAADV8rqANXjwYIWEhGjhwoVq2LChXnvtNbVq1UrPP/%2B8brvtNk%2B3BwAAUC2vC1hHjx7VbbfdRpgCAAC1lle9B6uiokI9evSQF365PAAAgNu8KmDVqVNHXbp00Zo1azzdCgAAwEXzukuETZs21d///ne99tpruvbaa3XZZZe57M%2BaNctDnQEAALjH6wLWrl271KpVK0mS0%2Bn0cDcAAAAXzmsC1iOPPKIXX3xRS5YsqVx76aWXlJKS4sGuAAAALpzXvAdr48aNVdbmz5/vgU4AAAAujdcErHN9cpBPEwIAgNrIawLW2b/Yubo1AAAAb%2Bc1AQsAAMBXELAAAABM5jWfIiwrK9O4ceOqXeN7sAAAgLfzmoB14403qqCgoNo1AAAAb%2Bc1AevX338FAABQm/EeLAAAAJMRsAAAAExGwAIAADAZAQsAAMBkPhuwPv30U3Xp0kWPPPKIy/ry5cvVpk0b2e12l1t2drYkqaKiQi%2B%2B%2BKJiY2PVrl073Xvvvdq/f78nRgAAALWU13yK0Eyvv/66li5dqhYtWpxzv2PHjuf91OLixYu1bNkyLViwQM2bN9fMmTOVkpKizMxM/uoeAADgFp88g1WvXr3fDVi/JyMjQw888IDatGmjRo0aaeLEidq9e7e%2B%2BuqrGugUAAD4Ip8MWMOGDVNQUNB593/88UcNHz5cHTp0UJ8%2BfZSZmSlJ%2Bvnnn/X9998rOjq68thGjRrp2muvVW5ubo33DQAAfINPXiL8PaGhoWrZsqXGjh2r6667Ths2bNCECRMUFhamP/3pTzIMQ8HBwS73CQ4OVmFhoduPUVBQIIfD4bJmtTZUWFiYKTMAAOBrrFbfOufjdwGre/fu6t69e%2BXP/fr10/r167V06VJNmDDhvPe7kPdfpaena968eS5rKSkpGjNmzAX3CwCAP7DZAj3dgqn8LmCdS/PmzZWbmyubzaY6deqoqKjIZd/pdKpx48Zu10tKSlJ8fLzLmtXaUE5niSn9AgDga2rqNdJTwc3vAta7774rm82mXr16Va7t2bNH11xzjQICAhQeHq68vDx17NhRklRUVKR9%2B/bJbre7/RhhYWFVLgc6HMUqL68wZwgAAHyMr71G%2BtYFTzeUl5dr%2BvTp2rlzp8rKyvQ///M/2rRpk4YMGSJJGjJkiN544w198803Ki4u1tNPP63o6GjFxMR4uHMAAFBb%2BOQZrLNnm8rLyyVJGzZskCTl5ORo6NChOn78uFJSUuR0OtWqVSu99NJLioqKkiQNHjxYDodD999/v0pKStSpUyfNmTPHM4MAAIBayWIYhuHpJvyBw1FcI3V7z86qkboAAPyRVqfG1kjdJk3O/7VNNcnvLhECAADUNAIWAACAyQhYAAAAJiNgAQAAmIyABQAAYDICFgAAgMkIWAAAACYjYAEAAJiMgAUAAGAyAhYAAIDJCFgAAAAmI2ABAACYjIAFAABgMgIWAACAyQhYAAAAJiNgAQAAmIyABQAAYDICFgAAgMkIWAAAACYjYAEAAJiMgAUAAGAyAhYAAIDJCFgAAAAmI2ABAACYjIAFAABgMgIWAACAyQhYAAAAJvPZgPXpp5%2BqS5cueuSRR6rsrVy5Ur169ZLdble/fv2UlZVVuVdRUaEXX3xRsbGxateune69917t37//j2wdAADUcj4ZsF5//XU9/fTTatGiRZW93NxcTZw4UWPHjtW2bds0fPhwpaSk6PDhw5KkxYsXa9myZVqwYIGysrJ0zTXXKCUlRYZh/NFjAACAWsonA1a9evW0dOnScwasZcuWKS4uTn369FH9%2BvWVmJio8PBwZWZmSpIyMjL0wAMPqE2bNmrUqJEmTpyo3bt366uvvvqjxwAAALWUTwasYcOGKSgo6Jx7%2Bfn5ioqKclmLjIxUbm6ufv75Z33//feKjo6u3GvUqJGuvfZa5ebm1mjPAADAd1g93cAfzel0KiQkxGUtODhYu3btUlFRkQzDUHBwcJX9wsJCtx%2BjoKBADofDZc1qbaiwsLCLbxwAAB9mtfrWOR%2B/C1gWi%2BWC1t3d/7X09HTNmzfPZS0lJUVjxoxxuwYAAP7EZgv0dAum8ruAZbPZ5HQ6XdacTqdCQ0On3C2sAAASE0lEQVRls9lUp04dFRUVVdlv3Lix24%2BRlJSk%2BPh4lzWrtaGczpKLbxwAAB9WU6%2BRngpufhew7Ha78vLyXNZycnLUt29fBQQEKDw8XHl5eerYsaMkqaioSPv27ZPdbnf7McLCwqpcDnQ4ilVeXnHpAwAA4IN87TXSty54uiExMVFZWVlatWqVTp06pSVLlmjfvn0aMGCAJGnIkCF644039M0336i4uFhPP/20oqOjFRMT4%2BHOAQBAbeGTZ7DOnm0qLy%2BXJG3YsEHSL2eqwsPD9fzzz2vWrFmaOHGiWrdurddee01XXHGFJGnw4MFyOBy6//77VVJSok6dOmnOnDmeGQQAANRKFoNv0PxDOBzFNVK39%2Bys6g8CAMDLrU6NrZG6TZqc%2B2ubaprfXSIEAACoaQQsAAAAkxGwAAAATEbAAgAAMBkBCwAAwGQELAAAAJMRsAAAAExGwAIAADAZAQsAAMBkBCwAAACTEbAAAABMRsACAAAwGQELAADAZAQsAAAAkxGwAAAATEbAAgAAMBkBCwAAwGQELAAAAJMRsAAAAExGwAIAADAZAQsAAMBkBCwAAACTEbAAAABMRsACAAAwGQELAADAZAQsAAAAkxGwAAAATOaXASsiIkLR0dGy2%2B2Vt%2BnTp0uSNm/erP79%2B8tutyshIUEffvihh7sFAAC1jdXTDXjKmjVr1Lx5c5e1I0eOKDk5WY8%2B%2BqgSExO1efNmpaamqmXLloqJifFQpwAAoLbxyzNY57NixQq1aNFCw4YNU4MGDRQfH69bb71VS5cu9XRrAACgFvHbM1izZs3Stm3bJEk9evTQpEmTlJ%2Bfr6ioKJfjIiMjtXr16guqXVBQIIfD4bJmtTZUWFjYpTUNAICPslp965yPXwas9u3bq3Pnzpo%2BfbqOHDmi1NRUpaWlyel0qk2bNi7HhoSEqLCw8ILqp6ena968eS5rKSkpGjNmzCX3DgCAL7LZAj3dgqn8MmClp6dX/nOjRo00fvx4/fWvf1WHDh3OebzFYrmg%2BklJSYqPj3dZs1obyuksufBmAQDwAzX1Gump4OaXAeu3mjdvroqKCtWpU0dFRUUue06nU6GhoRdULywsrMrlQIejWOXlFZfcKwAAvsjXXiN964KnG3bu3KnnnnvOZW3Pnj0KCAhQ9%2B7dlZeX57KXnZ3NJwgBAMAF8buA1bhxY73zzjt66623VFZWpj179mj27NkaMmSI%2Bvfvr4MHD%2Bqtt95SaWmp1qxZo02bNikpKcnTbQMAgFrEYhiG4ekm/mjbtm3T888/r//85z%2By2Wzq06ePxowZo4CAAH355ZeaPn26du/eraZNm2r8%2BPFKSEi45Md0OIpN6Lyq3rOzaqQuAAB/pNWpsTVSt0mToBqpWx2/DFieQMACAOD8fC1g%2Bd0lQgAAgJpGwAIAADAZAQsAAMBkBCwAAACTEbAAAABMRsACAAAwGQELAADAZAQsAAAAkxGwAAAATEbAAgAAMBkBCwAAwGQELAAAAJMRsAAAAExGwAIAADAZAQsAAMBkBCwAAACTEbAAAABMRsACAAAwGQELAADAZAQsAAAAkxGwAAAATEbAAgAAMBkBCwAAwGQELAAAAJMRsAAAAExGwAIAADAZAQsAAMBkBKxzOHDggEaMGKH27durc%2BfO%2Bsc//qGKigpPtwUAAGoJq6cb8DaGYeihhx7Sn//8Z33yySf66aefNHLkSF1xxRW67777PN0eAACoBTiD9Rs5OTn69ttvNXXqVAUHB6t169YaOXKk3n33XU%2B3BgAAagnOYP1Gfn6%2BmjVrppCQkMq1qKgo/fDDDzpx4oQaNWpUbY2CggI5HA6XNau1ocLCwkzvFwAAX2C1%2BtY5HwLWbzidTgUHB7usnf3Z6XS6FbDS09M1b948l7WHHnpIDz/8sHmN/p8v/36b6TXdUVBQoPT0dCUlJflVcPTXuSX/nZ25/WtuyX9n99e5a4pvxUUTWCyWS66RlJSk5cuXu9ySkpJM6M57OBwOzZs3r8qZOl/nr3NL/js7c/vX3JL/zu6vc9cUzmD9RmhoqIqKilzWnE5n5Z47wsLCSP8AAPgxzmD9ht1u16FDhypDlSRlZ2frz3/%2BswIDAz3YGQAAqC0IWL/Rtm1bxcTE6Omnn9bx48f17bffav78%2BRo6dKinWwMAALVE3bS0tDRPN%2BFtbrnlFq1du1bTp0/XqlWrNGTIEI0YMcLTbXmdwMBA3XTTTX53Zs9f55b8d3bm9q%2B5Jf%2Bd3V/nrgkWwzAMTzcBAADgS7hECAAAYDICFgAAgMkIWAAAACYjYAEAAJiMgAUAAGAyAhYAAIDJCFgAAAAmI2ABAACYjIAFAABgMgJWLXTgwAElJyfrpptuUufOnTVhwgQdO3ZMkrRz504NHjxYMTExiouL08KFC13uW1ZWppkzZ6pNmzbatGnTeR9jw4YNioiI0JYtW363l5UrV6pXr16y2%2B3q16%2BfsrKyznlcXl6eIiMjtXz58t%2Btt3nzZvXv3192u10JCQn68MMPXebu37%2B/2rZtq4iICHXo0KFy35fnPjt7cnKyOnTooIiICPXv399vnvPhw4crMjJSERERat%2B%2BvV555RWfn7uiokLTp09Xu3btFBERocjISP3lL3/xmefcMAwtWLBA0dHReuedd1z29u/fr169eqlNmzaKiIhQbGys8vPz/WLu2267rXLuTp066ZNPPvH5uS%2BmXq1hoNbp16%2BfMWnSJOPEiRPGkSNHjIEDBxqPP/64cfLkSSM2NtaYOXOmceLECePf//630aFDB2Pt2rWGYRhGSUmJMWjQIGPSpElGeHi48cknn5yzfklJiREfH2%2B0b9/e%2BOKLL87bR05OjhEVFWWsXLnSKC0tNd577z2jXbt2xo8//uhy3JkzZ4w777zTuOGGG4xly5adt97hw4eNdu3aGYsWLTJOnjxp/Otf/zLsdrvx9ddfG4ZhGN27dzciIyONzz//3Dh06JDRo0cPIyIiwvj22299em7D%2BP/n/K9//avRvn17o2vXrn7xnPft29do3769sXjxYmP//v1Gr169jBtvvNHIzc316bmXLFlitG3b1njooYeM48ePGx988IERHh5upKSk1Prn3DAMY%2BTIkcYDDzxgdO7c2fjnP//pshcbG2vExMQYO3bsMHbv3m106tTJ6Nixo1FSUuLzc7dv397Izs42Dh48aHTt2tWIiooyCgoKfHrui6lXW3AGq5YpLi5WdHS0xo8fr8DAQIWFhWngwIHatm2bPv74Y5WVlWncuHEKDAxU%2B/btlZSUpPT0dEnSyZMndeedd2rGjBm/%2Bxhz585V586dZbPZfve4ZcuWKS4uTn369FH9%2BvWVmJio8PBwZWZmuhz3zjvvKCgoSJGRkb9bb8WKFWrRooWGDRumBg0aKD4%2BXrfeequWLl2q4uJiNWvWTKmpqercubOuvvpqjRgxQhaLRenp6T47t/T/z3mXLl20d%2B9e3XrrrWrTpo1fPOfBwcGy2%2B2655571Lx5c91zzz0KDQ3Vvn37fHZuScrOztZVV12ltLQ0BQUF6Y477lDDhg21Y8eOWv%2BcS1L79u01f/581a9f32W9uLhYp06d0qhRo3T99derVatWGjVqlI4dO6ZFixb59NxXX321Hn/8cdntdjVt2lT333%2B/ysrK9N577/ns3Bdbr7YgYNUyQUFBmjFjhho3bly5dujQIYWGhio/P19t2rRR3bp1K/ciIyOVm5srSbriiis0ePDg363/7bffasWKFRo3bly1veTn5ysqKspl7dePJ0kOh0Mvv/yynnzyyUuqFxQUpLffflsjR46s3Pvhhx9kGIYKCwt9dm7pl%2Bd82rRpmj17ttLS0mS1WnXixAm/eM5btWqliIgIjRkzRjfeeKPmzJkji8Xi03NLUkJCgk6dOiWHw6Hy8nJt2LBBZWVluvrqq2v97JL04IMPymKxVFkPCAjQiRMn1KlTp8q1o0ePqn79%2Btq6davPzh0UFKSMjAwlJiZWrn333XeSpCNHjvjs3Bdbr7YgYNVyOTk5WrJkiZKTk%2BV0OhUcHOyyHxISoqKiIlVUVFRbyzAMTZs2TY8%2B%2Bmi1/5cjSU6nUyEhIS5rwcHBKiwsrPx5xowZGjx4sFq1auVWvXP1/%2Bt6Z2VnZ%2Bvtt99Wq1at1LBhQ5%2Bf%2B6WXXlLHjh110003yel06uuvv/aL5/zw4cPKzMzUoEGDNH/%2BfJ04cUJ79%2B7Vnj17fHruhIQEJSUl6Y477lBUVJQeffRRSdKYMWNq/XP%2Be4qKimQYRuV8Z/98a9asmU/P/Vv//ve/tWzZMt14442qqKjw%2Bblr6t%2BjpxGwarHt27drxIgRGjdunLp16/a7/4fgjoyMDFmtVg0cONCt48/3eGfXs7KylJeXp9GjR5tS76wtW7bo7rvvls1m0%2BLFi1WnzqX9Gnv73N99953ef/99TZgwQdu3b1dWVpa6dOniF895eXm5unfvrsDAQCUnJ2vChAlq166d9u/f71b98/H2uT/44ANlZmbqgw8%2B0OLFi1W3bl1ZLBbZbLZa/5y769d/vgUHB/vN3J999pmGDh2q5s2b6/XXX/f5uWvq36M3IGDVUhs3btSoUaM0ZcoUDR8%2BXJIUGhqqoqIil%2BOcTqdsNlu1IaSwsFBz5szRU089dc79Dz74QHa7vfImSTabTU6ns8rjhYaG6vTp0/rb3/6mtLQ0BQQEVKm3bds2l3oHDx6UzWY7Z/%2BhoaGVP69Zs0b33XefmjZtqlWrVqlJkyY%2BPbdhGEpLS1Nqaqq%2B%2BuorjRo1SjExMWrXrp0k33/Og4ODdezYMZff9WbNmskwDJ%2Bee8mSJbrrrrv0448/6sEHH1RaWppuueUWffDBB7X%2BOf89Z2f47Z9vZx/PV%2Bc%2BKzMzUyNHjlTbtm21cuVKBQYG%2BvTc1dWr7ayebgAXbseOHZo0aZLmzJmj2NjYynW73a53331X5eXlslp/eWqzs7MVExNTbc1PPvlETqdTd999d%2BXa8ePH9eCDD2rAgAF64oknNGDAAJf72O125eXluazl5OSob9%2B%2B%2Buqrr7R3716lpqZW7p04cUK5ublav369XnnlFeXk5FSp99uP5/66/%2B3bt2vcuHGKjo7WkiVLVK9ePZ%2Bf%2B9ChQ9q2bZt27typkpISNWzYUDk5OcrLy9PGjRuVkpLis7NLv1wKycjI0Ouvv175u37w4EG1bt1an3/%2Buc/ObRiGDhw4oDfffLPyv/OVK1eqTp06tf73/fcEBASoefPmevnll/Xyyy8rNjZWRUVF2rdvnwYNGqTXX3/dJ%2BeWfjkzP3nyZN1yyy169dVXK8OTLz/f7tSr1Tzz4UVcrLKyMqN3795GRkZGlb2ff/7Z6NGjh/Hss88aJ06cMLZs2WK0b9/e%2BPjjj6sc%2B9uP8548edL48ccfXW5xcXHGqlWrjKKionP28u233xp2u73y47yLFy82brjhBsPhcBg///xzlXp33XWXsXDhQuPo0aPnrPfTTz8ZN9xwg7Fw4ULj5MmTxurVqw273W7s3LnTKCsrM7p27Wp07tzZKC0t9Zu5y8vLjf379xsJCQnGG2%2B8Yfz444/GmDFjjGeeecYoKCjw6dnLysqMhIQEIzo62njnnXeMU6dOGZmZmUZUVJSxa9cun53bMAxj9uzZRmRkpDFv3jyjvLzc%2BPzzz43o6Gjj008/rfXP%2Ba/16NHD5WP7ZWVlRmxsrHHDDTcYO3fuNI4fP26MGzfOSExM9Pm5b775ZqNXr17GmTNnXI715bkvtZ63I2DVMtu2bTPCw8ON6OjoKrcDBw4Y//nPf4zBgwcbdrvd6N69u8sv8/vvv195bHh4uBEVFWVER0cbU6ZMOedj9ejR43e/L8UwDGPt2rVGz549jejoaOOOO%2B4wtm3bdt5j//KXv1T7/Sbbtm0z%2Bvfvb0RHRxs9e/Y01q1b5zL3uW6pqak%2BO/evZz87Q5s2bYy2bdv6zXMeFRVlREREGOHh4UZERIQRGRnp03MbhmFs3rzZ5Xf87Ny%2B8Jxv3brVpb%2Bzc913332Vz3nbtm1dZveXuc91mzFjhs/OfTH1ahOLYRiGp8%2BiAQAA%2BBLe5A4AAGAyAhYAAIDJCFgAAAAmI2ABAACYjIAFAABgMgIWAACAyQhYAAAAJiNgAQAAmIyABQAAYDICFgAAgMkIWAAAACYjYAEAAJiMgAUAAGCy/wWLPXyVN3nIQwAAAABJRU5ErkJggg%3D%3D\">\n",
       "</div>\n",
       "</div><div class=\"row variablerow\">\n",
       "    <div class=\"col-md-3 namecol\">\n",
       "        <p class=\"h4 pp-anchor\" id=\"pp_var_value1\">value1<br/>\n",
       "            <small>Numeric</small>\n",
       "        </p>\n",
       "    </div><div class=\"col-md-6\">\n",
       "    <div class=\"row\">\n",
       "        <div class=\"col-sm-6\">\n",
       "            <table class=\"stats \">\n",
       "                <tr>\n",
       "                    <th>Distinct count</th>\n",
       "                    <td>3746</td>\n",
       "                </tr>\n",
       "                <tr>\n",
       "                    <th>Unique (%)</th>\n",
       "                    <td>0.0%</td>\n",
       "                </tr>\n",
       "                <tr class=\"ignore\">\n",
       "                    <th>Missing (%)</th>\n",
       "                    <td>0.0%</td>\n",
       "                </tr>\n",
       "                <tr class=\"ignore\">\n",
       "                    <th>Missing (n)</th>\n",
       "                    <td>0</td>\n",
       "                </tr>\n",
       "                <tr class=\"ignore\">\n",
       "                    <th>Infinite (%)</th>\n",
       "                    <td>0.0%</td>\n",
       "                </tr>\n",
       "                <tr class=\"ignore\">\n",
       "                    <th>Infinite (n)</th>\n",
       "                    <td>0</td>\n",
       "                </tr>\n",
       "            </table>\n",
       "\n",
       "        </div>\n",
       "        <div class=\"col-sm-6\">\n",
       "            <table class=\"stats \">\n",
       "\n",
       "                <tr>\n",
       "                    <th>Mean</th>\n",
       "                    <td>18.981</td>\n",
       "                </tr>\n",
       "                <tr>\n",
       "                    <th>Minimum</th>\n",
       "                    <td>-21.999</td>\n",
       "                </tr>\n",
       "                <tr>\n",
       "                    <th>Maximum</th>\n",
       "                    <td>87.958</td>\n",
       "                </tr>\n",
       "                <tr class=\"ignore\">\n",
       "                    <th>Zeros (%)</th>\n",
       "                    <td>0.0%</td>\n",
       "                </tr>\n",
       "            </table>\n",
       "        </div>\n",
       "    </div>\n",
       "</div>\n",
       "<div class=\"col-md-3 collapse in\" id=\"minihistogram8163342023507740982\">\n",
       "    <img src=\"data:image/png;base64,iVBORw0KGgoAAAANSUhEUgAAAMgAAABLCAYAAAA1fMjoAAAABHNCSVQICAgIfAhkiAAAAAlwSFlzAAAPYQAAD2EBqD%2BnaQAAADl0RVh0U29mdHdhcmUAbWF0cGxvdGxpYiB2ZXJzaW9uIDIuMi40LCBodHRwOi8vbWF0cGxvdGxpYi5vcmcv7US4rQAAASlJREFUeJzt3MFpwzAYgNGmZKQOkZ167k4dIjup91A%2BHIOxkd67G%2BTD519YxrcxxvgA/vV59gLgyu5nL%2BDV1/fv29c8fx4HrARMEEgCgSAQCAKBIBAIAoEgEAgCgSAQCAKBIBAIAoEgEAgCgSAQCAKBIBAIAoEgEAgCgSAQCAKBIBAIAoEgEAgCgSAQCAKBcLmfVzOPGX5EboJAEAgEgUAQCASBQBAIBIFAEAgEB4VssufQbwYmCASBQLDFupgZvl%2BaiQkCYdkJ4knNFssGsrJV30jtYYsFYYoJsvoTcfX7P9JtjDHOXgRclS0WBIFAEAgEgUAQCASBQBAIBIFAEAgEgUAQCASBQBAIBIFAEAgEgUAQCASBQBAIBIFAEAgEgUAQCASBQBAIhD%2Bumho38RYnlgAAAABJRU5ErkJggg%3D%3D\">\n",
       "\n",
       "</div>\n",
       "<div class=\"col-md-12 text-right\">\n",
       "    <a role=\"button\" data-toggle=\"collapse\" data-target=\"#descriptives8163342023507740982,#minihistogram8163342023507740982\"\n",
       "       aria-expanded=\"false\" aria-controls=\"collapseExample\">\n",
       "        Toggle details\n",
       "    </a>\n",
       "</div>\n",
       "<div class=\"row collapse col-md-12\" id=\"descriptives8163342023507740982\">\n",
       "    <ul class=\"nav nav-tabs\" role=\"tablist\">\n",
       "        <li role=\"presentation\" class=\"active\"><a href=\"#quantiles8163342023507740982\"\n",
       "                                                  aria-controls=\"quantiles8163342023507740982\" role=\"tab\"\n",
       "                                                  data-toggle=\"tab\">Statistics</a></li>\n",
       "        <li role=\"presentation\"><a href=\"#histogram8163342023507740982\" aria-controls=\"histogram8163342023507740982\"\n",
       "                                   role=\"tab\" data-toggle=\"tab\">Histogram</a></li>\n",
       "        <li role=\"presentation\"><a href=\"#common8163342023507740982\" aria-controls=\"common8163342023507740982\"\n",
       "                                   role=\"tab\" data-toggle=\"tab\">Common Values</a></li>\n",
       "        <li role=\"presentation\"><a href=\"#extreme8163342023507740982\" aria-controls=\"extreme8163342023507740982\"\n",
       "                                   role=\"tab\" data-toggle=\"tab\">Extreme Values</a></li>\n",
       "\n",
       "    </ul>\n",
       "\n",
       "    <div class=\"tab-content\">\n",
       "        <div role=\"tabpanel\" class=\"tab-pane active row\" id=\"quantiles8163342023507740982\">\n",
       "            <div class=\"col-md-4 col-md-offset-1\">\n",
       "                <p class=\"h4\">Quantile statistics</p>\n",
       "                <table class=\"stats indent\">\n",
       "                    <tr>\n",
       "                        <th>Minimum</th>\n",
       "                        <td>-21.999</td>\n",
       "                    </tr>\n",
       "                    <tr>\n",
       "                        <th>5-th percentile</th>\n",
       "                        <td>-21.525</td>\n",
       "                    </tr>\n",
       "                    <tr>\n",
       "                        <th>Q1</th>\n",
       "                        <td>-19.929</td>\n",
       "                    </tr>\n",
       "                    <tr>\n",
       "                        <th>Median</th>\n",
       "                        <td>-17.541</td>\n",
       "                    </tr>\n",
       "                    <tr>\n",
       "                        <th>Q3</th>\n",
       "                        <td>74.425</td>\n",
       "                    </tr>\n",
       "                    <tr>\n",
       "                        <th>95-th percentile</th>\n",
       "                        <td>85.054</td>\n",
       "                    </tr>\n",
       "                    <tr>\n",
       "                        <th>Maximum</th>\n",
       "                        <td>87.958</td>\n",
       "                    </tr>\n",
       "                    <tr>\n",
       "                        <th>Range</th>\n",
       "                        <td>109.96</td>\n",
       "                    </tr>\n",
       "                    <tr>\n",
       "                        <th>Interquartile range</th>\n",
       "                        <td>94.354</td>\n",
       "                    </tr>\n",
       "                </table>\n",
       "            </div>\n",
       "            <div class=\"col-md-4 col-md-offset-2\">\n",
       "                <p class=\"h4\">Descriptive statistics</p>\n",
       "                <table class=\"stats indent\">\n",
       "                    <tr>\n",
       "                        <th>Standard deviation</th>\n",
       "                        <td>45.374</td>\n",
       "                    </tr>\n",
       "                    <tr>\n",
       "                        <th>Coef of variation</th>\n",
       "                        <td>2.3905</td>\n",
       "                    </tr>\n",
       "                    <tr>\n",
       "                        <th>Kurtosis</th>\n",
       "                        <td>-1.6714</td>\n",
       "                    </tr>\n",
       "                    <tr>\n",
       "                        <th>Mean</th>\n",
       "                        <td>18.981</td>\n",
       "                    </tr>\n",
       "                    <tr>\n",
       "                        <th>MAD</th>\n",
       "                        <td>43.463</td>\n",
       "                    </tr>\n",
       "                    <tr class=\"\">\n",
       "                        <th>Skewness</th>\n",
       "                        <td>0.4422</td>\n",
       "                    </tr>\n",
       "                    <tr>\n",
       "                        <th>Sum</th>\n",
       "                        <td>76532</td>\n",
       "                    </tr>\n",
       "                    <tr>\n",
       "                        <th>Variance</th>\n",
       "                        <td>2058.8</td>\n",
       "                    </tr>\n",
       "                    <tr>\n",
       "                        <th>Memory size</th>\n",
       "                        <td>63.0 KiB</td>\n",
       "                    </tr>\n",
       "                </table>\n",
       "            </div>\n",
       "        </div>\n",
       "        <div role=\"tabpanel\" class=\"tab-pane col-md-8 col-md-offset-2\" id=\"histogram8163342023507740982\">\n",
       "            <img src=\"data:image/png;base64,iVBORw0KGgoAAAANSUhEUgAAAlgAAAGQCAYAAAByNR6YAAAABHNCSVQICAgIfAhkiAAAAAlwSFlzAAAPYQAAD2EBqD%2BnaQAAADl0RVh0U29mdHdhcmUAbWF0cGxvdGxpYiB2ZXJzaW9uIDIuMi40LCBodHRwOi8vbWF0cGxvdGxpYi5vcmcv7US4rQAAIABJREFUeJzt3Xt8VOWdx/HvJMM1gWQSjBVFQWygwARKuTTERsBFBRFYFUN0F5Br0ygEwUBUEF6gsQUaZNEtKIKXdo1cdrEWFBGtbpbtWimGkMjSAEK4mEAmQLgmmbN/WGc7BiQkD2cy4%2Bf9euUV8zxn5vyenwG%2BnOdw4rAsyxIAAACMCQt0AQAAAKGGgAUAAGAYAQsAAMAwAhYAAIBhBCwAAADDCFgAAACGEbAAAAAMI2ABAAAYRsACAAAwjIAFAABgGAELAADAMAIWAACAYQQsAAAAwwhYAAAAhhGwAAAADCNgAQAAGEbAAgAAMIyABQAAYBgBCwAAwDACFgAAgGEELAAAAMMIWAAAAIYRsAAAAAwjYAEAABhGwAIAADCMgAUAAGAYAQsAAMAwAhYAAIBhBCwAAADDCFgAAACGEbAAAAAMI2ABAAAYRsACAAAwjIAFAABgGAELAADAMAIWAACAYQQsAAAAwwhYAAAAhhGwAAAADHMGuoDvi7KyU7afMyzMoZiYCJWXn5bXa9l%2B/mBG7%2BqP3jUM/as/etcwodq/a65pFZDzcgUrhIWFOeRwOBQW5gh0KUGH3tUfvWsY%2Bld/9K5h6J9ZBCwAAADDCFgAAACGEbAAAAAMI2ABAAAYRsACAAAwjIAFAABgGAELAADAMAIWAACAYQQsAAAAwwhYAAAAhhGwAAAADCNgAQAAGEbAAgAAMMwZ6ALQMIOX5AW6hDrblJEU6BIAALAFV7AAAAAMI2ABAAAYRsACAAAwjIAFAABgGAELAADAMAIWAACAYQQsAAAAwwhYAAAAhhGwAAAADCNgAQAAGEbAAgAAMIyABQAAYBgBCwAAwDACFgAAgGEELAAAAMMIWAAAAIYRsAAAAAwjYAEAABhGwAIAADCMgAUAAGBY0AaskpISpaWlqU%2BfPkpMTFRmZqZOnDghSSoqKtKoUaOUkJCg5ORkrVq1yu%2B1f/jDH3TnnXfK7XZr6NChysvL8815vV7l5OQoKSlJ3bt319ixY3Xw4EFb1wYAAIJb0AastLQ0RUdH68MPP9SGDRtUXFysX/3qVzp79qwmTpyonj17atu2bVq6dKlefPFFbd68WZJUUFCgmTNnaurUqfr00081ZswYpaen6%2BjRo5Kk1157TevWrdPKlSuVl5endu3aKT09XZZlBXK5AAAgiARlwDp16pS6deumGTNmKCIiQnFxcbr33nv16aef6qOPPlJVVZWmT5%2BuiIgI9ejRQykpKcrNzZUkrVu3TsnJyRoyZIiaN2%2BukSNHKj4%2BXhs2bJAkrVmzRhMmTFDnzp0VGRmpmTNnau/evdqxY0cglwwAAIJIUAasVq1aKTs7W7Gxsb6xw4cPKyYmRoWFhercubPCw8N9c126dFFBQYEkqbCwUF27dvV7v2/mz58/r%2BLiYnXr1s03FxkZqRtvvNH3egAAgMtxBroAE3bu3KnXX39d//Iv/6L3339fUVFRfvPR0dGqqKiQ1%2BuVx%2BNRdHS033xUVJT27NmjiooKWZZV6/VRUVEqLy%2Bvcz2lpaUqKyvzG3M6WyouLu4KVxZanM7gyfPh4WF%2Bn1F39K5h6F/90buGoX9mBX3A%2Buyzz5SWlqbp06frtttu05YtW77zeIfDcUXjdZ3/e7m5uVq2bJnfWHp6uqZMmVLn9whFLldEoEu4Yq1btwh0CUGL3jUM/as/etcw9M%2BMoA5YW7du1eOPP645c%2BZo%2BPDhkqSYmBh9%2BeWXfsd5PB65XC6FhYXJ5XLJ4/HUmo%2BJifEdU1FRUWv%2B77cjLyclJUUDBw70G3M6W8rjOX0lyws5wbT%2B8PAwtW7dQidPnlVNjTfQ5QQVetcw9K/%2B6F3DhGr/AvWX%2B6ANWNu3b9esWbO0dOlSJSUl%2BcbdbrfefPNNVVdXy%2Bn8enn5%2BflKSEjwze/atcvvvXbu3Km7775bTZs2VXx8vHbt2qXevXtLkioqKnTgwAG53e461xYXF1drO7Cs7JSqq0PnG7Y%2BgnH9NTXeoKy7MaB3DUP/6o/eNQz9MyMoN1qrq6v11FNPKTMz0y9cSVJycrIiIiK0ePFinT59Wv/zP/%2Bjt956Sw899JAkaeTIkcrLy9PGjRt17tw5vf766zpw4IBGjBghSUpNTdXLL7%2BsL774QqdOndKCBQvUrVs3X0ADAAC4nKC8grVjxw4VFxdr3rx5mjdvnt/cu%2B%2B%2Bq%2BXLl2vOnDlKTExUbGysMjMzddttt0mS4uPjtWjRIi1evFgzZ85Ux44dtXz5crVp00aSNGrUKJWVlWncuHE6ffq0%2Bvbtq6VLl9q%2BRgAAELwcFk/QtEVZ2amr8r6Dl%2BRd/qBGYlNG0uUPaiSczjC5XBHyeE5zqfwK0buGoX/1R%2B8aJlT7d801rQJy3qDcIgQAAGjMCFgAAACGEbAAAAAMI2ABAAAYRsACAAAwjIAFAABgGAELAADAMAIWAACAYQQsAAAAwwhYAAAAhhGwAAAADCNgAQAAGEbAAgAAMIyABQAAYBgBCwAAwDACFgAAgGEELAAAAMMIWAAAAIYRsAAAAAwjYAEAABhGwAIAADCMgAUAAGAYAQsAAMAwAhYAAIBhBCwAAADDCFgAAACGEbAAAAAMI2ABAAAYRsACAAAwjIAFAABgGAELAADAMAIWAACAYQQsAAAAwwhYAAAAhhGwAAAADCNgAQAAGEbAAgAAMIyABQAAYBgBCwAAwDACFgAAgGEELAAAAMMIWAAAAIYRsAAAAAwjYAEAABhGwAIAADCMgAUAAGAYAQsAAMAwAhYAAIBhBCwAAADDCFgAAACGEbAAAAAMI2ABAAAYRsACAAAwjIAFAABgGAELAADAMAIWAACAYQQsAAAAwwhYAAAAhhGwAAAADAvqgPXJJ5%2BoX79%2BmjZtmt/4%2BvXr1blzZ7ndbr%2BP/Px8SZLX61VOTo6SkpLUvXt3jR07VgcPHvS93uPxaNq0aerZs6d69%2B6tJ598UufOnbN1bQAAIHgFbcB66aWXtGDBAt10000Xne/du7d27tzp95GQkCBJeu2117Ru3TqtXLlSeXl5ateundLT02VZliTpiSee0PHjx7V582a98847Kioq0qJFi2xbGwAACG5BG7CaNWumtWvXXjJgfZc1a9ZowoQJ6ty5syIjIzVz5kzt3btXO3bs0LFjx/Thhx8qKytLbdq00bXXXquMjAytW7dOFy5cuAorAQAAoSZoA9bo0aPVqlWrS84fOXJEY8aMUa9evTRkyBBt2LBBknT%2B/HkVFxerW7duvmMjIyN14403qqCgQEVFRXI6nerUqZNvvmvXrjpz5oz27dt39RYEAABChjPQBVwNMTExat%2B%2BvaZOnaof/vCH2rJlizIzMxUXF6ebb75ZlmUpKirK7zVRUVEqLy9XVFSUIiMjFRYW5jcnSeXl5XU6f2lpqcrKyvzGnM6WiouLa%2BDKgpvTGTx5Pjw8zO8z6o7eNQz9qz961zD0z6yQDFj9%2B/dX//79fV8PHTpU77//vtauXavMzMxLvs7hcMjhcHznfF3k5uZq2bJlfmPp6emaMmVKnV4fqlyuiECXcMVat24R6BKCFr1rGPpXf/SuYeifGSEZsC7mhhtuUEFBgVwul8LCwlRRUeE37/F4FBsbq5iYGJ06dUo1NTUKDw/3zUlSbGxsnc6VkpKigQMH%2Bo05nS3l8Zw2sJLgFUzrDw8PU%2BvWLXTy5FnV1HgDXU5QoXcNQ//qj941TKj2L1B/uQ/JgPXmm2/K5XLpzjvv9I3t27dP7dq1U9OmTRUfH69du3apd%2B/ekqSKigodOHBAbrdb7dq1k9fr1e7du9WlSxdJUn5%2Bvlq1aqX27dvX6fxxcXG1tgPLyk6pujp0vmHrIxjXX1PjDcq6GwN61zD0r/7oXcPQPzNCcqO1urpa8%2BfPV1FRkaqqqvTOO%2B/o448/VmpqqiQpNTVVL7/8sr744gudOnVKCxYsULdu3ZSQkCCXy6XBgwcrOztbx44d06FDh5STk6OUlBQ1adIkwCsDAADBIGivYLndbklfhylJ2rJliyRp586deuihh3Ty5Emlp6fL4/GoQ4cOeuGFF9S1a1dJ0qhRo1RWVqZx48bp9OnT6tu3r5YuXep773nz5mnu3LkaNGiQmjRponvuuUdTp061eYUAACBYOaxvnq6Jq6qs7NRVed/BS/KuyvteDZsykgJdQp05nWFyuSLk8ZzmUvkVoncNQ//qj941TKj275prLv1Ip6spJLcIAQAAAomABQAAYBgBCwAAwDACFgAAgGEELAAAAMMIWAAAAIYRsAAAAAwjYAEAABhGwAIAADDM9oBVWVlp9ykBAABsZXvA%2BtnPfqasrCxt377d7lMDAADYwvaA9fTTT6usrEyjR4/WkCFDtGrVKpWXl9tdBgAAwFVje8AaMWKEXn75ZX388cdKTU3Ve%2B%2B9p/79%2BysjI0N5ecHzg4sBAAAuJWA3ucfExOif//mf9eabbyo7O1t5eXmaMGGC7rrrLm3atClQZQEAADSYM1AnPn78uNavX6/169frwIEDuvXWW/XAAw%2BorKxM8%2BbN08GDBzVp0qRAlQcAAFBvtgesjz/%2BWGvXrtXWrVvlcrl033336YEHHlDbtm19x3Tp0kUTJ04kYAEAgKBke8CaPHmy%2BvXrp5ycHA0cOFDh4eG1jklISFBcXJzdpQEAABhhe8DavHmz2rVrpwsXLvjC1enTpxUREeF33O9//3u7SwMAADDC9pvcHQ6H7rnnHm3dutU3lpubq7vvvlsHDx60uxwAAADjbA9YzzzzjG6%2B%2BWb17NnTNzZs2DC53W4988wzdpcDAABgnO1bhJ999pk%2B%2BugjtWzZ0jfWpk0bzZ49WwMGDLC7HAAAAONsv4JlWZaqq6trjZ89e1Zer9fucgAAAIyzPWAlJSUpMzNThYWFOnnypCoqKvTZZ59p2rRpuvXWW%2B0uBwAAwDjbtwhnz56tGTNm6N5775XD4fCN9%2B3bV0899ZTd5QAAABhne8CKjY3VqlWrVFxcrP3790uS2rdvr44dO9pdCgAAwFURsB%2BV07FjR7Vr18739YULFyRJTZs2DVRJAAAARtgesHbs2KG5c%2Bfqr3/9q2pqamrNFxUV2V0SAACAUbYHrLlz5yo2NlYpKSlq3ry53acHAAC46mwPWPv371dubq6aNWtm96kBAABsYftjGtq2bauqqiq7TwsAAGAb2wPWjBkzlJ2drcrKSrtPDQAAYAvbtwiXLVumkpIS/fu//7tcLpffs7Ak6T//8z/tLgkAAMAo2wNWcnKynM6APR0CAADgqrM96WRkZNh9SgAAAFvZfg%2BWJH3%2B%2BefKysrSmDFjJEler1ebNm0KRCkAAADG2R6wPvjgAz344IPyeDzavn27JOno0aOaPXu21qxZY3c5AAAAxtkesH7zm99o4cKF%2Bs1vfuO7wb1t27Z6/vnntXr1arvLAQAAMM72gLVv3z7dcccdkuT3LwgTExN16NAhu8sBAAAwzvaA1aRJE504caLW%2BP79%2B/nROQAAICTYHrD69%2B%2BvJ598UsXFxZIkj8ejTz75RBkZGRowYIDd5QAAABhne8DKysqSZVm6%2B%2B67df78efXr108TJ07Uddddp1mzZtldDgAAgHG2PwerdevWWr58uYqLi7V//345HA516NBBHTp0sLsUAACAqyJgj1Tv2LGjOnbsGKjTAwAAXDW2B6xbb731knM1NTXatm2bjdUAAACYZ3vASklJ8Xs8g9frVUlJifLy8jR58mS7ywEAADDO9oD16KOPXnQ8Pz9fv/vd72yuBgAAwLyA/CzCi0lISNDOnTsDXQYAAECDNZqA9eWXX170AaQAAADBxvYtwlGjRtUau3Dhgvbu3avbb7/d7nIAAACMsz1gtW/f3u8md0lq1qyZ7rvvPt133312lwMAAGCc7QHrueees/uUAAAAtrI9YK1Zs0ZNmjSp07EjRoy4ytUAAACYZ3vAevbZZ3Xu3DlZluU37nA4/MYcDgcBCwAABCXbA9aLL76oN954Q2lpaerYsaNqamq0Z88erVixQqNHj1ZiYqLdJQEAABgVkCtYK1euVFxcnG/sxz/%2BsZ5%2B%2BmmNGzdOGzdutLskAAAAo2x/DlZJSYlat25dazwqKkqHDx%2B2uxwAAADjbA9YHTp0UHZ2tjwej2/sxIkTWrx4sTp06GB3OQAAAMbZvkX41FNPKS0tTW%2B99ZYiIiIkSadPn1ZERIReeOEFu8sBAAAwzvaA1bNnT3300Uf64x//qKNHj8qyLF177bVKTk5WZGSk3eUAAAAYF5CfRdiiRQsNGjRIt99%2Bux5%2B%2BGENGTKkXuHqk08%2BUb9%2B/TRt2rRac3/4wx905513yu12a%2BjQocrLy/PNeb1e5eTkKCkpSd27d9fYsWN18OBB37zH49G0adPUs2dP9e7dW08%2B%2BaTOnTtXv8UCAIDvHdsD1rlz5/T000%2Bre/fuGjx4sCTp5MmTmjRpkk6dOlXn93nppZe0YMEC3XTTTbXmCgoKNHPmTE2dOlWffvqpxowZo/T0dB09elSS9Nprr2ndunVauXKl8vLy1K5dO6Wnp/uew/XEE0/o%2BPHj2rx5s9555x0VFRVp0aJFBlYPAAC%2BD2wPWEuXLtWOHTu0aNEihYX9/%2Bmrqqr0y1/%2Bss7v06xZM61du/aiAWvdunVKTk7WkCFD1Lx5c40cOVLx8fHasGGDpK%2BfJj9hwgR17txZkZGRmjlzpvbu3asdO3bo2LFj%2BvDDD5WVlaU2bdro2muvVUZGhtatW6cLFy40vAEAACDk2X4P1pYtW7R8%2BXJ16NBBM2fOlCS1bt1a2dnZV/TDnkePHn3JucLCQiUnJ/uNdenSRQUFBTp//ryKi4vVrVs331xkZKRuvPFGFRQUqLKyUk6nU506dfLNd%2B3aVWfOnNG%2Bffv8xi%2BltLRUZWVlfmNOZ0u/Z399HzmdAdmRrpfw8DC/z6g7etcw9K/%2B6F3D0D%2BzbA9YpaWlat%2B%2Bfa3x2NhYVVZWGjmHx%2BNRdHS031hUVJT27NmjiooKWZalqKioWvPl5eWKiopSZGSk39W1b44tLy%2Bv0/lzc3O1bNkyv7H09HRNmTKlPssJGS5XRKBLuGKtW7cIdAlBi941DP2rP3rXMPTPDNsD1g9%2B8ANt375dP/nJT/zG33vvPV133XVGzuFwOK5o/O/nv%2BuYy73%2BGykpKRo4cKDfmNPZUh7P6Tq9PlQF0/rDw8PUunULnTx5VjU13kCXE1ToXcPQv/qjdw0Tqv0L1F/ubQ9YY8eO1S9%2B8Qvdf//9qqmp0SuvvKKCggJt3rxZTz75pJFzuFwuvweZSl9f1YqJiZHL5VJYWJgqKipqzcfGxiomJkanTp1STU2NwsPDfXPS11fZ6iIuLq7WdmBZ2SlVV4fON2x9BOP6a2q8QVl3Y0DvGob%2B1R%2B9axj6Z4btG62jRo3SvHnz9Oc//1ktW7bU8uXLdfjwYS1atEipqalGzuF2u7Vr1y6/sZ07dyohIUFNmzZVfHy833xFRYUOHDggt9utLl26yOv1avfu3b75/Px8tWrV6qJbmwAAAN9m%2BxWs48eP66677tJdd9111c4xcuRI3X///dq4caMGDhyoNWvW6MCBAxoxYoQkKTU1VcuWLdNPf/pTXX/99VqwYIG6deumhIQESdLgwYOVnZ2tnJwcnT9/Xjk5OUpJSVGTJk2uWs0AACB02BqwvF6vBgwYoM8//7zO9zNditvtliRVV1dL%2BvpfJ0pfX6mKj4/XokWLtHjxYs2cOVMdO3bU8uXL1aZNG0lfX0UrKyvTuHHjdPr0afXt21dLly71vfe8efM0d%2B5cDRo0SE2aNNE999yjqVOnNqheAADw/eGwvnm6pk1%2B/vOfa/jw4b6HjH5flJXV/SGqV2LwkrzLH9RIbMpICnQJdeZ0hsnlipDHc5p7Ea4QvWsY%2Bld/9K5hQrV/11zTKiDntX2LsG3btnrmmWe0fPly3XjjjbW23RYvXmx3SQAAAEbZHrD27NmjDh06SFKtf%2BkHAAAQCmwLWNOmTVNOTo5ef/1139gLL7yg9PR0u0oAAACwhW2Padi6dWutsRUrVth1egAAANvYFrAudi%2B9zffXAwAA2MK2gHWxxzI09FENAAAAjRE/MhsAAMAwAhYAAIBhtv0rwqqqKk2fPv2yYzwHCwAABDvbAtZPfvITlZaWXnYMAAAg2NkWsP7%2B%2BVcAAAChjHuwAAAADCNgAQAAGEbAAgAAMIyABQAAYBgBCwAAwDACFgAAgGEELAAAAMMIWAAAAIbZ9qBRAABgr8FL8gJdQp1tykgKdAlGcQULAADAMAIWAACAYQQsAAAAwwhYAAAAhhGwAAAADCNgAQAAGEbAAgAAMIyABQAAYBgBCwAAwDACFgAAgGEELAAAAMMIWAAAAIYRsAAAAAwjYAEAABhGwAIAADCMgAUAAGAYAQsAAMAwAhYAAIBhBCwAAADDCFgAAACGEbAAAAAMI2ABAAAYRsACAAAwjIAFAABgGAELAADAMAIWAACAYQQsAAAAwwhYAAAAhhGwAAAADCNgAQAAGEbAAgAAMIyABQAAYBgBCwAAwDACFgAAgGEELAAAAMMIWAAAAIYRsAAAAAwjYAEAABhGwAIAADAsZANWp06d1K1bN7ndbt/H/PnzJUnbtm3TsGHD5Ha7NWjQIL399tt%2Br3311Vc1YMAAJSQkaOTIkdq1a1cglgAAAIKUM9AFXE3vvvuubrjhBr%2Bxr776SmlpaXrsscc0cuRIbdu2TRkZGWrfvr0SEhL0/vvva8mSJfrXf/1Xde/eXStXrtTkyZO1efNmtWzZMkArAQAAwSRkr2Bdyu9//3vddNNNGj16tFq0aKGBAwfq9ttv19q1ayVJa9as0f3336%2Bf/vSnatGihdLT0yVJW7duDWTZAAAgiIT0FazFixfr008/lSQNGDBAs2bNUmFhobp27ep3XJcuXbRp0yZJUmFhoYYMGeKbczgc%2BtGPfqSCggINHTq0TuctLS1VWVmZ35jT2VJxcXENWU7QczqDJ8%2BHh4f5fUbd0buGoX/1R%2B%2BCWzD9GVEXIRuwevToocTERM2fP19fffWVMjIyNHfuXHk8HnXu3Nnv2OjoaJWXl0uSPB6PoqOj/eajoqJ883WRm5urZcuW%2BY2lp6drypQp9VxNaHC5IgJdwhVr3bpFoEsIWvSuYehf/dG74BSMf0Z8l5ANWLm5ub7/joyM1IwZM/Tzn/9cvXr1uujxDofD7/Ol5usiJSVFAwcO9BtzOlvK4zld5/cIRcG0/vDwMLVu3UInT55VTY030OUEFXrXMPSv/uhdcLtaf0YEKriFbMD6thtuuEFer1dhYWGqqKjwm/N4PIqJiZEkuVyui87Hx8fX%2BVxxcXG1tgPLyk6puvr7/Qs%2BGNdfU%2BMNyrobA3rXMPSv/uhdcAq1/2ehteH5N0VFRfrVr37lN7Zv3z41bdpU/fv3r/XYhfz8fCUkJEiS3G63CgoKfHM1NTUqLCz0zQMAAFxOSAas2NhY/du//ZtWr16tqqoq7du3T0uWLFFqaqqGDRumQ4cOafXq1Tp79qzeffddffzxx0pJSZEkjRo1SuvWrdN///d/68yZM/r1r3%2Bt5s2b19ryAwAAuJSQ3CKMi4vTihUrtGjRIj3//PNyuVwaMmSIpkyZoqZNm2r58uWaP3%2B%2BFi9erLZt22rx4sW%2BG9%2BTk5OVmZmprKwsHT9%2BXN26ddOKFSvUrFmzAK8KAAAEi5AMWJLUu3dvvxvd/16vXr20YcOGS742NTVVqampV6s0AAAQ4kJyixAAACCQCFgAAACGhewWIQAApg1ekhfoEhAkuIIFAABgGAELAADAMAIWAACAYQQsAAAAwwhYAAAAhhGwAAAADCNgAQAAGEbAAgAAMIyABQAAYBgBCwAAwDACFgAAgGEELAAAAMMIWAAAAIYRsAAAAAwjYAEAABhGwAIAADCMgAUAAGAYAQsAAMAwAhYAAIBhBCwAAADDCFgAAACGOQNdAAA0doOX5AW6hCuyKSMp0CUA33tcwQIAADCMgAUAAGAYAQsAAMAwAhYAAIBhBCwAAADDCFgAAACGEbAAAAAMI2ABAAAYRsACAAAwjIAFAABgGAELAADAMAIWAACAYQQsAAAAwwhYAAAAhhGwAAAADCNgAQAAGOYMdAFAY9XryXcDXcIV2ZSRFOgSAAB/wxUsAAAAw7iCBQAImMFL8gJdAnBVcAULAADAMAIWAACAYQQsAAAAwwhYAAAAhhGwAAAADCNgAQAAGEbAAgAAMIyABQAAYBgBCwAAwDACFgAAgGEELAAAAMMIWAAAAIYRsAAAAAwjYAEAABhGwAIAADCMgHURJSUlGj9%2BvHr06KHExEQtXLhQXq830GUBAIAg4Qx0AY2NZVl65JFHdMstt%2BiPf/yjjh07pokTJ6pNmzZ6%2BOGHA10eAAAIAgSsb9m5c6d2796t1atXKyoqSlFRUZo4caJWr15NwGqgwUvyAl0C8L3ArzUg8AhY31JYWKjrr79e0dHRvrGuXbtq//79qqysVGRk5GXfo7S0VGVlZX5jTmdLxcXFGa8X%2BIbT2Th2/MPDw/w%2BA0BdNJbfw0whYH2Lx%2BNRVFSU39g3X3s8njoFrNzcXC1btsxv7JFHHtGjjz5qrtC/%2BfMzd11yrrS0VLm5uUpJSSHcXSF6V3%2BlpaV69dWXQ6p33/XrzDS%2B9%2BqP3jUM/TMrtOKiAQ6Ho8HvkZKSovXr1/t9pKSkGKjuypSVlWnZsmW1rqbh8uhd/dG7hqF/9UfvGob%2BmcUVrG%2BJiYlRRUWF35jH4/HN1UVcXBzpHwCA7zGuYH2L2%2B3W4cOHfaFKkvLz83XLLbcoIiIigJUBAIBgQcD6lh/96EdKSEjQggULdPLkSe3evVsrVqzQQw89FOjSAABAkAifO3fu3EAX0dj87Gc/03vvvaf58%2Bdr48aNSk1N1fjx4wNdVr1ERESoT58%2BXH2rB3pXf/Q3KVSnAAAHnElEQVSuYehf/dG7hqF/5jgsy7ICXQQAAEAoYYsQAADAMAIWAACAYQQsAAAAwwhYAAAAhhGwAAAADCNgAQAAGEbAAgAAMIyABQAAYBgBCwAAwDACVgjyeDzKzMxUYmKi%2BvTpo1/84hc6cuSIb76kpETjx49Xjx49lJiYqIULF8rr9Qaw4saF/tRdSUmJ0tLS1KdPHyUmJiozM1MnTpyQJBUVFWnUqFFKSEhQcnKyVq1aFeBqG69nn31WnTp18n29bds2DRs2TG63W4MGDdLbb78dwOoarxdffFG33nqrfvzjH2vs2LE6ePCgJPp3Obt27dLo0aPVq1cv9evXT5mZmfJ4PJLonVEWQs7kyZOtCRMmWOXl5daJEyesSZMmWWPGjLEsy7K8Xq81fPhwa/r06VZFRYX117/%2B1RowYID1yiuvBLboRoL%2BXJmhQ4das2bNsiorK62vvvrKuvfee60nnnjCOnPmjJWUlGT98pe/tCorK62//OUvVq9evaz33nsv0CU3OoWFhVafPn2s%2BPh4y7Is6%2BjRo1b37t2tV1991Tpz5oz1wQcfWG632/r8888DXGnj8tvf/ta67777rJKSEquiosKaNWuWNW/ePPp3GdXV1Va/fv2sX//619b58%2Bctj8djPfzww9aUKVPonWEErBDj9XqtOXPmWP/7v//rG/vwww%2Btrl27Wl6v1/r888%2Btzp07Wx6Pxzf/u9/9zrrjjjsCUW6jQ3/q7uTJk9asWbOsY8eO%2BcbeeOMNa9CgQdbGjRutPn36WNXV1b65hQsXWuPGjQtEqY1WTU2NNXLkSOvFF1/0BayXXnrJGjZsmN9xGRkZ1uzZswNRYqM1cOBAa8eOHbXG6d93O3LkiBUfH2/t2bPHN/bGG29Y//AP/0DvDGOLMMQ4HA7NmzdPP/zhD31jhw8flsvlksPhUGFhoa6//npFR0f75rt27ar9%2B/ersrIyECU3KvSn7lq1aqXs7GzFxsb6xg4fPqyYmBgVFhaqc%2BfOCg8P98116dJFBQUFgSi10XrzzTfVvHlz3XPPPb6xwsJCde3a1e84eufvq6%2B%2B0tGjR/Xll1/qjjvuUN%2B%2BfZWRkSGPx0P/LuPaa69Vly5d9NZbb%2Bns2bMqLy/X%2B%2B%2B/r/79%2B9M7wwhYIa6kpETPP/%2B80tLSJH19f1ZUVJTfMd98/c0e/PcZ/am/nTt36vXXX1daWtpF%2BxgdHa2KigruZ/ubY8eO6YUXXtDcuXP9xi/Vu/Lychura9yOHj0qh8OhLVu2KDc3V//xH/%2BhQ4cOafbs2fTvMhwOh5YuXaoPPvjAd5%2Bp1%2BvVY489Ru8MI2AFoQ0bNqhTp04X/Vi/fr3vuOLiYv3TP/2T/vEf/1EPPvigpK9/ceHS6E/9fPbZZxo/frymT5%2Bu2267jT7WQXZ2th544AHdfPPNfuOX6h09/X9VVVWqqqrS448/LpfLpeuuu05TpkzRli1b6N9lXLhwQZMnT9aQIUO0fft25eXlKTIyUo8//ji9M8wZ6AJw5YYPH67hw4d/5zH5%2BfmaOHGixo8fr0mTJvnGY2JiVFFR4XfsN1dmYmJizBcbZOjPldu6dasef/xxzZkzx/d9GRMToy%2B//NLvOI/HI5fLpbAw/l63bds2FRQU6Nlnn60153K5Lvo9yPff//tmCz8yMtI3dv3118uyLFVVVdG/7/Bf//VfKikpUUZGhsLDwxUREaFHH31UI0aM0G233UbvDOJ3uhC0f/9%2BTZ48WVlZWX7hSpLcbrcOHz7st92Vn5%2BvW265RREREXaX2ujQnyuzfft2zZo1S0uXLvUL/W63W7t371Z1dbVvLD8/XwkJCYEos9F5%2B%2B23dfToUSUnJ6tv37669957JUl9%2B/ZVp06dtGvXLr/j6Z2/m266SZGRkX59OnTokJxOp/r370//voNlWbW26auqqiRJiYmJ9M6kQN9lD/Mefvhha8mSJZecf%2BCBB6zHHnvMOnHihPXFF19YSUlJ1m9/%2B1sbK2zc6E/dVFVVWYMHD7bWrFlTa%2B78%2BfPWgAEDrOeee86qrKy0/vSnP1k9evSwPvroowBU2vhUVFRYR44c8X385S9/seLj460jR45Yhw4dsnr27GmtWrXKOnPmjLVp0ybL7XZbRUVFgS67UcnOzraGDx9uHTlyxCotLbVSUlKsrKws69ixY/TvO5SXl1t9%2BvSxcnJyrLNnz1oVFRXWI488YqWkpNA7wxyWZVmBDnkw58iRI%2Brfv7%2BaNGlSa9/8lVdeUe/evXX06FHNmTNHf/rTnxQREaEHH3xQjzzySIAqbnzoT938%2Bc9/1kMPPaSmTZvWmnv33Xd15swZzZkzR7t27VJsbKwmTZqk1NTUAFTa%2BJWUlOj222/X7t27JX3d2/nz52vv3r1q27atZsyYoUGDBgW4ysblwoULeu655/TOO%2B8oLCxMAwcO1BNPPKHIyEj6dxn5%2BflauHChioqK1KRJE/Xp00dZWVn6wQ9%2BQO8MImABAAAYxj1YAAAAhhGwAAAADCNgAQAAGEbAAgAAMIyABQAAYBgBCwAAwDACFgAAgGEELAAAAMMIWAAAAIYRsAAAAAwjYAEAABhGwAIAADCMgAUAAGDY/wFHwz2NYCrJRwAAAABJRU5ErkJggg%3D%3D\"/>\n",
       "        </div>\n",
       "        <div role=\"tabpanel\" class=\"tab-pane col-md-12\" id=\"common8163342023507740982\">\n",
       "            \n",
       "<table class=\"freq table table-hover\">\n",
       "    <thead>\n",
       "    <tr>\n",
       "        <td class=\"fillremaining\">Value</td>\n",
       "        <td class=\"number\">Count</td>\n",
       "        <td class=\"number\">Frequency (%)</td>\n",
       "        <td style=\"min-width:200px\">&nbsp;</td>\n",
       "    </tr>\n",
       "    </thead>\n",
       "    <tr class=\"\">\n",
       "        <td class=\"fillremaining\">40.0</td>\n",
       "        <td class=\"number\">276</td>\n",
       "        <td class=\"number\">0.0%</td>\n",
       "        <td>\n",
       "            <div class=\"bar\" style=\"width:1%\">&nbsp;</div>\n",
       "        </td>\n",
       "</tr><tr class=\"\">\n",
       "        <td class=\"fillremaining\">-8.0</td>\n",
       "        <td class=\"number\">12</td>\n",
       "        <td class=\"number\">0.0%</td>\n",
       "        <td>\n",
       "            <div class=\"bar\" style=\"width:1%\">&nbsp;</div>\n",
       "        </td>\n",
       "</tr><tr class=\"\">\n",
       "        <td class=\"fillremaining\">-18.1564097414</td>\n",
       "        <td class=\"number\">1</td>\n",
       "        <td class=\"number\">0.0%</td>\n",
       "        <td>\n",
       "            <div class=\"bar\" style=\"width:1%\">&nbsp;</div>\n",
       "        </td>\n",
       "</tr><tr class=\"\">\n",
       "        <td class=\"fillremaining\">80.6696535777</td>\n",
       "        <td class=\"number\">1</td>\n",
       "        <td class=\"number\">0.0%</td>\n",
       "        <td>\n",
       "            <div class=\"bar\" style=\"width:1%\">&nbsp;</div>\n",
       "        </td>\n",
       "</tr><tr class=\"\">\n",
       "        <td class=\"fillremaining\">-20.3033105869</td>\n",
       "        <td class=\"number\">1</td>\n",
       "        <td class=\"number\">0.0%</td>\n",
       "        <td>\n",
       "            <div class=\"bar\" style=\"width:1%\">&nbsp;</div>\n",
       "        </td>\n",
       "</tr><tr class=\"\">\n",
       "        <td class=\"fillremaining\">-20.7376758703</td>\n",
       "        <td class=\"number\">1</td>\n",
       "        <td class=\"number\">0.0%</td>\n",
       "        <td>\n",
       "            <div class=\"bar\" style=\"width:1%\">&nbsp;</div>\n",
       "        </td>\n",
       "</tr><tr class=\"\">\n",
       "        <td class=\"fillremaining\">-20.8835118862</td>\n",
       "        <td class=\"number\">1</td>\n",
       "        <td class=\"number\">0.0%</td>\n",
       "        <td>\n",
       "            <div class=\"bar\" style=\"width:1%\">&nbsp;</div>\n",
       "        </td>\n",
       "</tr><tr class=\"\">\n",
       "        <td class=\"fillremaining\">-19.1486339817</td>\n",
       "        <td class=\"number\">1</td>\n",
       "        <td class=\"number\">0.0%</td>\n",
       "        <td>\n",
       "            <div class=\"bar\" style=\"width:1%\">&nbsp;</div>\n",
       "        </td>\n",
       "</tr><tr class=\"\">\n",
       "        <td class=\"fillremaining\">83.8360580226</td>\n",
       "        <td class=\"number\">1</td>\n",
       "        <td class=\"number\">0.0%</td>\n",
       "        <td>\n",
       "            <div class=\"bar\" style=\"width:1%\">&nbsp;</div>\n",
       "        </td>\n",
       "</tr><tr class=\"\">\n",
       "        <td class=\"fillremaining\">-19.7326519884</td>\n",
       "        <td class=\"number\">1</td>\n",
       "        <td class=\"number\">0.0%</td>\n",
       "        <td>\n",
       "            <div class=\"bar\" style=\"width:1%\">&nbsp;</div>\n",
       "        </td>\n",
       "</tr><tr class=\"other\">\n",
       "        <td class=\"fillremaining\">Other values (3736)</td>\n",
       "        <td class=\"number\">3736</td>\n",
       "        <td class=\"number\">0.0%</td>\n",
       "        <td>\n",
       "            <div class=\"bar\" style=\"width:100%\">&nbsp;</div>\n",
       "        </td>\n",
       "</tr>\n",
       "</table>\n",
       "        </div>\n",
       "        <div role=\"tabpanel\" class=\"tab-pane col-md-12\"  id=\"extreme8163342023507740982\">\n",
       "            <p class=\"h4\">Minimum 5 values</p>\n",
       "            \n",
       "<table class=\"freq table table-hover\">\n",
       "    <thead>\n",
       "    <tr>\n",
       "        <td class=\"fillremaining\">Value</td>\n",
       "        <td class=\"number\">Count</td>\n",
       "        <td class=\"number\">Frequency (%)</td>\n",
       "        <td style=\"min-width:200px\">&nbsp;</td>\n",
       "    </tr>\n",
       "    </thead>\n",
       "    <tr class=\"\">\n",
       "        <td class=\"fillremaining\">-21.9987888386</td>\n",
       "        <td class=\"number\">1</td>\n",
       "        <td class=\"number\">0.0%</td>\n",
       "        <td>\n",
       "            <div class=\"bar\" style=\"width:100%\">&nbsp;</div>\n",
       "        </td>\n",
       "</tr><tr class=\"\">\n",
       "        <td class=\"fillremaining\">-21.9917616651</td>\n",
       "        <td class=\"number\">1</td>\n",
       "        <td class=\"number\">0.0%</td>\n",
       "        <td>\n",
       "            <div class=\"bar\" style=\"width:100%\">&nbsp;</div>\n",
       "        </td>\n",
       "</tr><tr class=\"\">\n",
       "        <td class=\"fillremaining\">-21.9909722458</td>\n",
       "        <td class=\"number\">1</td>\n",
       "        <td class=\"number\">0.0%</td>\n",
       "        <td>\n",
       "            <div class=\"bar\" style=\"width:100%\">&nbsp;</div>\n",
       "        </td>\n",
       "</tr><tr class=\"\">\n",
       "        <td class=\"fillremaining\">-21.984295155</td>\n",
       "        <td class=\"number\">1</td>\n",
       "        <td class=\"number\">0.0%</td>\n",
       "        <td>\n",
       "            <div class=\"bar\" style=\"width:100%\">&nbsp;</div>\n",
       "        </td>\n",
       "</tr><tr class=\"\">\n",
       "        <td class=\"fillremaining\">-21.9760361122</td>\n",
       "        <td class=\"number\">1</td>\n",
       "        <td class=\"number\">0.0%</td>\n",
       "        <td>\n",
       "            <div class=\"bar\" style=\"width:100%\">&nbsp;</div>\n",
       "        </td>\n",
       "</tr>\n",
       "</table>\n",
       "            <p class=\"h4\">Maximum 5 values</p>\n",
       "            \n",
       "<table class=\"freq table table-hover\">\n",
       "    <thead>\n",
       "    <tr>\n",
       "        <td class=\"fillremaining\">Value</td>\n",
       "        <td class=\"number\">Count</td>\n",
       "        <td class=\"number\">Frequency (%)</td>\n",
       "        <td style=\"min-width:200px\">&nbsp;</td>\n",
       "    </tr>\n",
       "    </thead>\n",
       "    <tr class=\"\">\n",
       "        <td class=\"fillremaining\">87.9012877207</td>\n",
       "        <td class=\"number\">1</td>\n",
       "        <td class=\"number\">0.0%</td>\n",
       "        <td>\n",
       "            <div class=\"bar\" style=\"width:100%\">&nbsp;</div>\n",
       "        </td>\n",
       "</tr><tr class=\"\">\n",
       "        <td class=\"fillremaining\">87.9310873548</td>\n",
       "        <td class=\"number\">1</td>\n",
       "        <td class=\"number\">0.0%</td>\n",
       "        <td>\n",
       "            <div class=\"bar\" style=\"width:100%\">&nbsp;</div>\n",
       "        </td>\n",
       "</tr><tr class=\"\">\n",
       "        <td class=\"fillremaining\">87.9399495693</td>\n",
       "        <td class=\"number\">1</td>\n",
       "        <td class=\"number\">0.0%</td>\n",
       "        <td>\n",
       "            <div class=\"bar\" style=\"width:100%\">&nbsp;</div>\n",
       "        </td>\n",
       "</tr><tr class=\"\">\n",
       "        <td class=\"fillremaining\">87.9541359551</td>\n",
       "        <td class=\"number\">1</td>\n",
       "        <td class=\"number\">0.0%</td>\n",
       "        <td>\n",
       "            <div class=\"bar\" style=\"width:100%\">&nbsp;</div>\n",
       "        </td>\n",
       "</tr><tr class=\"\">\n",
       "        <td class=\"fillremaining\">87.9583481277</td>\n",
       "        <td class=\"number\">1</td>\n",
       "        <td class=\"number\">0.0%</td>\n",
       "        <td>\n",
       "            <div class=\"bar\" style=\"width:100%\">&nbsp;</div>\n",
       "        </td>\n",
       "</tr>\n",
       "</table>\n",
       "        </div>\n",
       "    </div>\n",
       "</div>\n",
       "</div><div class=\"row variablerow\">\n",
       "    <div class=\"col-md-3 namecol\">\n",
       "        <p class=\"h4 pp-anchor\" id=\"pp_var_value2\">value2<br/>\n",
       "            <small>Numeric</small>\n",
       "        </p>\n",
       "    </div><div class=\"col-md-6\">\n",
       "    <div class=\"row\">\n",
       "        <div class=\"col-sm-6\">\n",
       "            <table class=\"stats \">\n",
       "                <tr>\n",
       "                    <th>Distinct count</th>\n",
       "                    <td>4032</td>\n",
       "                </tr>\n",
       "                <tr>\n",
       "                    <th>Unique (%)</th>\n",
       "                    <td>100.0%</td>\n",
       "                </tr>\n",
       "                <tr class=\"ignore\">\n",
       "                    <th>Missing (%)</th>\n",
       "                    <td>0.0%</td>\n",
       "                </tr>\n",
       "                <tr class=\"ignore\">\n",
       "                    <th>Missing (n)</th>\n",
       "                    <td>0</td>\n",
       "                </tr>\n",
       "                <tr class=\"ignore\">\n",
       "                    <th>Infinite (%)</th>\n",
       "                    <td>0.0%</td>\n",
       "                </tr>\n",
       "                <tr class=\"ignore\">\n",
       "                    <th>Infinite (n)</th>\n",
       "                    <td>0</td>\n",
       "                </tr>\n",
       "            </table>\n",
       "\n",
       "        </div>\n",
       "        <div class=\"col-sm-6\">\n",
       "            <table class=\"stats \">\n",
       "\n",
       "                <tr>\n",
       "                    <th>Mean</th>\n",
       "                    <td>44.494</td>\n",
       "                </tr>\n",
       "                <tr>\n",
       "                    <th>Minimum</th>\n",
       "                    <td>18.001</td>\n",
       "                </tr>\n",
       "                <tr>\n",
       "                    <th>Maximum</th>\n",
       "                    <td>164.95</td>\n",
       "                </tr>\n",
       "                <tr class=\"ignore\">\n",
       "                    <th>Zeros (%)</th>\n",
       "                    <td>0.0%</td>\n",
       "                </tr>\n",
       "            </table>\n",
       "        </div>\n",
       "    </div>\n",
       "</div>\n",
       "<div class=\"col-md-3 collapse in\" id=\"minihistogram8163342023507740981\">\n",
       "    <img src=\"data:image/png;base64,iVBORw0KGgoAAAANSUhEUgAAAMgAAABLCAYAAAA1fMjoAAAABHNCSVQICAgIfAhkiAAAAAlwSFlzAAAPYQAAD2EBqD%2BnaQAAADl0RVh0U29mdHdhcmUAbWF0cGxvdGxpYiB2ZXJzaW9uIDIuMi40LCBodHRwOi8vbWF0cGxvdGxpYi5vcmcv7US4rQAAARlJREFUeJzt3MsJwkAUQFEjlmQR9uTanizCnsa9yIUIMR/O2QcegcuEGTLTGGOcgK/Oaw8AW3ZZe4BP1/tz9jOvx22BScAKAkkgEAQCQSAQBAJBIBAEAkEgEAQCQSAQBAJBIBAEAkEgEAQCQSAQBAJBIBAEAkEgEAQCQSAQBAJBIBAEAkEgEAQCQSAQBAJhc7e7H4mb6vfPCgJBIBAEAkEgEAQCQSAQbPPO8Mu2LftmBYEgEAgCgSAQCAKBIBAIAoEgEAiHOCh0gLe8f73jrf0PM40xxtpDwFb5xIIgEAgCgSAQCAKBIBAIAoEgEAgCgSAQCAKBIBAIAoEgEAgCgSAQCAKBIBAIAoEgEAgCgSAQCAKBIBAIAoHwBth%2BFGO4JxCZAAAAAElFTkSuQmCC\">\n",
       "\n",
       "</div>\n",
       "<div class=\"col-md-12 text-right\">\n",
       "    <a role=\"button\" data-toggle=\"collapse\" data-target=\"#descriptives8163342023507740981,#minihistogram8163342023507740981\"\n",
       "       aria-expanded=\"false\" aria-controls=\"collapseExample\">\n",
       "        Toggle details\n",
       "    </a>\n",
       "</div>\n",
       "<div class=\"row collapse col-md-12\" id=\"descriptives8163342023507740981\">\n",
       "    <ul class=\"nav nav-tabs\" role=\"tablist\">\n",
       "        <li role=\"presentation\" class=\"active\"><a href=\"#quantiles8163342023507740981\"\n",
       "                                                  aria-controls=\"quantiles8163342023507740981\" role=\"tab\"\n",
       "                                                  data-toggle=\"tab\">Statistics</a></li>\n",
       "        <li role=\"presentation\"><a href=\"#histogram8163342023507740981\" aria-controls=\"histogram8163342023507740981\"\n",
       "                                   role=\"tab\" data-toggle=\"tab\">Histogram</a></li>\n",
       "        <li role=\"presentation\"><a href=\"#common8163342023507740981\" aria-controls=\"common8163342023507740981\"\n",
       "                                   role=\"tab\" data-toggle=\"tab\">Common Values</a></li>\n",
       "        <li role=\"presentation\"><a href=\"#extreme8163342023507740981\" aria-controls=\"extreme8163342023507740981\"\n",
       "                                   role=\"tab\" data-toggle=\"tab\">Extreme Values</a></li>\n",
       "\n",
       "    </ul>\n",
       "\n",
       "    <div class=\"tab-content\">\n",
       "        <div role=\"tabpanel\" class=\"tab-pane active row\" id=\"quantiles8163342023507740981\">\n",
       "            <div class=\"col-md-4 col-md-offset-1\">\n",
       "                <p class=\"h4\">Quantile statistics</p>\n",
       "                <table class=\"stats indent\">\n",
       "                    <tr>\n",
       "                        <th>Minimum</th>\n",
       "                        <td>18.001</td>\n",
       "                    </tr>\n",
       "                    <tr>\n",
       "                        <th>5-th percentile</th>\n",
       "                        <td>18.459</td>\n",
       "                    </tr>\n",
       "                    <tr>\n",
       "                        <th>Q1</th>\n",
       "                        <td>19.991</td>\n",
       "                    </tr>\n",
       "                    <tr>\n",
       "                        <th>Median</th>\n",
       "                        <td>21.649</td>\n",
       "                    </tr>\n",
       "                    <tr>\n",
       "                        <th>Q3</th>\n",
       "                        <td>76.436</td>\n",
       "                    </tr>\n",
       "                    <tr>\n",
       "                        <th>95-th percentile</th>\n",
       "                        <td>86.802</td>\n",
       "                    </tr>\n",
       "                    <tr>\n",
       "                        <th>Maximum</th>\n",
       "                        <td>164.95</td>\n",
       "                    </tr>\n",
       "                    <tr>\n",
       "                        <th>Range</th>\n",
       "                        <td>146.95</td>\n",
       "                    </tr>\n",
       "                    <tr>\n",
       "                        <th>Interquartile range</th>\n",
       "                        <td>56.445</td>\n",
       "                    </tr>\n",
       "                </table>\n",
       "            </div>\n",
       "            <div class=\"col-md-4 col-md-offset-2\">\n",
       "                <p class=\"h4\">Descriptive statistics</p>\n",
       "                <table class=\"stats indent\">\n",
       "                    <tr>\n",
       "                        <th>Standard deviation</th>\n",
       "                        <td>32.432</td>\n",
       "                    </tr>\n",
       "                    <tr>\n",
       "                        <th>Coef of variation</th>\n",
       "                        <td>0.72891</td>\n",
       "                    </tr>\n",
       "                    <tr>\n",
       "                        <th>Kurtosis</th>\n",
       "                        <td>0.56372</td>\n",
       "                    </tr>\n",
       "                    <tr>\n",
       "                        <th>Mean</th>\n",
       "                        <td>44.494</td>\n",
       "                    </tr>\n",
       "                    <tr>\n",
       "                        <th>MAD</th>\n",
       "                        <td>29.241</td>\n",
       "                    </tr>\n",
       "                    <tr class=\"\">\n",
       "                        <th>Skewness</th>\n",
       "                        <td>1.072</td>\n",
       "                    </tr>\n",
       "                    <tr>\n",
       "                        <th>Sum</th>\n",
       "                        <td>179400</td>\n",
       "                    </tr>\n",
       "                    <tr>\n",
       "                        <th>Variance</th>\n",
       "                        <td>1051.9</td>\n",
       "                    </tr>\n",
       "                    <tr>\n",
       "                        <th>Memory size</th>\n",
       "                        <td>223.0 KiB</td>\n",
       "                    </tr>\n",
       "                </table>\n",
       "            </div>\n",
       "        </div>\n",
       "        <div role=\"tabpanel\" class=\"tab-pane col-md-8 col-md-offset-2\" id=\"histogram8163342023507740981\">\n",
       "            <img src=\"data:image/png;base64,iVBORw0KGgoAAAANSUhEUgAAAlgAAAGQCAYAAAByNR6YAAAABHNCSVQICAgIfAhkiAAAAAlwSFlzAAAPYQAAD2EBqD%2BnaQAAADl0RVh0U29mdHdhcmUAbWF0cGxvdGxpYiB2ZXJzaW9uIDIuMi40LCBodHRwOi8vbWF0cGxvdGxpYi5vcmcv7US4rQAAIABJREFUeJzt3Xt0VOWh//9PLoRLArlhVJCbtAFJJiAFUkiNEBcqCMpCY%2BCwDqAimkYhFAygoCBobCVCAT2CUFB6jkZIPchF5ObtpHQV5SC5AOUEFIEiASYQwi3J7N8f/To/xyAEfbKHmXm/1spKeZ49ez%2BfTGI/2XuyJ8iyLEsAAAAwJtjbCwAAAPA3FCwAAADDKFgAAACGUbAAAAAMo2ABAAAYRsECAAAwjIIFAABgGAULAADAMAoWAACAYRQsAAAAwyhYAAAAhlGwAAAADKNgAQAAGEbBAgAAMIyCBQAAYBgFCwAAwDAKFgAAgGEULAAAAMMoWAAAAIZRsAAAAAyjYAEAABhGwQIAADCMggUAAGAYBQsAAMAwChYAAIBhFCwAAADDKFgAAACGUbAAAAAMo2ABAAAYRsECAAAwjIIFAABgGAULAADAMAoWAACAYRQsAAAAwyhYAAAAhlGwAAAADKNgAQAAGEbBAgAAMIyCBQAAYFiotxcQKMrLK207VnBwkGJiwnXyZJVcLsu243pDIGWVAisvWf1XIOUlq/ddd11zrxyXM1h%2BKDg4SEFBQQoODvL2UhpcIGWVAisvWf1XIOUla%2BCiYAEAABhGwQIAADCMggUAAGCYzxasQ4cOKTMzU7169VLv3r2Vk5OjU6dO6dChQ%2BrUqZMcDofHx9KlS92PXbdune666y45HA4NGjRIhYWF7jmXy6W5c%2BcqJSVFXbt21ejRo/XNN994IyIAAPBRPluwMjMzFRUVpY8%2B%2BkirV69WWVmZ/vCHP7jni4qKPD4eeeQRSVJxcbEmT56s8ePHa/v27Ro1apSysrJ09OhRSdJbb72lgoICLV26VIWFhWrTpo2ysrJkWdfOX0QAAIBrm08WrMrKSiUmJmrSpEkKDw9XXFychg4dqu3bt1/xsQUFBUpNTdXAgQPVpEkTpaenKz4%2BXqtXr5YkrVy5UmPGjFHnzp0VERGhyZMna//%2B/dq5c2dDxwIAAH7CJwtW8%2BbNlZubq9jYWPfYkSNHFBMT4/73U089pd69e6tv376aM2eOqqurJUmlpaVKSEjw2F%2BXLl1UXFysCxcuqKysTImJie65iIgItW3bVsXFxQ2cCgAA%2BAu/uNFoUVGRVqxYoQULFigsLEy33nqr%2Bvfvr%2Beff1779u3Tk08%2BqdDQUGVnZ8vpdCoqKsrj8ZGRkdq3b58qKipkWZYiIyPrzJ88ebLe6zl27JjKy8s9xkJDmykuLu6nh7wKISHBHp/9WSBllQIrL1n9VyDlJWvg8vmC9cUXXygzM1MTJ07U7bffLkl655133PNJSUkaO3asXn/9dWVnZyso6NI3QPux8frOf19%2Bfr4WLlzoMZaVlaVx48bVex8mtGjR1NbjeVMgZZUCKy9Z/Vcg5SVr4PHpgrV161Y99dRTevbZZ3Xffff96HY33XSTTp48KcuyFB0dLafT6THvdDoVExOj6OhoBQcHq6Kios789y9HXklGRobS0tI8xkJDm8nprKr3Pn6OkJBgtWjRVKdPn1NtrcuWY3pLIGWVAisvWf1XIOUlq/dFR4d75bg%2BW7B27NihKVOmaP78%2BUpJSXGPb9u2TUVFRRo7dqx77MCBA2rdurWCgoLkcDhUUlLisa%2BioiLdc889CgsLU3x8vEpKStSzZ09JUkVFhQ4ePCiHw1HvtcXFxdW5HFheXqmaGnu/4WprXbYf01sCKasUWHnJ6r8CKS9ZA49PXiitqanRtGnTlJOT41GuJCkqKkoLFizQ%2BvXrVVNTo127dmnp0qUaMWKEJCk9PV2FhYVav369zp8/rxUrVujgwYMaMmSIJGn48OFasmSJ9uzZo8rKSs2ePVuJiYlKSkqyPScAAPBNQZYP3uDp888/14gRIxQWFlZnbsOGDSotLdWCBQt08OBBxcXFKSMjQw899JCCg//VJzdu3Ki8vDwdOXJEHTt21LRp09SjRw/3PhYsWKC3335bVVVVSk5O1vPPP68bbrjhZ625vLzyZz3%2BaoSGBis6OlxOZ5Xf/xYRSFmlwMpLVv8VSHnJ6n3XXdfcK8f1yYLlixqqYA2YV3jlja4RH2SnXHmjq3St/kA3lEDKS1b/FUh5yep93ipYPnmJEAAA4FpGwQIAADCMggUAAGAYBQsAAMAwChYAAIBhFCwAAADDKFgAAACGUbAAAAAMo2ABAAAYRsECAAAwjIIFAABgGAULAADAMAoWAACAYRQsAAAAwyhYAAAAhlGwAAAADKNgAQAAGEbBAgAAMIyCBQAAYBgFCwAAwDAKFgAAgGEULAAAAMMoWAAAAIZRsAAAAAyjYAEAABhGwQIAADCMggUAAGAYBQsAAMAwChYAAIBhFCwAAADDKFgAAACGUbAAAAAMo2ABAAAYRsECAAAwjIIFAABgGAULAADAMAoWAACAYRQsAAAAwyhYAAAAhlGwAAAADKNgAQAAGEbBAgAAMIyCBQAAYBgFCwAAwDAKFgAAgGEULAAAAMMoWAAAAIZRsAAAAAyjYAEAABhGwQIAADCMggUAAGCYzxasQ4cOKTMzU7169VLv3r2Vk5OjU6dOSZJ2796tYcOGKSkpSampqVq2bJnHY9etW6e77rpLDodDgwYNUmFhoXvO5XJp7ty5SklJUdeuXTV69Gh98803tmYDAAC%2BzWcLVmZmpqKiovTRRx9p9erVKisr0x/%2B8AedO3dOjz76qLp3765t27Zp/vz5eu2117Rx40ZJUnFxsSZPnqzx48dr%2B/btGjVqlLKysnT06FFJ0ltvvaWCggItXbpUhYWFatOmjbKysmRZljfjAgAAH%2BKTBauyslKJiYmaNGmSwsPDFRcXp6FDh2r79u36%2BOOPVV1drYkTJyo8PFzdunVTRkaG8vPzJUkFBQVKTU3VwIED1aRJE6Wnpys%2BPl6rV6%2BWJK1cuVJjxoxR586dFRERocmTJ2v//v3auXOnNyMDAAAf4pMFq3nz5srNzVVsbKx77MiRI4qJiVFpaak6d%2B6skJAQ91yXLl1UXFwsSSotLVVCQoLH/r6bv3DhgsrKypSYmOiei4iIUNu2bd2PBwAAuJJQby/AhKKiIq1YsUILFizQpk2bFBkZ6TEfFRWliooKuVwuOZ1ORUVFecxHRkZq3759qqiokGVZdR4fGRmpkydP1ns9x44dU3l5ucdYaGgzxcXFXWUy/xIaar7Ph4QEe3z2d4GUl6z%2BK5DykjVw%2BXzB%2BuKLL5SZmamJEyfq9ttv1%2BbNmy%2B7fVBQ0FWN13f%2B%2B/Lz87Vw4UKPsaysLI0bN67e%2B/BH0dHhDbbvFi2aNti%2Br0WBlJes/iuQ8pI18Ph0wdq6daueeuopPfvss7rvvvskSTExMfr66689tnM6nYqOjlZwcLCio6PldDrrzMfExLi3qaioqDP//cuRV5KRkaG0tDSPsdDQZnI6q64mnt9piPwhIcFq0aKpTp8%2Bp9pal/H9X2sCKS9Z/Vcg5SWr9zXkL/eX47MFa8eOHZoyZYrmz5%2BvlJQU97jD4dA777yjmpoahYb%2BK96uXbuUlJTkni8pKfHYV1FRke655x6FhYUpPj5eJSUl6tmzpySpoqJCBw8elMPhqPfa4uLi6lwOLC%2BvVE3NtfMN5w0Nmb%2B21hVQX99AyktW/xVIeckaeHzyQmlNTY2mTZumnJwcj3IlSampqQoPD1deXp6qqqr097//Xe%2B%2B%2B65GjBghSUpPT1dhYaHWr1%2Bv8%2BfPa8WKFTp48KCGDBkiSRo%2BfLiWLFmiPXv2qLKyUrNnz1ZiYqK7oAEAAFyJT57B2rlzp8rKyjRz5kzNnDnTY27Dhg1atGiRnn32WfXu3VuxsbHKycnR7bffLkmKj4/XnDlzlJeXp8mTJ6tjx45atGiRWrZsKUkaNmyYysvL9fDDD6uqqkrJycmaP3%2B%2B7RkBAIDvCrK4g6YtyssrG2S/A%2BYVXnmja8QH2SlX3ugqhYYGKzo6XE5nVUCckg6kvGT1X4GUl6zed911zb1yXJ%2B8RAgAAHAto2ABAAAYRsECAAAwjIIFAABgGAULAADAMAoWAACAYRQsAAAAwyhYAAAAhlGwAAAADKNgAQAAGEbBAgAAMIyCBQAAYBgFCwAAwDAKFgAAgGEULAAAAMMoWAAAAIZRsAAAAAyjYAEAABhGwQIAADCMggUAAGAYBQsAAMAwChYAAIBhFCwAAADDKFgAAACGUbAAAAAMo2ABAAAYRsECAAAwjIIFAABgGAULAADAMAoWAACAYRQsAAAAwyhYAAAAhlGwAAAADKNgAQAAGEbBAgAAMIyCBQAAYBgFCwAAwDAKFgAAgGEULAAAAMMoWAAAAIZRsAAAAAyjYAEAABhGwQIAADCMggUAAGAYBQsAAMAwChYAAIBhFCwAAADDKFgAAACG2V6wzpw5Y/chAQAAbGV7wbrttts0depU7dixw%2B5DAwAA2ML2gvXcc8%2BpvLxcI0eO1MCBA7Vs2TKdPHnS7mUAAAA0GNsL1pAhQ7RkyRJ9%2BumnGj58uD788EP17dtX2dnZKiwsvKp9ffbZZ%2BrTp48mTJjgMf6Xv/xFnTt3lsPh8PjYtWuXJMnlcmnu3LlKSUlR165dNXr0aH3zzTfuxzudTk2YMEHdu3dXz5499cwzz%2Bj8%2BfM/PzwAAAgIXnuRe0xMjP793/9d77zzjnJzc1VYWKgxY8bo7rvv1gcffHDFx7/xxhuaPXu22rVrd8n5nj17qqioyOMjKSlJkvTWW2%2BpoKBAS5cuVWFhodq0aaOsrCxZliVJevrpp3XixAlt3LhRa9eu1e7duzVnzhxz4QEAgF/zWsE6ceKE3njjDQ0YMEA5OTnq3r27Fi5cqNGjR2vmzJlavHjxZR/fuHFjrVq16kcL1uWsXLlSY8aMUefOnRUREaHJkydr//792rlzp44fP66PPvpIU6dOVcuWLXX99dcrOztbBQUFunjx4k%2BNCwAAAkio3Qf89NNPtWrVKm3dulXR0dG6//779eCDD6pVq1bubbp06aJHH31UY8eO/dH9jBw58rLH%2Bec//6lRo0appKREcXFxeuyxx3TffffpwoULKisrU2JionvbiIgItW3bVsXFxTpz5oxCQ0PVqVMn93xCQoLOnj2rAwcOeIwDAABciu0F67HHHlOfPn00d%2B5cpaWlKSQkpM42SUlJiouL%2B8nHiImJUfv27TV%2B/Hj98pe/1ObNm5WTk6O4uDjdfPPNsixLkZGRHo%2BJjIzUyZMnFRkZqYiICAUHB3vMSar3i/GPHTum8vJyj7HQ0GY/K5M/CA01f8I0JCTY47O/C6S8ZPVfgZSXrIHL9oK1ceNGtWnTRhcvXnSXq6qqKoWHh3tst2bNmp98jL59%2B6pv377ufw8aNEibNm3SqlWrlJOT86OPCwoKUlBQ0GXn6yM/P18LFy70GMvKytK4cePq9Xh/FR0dfuWNfqIWLZo22L6vRYGUl6z%2BK5DykjXw2F6wgoKCNHjwYGVlZenuu%2B%2BW9K9CUlBQoNdff11t2rRpkOPedNNNKi4uVnR0tIKDg1VRUeEx73Q6FRsbq5iYGFVWVqq2ttZdAJ1OpyQpNja2XsfKyMhQWlqax1hoaDM5nVUGkviuhsgfEhKsFi2a6vTpc6qtdRnf/7UmkPKS1X8FUl6yel9D/nJ/ObYXrBdeeEE333yzunfv7h6799579Y9//EMvvPCCXn/99Z99jHfeeUfR0dG666673GMHDhxQmzZtFBYWpvj4eJWUlKhnz56SpIqKCh08eFAOh0Nt2rSRy%2BXS3r171aVLF0nSrl271Lx5c7Vv375ex4%2BLi6tzObC8vFI1NdfON5w3NGT%2B2lpXQH19AykvWf1XIOUla%2BCx/ULpF198odzcXI8C0rJlS02fPt3Y3d1ramo0a9Ys7d69W9XV1Vq7dq37vluSNHz4cC1ZskR79uxRZWWlZs%2BercTERCUlJSk6OloDBgxQbm6ujh8/rsOHD2vu3LnKyMhQo0aNjKwPAAD4N9vPYFmWpZqamjrj586dk8tV/8brcDgkyb2vzZs3S5KKioo0YsQInT59WllZWXI6nerQoYNeffVVJSQkSJKGDRum8vJyPfzww6qqqlJycrLmz5/v3vfMmTM1Y8YM9e/fX40aNdLgwYM1fvz4n5wZAAAEliDru7tr2iQ7O1vnz5/XuHHjdNNNN8nlcqmsrEzz5s1TbGys5s2bZ%2BdybFNeXtkg%2Bx0w7%2Brufu9NH2SnGN9naGiwoqPD5XRWBcQp6UDKS1b/FUh5yep9113X3CvHtf0M1vTp0zVp0iQNHTrU46/ykpOTNW3aNLuXAwAAYJztBSs2NlbLli1TWVmZvvrqK0lS%2B/bt1bFjR7uXAgAA0CBsL1jf6dixo8ctGb57G5qwsDBvLQkAAMAI2wvWzp07NWPGDP3f//2famtr68zv3r3b7iUBAAAYZXvBmjFjhmJjY5WRkaEmTZrYfXgAAIAGZ3vB%2Buqrr5Sfn6/GjRvbfWgAAABb2H6j0VatWqm6utruwwIAANjG9oI1adIk5ebm6syZM3YfGgAAwBa2XyJcuHChDh06pPfee0/R0dEe98KSpP/5n/%2Bxe0kAAABG2V6wUlNTFRrqtbtDAAAANDjbm052drbdhwQAALCV7a/BkqQvv/xSU6dO1ahRoyRJLpdLH3zwgTeWAgAAYJztBWvLli36t3/7NzmdTu3YsUOSdPToUU2fPl0rV660ezkAAADG2V6wXn/9db388st6/fXX3S9wb9Wqlf74xz9q%2BfLldi8HAADAONsL1oEDB3TnnXdKksdfEPbu3VuHDx%2B2ezkAAADG2V6wGjVqpFOnTtUZ/%2Bqrr3jrHAAA4BdsL1h9%2B/bVM888o7KyMkmS0%2BnUZ599puzsbPXr18/u5QAAABhne8GaOnWqLMvSPffcowsXLqhPnz569NFHdeONN2rKlCl2LwcAAMA42%2B%2BD1aJFCy1atEhlZWX66quvFBQUpA4dOqhDhw52LwUAAKBBeO2W6h07dlTHjh29dXgAAIAGY3vB%2Bs1vfvOjc7W1tdq2bZuNqwEAADDP9oKVkZHhcXsGl8ulQ4cOqbCwUI899pjdywEAADDO9oL15JNPXnJ8165d%2Bq//%2Bi%2BbVwMAAGCeV96L8FKSkpJUVFTk7WUAAAD8bNdMwfr6668veQNSAAAAX2P7JcJhw4bVGbt48aL279%2BvO%2B64w%2B7lAAAAGGd7wWrfvr3Hi9wlqXHjxrr//vt1//33270cAAAA42wvWC%2B99JLdhwQAALCV7QVr5cqVatSoUb22HTJkSAOvBgAAwDzbC9aLL76o8%2BfPy7Isj/GgoCCPsaCgIAoWAADwSbYXrNdee01//vOflZmZqY4dO6q2tlb79u3T4sWLNXLkSPXu3dvuJQEAABjllTNYS5cuVVxcnHvs1ltv1XPPPaeHH35Y69evt3tJAAAARtl%2BH6xDhw6pRYsWdcYjIyN15MgRu5cDAABgnO0Fq0OHDsrNzZXT6XSPnTp1Snl5eerQoYPdywEAADDO9kuE06ZNU2Zmpt59912Fh4dLkqqqqhQeHq5XX33V7uUAAAAYZ3vB6t69uz7%2B%2BGN98sknOnr0qCzL0vXXX6/U1FRFRETYvRwAAADjbC9YktS0aVP1799fR44cUZs2bbyxBAAAgAZj%2B2uwzp8/r%2Beee05du3bVgAEDJEmnT5/W2LFjVVlZafdyAAAAjLO9YM2fP187d%2B7UnDlzFBz8/x%2B%2Burpav//97%2B1eDgAAgHG2F6zNmzdr3rx5uvvuu91v%2BtyiRQvl5ubqo48%2Bsns5AAAAxtlesI4dO6b27dvXGY%2BNjdWZM2fsXg4AAIBxthesG264QTt27Kgz/uGHH%2BrGG2%2B0ezkAAADG2f5XhKNHj9Zvf/tbPfDAA6qtrdWf/vQnFRcXa%2BPGjXrmmWfsXg4AAIBxthesYcOGKSoqSsuWLVOzZs20aNEidejQQXPmzNHdd99t93IAAACMs71gnThxQnfffTdlCgAA%2BC1bX4PlcrnUr18/WZZl52EBAABsZWvBCg4OVp8%2BfbRhwwY7DwsAAGAr2y8RtmrVSi%2B88IIWLVqktm3bqlGjRh7zeXl5di8JAADAKNsL1r59%2B9ShQwdJktPptPvwAAAADc62gjVhwgTNnTtXK1ascI%2B9%2BuqrysrKsmsJAAAAtrDtNVhbt26tM7Z48WK7Dg8AAGAb2wrWpf5y8Of%2BNeFnn32mPn36aMKECXXm1q1bp7vuuksOh0ODBg1SYWGhe87lcmnu3LlKSUlR165dNXr0aH3zzTfueafTqQkTJqh79%2B7q2bOnnnnmGZ0/f/5nrRUAAAQO2wrWd2/sfKWx%2BnrjjTc0e/ZstWvXrs5ccXGxJk%2BerPHjx2v79u0aNWqUsrKydPToUUnSW2%2B9pYKCAi1dulSFhYVq06aNsrKy3IXv6aef1okTJ7Rx40atXbtWu3fv1pw5c37yWgEAQGCx/b0ITWncuLFWrVp1yYJVUFCg1NRUDRw4UE2aNFF6erri4%2BO1evVqSdLKlSs1ZswYde7cWREREZo8ebL279%2BvnTt36vjx4/roo480depUtWzZUtdff72ys7NVUFCgixcv2h0TAAD4IJ8tWCNHjlTz5s0vOVdaWqqEhASPsS5duqi4uFgXLlxQWVmZEhMT3XMRERFq27atiouLtXv3boWGhqpTp07u%2BYSEBJ09e1YHDhxomDAAAMCv2PZXhNXV1Zo4ceIVx0zcB8vpdCoqKspjLDIyUvv27VNFRYUsy1JkZGSd%2BZMnTyoyMlIREREKDg72mJOkkydP1uv4x44dU3l5ucdYaGgzxcXF/ZQ4fiM01HyfDwkJ9vjs7wIpL1n9VyDlJWvgsq1g/epXv9KxY8euOGbCj72260qv%2BQoKCrrsNvV9zVh%2Bfr4WLlzoMZaVlaVx48bV6/H%2BKjo6vMH23aJF0wbb97UokPKS1X8FUl6yBh7bCtb373/V0KKjo%2BvcxNTpdComJkbR0dEKDg5WRUVFnfnY2FjFxMSosrJStbW1CgkJcc9JUmxsbL2On5GRobS0NI%2Bx0NBmcjqrfmokv9AQ%2BUNCgtWiRVOdPn1OtbUu4/u/1gRSXrL6r0DKS1bva8hf7i/H9ju528HhcKikpMRjrKioSPfcc4/CwsIUHx%2BvkpIS9ezZU5JUUVGhgwcPyuFwqE2bNnK5XNq7d6%2B6dOkiSdq1a5eaN2%2Bu9u3b1%2Bv4cXFxdS4HlpdXqqbm2vmG84aGzF9b6wqor28g5SWr/wqkvGQNPH55oTQ9PV2FhYVav369zp8/rxUrVujgwYMaMmSIJGn48OFasmSJ9uzZo8rKSs2ePVuJiYlKSkpSdHS0BgwYoNzcXB0/flyHDx/W3LlzlZGRUed9EwEAAC7FZ89gORwOSVJNTY0kafPmzZL%2BdaYqPj5ec%2BbMUV5eniZPnqyOHTtq0aJFatmypSRp2LBhKi8v18MPP6yqqiolJydr/vz57n3PnDlTM2bMUP/%2B/dWoUSMNHjxY48ePtzkhAADwVUHWz72dOuqlvLyyQfY7YF7hlTe6RnyQnWJ8n6GhwYqODpfTWRUQp6QDKS9Z/Vcg5SWr91133aVv6dTQ/PISIQAAgDdRsAAAAAyjYAEAABhGwQIAADCMggUAAGAYBQsAAMAwChYAAIBhFCwAAADDKFgAAACG%2Bexb5QDwXb70DgRSw7wLAQD/xhksAAAAwyhYAAAAhlGwAAAADKNgAQAAGEbBAgAAMIyCBQAAYBgFCwAAwDAKFgAAgGEULAAAAMMoWAAAAIZRsAAAAAyjYAEAABhGwQIAADCMggUAAGAYBQsAAMAwChYAAIBhFCwAAADDKFgAAACGUbAAAAAMo2ABAAAYRsECAAAwjIIFAABgGAULAADAMAoWAACAYRQsAAAAwyhYAAAAhlGwAAAADKNgAQAAGEbBAgAAMIyCBQAAYBgFCwAAwDAKFgAAgGEULAAAAMMoWAAAAIZRsAAAAAyjYAEAABhGwQIAADCMggUAAGAYBQsAAMAwChYAAIBhFCwAAADD/LZgderUSYmJiXI4HO6PWbNmSZK2bdume%2B%2B9Vw6HQ/3799f777/v8dg333xT/fr1U1JSktLT01VSUuKNCAAAwEeFensBDWnDhg266aabPMa%2B/fZbZWZm6ne/%2B53S09O1bds2ZWdnq3379kpKStKmTZs0b948/cd//Ie6du2qpUuX6rHHHtPGjRvVrFkzLyUBAAC%2BxG/PYP2YNWvWqF27dho5cqSaNm2qtLQ03XHHHVq1apUkaeXKlXrggQf061//Wk2bNlVWVpYkaevWrd5cNgAA8CF%2BfQYrLy9P27dvlyT169dPU6ZMUWlpqRISEjy269Kliz744ANJUmlpqQYOHOieCwoK0i233KLi4mINGjTIvsUDV2nAvEJvLwEA8P/4bcHq1q2bevfurVmzZunbb79Vdna2ZsyYIafTqc6dO3tsGxUVpZMnT0qSnE6noqKiPOYjIyPd8/Vx7NgxlZeXe4yFhjZTXFzcT0zjH0JDzZ8wDQkJ9vjs7wIt77WiIb53vy/QntdAykvWwOW3BSs/P9/9vyMiIjRp0iQ9/vjj6tGjxyW3DwoK8vj8Y/P1PfbChQs9xrKysjRu3Lh678MfRUeHN9i%2BW7Ro2mD7vhYFWl5va8jv3e8LtOc1kPKSNfD4bcH6oZtuukkul0vBwcGqqKjwmHM6nYqJiZEkRUdHX3I%2BPj6%2B3sfKyMhQWlqax1hoaDM5nVU/cfX%2BoSHyh4QEq0WLpjp9%2Bpxqa13G93%2BtCbS814qG/tkNtOc1kPKS1fvs%2BgXph/yyYO3evVtr1qxRTk6Oe%2BzAgQMKCwtT37599d5773lsv2vXLiUlJUmSHA6HiouLNWTIEElSbW2tSktL9cADD9T7%2BHFxcXUuB5aXV6qm5tr5hvOGhsxfW%2BsKqK9voOX1Nru%2B1oH2vAZSXrIGHr%2B8UBobG6u3335by5cvV3V1tQ4cOKB58%2BZp%2BPDhuvfee3UkWwtIAAAPAUlEQVT48GEtX75c586d04YNG/Tpp58qIyNDkjRs2DAVFBTob3/7m86ePatXXnlFTZo0qXNGCgAA4Mf45RmsuLg4LV68WHPmzNEf//hHRUdHa%2BDAgRo3bpzCwsK0aNEizZo1S3l5eWrVqpXy8vLcL3xPTU1VTk6Opk6dqhMnTigxMVGLFy9W48aNvZwKAAD4Cr8sWJLUs2dPjxe6f1%2BPHj20evXqH33s8OHDNXz48IZaGgAA8HN%2BeYkQAADAmyhYAAAAhlGwAAAADKNgAQAAGEbBAgAAMIyCBQAAYBgFCwAAwDAKFgAAgGEULAAAAMMoWAAAAIZRsAAAAAyjYAEAABhGwQIAADCMggUAAGAYBQsAAMAwChYAAIBhFCwAAADDKFgAAACGUbAAAAAMo2ABAAAYRsECAAAwjIIFAABgGAULAADAMAoWAACAYRQsAAAAwyhYAAAAhlGwAAAADKNgAQAAGEbBAgAAMIyCBQAAYBgFCwAAwDAKFgAAgGEULAAAAMMoWAAAAIZRsAAAAAyjYAEAABhGwQIAADCMggUAAGAYBQsAAMAwChYAAIBhFCwAAADDKFgAAACGUbAAAAAMo2ABAAAYRsECAAAwjIIFAABgGAULAADAMAoWAACAYaHeXgACx4B5hd5ewlX5IDvF20sAAPgozmABAAAYxhksAADqydfOxPsSf7tqwBksAAAAwyhYl3Do0CE98sgj6tatm3r37q2XX35ZLpfL28sCAAA%2BgkuEP2BZlp544gn94he/0CeffKLjx4/r0UcfVcuWLfXQQw95e3kAAMAHULB%2BoKioSHv37tXy5csVGRmpyMhIPfroo1q%2BfDkFK8DwWgsAwE9FwfqB0tJStW7dWlFRUe6xhIQEffXVVzpz5owiIiKuuI9jx46pvLzcYyw0tJni4uKMrxdAwwsNbdhXU4SEBHt89nffz9t/zmdeXg2uFQ39c2Y3CtYPOJ1ORUZGeox992%2Bn01mvgpWfn6%2BFCxd6jD3xxBN68sknzS30//n8hbvrjB07dkz5%2BfnKyMjw%2B1IXSFmlwMobaFnffHNJQGSVPPNe6r9h/iTQvo8DJWt9%2BFddNCAoKOhn7yMjI0N/%2BctfPD4yMjIMrK5%2BysvLtXDhwjpn0fxRIGWVAisvWf1XIOUla%2BDiDNYPxMTEqKKiwmPM6XS65%2BojLi6O9g4AQADjDNYPOBwOHTlyxF2qJGnXrl36xS9%2BofDwcC%2BuDAAA%2BAoK1g/ccsstSkpK0uzZs3X69Gnt3btXixcv1ogRI7y9NAAA4CNCZsyYMcPbi7jW3Hbbbfrwww81a9YsrV%2B/XsOHD9cjjzzi7WVdlfDwcPXq1SsgzroFUlYpsPKS1X8FUl6yBqYgy7Isby8CAADAn3CJEAAAwDAKFgAAgGEULAAAAMMoWAAAAIZRsAAAAAyjYAEAABhGwQIAADCMggUAAGAYBQsAAMAwCpaPO3TokDIzM9WrVy/17t1bOTk5OnXqlCRp9%2B7dGjZsmJKSkpSamqply5Z5ebXmvPjii%2BrUqZP739u2bdO9994rh8Oh/v376/333/fi6sx57bXX9Jvf/Ea33nqrRo8erW%2B%2B%2BUaS/%2BUtKSnRyJEj1aNHD/Xp00c5OTnuN1z3h6yfffaZ%2BvTpowkTJtSZW7dune666y45HA4NGjRIhYWF7jmXy6W5c%2BcqJSVFXbt29fgeuFZdLuuGDRs0ePBg3XrrrbrzzjuVn5/vMf/mm2%2BqX79%2BSkpKUnp6ukpKSuxa9k92ubzfqaqqUt%2B%2BfTVlyhT3mL89t99%2B%2B60ef/xxdevWTSkpKcrLy5PL5ZLkm1mNsODTBg0aZE2ZMsU6c%2BaM9e2331pDhw61nn76aevs2bNWSkqK9fvf/946c%2BaM9b//%2B79Wjx49rA8//NDbS/7ZSktLrV69elnx8fGWZVnW0aNHra5du1pvvvmmdfbsWWvLli2Ww%2BGwvvzySy%2Bv9Of5z//8T%2Bv%2B%2B%2B%2B3Dh06ZFVUVFhTpkyxZs6c6Xd5a2pqrD59%2BlivvPKKdeHCBcvpdFoPPfSQNW7cOL/IunjxYuvOO%2B%2B0hg0bZmVnZ3vMFRUVWQkJCda6deusc%2BfOWe%2B%2B%2B67VtWtX65///KdlWZa1bNkyKyUlxdq9e7dVWVlpTZs2zRo8eLDlcrm8EeWKLpf1yy%2B/tBwOh7VlyxarpqbG%2BvTTT62EhARr%2B/btlmVZ1saNG61u3bpZ27Zts86ePWstWLDASklJsaqqqrwRpV4ul/f7cnNzre7du1uTJ092j/nTc%2Btyuaz09HRrwYIFVlVVlbV7925r8ODB1l//%2BlfLsnwvqymcwfJhlZWVSkxM1KRJkxQeHq64uDgNHTpU27dv18cff6zq6mpNnDhR4eHh6tatmzIyMur8xuhrXC6XnnvuOY0ePdo9tmbNGrVr104jR45U06ZNlZaWpjvuuEOrVq3y3kINWLp0qaZPn67WrVsrMjJSubm5evbZZ/0ub3l5uY4fP67BgwcrLCxMUVFRuuOOO1RaWuoXWRs3bqxVq1apXbt2deYKCgqUmpqqgQMHqkmTJkpPT1d8fLxWr14tSVq5cqXGjBmjzp07KyIiQpMnT9b%2B/fu1c%2BdOu2PUy%2BWyVlRU6PHHH1daWppCQkJ02223qVOnTtq%2Bfbukf2V94IEH9Otf/1pNmzZVVlaWJGnr1q22Zrgal8v7nT179mjt2rUaOnSox7g/Pbeff/65zpw5oyeeeELNmjVT586d9f7776t3796SfC%2BrKRQsH9a8eXPl5uYqNjbWPXbkyBHFxMSotLRUnTt3VkhIiHuuS5cuKi4u9sZSjXnnnXfUpEkTDR482D1WWlqqhIQEj%2B18Peu3336ro0eP6uuvv9add96p5ORkZWdny%2Bl0%2Bl3e66%2B/Xl26dNG7776rc%2BfO6eTJk9q0aZP69u3rF1lHjhyp5s2bX3LucvkuXLigsrIyJSYmuuciIiLUtm3bazb/5bKmpqbqt7/9rfvfNTU1OnbsmPu/Xz/8WgQFBemWW265ZrNKl88rSZZlacaMGZo0aZJatGjhHve35/bzzz/XLbfcounTp6tnz57q37%2B/3nzzTUm%2BmdUUCpYfKSoq0ooVK5SZmSmn06nIyEiP%2BaioKFVUVLivi/ua48eP69VXX9WMGTM8xn8s68mTJ21cnVlHjx5VUFCQNm/erPz8fP33f/%2B3Dh8%2BrOnTp/td3qCgIM2fP19btmxRt27d1Lt3b7lcLv3ud7/zu6w/5HQ6FRUV5TEWGRmpkydPqqKiQpZl1cn/3byvmzNnjsLCwjRo0CBJl/9a%2BKr8/Hw1atRIQ4YM8Rj3t%2Bf26NGj2rJli371q1/ps88%2B07Rp0/Tyyy9ry5Ytfpf1alCw/MQXX3yhRx55RBMnTtTtt9%2BuoKAgby/JuNzcXD344IO6%2BeabPcZ/LKsvfw2qq6tVXV2tp556StHR0brxxhs1btw4bd682e/yXrx4UY899pgGDhyoHTt2qLCwUBEREXrqqaf8LusP/dR8vpzfsiy9/PLLWrt2rRYvXqxmzZpJ8r%2Bf4xMnTmjBggV1fiG8El/MW1NTo4SEBA0ZMkRNmjTR7bffrjvvvFPr1q277ON8MevVoGD5ga1bt2rs2LF65plnNGrUKElSTEyMKioqPLZzOp2Kjo5WcLDvPe3btm1TcXGxHn/88Tpz0dHRl8waExNj1/KM%2B%2B43%2BYiICPdY69atZVmWqqur/SrvX//6Vx06dEjZ2dkKDw9Xy5Yt9eSTT2rTpk0KDQ31q6w/FB0d7f5rye98l%2B%2B7n9VL5f/%2BywJ8icvl0pQpU7R161bl5%2BerY8eO7jl/%2Bzl%2B6aWX9OCDD3pk/I6/PbeRkZF1Lh%2B2bt1ax48f97usV8P3/p8WHnbs2KEpU6Zo/vz5uu%2B%2B%2B9zjDodDe/fuVU1NjXts165dSkpK8sYyf7b3339fR48eVWpqqpKTk90vGE1OTlanTp3q/Dm3L2eVpHbt2ikiIsIj1%2BHDhxUaGqq%2Bffv6VV7Lsupctq6urpYk9e7d26%2By/pDD4aiTr6ioSElJSQoLC1N8fLzHfEVFhQ4ePCiHw2H3Uo148cUXVVZWprffflutW7f2mHM4HB6vyamtrVVpaanPPtfvv/%2B%2B/vznPys5OVnJyclasmSJ1q1bp%2BTkZL97bhMTE7Vnzx7V1ta6xw4fPqzWrVv7XdarQcHyYTU1NZo2bZpycnKUkpLiMZeamqrw8HDl5eWpqqpKf//73/Xuu%2B9qxIgRXlrtzzNlyhR9%2BOGHWr16tVavXq3FixdLklavXq1Bgwbp8OHDWr58uc6dO6cNGzbo008/VUZGhpdX/dM1atRI6enpmjNnjo4ePary8nK9%2Buqruu%2B%2B%2BzRkyBC/ytutWzeFh4drwYIFOn/%2BvE6dOqU33nhDt956q%2B69916/yvpD6enpKiws1Pr163X%2B/HmtWLFCBw8edL9mZ/jw4VqyZIn27NmjyspKzZ49W4mJiT5ZOr744gutWbNGixYtqvNaK0kaNmyYCgoK9Le//U1nz57VK6%2B8oiZNmigtLc0Lq/35PvnkE61Zs8b936xhw4YpLS3N/Rei/vTc9uvXT5Zlaf78%2BTp//rwKCwu1adMm3X///ZL8K%2BvVCLIsy/L2IvDTfP755xoxYoTCwsLqzG3YsEFnz57Vs88%2Bq5KSEsXGxmrs2LEaPny4F1Zq3qFDh3THHXdo7969kv71tZg1a5b279%2BvVq1aadKkSerfv7%2BXV/nzXLx4US%2B99JLWrl2r4OBgpaWl6emnn1ZERITf5d21a5defvll7d69W40aNVKvXr00depU3XDDDT6f9bvf0r87mxwaGirpX2eqJGnjxo3Ky8vTkSNH1LFjR02bNk09evRwP37BggV6%2B%2B23VVVVpeTkZD3//PO64YYbbE5RP5fL%2BvTTT%2Bu9995zj32nZ8%2Be%2BtOf/iRJevvtt7V48WKdOHFCiYmJmjlzpn75y1/amODqXOm5/b4FCxbo8OHDeumllzzG/OG5laR//OMfmjFjhkpKSnTDDTcoMzPT48X9vpTVFAoWAACAYVwiBAAAMIyCBQAAYBgFCwAAwDAKFgAAgGEULAAAAMMoWAAAAIZRsAAAAAyjYAEAABhGwQIAADCMggUAAGAYBQsAAMAwChYAAIBhFCwAAADD/j%2BAX/uFO/D/HwAAAABJRU5ErkJggg%3D%3D\"/>\n",
       "        </div>\n",
       "        <div role=\"tabpanel\" class=\"tab-pane col-md-12\" id=\"common8163342023507740981\">\n",
       "            \n",
       "<table class=\"freq table table-hover\">\n",
       "    <thead>\n",
       "    <tr>\n",
       "        <td class=\"fillremaining\">Value</td>\n",
       "        <td class=\"number\">Count</td>\n",
       "        <td class=\"number\">Frequency (%)</td>\n",
       "        <td style=\"min-width:200px\">&nbsp;</td>\n",
       "    </tr>\n",
       "    </thead>\n",
       "    <tr class=\"\">\n",
       "        <td class=\"fillremaining\">85.2111744443</td>\n",
       "        <td class=\"number\">1</td>\n",
       "        <td class=\"number\">0.0%</td>\n",
       "        <td>\n",
       "            <div class=\"bar\" style=\"width:1%\">&nbsp;</div>\n",
       "        </td>\n",
       "</tr><tr class=\"\">\n",
       "        <td class=\"fillremaining\">20.4716730274</td>\n",
       "        <td class=\"number\">1</td>\n",
       "        <td class=\"number\">0.0%</td>\n",
       "        <td>\n",
       "            <div class=\"bar\" style=\"width:1%\">&nbsp;</div>\n",
       "        </td>\n",
       "</tr><tr class=\"\">\n",
       "        <td class=\"fillremaining\">18.5298706574</td>\n",
       "        <td class=\"number\">1</td>\n",
       "        <td class=\"number\">0.0%</td>\n",
       "        <td>\n",
       "            <div class=\"bar\" style=\"width:1%\">&nbsp;</div>\n",
       "        </td>\n",
       "</tr><tr class=\"\">\n",
       "        <td class=\"fillremaining\">19.3287169996</td>\n",
       "        <td class=\"number\">1</td>\n",
       "        <td class=\"number\">0.0%</td>\n",
       "        <td>\n",
       "            <div class=\"bar\" style=\"width:1%\">&nbsp;</div>\n",
       "        </td>\n",
       "</tr><tr class=\"\">\n",
       "        <td class=\"fillremaining\">87.012462005</td>\n",
       "        <td class=\"number\">1</td>\n",
       "        <td class=\"number\">0.0%</td>\n",
       "        <td>\n",
       "            <div class=\"bar\" style=\"width:1%\">&nbsp;</div>\n",
       "        </td>\n",
       "</tr><tr class=\"\">\n",
       "        <td class=\"fillremaining\">19.3435930805</td>\n",
       "        <td class=\"number\">1</td>\n",
       "        <td class=\"number\">0.0%</td>\n",
       "        <td>\n",
       "            <div class=\"bar\" style=\"width:1%\">&nbsp;</div>\n",
       "        </td>\n",
       "</tr><tr class=\"\">\n",
       "        <td class=\"fillremaining\">85.5603477792</td>\n",
       "        <td class=\"number\">1</td>\n",
       "        <td class=\"number\">0.0%</td>\n",
       "        <td>\n",
       "            <div class=\"bar\" style=\"width:1%\">&nbsp;</div>\n",
       "        </td>\n",
       "</tr><tr class=\"\">\n",
       "        <td class=\"fillremaining\">19.9174091569</td>\n",
       "        <td class=\"number\">1</td>\n",
       "        <td class=\"number\">0.0%</td>\n",
       "        <td>\n",
       "            <div class=\"bar\" style=\"width:1%\">&nbsp;</div>\n",
       "        </td>\n",
       "</tr><tr class=\"\">\n",
       "        <td class=\"fillremaining\">18.920217471</td>\n",
       "        <td class=\"number\">1</td>\n",
       "        <td class=\"number\">0.0%</td>\n",
       "        <td>\n",
       "            <div class=\"bar\" style=\"width:1%\">&nbsp;</div>\n",
       "        </td>\n",
       "</tr><tr class=\"\">\n",
       "        <td class=\"fillremaining\">75.4991025151</td>\n",
       "        <td class=\"number\">1</td>\n",
       "        <td class=\"number\">0.0%</td>\n",
       "        <td>\n",
       "            <div class=\"bar\" style=\"width:1%\">&nbsp;</div>\n",
       "        </td>\n",
       "</tr><tr class=\"other\">\n",
       "        <td class=\"fillremaining\">Other values (4022)</td>\n",
       "        <td class=\"number\">4022</td>\n",
       "        <td class=\"number\">0.0%</td>\n",
       "        <td>\n",
       "            <div class=\"bar\" style=\"width:100%\">&nbsp;</div>\n",
       "        </td>\n",
       "</tr>\n",
       "</table>\n",
       "        </div>\n",
       "        <div role=\"tabpanel\" class=\"tab-pane col-md-12\"  id=\"extreme8163342023507740981\">\n",
       "            <p class=\"h4\">Minimum 5 values</p>\n",
       "            \n",
       "<table class=\"freq table table-hover\">\n",
       "    <thead>\n",
       "    <tr>\n",
       "        <td class=\"fillremaining\">Value</td>\n",
       "        <td class=\"number\">Count</td>\n",
       "        <td class=\"number\">Frequency (%)</td>\n",
       "        <td style=\"min-width:200px\">&nbsp;</td>\n",
       "    </tr>\n",
       "    </thead>\n",
       "    <tr class=\"\">\n",
       "        <td class=\"fillremaining\">18.001009818</td>\n",
       "        <td class=\"number\">1</td>\n",
       "        <td class=\"number\">0.0%</td>\n",
       "        <td>\n",
       "            <div class=\"bar\" style=\"width:100%\">&nbsp;</div>\n",
       "        </td>\n",
       "</tr><tr class=\"\">\n",
       "        <td class=\"fillremaining\">18.0034147897</td>\n",
       "        <td class=\"number\">1</td>\n",
       "        <td class=\"number\">0.0%</td>\n",
       "        <td>\n",
       "            <div class=\"bar\" style=\"width:100%\">&nbsp;</div>\n",
       "        </td>\n",
       "</tr><tr class=\"\">\n",
       "        <td class=\"fillremaining\">18.0135359463</td>\n",
       "        <td class=\"number\">1</td>\n",
       "        <td class=\"number\">0.0%</td>\n",
       "        <td>\n",
       "            <div class=\"bar\" style=\"width:100%\">&nbsp;</div>\n",
       "        </td>\n",
       "</tr><tr class=\"\">\n",
       "        <td class=\"fillremaining\">18.0144169596</td>\n",
       "        <td class=\"number\">1</td>\n",
       "        <td class=\"number\">0.0%</td>\n",
       "        <td>\n",
       "            <div class=\"bar\" style=\"width:100%\">&nbsp;</div>\n",
       "        </td>\n",
       "</tr><tr class=\"\">\n",
       "        <td class=\"fillremaining\">18.0162423451</td>\n",
       "        <td class=\"number\">1</td>\n",
       "        <td class=\"number\">0.0%</td>\n",
       "        <td>\n",
       "            <div class=\"bar\" style=\"width:100%\">&nbsp;</div>\n",
       "        </td>\n",
       "</tr>\n",
       "</table>\n",
       "            <p class=\"h4\">Maximum 5 values</p>\n",
       "            \n",
       "<table class=\"freq table table-hover\">\n",
       "    <thead>\n",
       "    <tr>\n",
       "        <td class=\"fillremaining\">Value</td>\n",
       "        <td class=\"number\">Count</td>\n",
       "        <td class=\"number\">Frequency (%)</td>\n",
       "        <td style=\"min-width:200px\">&nbsp;</td>\n",
       "    </tr>\n",
       "    </thead>\n",
       "    <tr class=\"\">\n",
       "        <td class=\"fillremaining\">162.902138864</td>\n",
       "        <td class=\"number\">1</td>\n",
       "        <td class=\"number\">0.0%</td>\n",
       "        <td>\n",
       "            <div class=\"bar\" style=\"width:100%\">&nbsp;</div>\n",
       "        </td>\n",
       "</tr><tr class=\"\">\n",
       "        <td class=\"fillremaining\">164.336915344</td>\n",
       "        <td class=\"number\">1</td>\n",
       "        <td class=\"number\">0.0%</td>\n",
       "        <td>\n",
       "            <div class=\"bar\" style=\"width:100%\">&nbsp;</div>\n",
       "        </td>\n",
       "</tr><tr class=\"\">\n",
       "        <td class=\"fillremaining\">164.736030621</td>\n",
       "        <td class=\"number\">1</td>\n",
       "        <td class=\"number\">0.0%</td>\n",
       "        <td>\n",
       "            <div class=\"bar\" style=\"width:100%\">&nbsp;</div>\n",
       "        </td>\n",
       "</tr><tr class=\"\">\n",
       "        <td class=\"fillremaining\">164.936862395</td>\n",
       "        <td class=\"number\">1</td>\n",
       "        <td class=\"number\">0.0%</td>\n",
       "        <td>\n",
       "            <div class=\"bar\" style=\"width:100%\">&nbsp;</div>\n",
       "        </td>\n",
       "</tr><tr class=\"\">\n",
       "        <td class=\"fillremaining\">164.947480513</td>\n",
       "        <td class=\"number\">1</td>\n",
       "        <td class=\"number\">0.0%</td>\n",
       "        <td>\n",
       "            <div class=\"bar\" style=\"width:100%\">&nbsp;</div>\n",
       "        </td>\n",
       "</tr>\n",
       "</table>\n",
       "        </div>\n",
       "    </div>\n",
       "</div>\n",
       "</div>\n",
       "    <div class=\"row headerrow highlight\">\n",
       "        <h1>Correlations</h1>\n",
       "    </div>\n",
       "    <div class=\"row variablerow\">\n",
       "    <img src=\"data:image/png;base64,iVBORw0KGgoAAAANSUhEUgAAAlwAAAIRCAYAAACf2mMCAAAABHNCSVQICAgIfAhkiAAAAAlwSFlzAAAPYQAAD2EBqD%2BnaQAAADl0RVh0U29mdHdhcmUAbWF0cGxvdGxpYiB2ZXJzaW9uIDIuMi40LCBodHRwOi8vbWF0cGxvdGxpYi5vcmcv7US4rQAAIABJREFUeJzs3XlYlXX%2B//EXqygYi4L6M8xScUFUzGXMzMR9RiM1xeWblmi5gEt9RVMzGykrLZccm7RMZ1q0spU2l8zKyzJHExekVApSk8VDgAuynN8fjufrEbxD7nM6Qs/HdXEh9/q%2BP9Nw3uf1uc%2BNm9VqtQoAAABO4%2B7qAgAAAKo7Gi4AAAAno%2BECAABwMhouAAAAJ6PhAgAAcDIaLgAAACej4QIAAHAyGi4AAAAno%2BECAABwMhouAAAAJ/N0dQEAKq558%2BZXXefp6anAwEC1atVKd999t/r37y83N7c/sDoAwNW48bcUgarjUsPVpk0bBQcH263Lzc1Venq6srKyJEndu3fXihUr5O3t/YfXCQCwR8MFVCGXGq5//OMf6tWrV5n1VqtVSUlJevTRR3Xu3DmNHj1ac%2BbM%2BaPLBABcgXu4gGrEzc1NAwcOVHx8vCRp/fr1OnfunIurAgBwDxdQDfXs2VPPPPOMLly4oJSUFLVv395u/c6dO/Xqq6/q%2B%2B%2B/12%2B//SZfX1%2B1bNlSgwYN0sCBA%2BXuXva9WG5urtauXatt27YpPT1dFy5ckL%2B/v9q0aaP7779fnTt3LrNPVFSUjh8/rtWrV%2BvMmTNaunSpMjIytHz5cltC98MPP2jNmjXavXu3Tp06JU9PT4WEhKhTp076n//5n3LvW8vPz9e6deu0detW/fzzzyoqKlLdunXVvn17jRkzRm3atLHb/scff9SAAQPk4eGhQ4cOKTk5WStXrtS%2BffuUn5%2BvkJAQ9e7dW1OmTJGvr6%2BZoQeAcpFwAdVQ/fr1bf/Oz8%2B3W7d06VLdd9992rJli/z8/NSpUycFBQVp586dSkhI0LRp01RSUmK3T2ZmpgYPHqwXXnhBx44dU/PmzfWXv/xFPj4%2B2rZtm8aMGaONGzdetZ5jx45pxowZqlGjhm6//Xb5%2B/tLknbt2qUhQ4bo3XffVWFhoW699Va1bdtWZ86c0Ztvvqlhw4Zp586ddsc6fvy4Bg0apOeff15HjhxRixYt1KlTJ5WUlCgpKUkxMTF666237PapUaOG7d87d%2B7UqFGjdOzYMbVu3VrNmjXT8ePHtXbtWk2ZMuXaBhoAKsoKoMoICwuzhoWFWTdv3my43ZEjR2zb7tu3z7Z806ZN1rCwMOutt95q/eKLL%2Bz22bVrl/W2226zhoWFWV955RW7dXPmzLGGhYVZo6KirJmZmbblJSUl1qeeesp2zIKCArv9evToYQ0LC7P27NnTunz58jJ1Dh061BoWFmZ96qmnrCUlJbblxcXF1hUrVljDwsKsAwYMsNtn5MiR1rCwMOvgwYOtp06dsqtl%2BfLl1rCwMGt4eLj12LFjtnUZGRnWsLAwa4sWLax33HGH9Y033rA75ltvvWUbr5SUlKsNKwBUGgkXUA1t2bJFklS7dm21bNnStnzlypWSpGnTpql79%2B52%2B3Ts2FEJCQmSpHXr1sl62edpGjdurEGDBmnq1Kl2n450d3fXlClT5O7urvz8fH3//ffl1nPhwgVNnDixzPKUlBRJ0uDBg%2B2mMT08PDRp0iRNnTpV9957ry5cuCBJ2rdvn3bv3i1JeuaZZxQSEmJXS3x8vMLDw1VUVKQ33nijzPlKS0vVsmVLDR8%2B3G75kCFDFBAQIElKTk4u9xoAwAzu4QKqmaSkJL3wwguSpNjYWHl5eUmSTp06pUOHDkmSevToUe6%2BvXr1kpubm06cOKGff/5ZjRs3liSNGzfuquerWbOm6tSpo6ysLNsjKa502223ydOz7K8bf39/ZWVlafPmzWrWrJndOjc3N02aNMlu2VdffSXp4qc1mzRpUu65evbsqYMHD5aZirxkyJAhZZa5ubkpNDRUubm5On36dLn7AYAZNFxAFfTiiy/qnXfesVuWn5%2Bvn376SZmZmZKk6OhoPfjgg7b1qamptn8nJiZe9aGonp6eKioqUlpamq3hkqTz58/r888/1759%2B5Sdna3z58/bUrBL94mVlpaWe8zQ0NByl48cOVLLli3TsmXL9OWXX6pfv3667bbbFBYWVu72R44ckaQyzdnlbrnlFklSWlraNdVSs2ZNSVJRUdFVjw0AlUXDBVRB5U17eXh4KCAgQD169NDQoUPVs2dPu/W//fab7d%2Bff/75757j8pvtk5OTFR8fr19//bVS9V7tk38TJ05UaWmpVq9erb1792rv3r2SpHr16qlPnz4aNWqUbr755jI1XbrpvjyX1hUVFen8%2BfPy8fGxW%2B/n51epawAAM2i4gCroag8%2BNXLpHikfHx/t27evwvudPXtWkyZNUlZWlho1aqSHH35YHTt2lL%2B/v22a8NLjH66Vm5ub4uLidO%2B992rLli368ssv9c033%2BjUqVP697//rfXr1%2Bvpp5/W3/72N7v9rAbPa748ZSvv8RYA4Ao0XMCfxKWbws%2BfP68zZ85U%2BHlTX375pbKysuTu7q5Vq1bZJU6XnDlzxlRt/v7%2BGjJkiIYMGaLS0lJ99913ev755/Xdd9/pscceU5cuXRQUFGRLry5P666Ul5cn6WJjyZ81AnC94O0f8Cdx%2BX1R1/JJvPT0dEnSjTfeWG6z9dNPPyk3N9d8gf/l7u6uzp076%2BWXX1ZwcLDy8/Ntn0y8dO/W5fejXemHH36w2xYArgc0XMCfRHBwsMLDwyWpzINBL0lLS1N0dLT%2B%2Bc9/2pbdcMMNkqTCwsJy93n%2B%2Bedt/77ygalGkpOTNXv2bK1Zs6bc9TVq1FBgYKCk/5tCvPQoiyNHjtgaq8uVlpbqs88%2BkyR169atwrUAgLPRcAF/IhMmTJAkffTRR1q3bp3dup9//llTpkzR4cOH7R6NcOk5XqdOnbI930u6OI2YmJioAwcO6NZbb5V08YnyFeXr66uNGzdq%2BfLl%2BuKLL8qs37x5s44cOSIvLy9FRkZKklq1aqWuXbtKkmbNmqXs7Gzb9sXFxXrqqad07Ngx1a5du8yztgDAlbiHC/gT6dOnjx544AGtWrVKTz75pNatW6dbbrlFFotFKSkpKikpUadOnez%2BxE3btm3VrVs3ffXVV4qPj1fbtm3l5eWlQ4cOyd3dXS%2B//LI%2B%2BeQT/ec//9G//vUvpaSkKC4uTh06dDCspUmTJpoyZYqWL1%2BuBx98UA0bNtRNN90kNzc3ZWRk2KYyZ86cafeA04ULF2r06NE6ePCgoqKi1LZtW3l7eyslJUU5OTny8fHRs88%2Bq3r16jlnEAGgEmi4gD%2BZhx9%2BWLfddpvtj1d/88038vf3V7t27RQdHa1BgwaVudl8yZIlWrx4sbZu3aoDBw6oTp066t27tyZMmKDGjRurQYMGOnjwoPbt26e0tDR5eHhUqJbJkyerRYsWeuutt3Tw4EF99913kqS6devqr3/9q0aNGlWmcatXr542btyotWvXavPmzTpw4ICKi4tVr1499erVS7GxsbrpppscM1gA4CBuVqPPVwMAAMA07uECAABwMhouAAAAJ6PhAgAAcDIaLgAAUCV99dVXuu222zR9%2BnTD7UpLS7VkyRJ17dpVbdu21X333aeMjAzbeovFounTp6t9%2B/bq2LGj5syZo/Pnzzu0VhouAABQ5axevVqJiYkV%2BlTyv/71L23cuFEvv/yyduzYodDQUE2ePNn2UOXZs2crJydHmzZtUlJSklJSUrR48WKH1kvDBQAAqpwaNWro7bffrlDD9dZbb2ncuHFq0aKF/Pz8NHPmTB07dkzff/%2B9srOztW3bNj3yyCOqW7eu6tWrp2nTpmnjxo26cOGCw%2BrlOVwAAOAPl5mZqaysLLtlwcHBdg86NjJ69OgKbVdYWKijR4%2BqdevWtmV%2Bfn5q1KiRDhw4oIKCAnl6eqp58%2Ba29eHh4Tp79qzS0tLslptBw1UeNzdXV%2BBYN98s/fij1KyZlJbm6moc5xr%2BjEyV4Okp3Xij9MsvUnGxq6txmAWvlv2D11VVQIA0ebL0j39IDvx73deFWbNcXYFjeXpWq/8b2Xh5uejETnhd3LB8uVasWGG3LC4uTvHx8Q49T25urqxWq/z9/e2W%2B/v76/Tp0/L395efn5/c3d3t1kmy%2BzNnZtFw/RkEBEgeHhe/4/rl7n7xl5o7M/3XKx%2Bfi//z%2BPi4uhL8nur2vrk6iomJUVRUlN2y4ODgP7QGNzc3uRn8x2K07lrRcAEAAGNOeCMYEhJS4elDMwIDA%2BXu7q7cK2Jpi8WiOnXqKCgoSPn5%2BSopKbH9WTKLxSJJqlOnjsPq4K00AACotry9vRUWFqaDBw/aluXm5io9PV0RERFq1aqVSktLlZqaalufnJys2rVrq3Hjxg6rg4YLAAAYc3d3/JcTnTp1Sv369bM9a2vEiBF66aWXdPjwYeXn5ysxMVGtW7dWmzZtFBgYqP79%2B2vhwoXKzs7W8ePHtWTJEsXExMjLgTfNMaUIAACMXYf3lkZEREiSiv/76YgtW7ZIkvbv36%2BioiKlpaXZHuswfPhwZWVlaezYsTpz5ow6d%2B6s5cuX2471%2BOOPa/78%2Berdu7e8vLw0cOBATZ061aH10nABAIAqZ//%2B/Vddd%2BONN9pNEUpSfHz8VT8BWbt2bT377LMOre9KNFwAAMDYdZhwVTWMIAAAgJORcAEAAGMkXKbRcAEAAGM0XKYxggAAAE5GwgUAAIyRcJnGCAIAADgZCRcAADBGwmUaDRcAADBGw2UaIwgAAOBkJFwAAMAYCZdpNFwAAMAYDZdpjCAAAICTkXABAABjJFymMYIAAABORsIFAACMkXCZRsMFAACM0XCZxggCAAA4GQkXAAAwRsJlGiMIAADgZCRcAADAGAmXaTRcAADAGA2XaYwgAACAk5FwAQAAYyRcpjGCAAAATkbCBQAAjJFwmUbDBQAAjNFwmcYIAgAAOBkJFwAAMEbCZRojCAAA4GQkXAAAwBgJl2k0XAAAwBgNl2mMIAAAgJORcAEAAGMkXKYxggAAAE5GwgUAAIyRcJlGwwUAAIzRcJnGCAIAADgZCRcAADBGwmUaIwgAAOBkJFwAAMAYCZdpf%2BgIvvPOO%2BratesfeUoAAGCWu7vjv/5kqvQVZ2dnKzY2Vs2bN1dhYaGrywEAAH%2BQX375RbGxsWrXrp26dOmiRYsWqbS0tMx2Y8eOVUREhN1Xy5YttWLFCknSvffeq/DwcLv1d911l8PrrbJTiqmpqXrwwQd16623uroUAACqt%2BsskbJarYqLi1PTpk21fft2ZWdna/z48apbt67uv/9%2Bu23XrFlj9/Nvv/2mv/3tb%2Brdu7dt2YIFCzR48GCn1lypERw6dKitM7wkMTFRsbGxOnDggEaMGKH27dvrtttu02OPPaaioqIyx/j222/LJFPTp0/XrFmzbD9/9tln6t%2B/v9q2basBAwbogw8%2BsK07ffq0nnvuOQ0bNqwylwAAAKqo/fv3KzU1VXPnzpW/v7%2BaNGmi8ePHa/369b%2B779KlS9WnTx81b978D6j0/1Qq4erXr58%2B/PBDxcXF2ZZt3bpV8fHxmjZtmnr37q1///vfysrK0vDhw9W0aVPde%2B%2B913SOo0ePatasWVq5cqU6deqkvXv3avz48brpppvUtm1bdenSRdLFxs2MzMxMZWVl2S0LvvlmhQQEmDrudaVFC/vv1YW3t6srcCwvL/vv1UT9%2Bq6uwHHq1LH/DvxpOCHhKvf1NzhYISEhv7vvoUOH1LBhQwVc9lodHh6un376SQUFBfLz8yt3v2PHjunDDz/Upk2b7JZ//PHHevHFF3X69Gm1adNG8%2BbN00033VSJq7q6SjdcixYt0vHjx9WwYUMdOHBAWVlZ6tWrl/r27SsvLy95enqqQYMG6tChgw4cOHDN53jzzTcVFRVla6w6dOig/v3767333lPbtm0rU3a5NmzYUCati5s6VfFTpzrsHNeN1193dQWoiAr8sqlKxo93dQWO5%2BSZBzhINXvvonImi/44Tmi4yn39jYtTfHz87%2B5rsVjk7%2B9vt%2BzSzxaL5aoN1z//%2BU8NHTpUQUFBtmVNmjRRzZo19dRTT8nd3V2JiYkaP368kpKS5O3AN/aVargaNmyoiIgIbdmyRWPGjNHmzZvVrVs33XDDDbYuMT09XcXFxSouLla/fv2u%2BRzp6enavn27XRdqtVp1%2B%2B23V6bkq4qJiVFUVJTdsuCBA6V16xx6Hpdq0eJiszVypHT4sKurcZwPP3R1BY7l5XWx2crMdPFvVsda/XFDV5fgMHXqXGy23nlHyslxdTWOdd99rq7Asby8qtX/jaqlcl9/g4MrtK%2Bbm9s1ny8nJ0effPKJPvroI7vl8%2BfPt/v573//uzp16qTvvvvOoU9WqPRN8/3797druCZOnKiff/5ZM2bM0MyZMzV8%2BHB5e3srISGh3Hu4ymO1Wm3/dnd31/DhwzVv3rzKllghISEhZePLtDSnntNlDh%2BW9u51dRWOc%2BGCqytwjqKianVtv/7q6gocLyenel4XcFVOSLjKff2toKCgIOXm5tots1gstnXl2bp1q5o1a6ZGjRoZHtvPz08BAQFlpjvNqvQI9u3bV3v27NH%2B/ft1/PhxRUVF6dChQ6pZs6ZGjx4tb29vWa1Wpaamlru/j4%2BPJNk1Y79e9husUaNG%2BuGHH%2Bz2%2BfXXX1VSUlLZkgEAQDUQERGhEydO2JosSUpOTlbTpk3l6%2Btb7j5ff/21OnfubLesoKBA8%2BfPV85lkbXFYpHFYlFoaKhDa650w9WwYUOFh4frmWeeUffu3eXr66sGDRrozJkzOnjwoM6dO6cnnnhCHh4eyszMtEuvJCk0NFQeHh7avXu3JGnnzp06cuSIbf0999yjPXv26N1331VRUZFSUlI0dOjQMje6AQAAJ7vOHnzasmVLtWnTRomJicrLy1NqaqpWrVqlUaNGSbp4r/ml/uKSw4cPq2nTpnbL/Pz8lJycrCeffFL5%2BfnKzc3V448/rpYtWyoyMtJUjVcydcX9%2BvXTrl279Le//U2S1K5dO40aNUqjR49W3759dfPNN2v27Nn64YcfNGPGDLt9g4KCNGPGDM2dO1d9%2B/bVJ598ooEDB6q4uFjSxZvYnn32Wa1atUrt27fX5MmTNXbsWPXv31%2BSNHfuXEVERCg2NlbSxZvqIyIi9N5775m5JAAAcKXrrOGSpGXLlik/P1/dunXT/fffr%2BHDh2vkyJGSpLS0NJ09e9Zu%2B6ysLLtPNV6yYsUKFRYWqmfPnurfv7%2BsVqteeOEFuTt4GtXNemX0BKkSN%2BNd1yIjpT17pPbtq9c9XMeOuboCx/L2lho2lI4fr1b3cC149WZXl%2BAw9etf/NTl6tXV7x6uyx6BWC1U15vmXfbJy759HX/Mzz5z/DGvY1X2SfMAAOAPcp09ab4qouECAADGaLhMYwQBAACcjIQLAAAYI%2BEyjREEAABwMhIuAABgjITLNBouAABgjIbLNEYQAADAyUi4AACAMRIu0xhBAAAAJyPhAgAAxki4TKPhAgAAxmi4TGMEAQAAnIyECwAAGCPhMo0RBAAAcDISLgAAYIyEyzQaLgAAYIyGyzRGEAAAwMlIuAAAgDESLtMYQQAAACcj4QIAAMZIuEyj4QIAAMZouExjBAEAAJyMhAsAABgj4TKNEQQAAHAyEi4AAGCMhMs0Gi4AAGCMhss0RhAAAMDJSLgAAIAxEi7TGEEAAAAnI%2BECAADGSLhMo%2BECAADGaLhMYwQBAACcjIQLAAAYI%2BEyjREEAABwMhIuAABgjITLNBouAABgjIbLNEYQAADAyUi4AACAMRIu0xhBAAAAJyPhAgAAxki4TKPhAgAAxmi4TGMEAQBAlfPLL78oNjZW7dq1U5cuXbRo0SKVlpaW2e75559Xy5YtFRERYfeVnZ0tSSosLNS8efPUqVMnRUZGasqUKTp9%2BrTD66XhAgAAxtzdHf9lgtVqVVxcnAIDA7V9%2B3a9%2Buqr%2BuSTT7Ru3bpyt4%2BOjtb%2B/fvtvurWrStJWrRokfbs2aONGzdq69atOn/%2BvGbPnm2qvvLQcAEAgCpl//79Sk1N1dy5c%2BXv768mTZpo/PjxWr9%2B/TUdp7i4WO%2B%2B%2B66mTZum0NBQBQUFaebMmdq2bZtOnTrl0Jq5h6s8x465ugLH8va%2B%2BP3DD6ULF1xbiyPdcourK3CsyEhpzx5p4EBp715XV%2BMw0/Ksri7BYS69KR85Uipn5qJKy811dQWO4%2BkpBQZKBQVScbGrq3Gs4GAXndgJ93BlZmYqKyvLbllwcLBCQkJ%2Bd99Dhw6pYcOGCggIsC0LDw/XTz/9pIKCAvn5%2Bdltn5qaqqFDh%2BrYsWNq1KiRHn74Yd1%2B%2B%2B1KT09XQUGBwsPDbds2adJENWvW1MGDB1WvXj2TV/l/aLgAAIAxJzRcGzZs0IoVK%2ByWxcXFKT4%2B/nf3tVgs8vf3t1t26WeLxWLXcNWvX1%2BhoaGaOnWqGjRooDfffFMTJkzQ%2B%2B%2B/r9z/vtO48lg33HCDw%2B/jouECAAB/uJiYGEVFRdktC65ghOfm5lbh8wwdOlRDhw61/XzfffcpKSlJH3zwgbp37%2B6Qc1QEDRcAADDmhIQrJCSkQtOH5QkKCrKlU5dYLBbbut9z4403Kisry7Ztbm6uatWqJeniDfm5ubmqU6dOpWq7Gm6aBwAAxq6zTylGREToxIkTtiZLkpKTk9W0aVP5%2BvrabfvCCy9o165ddsvS0tIUGhqq0NBQBQQE6ODBg7Z1qampKioqUuvWrU3VeCUaLgAAUKW0bNlSbdq0UWJiovLy8pSamqpVq1Zp1KhRkqR%2B/fpp9%2B7dkqS8vDwtWLBAGRkZKiws1Jo1a5Senq7BgwfLw8NDw4YN09KlS5WRkaGcnBwtXLhQffv2tT02wlGYUgQAAMauwyfNL1u2TPPmzVO3bt3k6%2BurkSNHauTIkZIuJlhnz56VJE2fPl0lJSUaMWKEzp07p%2BbNm2vt2rW2TyDGx8frzJkzGjx4sEpKStSjRw/Nnz/f4fW6Wa3W6vOZbUdJS3N1BY7l7S01bCgdP85jIa5nlx4L0b59tXosRH41eyyEr6905kz1eyzE%2BfOursBxLj0WwmLhsRAOs3Ch44/5yCOOP%2BZ1jIQLAAAYuw4TrqqGhgsAABij4TKNEQQAAHAyEi4AAGCMhMs0RhAAAMDJSLgAAIAxEi7TaLgAAIAxGi7TGEEAAAAnI%2BECAADGSLhMYwQBAACcjIQLAAAYI%2BEyjYYLAAAYo%2BEyjREEAABwMhIuAABgjITLNEYQAADAyUi4AACAMRIu02i4AACAMRou0xhBAAAAJyPhAgAAxki4TGMEAQAAnIyECwAAGCPhMo2GCwAAGKPhMo0RBAAAcDISLgAAYIyEyzRGEAAAwMlIuAAAgDESLtNouAAAgDEaLtMYQQAAACcj4QIAAMZIuExjBAEAAJyMhAsAABgj4TKNhgsAABij4TKNEQQAAHAyEi4AAGCMhMs0RhAAAMDJSLgAAIAxEi7TaLgAAIAxGi7TGEEAAAAnI%2BECAADGSLhMo%2BECAADGaLhMYwQBAACc7Joarl9%2B%2BUXNmzfX0aNHDbf79ttv1bx5cxUWFlaqqKioKL3xxhuV2hcAADiYu7vjv/5kqvwV//zzzxo8eLC6du3q6lIAAMAf5JdfflFsbKzatWunLl26aNGiRSotLS1329dff119%2BvRRZGSkBg4cqC1bttjWzZo1S61atVJERITtq0OHDg6vt0rfw7Vz504lJCQoMjJSp06dcnU5AABUT9dZImW1WhUXF6emTZtq%2B/btys7O1vjx41W3bl3df//9dttu2rRJzz33nFavXq2IiAi9//77mjZtmj7%2B%2BGM1atRIkjRx4kTFx8c7teZKj2BGRoZiY2PVoUMHde7cWQ899JDy8vLsttm%2Bfbt69eqlDh066H//9391/vx527rXXntNUVFRioyM1ODBg7Vjx45yz7Nv3z4NGzZMkZGR6ty5s%2BbMmWM7Tm5urtauXas777yzspcBAAB%2Bz3U2pbh//36lpqZq7ty58vf3V5MmTTR%2B/HitX7%2B%2BzLbnz5/Xww8/rMjISHl6emrIkCHy8/PT999/b6qGa1XphGvOnDmqW7euvv76a507d06xsbFauXKlZs2aZdvmo48%2B0ttvv62CggKNHj1aL730kuLi4rRjxw6tXLlSL774olq0aKHPP/9ckyZN0qeffqoGDRrYnSchIUHjxo3TkCFDlJOTo8mTJ2vDhg0aM2aM%2BvfvL%2BliU1ZZmZmZysrKslsWXFSkkODgSh/zuuPlZf%2B9uoiMdHUFjtWihf33auI6e2NsyqVrqU7XdIlnlZ7vsOfhYf%2B9uigudnUFjlXu629wsEJCQn5330OHDqlhw4YKCAiwLQsPD9dPP/2kgoIC%2Bfn52Zbfdddddvvm5eWpoKBAderUsS375ptvtGnTJp08eVLNmjXT7NmzFRERUdlLK1el/y%2B2atUqSZKPj498fHx0%2B%2B23a8%2BePXbb3H///QoICFBAQIAGDBigr776SnFxcXrjjTd0zz33qHXr1pKkPn366LXXXtNHH32kcePG2R0jJydHtWrVkru7u4KDg7V%2B/Xq5O/C33YYNG7RixQq7ZXGTJyt%2ByhSHneO6UYH/iKuUK/57qzZef93VFTiUr6sLcIKaNV1dgeP5VsP/oW64wdUVONYVvckfywnvMsp9/Y2Lq9DUnsVikb%2B/v92ySz9bLBa7hutyVqtVc%2BfOVXh4uLp06SJJCg0NlYeHhyZNmiR/f3%2BtWLFCsbGx%2BvTTTxUUFFSZSytXpRuuvXv3aunSpTp69KgKCwtVUlJia6Auuemmm2z/rl%2B/vu0%2Bq/T0dG3btk1r1qyxrbdarWrWrFmZ88ydO1ezZ8/W6tWrdccddyg6OlpNmjSpbNllxMTEKCoqym5ZcFGRdPy4w87hcl5eF5utzEypqMjV1TjOwIGursCxWrS42GyNHCkdPuzqahzmzFfVpzF2d7/YbJ07J13l3twq68IFV1fgOB4eF5utvDyppMTV1eBqyn39reDskpvmgfu0AAAgAElEQVSb2zWfr6ioSLNmzdKRI0e0bt06W3gzefJku%2B1mzJihpKQkbdmyRcOGDbvm81xNpRquoqIixcXFKSYmRq%2B88opq1aqlZcuWlbkPy%2BOKPNfb21uS5O7uroceekixsbG/e667775b3bt317Zt2/TFF19o0KBBWrJkiXr27FmZ0ssICQkpG1%2BmpVWv3z6XFBVVr%2Bvau9fVFTjH4cPV6tqqW2MiXbym6nZd1W26SrrYbFXH63IJJyRc5b7%2BVlBQUJByc3PtllksFtu6K50/f16TJk3SuXPn9Prrr9tNRV7Jw8NDDRo0KDPdaValRrCgoEAFBQWaMGGCatWqJUk6XM478vT0dNu/T5w4oXr16kmSGjVqpB9%2B%2BMFu2xMnTshqtZY5hsViUWBgoAYPHqzly5frgQce0Ntvv12ZsgEAQGVcZzfNR0RE6MSJE7YmS5KSk5PVtGlT%2BV4xP261WjV9%2BnR5e3tr7dq1ds2W1WrVwoUL9eOPP9qWFRUVKSMjQ6GhoaZqvFKlrtjNzU3u7u7atWuXioqKtGrVKmVmZio7O1vFl72dWLdunfLy8pSRkaGkpCRbKhUTE6NPPvlE27dvV0lJib755hsNGDBA%2B/fvtzvPyZMnFRUVpa%2B//lqlpaUqKCjQkSNHHD4IAACg6mjZsqXatGmjxMRE5eXlKTU1VatWrdKoUaMkSf369dPu3bslSR9%2B%2BKGOHTumpUuXqkaNGnbHcXNz08mTJ7VgwQJlZWXpzJkzWrRokby9vdWrVy%2BH1lypKcWAgAA99NBDmjNnjtzc3DR8%2BHAtWrRIo0eP1r333qu4uDi5u7urb9%2B%2Buvvuu5WXl6fevXtr5MiRkqSuXbsqISFBjz/%2BuLKystSwYUM99thjatOmjd15GjRooCeeeEJPP/20MjIyVLNmTXXv3l1T/ntD%2B9ixY/Xdd9%2BptLRUxcXFtk8UrFmzRh07djQzLgAA4JLr8KO5y5Yt07x589StWzf5%2Bvpq5MiRtj4jLS1NZ8%2BelSRt3LhRGRkZZfqC6OhoJSYmKjExUU8%2B%2BaTuuusulZSUKCIiQmvXrrXN4DmKm7W8ebw/u7Q0V1fgWN7eUsOGFz8IUJ3u4brlFldX4FiRkRc/edm%2BfbW6hys/r/r8inF3v/hpvjNnqt89XJc9JrHK8/SUAgMli6X63cPlsicW7dzp%2BGP%2B91OCfxbV6MkrAADAKa7DhKuqoeECAADGaLhMYwQBAACcjIQLAAAYI%2BEyjREEAABwMhIuAABgjITLNBouAABgjIbLNEYQAADAyUi4AACAMRIu0xhBAAAAJyPhAgAAxki4TKPhAgAAxmi4TGMEAQAAnIyECwAAGCPhMo0RBAAAcDISLgAAYIyEyzQaLgAAYIyGyzRGEAAAwMlIuAAAgDESLtMYQQAAACcj4QIAAMZIuEyj4QIAAMZouExjBAEAAJyMhAsAABgj4TKNEQQAAHAyEi4AAGCMhMs0Gi4AAGCMhss0RhAAAMDJSLgAAIAxEi7TaLgAAIAxGi7TGEEAAAAnI%2BECAADGSLhMYwQBAACcjIQLAAAYI%2BEyjYYLAAAYo%2BEyjREEAABwMhIuAABgjITLNEYQAADAyUi4AACAMRIu02i4AACAMRou0xhBAAAAJyPhAgAAxki4TGMEAQBAlfPLL78oNjZW7dq1U5cuXbRo0SKVlpaWu%2B26devUo0cPtWnTRkOHDtXBgwdt6woLCzVv3jx16tRJkZGRmjJlik6fPu3wemm4AACAMXd3x3%2BZYLVaFRcXp8DAQG3fvl2vvvqqPvnkE61bt67Mtps3b9bSpUu1cOFCffvtt%2BrevbsefPBBnT17VpK0aNEi7dmzRxs3btTWrVt1/vx5zZ4921R95aHhAgAAxq6zhmv//v1KTU3V3Llz5e/vryZNmmj8%2BPFav359mW3feust3XPPPfrLX/6imjVravLkyZKkzz//XMXFxXr33Xc1bdo0hYaGKigoSDNnztS2bdt06tQpUzVeiXu4yrHg1ZtdXYJD1a8vjR8vrf64oX791dXVOM60PKurS3Aod3fJV9KZr/boKql4lVT7BjdXl%2BA4kZHSnj3y7dZe2rvX1dU4VO0tW1xdguPUri116qTAH3dJ%2BfmursaxevZ0dQUOk5mZqaysLLtlwcHBCgkJ%2Bd19Dx06pIYNGyogIMC2LDw8XD/99JMKCgrk5%2Bdnt%2B1f//pX289ubm5q2bKlDhw4oFatWqmgoEDh4eG29U2aNFHNmjV18OBB1atXz8wl2qHhAgAAhqxy/BunDRs2aMWKFXbL4uLiFB8f/7v7WiwW%2Bfv72y279LPFYrFruCwWi11jdmnb06dPy2Kx2O17yQ033ODw%2B7houAAAwB8uJiZGUVFRdsuCg4MrtK%2BbW8UbwKtt6%2BbmZnicazlHRdBwAQAAQ864zSEkJKRC04flCQoKUm5urt2yS2lVUFCQ3fLAwMBytw0LC7Ntm5ubq1q1akm6eEN%2Bbm6u6tSpU6naroab5gEAgKHSUsd/mREREaETJ07YmixJSk5OVtOmTeXr61tm2wMHDth%2BLikp0aFDh9SmTRuFhoYqICDA7jERqampKioqUuvWrc0VeQUaLgAAUKW0bNlSbdq0UWJiovLy8pSamqpVq1Zp1KhRkqR%2B/fpp9%2B7dkqThw4dr48aN%2Buabb3T27Fk999xz8vHxUVRUlDw8PDRs2DAtXbpUGRkZysnJ0cKFC9W3b1/VrVvXoTUzpQgAAAxdj5%2BcXrZsmebNm6du3brJ19dXI0eO1MiRIyVJaWlptuds3XHHHUpISNAjjzyinJwctW7dWqtWrVKNGjUkSfHx8Tpz5owGDx6skpIS9ejRQ/Pnz3d4vTRcAACgyqlfv75WrVpV7rrU1FS7n0eMGKERI0aUu623t7fmzZunefPmObzGy9FwAQAAQ9djwlXV0HABAABDNFzmcdM8AACAk5FwAQAAQyRc5pFwAQAAOBkJFwAAMETCZR4NFwAAMETDZR5TigAAAE5GwgUAAAyRcJlHwgUAAOBkJFwAAMAQCZd5NFwAAMAQDZd5TCkCAAA4GQkXAAAwRMJlHgkXAACAk5FwAQAAQyRc5tFwAQAAQzRc5jGlCAAA4GQkXAAAwBAJl3kkXAAAAE5GwgUAAAyRcJlHwwUAAAzRcJnHlCIAAICTkXABAABDJFzm0XABAABDNFzmMaUIAADgZCRcAADAEAmXeSRcAAAATkbCBQAADJFwmUfDBQAADNFwmceUIgAAgJORcAEAAEMkXOaRcAEAADgZCRcAADBEwmUeDRcAADBEw2UeU4oAAABORsIFAAAMkXCZR8IFAADgZCRcAADAEAmXeTRcAADAEA2XeUwpAgAAONkf2nC988476tq16x95SgAAYFJpqeO//myqbMJltVq1YsUK3XnnnYqMjNTQoUO1e/duV5cFAACuAxaLRdOnT1f79u3VsWNHzZkzR%2BfPn7/q9p9%2B%2BqkGDhyoyMhI9enTRxs2bLCte/7559WyZUtFRETYfWVnZ1e4nirbcL3yyit655139NJLL2nXrl3q3r27Jk2apIKCAleXBgBAtVIVE67Zs2crJydHmzZtUlJSklJSUrR48eJyt01OTlZCQoKmT5%2Bu3bt369FHH9WCBQvsgpzo6Gjt37/f7qtu3boVrqdSN80PHTpU3bt3V1xcnG1ZYmKi0tLSNH36dD3xxBNKTU2Vj4%2BPevfurblz58rLy8vuGN9%2B%2B61Gjx6t5ORk1ahRQ5I0ffp01ahRQ0899ZQk6bPPPtPSpUt14sQJhYaG6oEHHtBdd90lSfLw8FBCQoKaNm0qSRo7dqyef/55paam6tZbb63wtWRmZiorK8tumZdXsOrUCbn2gblO1alj/726cK%2BybxfKd%2Bl6qtt1KTLS1RU4TosW9t%2Brk9q1XV2B49SqZf%2B9usjPd9mpndEglff6GxwcrJAQ86%2B/2dnZ2rZtm959911bUzRt2jRNnTpVCQkJ8vb2tts%2BNzdXEyZMUFRUlCSpW7duat68ub777jt16NDBdD1SJRuufv366cMPP7RruLZu3ar4%2BHhNmzZNvXv31r///W9lZWVp%2BPDhatq0qe69995rOsfRo0c1a9YsrVy5Up06ddLevXs1fvx43XTTTWrbtq3GjBljt/3JkyclSXWusavYsGGDVqxYYbds8uQ4jR8ff03HqQoGD3Z1BaiImjVdXYGD7dnj6goc7/XXXV0BKqJ1a1dX4Fhbt7q6Aocq7/U3Li5O8fHmX39TUlLk6emp5s2b25aFh4fr7NmzSktLs1suSXfccYfuuOMO28/FxcXKzMy06ylSU1M1dOhQHTt2TI0aNdLDDz%2Bs22%2B/vcI1VbrhWrRokY4fP66GDRvqwIEDysrKUq9evdS3b195eXnJ09NTDRo0UIcOHXTgwIFrPsebb76pqKgodenSRZLUoUMH9e/fX%2B%2B9957atm1rt%2B2FCxc0Z84c9e/fX40bN76m88TExNg62ks%2B/DBYq1dfc8nXrTp1LjZb77wj5eS4uhrHGTnS1RU4lrv7xWbr3LnqdUOpb7f2ri7BcVq0uNhsjRwpHT7s6moc65//dHUFjlOr1sVm68AB6exZV1dTLTjjd1J5r7/BwcEOObbFYpGfn5/cL5sy8Pf3lySdPn36d/dfvHixvL29NWDAAElS/fr1FRoaqqlTp6pBgwZ68803NWHCBL3//vtq0qRJhWqqVMPVsGFDRUREaMuWLRozZow2b96sbt266YYbbtDHH3%2BsF198Uenp6SouLlZxcbH69et3zedIT0/X9u3btWnTJtsyq9VappssKCjQ5MmT5enpqSeeeOKazxMSElImvnznHenXX6/5UNe9nJzqdV3VqSm5XLX7BM/eva6uwPEOH65%2B1%2BXC6SqnOXu2el5XNVHe6%2B%2B1eP/995WQkFDuuunTp191Pzc3t6uus1qtWrx4sZKSkrRu3TrV%2Bu%2B09NChQzV06FDbdvfdd5%2BSkpL0wQcfGJ7rcpV%2B8Gn//v3tGq6JEyfq559/1owZMzRz5kwNHz5c3t7eSkhIUFFRUYWOabVabf92d3fX8OHDNW/evKtuf/r0aY0dO1ahoaFavHix7V4wAADgONfjm8Do6GhFR0eXu27Hjh3Kz89XSUmJPDw8JF1MvaSr33pUWlqqRx55RMnJydqwYYMaNmxoeP4bb7yxzD1oRip9e27fvn21Z88e7d%2B/X8ePH1dUVJQOHTqkmjVravTo0fL29pbValVqamq5%2B/v4%2BEiSXTP262XxS6NGjfTDDz/Y7fPrr7%2BqpKREklRYWKgHH3xQbdq00bJly2i2AABwkqr2KcVWrVqptLTUrgdJTk5W7dq1r3rr0ZNPPqmjR4/qjTfeKNNsvfDCC9q1a5fdsrS0NIWGhla4pko3XA0bNlR4eLieeeYZde/eXb6%2BvmrQoIHOnDmjgwcP6ty5c3riiSfk4eGhzMxMu/RKkkJDQ%2BXh4WH7yOXOnTt15MgR2/p77rlHe/bs0bvvvquioiKlpKRo6NChtinGNWvWyMfHR/Pnz7ebowUAAH9ugYGB6t%2B/vxYuXKjs7GwdP35cS5YsUUxMjO2pCWPGjNHHH38sSfrPf/6jDz/8UC%2B%2B%2BKICAgLKHC8vL08LFixQRkaGCgsLtWbNGqWnp2vwNXwazdTfUuzXr5%2BefvppLV%2B%2BXJLUrl07jRo1SqNHj5avr68efPBB9evXTxMnTtSMGTN022232fYNCgrSjBkzNHfuXPn6%2Bqpz584aOHCg8v87396kSRM9%2B%2ByzWr58uebNm6fg4GCNHTtW/fv3lyRt3LhRJ0%2BeLHMD/cSJEzVp0iQzlwUAAC5zPU4p/p7HH39c8%2BfPV%2B/eveXl5aWBAwdq6tSptvUZGRn67bffJF3sKfLy8nTnnXfaHaNjx45as2aNpk%2BfrpKSEo0YMULnzp1T8%2BbNtXbtWtWrV6/C9bhZr4yeoAULXF2BY9WvL40fL61eXb1ump82zdUVOJa7u%2BTrK505UzV/uV1N7RuufoNqlRMZefExF%2B3bV7%2Bb5rdscXUFjlO7ttSpk7RrV/W7ab5nT5ec9rPPHH/Mvn0df8zrmamECwAAVH/V6U2gq9BwAQAAQzRc5nG3OQAAgJORcAEAAEMkXOaRcAEAADgZCRcAADBEwmUeDRcAADBEw2UeU4oAAABORsIFAAAMkXCZR8IFAADgZCRcAADAEAmXeTRcAADAEA2XeUwpAgAAOBkJFwAAMETCZR4NFwAAMETDZR5TigAAAE5GwgUAAAyRcJlHwgUAAOBkJFwAAMAQCZd5NFwAAMAQDZd5TCkCAAA4GQkXAAAwRMJlHgkXAACAk5FwAQAAQyRc5tFwAQAAQzRc5jGlCAAA4GQkXAAAwBAJl3kkXAAAAE5GwgUAAAyRcJlHwwUAAAzRcJnHlCIAAICTkXABAABDJFzmkXABAAA4GQkXAAAwRMJlHg0XAAAwRMNlHlOKAAAATkbCBQAADJFwmUfCBQAA4GQkXAAAwBAJl3k0XAAAwBANl3lMKQIAADgZDRcAADBUWur4L2ezWCyaPn262rdvr44dO2rOnDk6f/58udu%2B8847atGihSIiIuy%2BkpOT/3v9pVqyZIm6du2qtm3b6r777lNGRsY11UPDBQAAqp3Zs2crJydHmzZtUlJSklJSUrR48eKrbt%2BxY0ft37/f7qtNmzaSpH/961/auHGjXn75Ze3YsUOhoaGaPHmyrFZrheuh4QIAAIaqWsKVnZ2tbdu26ZFHHlHdunVVr149TZs2TRs3btSFCxeu%2BXhvvfWWxo0bpxYtWsjPz08zZ87UsWPH9P3331f4GNw0DwAADDmjQcrMzFRWVpbdsuDgYIWEhJg%2BdkpKijw9PdW8eXPbsvDwcJ09e1ZpaWl2yy85efKkxowZo4MHDyokJEQPPvigoqOjVVhYqKNHj6p169a2bf38/NSoUSMdOHBAkZGRFaqJhqscs2a5ugLnuO8%2BV1fgWLm5rq7AsTw9JV9f6cIFqbjY1dU4Tu0tW1xdguPUrn3x%2Bz//KeXnu7YWR%2BvVy9UVOE5kpLRnjzRhgrR3r6urcaxrmMK63m3YsEErVqywWxYXF6f4%2BHjTx7ZYLPLz85O7%2B/9N5Pn7%2B0uSTp8%2BXWb7oKAgNW7cWFOnTlWzZs20ZcsWJSQkKCQkRLfccousVqtt/8uPV96xroaGCwAAGHJGwhUTE6OoqCi7ZcHBwRXe//3331dCQkK566ZPn37V/dzc3Mosu/POO3XnnXfafh4wYIA2b96st99%2B%2B6rnuNqxroaGCwAA/OFCQkJMTR9GR0crOjq63HU7duxQfn6%2BSkpK5OHhIeli6iVJderUqdDxb7zxRh04cECBgYFyd3dX7hXTKhaLpcLHkrhpHgAA/I6qdtN8q1atVFpaqtTUVNuy5ORk1a5dW40bNy6z/fr16/XZZ5/ZLUtLS1NoaKi8vb0VFhamgwcP2tbl5uYqPT1dERERFa6JhgsAABiqag1XYGCg%2Bvfvr4ULFyo7O1vHjx/XkiVLFBMTIy8vL0nSmDFj9PHHH0uSiouLtWDBAqWkpKioqEhJSUn68ssvNWLECEnSiBEj9NJLL%2Bnw4cPKz89XYmKiWrdubXtsREUwpQgAAKqdxx9/XPPnz1fv3r3l5eWlgQMHaurUqbb1GRkZ%2Bu233yRJo0aNUl5eniZPniyLxaKbb75Z//jHPxQeHi5JGj58uLKysjR27FidOXNGnTt31vLly6%2BpHjfrtTy160%2BiqMjVFTiel1f1u67q%2BCnFwEDJYqlen1IMTt7q6hIcp3ZtqVMnadcuPqV4Pbv0KcX27fmUooM88ojjj7lwoeOPeT1jShEAAMDJmFIEAACG/oi/fVjd0XABAABDNFzmMaUIAADgZCRcAADAEAmXeTRcAADAEA2XeUwpAgAAOBkJFwAAMETCZR4JFwAAgJORcAEAAEMkXObRcAEAAEM0XOYxpQgAAOBkJFwAAMAQCZd5JFwAAABORsIFAAAMkXCZR8MFAAAM0XCZx5QiAACAk5FwAQAAQyRc5pFwAQAAOBkJFwAAMETCZR4NFwAAMETDZR5TigAAAE5GwgUAAAyRcJlHwgUAAOBkJFwAAMAQCZd5NFwAAMAQDZd5TCkCAAA4GQkXAAAwRMJlHgkXAACAk5FwAQAAQyRc5tFwAQAAQzRc5jGlCAAA4GQkXAAAwBAJl3kkXAAAAE5GwgUAAAyRcJlHwwUAAAzRcJnHlCIAAICTkXABAABDJFzmkXABAAA4GQkXAAAwRMJlHg0XAAAwRMNl3jVNKf7yyy9q3ry5jh49arjdt99%2Bq%2BbNm6uwsLBSRUVFRemNN96o1L4AAADXmyqdcBUWFmrRokX69NNPde7cOYWHh2vu3LkKCwtzdWkAAFQbVTHhslgs%2Bvvf/67t27fLw8NDffr00aOPPiofH58y286dO1fvv/%2B%2B3bKSkhJFR0dr4cKFmjVrlj744AN5eHjY1teoUUO7d%2B%2BucD1V%2Bqb5Z555Rnv27NFbb72lHTt2qFGjRpo8ebKrywIAAC42e/Zs5eTkaNOmTUpKSlJKSooWL15c7raJiYnav3%2B/7WvPnj26%2Beab1a9fP9s2EydOtNvmWpotyUTDlZGRodjYWHXo0EGdO3fWQw89pLy8PLtttm/frl69eqlDhw763//9X50/f9627rXXXlNUVJQiIyM1ePBg7dixo9zz7Nu3T8OGDVNkZKQ6d%2B6sOXPm2I7j5%2BenmTNnqkGDBvLx8dGYMWOUnp6uU6dOVfayAADAFUpLHf/lTNnZ2dq2bZseeeQR1a1bV/Xq1dO0adO0ceNGXbhw4Xf3X7dunW688UZ1797dYTVVekpxzpw5qlu3rr7%2B%2BmudO3dOsbGxWrlypWbNmmXb5qOPPtLbb7%2BtgoICjR49Wi%2B99JLi4uK0Y8cOrVy5Ui%2B%2B%2BKJatGihzz//XJMmTdKnn36qBg0a2J0nISFB48aN05AhQ5STk6PJkydrw4YNGjNmjKZPn2637YkTJ%2BTl5SU/P78KX0dmZqaysrLslgUGBis4OKQSo4I/kmeVnhAv61JSfVliXT3Uru3qChynVi3779VJZKSrK3CcFi3sv1cXe/e67NTOaJDKe/0NDg5WSIj519%2BUlBR5enqqefPmtmXh4eE6e/as0tLS7JZfKTc3V6tWrdJrr71mt/ybb77Rpk2bdPLkSTVr1kyzZ89WREREhWuq9EvWqlWrJEk%2BPj7y8fHR7bffrj179thtc//99ysgIEABAQEaMGCAvvrqK8XFxemNN97QPffco9atW0uS%2BvTpo9dee00fffSRxo0bZ3eMnJwc1apVS%2B7u7goODtb69evl7l42mPvtt9/0xBNPaMyYMfL19a3wdWzYsEErVqywWzZ5cpymTImv8DGqCi8vV1fgWIGBrq7AOW64wdUVOFinTq6uwPH%2B%2B7urWrni93e18Prrrq7AsdzcXF2BQ5X3%2BhsXF6f4ePOvvxaLRX5%2Bfnb9gr%2B/vyTp9OnThvuuW7dOf/nLX9SsWTPbstDQUHl4eGjSpEny9/fXihUrFBsbq08//VRBQUEVqqnSDdfevXu1dOlSHT16VIWFhSopKbE1UJfcdNNNtn/Xr1/fNtWXnp6ubdu2ac2aNbb1VqvV7uIumTt3rmbPnq3Vq1frjjvuUHR0tJo0aWK3TWZmpsaNG6dWrVqVSb1%2BT0xMjKKiouyWBQYGq6jomg5z3fPyUrW7poICV1fgWB4eF5utvDyppMTV1ThO4I%2B7XF2C49SqdbHZOnBAOnvW1dU41oQJrq7AcVq0uNhsjRwpHT7s6mqqBWckXOW9/gYHB1d4//fff18JCQnlrjPqBdwMGtcLFy5o/fr1eu655%2ByWX3l/%2BIwZM5SUlKQtW7Zo2LBhFaq3Ug1XUVGR4uLiFBMTo1deeUW1atXSsmXLytyH5XHF3Ii3t7ckyd3dXQ899JBiY2N/91x33323unfvrm3btumLL77QoEGDtGTJEvXs2VPSxebtvvvuU48ePTRnzpxy0y8jISEhZeLL6taYVFfFxa6uwDlKSqrZteXnu7oCxzt7tvpdlwunq5zm8OHqeV3VRHmvv9ciOjpa0dHR5a7bsWOH8vPzVVJSYutFLBaLJKlOnTpXPeZ3330nq9Wqzp07G57bw8NDDRo0KDMlaqRSN80XFBSooKBAEyZMUK3/3stwuJx3Eenp6bZ/nzhxQvXq1ZMkNWrUSD/88IPdtidOnJDVai1zDIvFosDAQA0ePFjLly/XAw88oLffflvSxVhw7Nixuueee/Too49ec7MFAAB%2BX1W7ab5Vq1YqLS1VamqqbVlycrJq166txo0bX3W/r7/%2BWp06dbLrJ6xWqxYuXKgff/zRtqyoqEgZGRkKDQ2tcE2V6lDc3Nzk7u6uXbt2qaioSKtWrVJmZqays7NVfNlb83Xr1ikvL08ZGRlKSkqypVIxMTH65JNPtH37dpWUlOibb77RgAEDtH//frvznDx5UlFRUfr6669VWlqqgoICHTlyxHaBzz33nNq3b69JkyZV5jIAAEAFVLWGKzAwUP3799fChQuVnZ2t48ePa8mSJYqJiZHXf29oHjNmjD7%2B%2BGO7/Q4fPqymTZvaLXNzc9PJkye1YMECZWVl6cyZM1q0aJG8vb3Vq1evCtdUqYYrICBADz30kObMmaNu3brp7NmzWrRokS5cuKB7771XxcXFcnd3V9%2B%2BfXX33Xdr0KBB6tKli0aOHClJ6tq1qxISEvT444%2BrXbt2mj9/vh577DG1adPG7jwNGjTQE088oaefflrt27dX79695ePjoylTpkiSNm7cqI8//lgRERF2X%2B%2B9915lLgsAAFQTjz/%2BuEJCQtS7d28NGjRInTt31tSpU23rMzIy9Ntvv9ntk5WVpYCAgDLHSkxM1P/7f/9Pd911l3r06KGjR49q7dq1tlm%2BinCzljeP9ydXHe/hqo43zefmuroCx/L0vPjJS4ulet3DFZy81dUlOJpZd2AAABG/SURBVE7t2hc/dblrV/W7h%2Bsa3qlf9yIjL37qsn376ncPl4tesrt0cfwxd%2B50/DGvZ9XsSUYAAMDRquKf9rnecJc5AACAk5FwAQAAQyRc5pFwAQAAOBkJFwAAMETCZR4NFwAAMETDZR5TigAAAE5GwgUAAAyRcJlHwgUAAOBkJFwAAMAQCZd5NFwAAMAQDZd5TCkCAAA4GQkXAAAwRMJlHgkXAACAk5FwAQAAQyRc5tFwAQAAQzRc5jGlCAAA4GQkXAAAwBAJl3kkXAAAAE5GwgUAAAyRcJlHwwUAAAzRcJnHlCIAAICTkXABAABDJFzmkXABAAA4GQnX/2/vzmOiutowgD/joOIKIkJdiG2NTVUcF4LaVkWWdrDSkqIgSsVaSkmLiNU6LchnUEECKrURtIpGqTGVuNV9AUTcF6gRByoaNYWwOC5gA%2BIMDPP94cd8jAJicLh3hueX8Mece%2Bo8yaH6vufeOUNEREQt4g5X27HgIiIiohax4Go73lIkIiIiMjLucBEREVGLuMPVdtzhIiIiIjIy7nARERFRi7jD1XYsuIiIiKhFLLjajrcUiYiIiIyMO1xERETUIu5wtR13uIiIiIiMjDtcRERE1CLucLUdCy4iIiJqEQuutuMtRSIiIiIj4w4XERERtYg7XG3HHS4iIiIiI%2BMOFxEREbWIO1xtx4KLiIiIWsSCq%2B14S5GIiIjIyFhwERERUYvq69/8T3u4ceMGPv74Y/j5%2Bb1ybmpqKlxdXSGTyeDr64v8/Hz9NbVajWXLlmHcuHEYM2YMFixYgMePH79WFhZcRERE1CJTLLgOHjyIsLAwDB48%2BJVz09PTsW7dOsTFxeHy5ctwcXFBSEgInj59CgBYvXo1/vrrL%2BzduxeZmZl49uwZIiMjXysPCy4iIiIyO2q1GmlpaRg1atQr5%2B7evRszZszAhAkT0K1bN4SGhgIATp06hbq6Ouzfvx8LFy6Eg4MDbGxs8NNPPyErKwv3799vdR4%2BNE9EREQtMsaOlEqlwoMHDwzG%2BvXrBzs7uzfy5/v6%2BrZ6bkFBAT799FP9a4lEgmHDhkGpVGL48OGoqqrCiBEj9NeHDBmCbt26IT8/H/b29q16DxZcTejcWegEb5ZKpUJaWhpmzpz5xn6RxaBfP6ETvFkqlQrr15vfOsHdXegEb4xKpULa%2BvXmt0YAoNMJneCN0a/T8ePmt04CMcavx/r1aUhKSjIYmz9/PsLCwt78m71CRUUFrK2tDcasrKzw%2BPFjVFRU6F831rt379d6josFVwfw4MEDJCUlwc3NjX/5iBjXSfy4RqaB62QaZs6cCTc3N4Oxfq/RSR84cAAKhaLJa3FxcfDx8Wn1nyWRSJodb%2B5aS/9dU1hwERERUbuzs7NrU0Hs7e0Nb2/vN5KlT58%2BqKysNBirqKjAe%2B%2B9BxsbGwBAZWUlunfvDgDQ6XSorKxE3759W/0efGieiIiIOrSRI0dCqVTqX2u1WhQUFEAmk8HBwQHW1tYGx0QUFhaitrYWjo6OrX4PFlxERETU4Xh6eiInJwcA4O/vj7179%2BLSpUt4%2BvQpEhMTYWlpCTc3N0ilUvj5%2BWHdunUoLi7Go0ePEBcXB7lcDltb21a/H28pdgD9%2BvXD/PnzX%2BveOLU/rpP4cY1MA9eJAEAul6O0tBRarRb19fUYOXIkAOD48eMYOHAg7t27pz9na/LkyVAoFIiIiMCjR4/g6OiIzZs3o2vXrgCAsLAwVFdXw8fHB1qtFq6uroiOjn6tPBKdzow%2BmkJEREQkQrylSERERGRkLLiIiIiIjIwFFxEREZGRseAiIiIiMjIWXERERERGxoKLiIiIyMhYcBEREREZGQsuIiIiIiNjwUVERERkZCy4iIiIiIyMBVcHc/DgQaEjUCs0fKEqERGZBxZcHcx//vMfoSNQKwQFBQkdocOrrq7GtWvXUFRU1OT13377rZ0TUUtUKhVqamqavMZGk8SABZcZ0Wg0r/zhd5WbBq6TsHJycuDm5oZZs2ZBLpdj8eLFL/1jvnHjRoHSUWO3b9/GJ598AhcXF4wfPx6JiYmor683mMNGk8TAQugA9ObIZDJIJBKhY9ArTJw48ZVzamtr2yEJNWf16tWYM2cOgoKCUFpaiqioKISEhGDLli3o0qULABbFYhEbG4vx48djw4YNKCkpwapVq1BSUoK1a9fq53CtSAwkOv4mmo2goCDY2NjA19e3yes6nQ7ffPMNbty40c7JqDEfHx84ODhgypQpTV7X6XRYtmwZlEpl%2BwYjPScnJ1y5cgVSqRTA893j4OBgWFtb49dffwUAjBo1CtevXxcyJgFwdnbG%2BfPn9YXwkydPEBgYiHHjxmHp0qUAuFYkDtzhMiPx8fHw9fVFQEAARo8e3eQc7oAJ75dffsGcOXMQHh6Od999t8k50dHR7RuKDPTu3Rv//POPfn26dOmCDRs24Msvv0R0dDSio6O5ayISlpaWqKiogL29PQDAysoKKSkp8Pf3h62tLUJCQrhWJAp8hsuM2NraYtOmTc0%2BOAoA3t7e7ZiImjJ48GAkJCTg9u3bzc5xdnZux0T0ounTpyM4OBgnT57Uj/Xo0QNbt25FQUEBAgMDX3pOiIQhl8sRGhqKq1ev6sfs7Oywfft27NmzBz///DMLLhIF3lIkImrCtm3bYGFhgTlz5hiMazQabN26Ffv27UN6erpA6aiBRqNBQkICevXqhfDwcINrFRUVWLt2Lfbt24eCggKBEhI9x4LLTOXl5eHAgQMoLy9HcnIy6uvrkZ6eDrlcLnQ0%2Bh%2BNRoO0tDT9P%2BhZWVnYs2cPHBwcEBYWhh49egickIiI3hTeUjRDhw4dwldffYVnz57hzJkzAIAHDx4gNjYWqampAqejBitWrMCRI0cAAHfv3sUPP/yA4cOH4/79%2B4iJiRE4HTXIy8vDypUrERoaCgCor6/HiRMnBE5FL9JoNNixY4f%2BdVZWFkJDQxEfH4/q6moBkxE9x4LLDG3evBkpKSmIjY3VPyRvb2%2BPTZs24ffffxc4HTXIzMxEcnIyAODAgQNwcXFBaGgoVq5cqS%2BUSVhsXkxHcw1MeXk5GxgSBRZcZqi4uBhjx44FYPipxKFDh%2BLhw4dCxaIXqNVq9O3bFwBw9uxZuLq6Anj%2BcPbTp0%2BFjEb/w%2BbFdLCBIbFjwWWGBgwYgCtXrrw0fvjwYQwcOFCARNSUoUOHYt%2B%2BfTh69Cju3r2rL7guXryIQYMGCZyOADYvpoQNDIkdz%2BEyQ%2BHh4fjuu%2B/g7u6Ouro6xMTEoLCwENeuXTM4fZmEFRkZCYVCgYqKCixfvhxWVlaorKxEaGgo4uLihI5H%2BH/zMn78eINxNi/i09DAWFpasoEhUeKnFM3UnTt3sHv3bhQVFaFTp05wcHCAr69vswdtkniUl5fjrbfeEjoGAThx4gQiIiLg7u6Oo0ePYtasWQbNCz/1Kx7Xr1/XNzBLly6Ft7c3Kisr4erqiri4OHh6egodkTo4FlxE7SgtLa3Vc2fOnGnEJNRabF5MGxsYEgsWXGYoIiKi2WtarRYJCQntmIYac3Nza9U8iUSCzMxMI6chMm1sYMiU8BkuM6RWqw1e63Q6lJWV4c6dO/j8888FSkUAcOrUKaEj0Gtg8yJumzZtatU8iUTCgosEx4LLDCUmJjY5fvHiRR7YKDL379/HkSNHUF5ejsjISACAUqmEo6OjwMkIYPMidmxgyJTwlmIHM3XqVBw7dkzoGATgwoUL%2BP777zF69Gjk5ubixo0bKCsrg5eXF5YvXw4vLy%2BhI1IzGpqX6OhooaNQI2xgSMx4DpcZ0mg0L/1UV1cjOzubX3EhIomJiVizZg22b9%2BuP%2BOpf//%2BSE5OxoYNGwRORy354IMPcPnyZaFjUCMXLlyAXC7HmTNn8McffwAAysrKMHfuXBw%2BfFjgdES8pWiWZDKZwSGNDaRSKX788UcBElFT7t69q3%2BIvvF6jRs3DiUlJULFokY0Gs1LY7W1tcjJyWHzIjINDYyHhwdkMhmA/zcwK1as4I4xCY4FlxlKTU19qeCytLTEoEGDYGNjI1AqelGfPn1QWFiIYcOGGYyfO3cOtra2AqWixti8mA42MCR2LLjM0IunYpM4ff311wgODsaMGTOg1Wqxbds23Lp1C8eOHcOSJUuEjkdg82JK2MCQ2PGheTMxceLEVs89d%2B6cEZPQ6zh//jx27dplcKimv78/PvzwQ6GjEZmUnTt3YuPGjZgxYwa2bNmCxYsXGzQwAQEBQkekDo4Fl5nYv39/q%2Bd%2B8cUXRkxCZNrYvJguNjAkZiy4OhiFQsHDGkVCo9EgJSUFZ8%2BehUqlQufOnWFvbw8PDw/Mnj0bFha84y8ENi9EZAz8G90MabVa7Nq1C0ql0uBTViqVCrdu3RIwGTW2dOlS5Obm4rPPPtN/11tpaan%2BWa6YmBiBE3ZMrS2iFAoFCy4RYQNDYscdLjMUHR2N06dPw8nJCcePH4eXlxcKCwthYWGBiIgIODk5CR2R8PzTU3/%2B%2BScGDBhgMF5cXIzp06fjypUrAiWjBq9qXngWl3gsWbKkyQbm8OHD%2BOijj9jAkOBY8puhjIwM7N27F/b29khPT0d8fDx0Oh1WrVqFwsJCFlwiYWVlhV69er00bm1tjZ49ewqQiF60cuXKZpsXHk4rLtnZ2U02MH5%2Bfpg%2BfToLLhIcT5o3QzU1NbCzswMAWFhYoLa2FhKJBIsWLcLmzZsFTtexNT79X6FQYNmyZcjLy8OTJ09QVVWFgoICxMTEICoqSuiohOfNS1paGtauXQupVIr4%2BHjs378fY8aMQWFhodDxqBE2MCR2vKVohmbPno2xY8ciPDwcvr6%2B8PX1RUBAAAoKChAYGIicnByhI3ZY77//vsG5Tjqd7qVznnQ6HaRSKfLz89s7Hr3AyckJOTk5kEgkGDt2LC5fvozOnTujpqYGU6dOxenTp4WO2KE1vs2bnZ2No0ePYt68eRg8eDCkUimKioqQmpoKuVyuPxSVSCgsuMxQfn4%2BFi5ciIMHDyIrKwsKhQLdu3dHdXU1AgIC9F/qSu2vtc9l1dXV8aPsIsDmRdzYwJApYcFlhoKDgzFt2jR4eHigZ8%2BeKCoqQkFBAfr3749Ro0YJHY9eQavVIjAwEDt37hQ6SofH5kXc2MCQKWHBZYZiYmJw6tQpPHz4EJMmTcK0adPg6uqKbt26CR2NGqmqqkJycjKUSiVqa2v14w8fPoRarcbZs2cFTEcAmxdzwAaGxIIFlxlTKpXIyMhAeno6SktL4eLiAi8vL3h4eAgdjQAsXrwY9%2B7dw6RJk7B161Z8%2B%2B23uHnzJlQqFdasWYO3335b6IgdHpsX08EGhsSOBVcHoVQqkZCQgKtXr%2BLvv/8WOg4BmDBhAk6cOAErKyvIZDLk5eUBAFJSUlBTU4MFCxYInJAasHkRPzYwJHYsuMxYWVkZMjIykJGRgdzcXIwYMQKenp6YN2%2Be0NEIgLOzM86fP48uXbrA2dkZ586dQ9euXVFXV4fJkyfjwoULQkekJrB5ESc2MCR2PIfLDCUnJ8PHxwfu7u44dOgQpkyZgpMnTyItLY3FlojIZDJERkZCrVZjyJAhSEpKQlVVFU6fPg2tVit0PGqkrKwMO3bswNy5c%2BHv7w%2B1Wg2FQiF0LGpEq9Xqb/V27doVarUaADBv3jzs2rVLyGhEAHjSvFnKzs6Gl5cXkpKSXjp1mcQjOjoaUVFRkEgkCA8PR1hYGLZs2YJOnTph0aJFQscjPG9eMjMzcfPmTTg6OmLq1KmIi4vj/1ci1NDAxMbG6huYkJAQXLp0iQ0MiQJvKRK1o3v37jV7rba2Fv/%2B%2By%2BkUimsra3xzjvvtGMyaoqfnx88PT3h6enJIkvkiouLERUVhZSUFOTm5iIsLAzV1dX6BiYoKEjoiNTBseAiakcNBzU2dUBjg4ZrfD6IqGVsYMiUsOAiakclJSWtnjtw4EAjJiEyfWxgyJSw4CIiIpPEBoZMCQsuIiIiIiPjsRBERERERsaCi4iIiMjIWHARERERGRkLLiIiIiIjY8FFREREZGQsuIiIiIiMjAUXERERkZH9FxkxNGV5dTZvAAAAAElFTkSuQmCC\" class=\"center-img\">\n",
       "    <img src=\"data:image/png;base64,iVBORw0KGgoAAAANSUhEUgAAAlwAAAIRCAYAAACf2mMCAAAABHNCSVQICAgIfAhkiAAAAAlwSFlzAAAPYQAAD2EBqD%2BnaQAAADl0RVh0U29mdHdhcmUAbWF0cGxvdGxpYiB2ZXJzaW9uIDIuMi40LCBodHRwOi8vbWF0cGxvdGxpYi5vcmcv7US4rQAAIABJREFUeJzs3XlYlXX%2B//EXq6gki4I5iFqaqIiKuWRuSW58yyhLMb1yt1xwob6iqWM2YVZaLjk2WWM606KVlWlqZjlO%2Bmtz3HCjUgpcEtBDiAqynN8fjOfrEbxD7nM6cno%2BrutcyOfe3ven9Lx53fe58bBarVYBAADAaTxdXQAAAIC7o%2BECAABwMhouAAAAJ6PhAgAAcDIaLgAAACej4QIAAHAyGi4AAAAno%2BECAABwMhouAAAAJ6PhAgAAcDJvVxcAoNTevXu1du1a7d27VydOnFB%2Bfr6qVaumkJAQRUZG6p577tHdd98tDw8PV5cKALhOHvwuRcC1rFarkpOT9eabb0qSAgIC1LBhQwUGBurXX3/V0aNHlZeXJ0m6%2B%2B67tXjxYvn4%2BLiyZADAdaLhAlzsrbfe0l/%2B8hf5%2Bflp9uzZ6tevn3x9fW3L8/Pz9fbbb2v%2B/PkqKSnR2LFjlZiY6MKKAQDXi3u4ABdbvXq1JGnEiBF68MEH7ZotSfLz89PIkSM1fPhwSdKbb76pgoKC37tMAIAJNFyAi/3000%2BSpKZNmxquN2bMGK1cuVKfffaZqlWrJkmaNGmSIiIi9PLLLysvL0/PPfec7r77bkVFRaljx45KSEhQamrqNff51VdfacKECercubNatmypjh07avjw4Vq3bp1KSkrK3SYnJ0eLFi1SXFycoqOjFRkZqTvvvFNjx47VN998U%2B42MTExioiI0L///W9t2rRJffr0UYsWLbR161ZJ0vPPP287j/Pnzys5OVndunVTVFSUevbsqcWLF6u4uFiStGfPHo0aNUrt27dX69atNXDgQH355ZcOq/WOO%2B5QRESEdu3apaysLM2ePVvdu3dXy5Yt1alTJyUmJurnn3%2B%2B5pwCQHlouAAXq1GjhiRp9%2B7dhusFBwerU6dOCg4Oto1dbrwuXLig4cOH65133lHdunXVvn17FRYW6rPPPtOgQYOUkpJSZn%2BLFi3S8OHDtXXrVvn7%2B6tDhw4KDg7WV199paSkJE2ZMsXW5FyWmZmp/v3765VXXtGxY8cUERGhO%2B64Q35%2Bftq2bZuGDRumtWvXXvMcjh07pqlTp6patWrq0qWLAgIC7M6juLhYI0eO1Pr163XbbbepYcOGysjI0LJlyzR//nx9/fXXGjp0qLKystSyZUvVqFFD%2B/bt09ixY3X48GGH1Hq5ljNnzmjAgAHasmWLmjRpotatW%2BvcuXPauHGjhgwZol9//dXwvxcA2LECcKnHH3/c2rRpU2tERIR1wYIFVovFUuFtp02bZm3atKm1Q4cO1gceeMCanZ1tW2axWKz9%2B/e3Nm3a1PrQQw/ZbbdlyxZr06ZNrbfffrv1X//6l92yb7/91nrnnXdamzZtan3jjTfsls2cOdPatGlTa0xMjDUzM9M2XlxcbH3uueds%2B8zLy7PbrkePHtamTZta7777buuSJUvKnMeSJUusTZs2tXbp0sU6YsQIu%2B3/9re/WZs2bWpt06aNtUePHtYPP/zQtuzcuXO2c5w9e7ZDa%2B3evbt1%2BvTp1vz8fNuyH374wRoVFWVt2rSpdeXKlWXOAwCuhYQLcLEnnnhCISEhslqtWr58uTp37qwhQ4Zo8eLF%2Bn//7//p4sWLv7mPnJwczZ07V7Vr17aNBQYG6sknn5Qk7d%2B/X2lpabZly5YtkyRNmTJF3bt3t9tX%2B/btlZSUJElatWqVrFd8rqZRo0Z64IEHNHnyZIWEhNjGPT09NWnSJHl6eurcuXPau3dvuXVeunRJ48aNu%2BZ5ZGdna/bs2apZs6Zt7JFHHpGnp6cuXLig8PBw3X///bZl/v7%2BevDBByWpTMJlttbCwkI99dRTtsRLkpo0aaJu3bpJKp1TAKgonsMFuNif/vQnrV27Vi%2B88II2b96soqIi7dq1S7t27ZIk%2Bfj4qGPHjrrvvvt0zz33yNu77F/bRo0aqXnz5mXG27Ztq5o1a%2Br8%2BfPat2%2BfbrnlFp0%2BfVqHDh2SJPXo0aPcmnr27CkPDw%2BdPHlSP//8sxo1aiRJGj169DXPo3r16qpdu7aysrKUlZVV7jp33nlnufVf1rx5c9uxLqtRo4aCg4OVnZ2t3r17l9mmfv36kkqbziuZrTU2NlZ%2Bfn5lxhs0aCBJslgs19w/AFyNhgu4AdStW1cvvviiZsyYoc8//1w7d%2B7Ud999pzNnzqiwsFA7duzQjh079Nprr2nZsmW2N/3LrnXDvaenp8LCwvT999/rxIkTkmR3E31ycvI1H6Tq7e2twsJCpaWl2TVB%2Bfn5%2BuKLL7Rv3z5lZ2crPz/floKdO3dOkq55w314eLjhPISFhZU7fjllqlev3jWXFRUVlVnmjFqrV68uqTQBA4CKouECbiC1a9fWwIEDNXDgQEmlN5l/8803Wrdunfbs2aMffvhBjz76qNavX2/38NNatWpdc5/%2B/v6SpPPnz0uS3c3eX3zxxW/WdLkxkUovo02cOFG//PLL9Z3Yf115qdAZy69kttabbrqpUtsBQHlouIAb2K233qpbb71VDz/8sFatWqVnn31WaWlp2rhxo%2BLi4mzreXl5XXMflxOdy0mWp2fprZt%2Bfn7at29fhWu5cOGCxo8fr6ysLDVo0EBPPPGE2rdvr4CAANtlwpiYGFuS5kpVqVYAfww0XEAVMWzYML355ptKT0/XDz/8YLfs8q/%2BKc/lZOtyYhMYGCip9HLb%2BfPnK5wa/fvf/1ZWVpY8PT21fPly3XLLLdc8lqtVpVoB/DHwKUXAhbZu3arZs2dr6dKlFVr/crN05SfnJOno0aPlrl9cXKzjx49L%2Br%2Bbva%2B83%2Bt6PmmXnp4uqfQm9fIamJ9%2B%2BqnMjeuuUpVqBfDHQMMFuNC%2Bffu0Zs0avfbaa8rIyDBc9/Tp07ZHH7Rq1cpuWWpqqu2J9Vf6z3/%2BowsXLsjDw0Nt27aVJIWEhCgyMlKS9N5775V7rLS0NMXFxelvf/ubbezyfWLX%2BrVCL7/8su3PVz8w9fdWlWoF8MdAwwW40IgRI1SnTh3l5%2BdryJAh2rZtW7kNwN69ezV69GgVFhYqKipKXbp0sVtevXp1TZ8%2BXWfPnrWNWSwWPffcc5JKH8dw880325aNHTtWkvTJJ59o1apVdvv6%2BeefNWnSJB05csRuf5cfO3H69Gnbr%2BSRZPtVPAcOHNDtt98uqfRmf1eqSrUC%2BGPgHi7AhYKDg/X3v/9dkyZN0s8//6yxY8cqMDBQDRo0UHBwsAoKCpSWlmb7pF3btm21dOnSMjfJ33PPPUpJSVFMTIyioqLk4%2BOjvXv36vz586pVq5Zmzpxpt37v3r316KOPavny5Xr22We1atUq3XrrrbJYLDp8%2BLCKi4vVoUMHTZo0ybZN69at1bVrV3355ZeaOHGiWrduLR8fHx06dEienp76%2B9//rk2bNuk///mP/vGPf%2Bjw4cNKSEhQu3btnD%2BRV6lKtQL4Y6DhAlysWbNm2rBhgz755BN98cUXOnLkiH744QddunRJfn5%2Bqlu3ru677z7FxsaqR48e5T43y9fXV2%2B99Zb%2B%2Bte/6rPPPtPp06dVs2ZNdevWTVOmTCnzMFGp9An3d955p958803t3btXX3/9tQICAtSmTRvFxcXpgQcekK%2Bvr902Cxcu1IIFC/T555/rwIEDql27tnr16qWxY8eqUaNGqlevng4ePKh9%2B/YpLS3N8NOTzlaVagXg/jysV/7eDgBVyvTp0/Xhhx9qyJAhmj17tqvLAQBcA/dwAQAAOBkNFwAAgJPRcAEAADgZDRcAAKiSvvzyS915551KTEw0XK%2BkpEQLFy5U586d1bp1aw0fPtzu2YcWi0WJiYlq27at2rdvr5kzZyo/P9%2BhtXLTPAAAqHJee%2B01vf/%2B%2BwoODtbNN9%2BshQsXXnPdlStX6vXXX9frr7%2Bu%2BvXr6/nnn9e%2Bffu0bt06eXh4aNy4cTp//rxeeuklFRcXa9y4cWrbtq1mzZrlsHpJuAAAQJVTrVo1vf/%2B%2B2rYsOFvrvvee%2B9p9OjRatasmfz9/TVt2jQdO3ZMe/fuVXZ2trZt26Ynn3xSderUUd26dTVlyhStXbtWly5dcli9PIcLAAD87jIzM5WVlWU3FhISotDQ0AptP3To0AqtV1BQoKNHj6ply5a2MX9/fzVo0EAHDhxQXl6evL29FRERYVseGRmpCxcuKC0tzW7cDBqu8pTzYMkq7ZZbpB9%2BkG67TUpLc3U1juNuv5LF21uqX186flwqKnJ1NQ7z8oayvzy6qqpVS3rkEemf/5Ryc11djWONHu3qChzHw0OqVk0qKJDc7aaZ6tVddGAnvC%2BuWbJES5cutRtLSEjQxIkTHXqcnJwcWa1WBQQE2I0HBATo7NmzCggIkL%2B/vzw9Pe2WSbL79WZm0XD9EQQGSl5epV9x4/L0LP1HzZMr/TeqatVK//NUq%2BbqSvBb3O3nZncUHx%2BvmJgYu7GQkJDftQYPD49yf3vHlcsdhYYLAAAYc8IPgqGhoRW%2BfGhGUFCQPD09lZOTYzdusVhUu3ZtBQcH69y5cyouLrb9ii%2BLxSJJql27tsPq4EdpAADgtnx9fdW0aVMdPHjQNpaTk6P09HRFRUWpRYsWKikpUWpqqm35/v37ddNNN5X7e2gri4YLAAAY8/R0/MuJTp8%2Brb59%2B9qetfXwww/r9ddf15EjR3Tu3DklJyerZcuWatWqlYKCghQbG6t58%2BYpOztbJ06c0MKFCxUfHy8fHx%2BH1cQlRQAAYOwGvLc0KipKklT03w8Zbd26VZKUkpKiwsJCpaWl2R7rMGjQIGVlZWnkyJE6f/68OnbsqCVLltj29fTTT2vOnDnq1auXfHx81K9fP02ePNmh9dJwAQCAKiclJeWay%2BrXr293iVCSJk6ceM1PQN5000168cUXHVrf1Wi4AACAsRsw4apqmEEAAAAnI%2BECAADGSLhMo%2BECAADGaLhMYwYBAACcjIQLAAAYI%2BEyjRkEAABwMhIuAABgjITLNBouAABgjIbLNGYQAADAyUi4AACAMRIu02i4AACAMRou05hBAAAAJyPhAgAAxki4TGMGAQAAnIyECwAAGCPhMo2GCwAAGKPhMo0ZBAAAcDISLgAAYIyEyzRmEAAAwMlIuAAAgDESLtNouAAAgDEaLtOYQQAAACcj4QIAAMZIuExjBgEAAJyMhAsAABgj4TKNhgsAABij4TKNGQQAAHAyEi4AAGCMhMs0ZhAAAMDJSLgAAIAxEi7TaLgAAIAxGi7TmEEAAAAnI%2BECAADGSLhMYwYBAACcjIQLAAAYI%2BEyjYYLAAAYo%2BEyjRkEAABwMhIuAABgjITLNGYQAADAyUi4AACAMRIu037XGfzggw/UuXPn3/OQAADALE9Px7/%2BYKr0GWdnZ2vUqFGKiIhQQUGBq8sBAAC/k%2BPHj2vUqFFq06aNOnXqpPnz56ukpKTMeiNHjlRUVJTdq3nz5lq6dKkk6ZFHHlFkZKTd8vvuu8/h9VbZS4qpqal67LHHdPvtt7u6FAAA3NsNlkhZrVYlJCSoSZMm2r59u7KzszVmzBjVqVNHI0aMsFt3xYoVdt//%2Buuvuueee9SrVy/b2DPPPKP%2B/fs7teZKzeCAAQNsneFlycnJGjVqlA4cOKCHH35Ybdu21Z133qmnnnpKhYWFZfbxzTfflEmmEhMTNX36dNv3n376qWJjY9W6dWvde%2B%2B9%2Bvjjj23Lzp49q5deekkDBw6szCkAAIAqKiUlRampqZo1a5YCAgLUuHFjjRkzRqtXr/7NbRctWqTevXsrIiLid6j0/1Qq4erbt6/Wr1%2BvhIQE29jnn3%2BuiRMnasqUKerVq5f%2B%2Bc9/KisrS4MGDVKTJk30yCOPXNcxjh49qunTp2vZsmXq0KGD9uzZozFjxqhhw4Zq3bq1OnXqJKm0cTMjMzNTWVlZdmMht9yi0MBAU/u9oTRrZv/VXfj6uroCx/Lxsf/qJkJCXF2B4wQF2X91Jx4erq7AcS6fizudkyRZrS48uBMSrnLff0NCFBoa%2BpvbHjp0SGFhYQq84r06MjJSP/30k/Ly8uTv71/udseOHdP69eu1ZcsWu/GNGzfq1Vdf1dmzZ9WqVSvNnj1bDRs2rMRZXVulG6758%2BfrxIkTCgsL04EDB5SVlaWePXuqT58%2B8vHxkbe3t%2BrVq6d27drpwIED132Md999VzExMbbGql27doqNjdVHH32k1q1bV6bscq1Zs6ZMWpcwebImTp7ssGPcMN5%2B29UVoCIq8I9NVTJokKsrcLw%2BfVxdASqiWjVXV%2BBYFy%2B68OBOaLjKff9NSNDEiRN/c1uLxaKAgAC7scvfWyyWazZcf/vb3zRgwAAFBwfbxho3bqzq1avrueeek6enp5KTkzVmzBht2LBBvg78wb5SDVdYWJiioqK0detWDRs2TJ999pm6du2qWrVq2brE9PR0FRUVqaioSH379r3uY6Snp2v79u12XajValWXLl0qU/I1xcfHKyYmxm4spF8/adUqhx7HpZo1K222Bg%2BWjhxxdTWOs369qytwLB%2Bf0mYrM1Mq5zJ8VbX6yzBXl%2BAwQUGlzdann0oWi6urcaz773d1BY7j4VHabBUUuDgVgqFy338rGIl7VCK%2BPHPmjDZt2qRPPvnEbnzOnDl23//lL39Rhw4d9N133zn0yQqVvmk%2BNjbWruEaN26cfv75Z02dOlXTpk3ToEGD5Ovrq6SkpHLv4SqP9Yq/GZ6enho0aJBmz55d2RIrJDQ0tGx8mZbm1GO6zJEj0p49rq7CcS5dcnUFzlFY6FbndtUVA7dgsbjfebljY2K1uud5uYQTEq5y338rKDg4WDk5OXZjlv/%2BFHRlenWlzz//XLfddpsaNGhguG9/f38FBgaWudxpVqVnsE%2BfPtq9e7dSUlJ04sQJxcTE6NChQ6pevbqGDh0qX19fWa1Wpaamlru9n5%2BfJNk1Y7/88ovtzw0aNND3339vt80vv/yi4uLiypYMAADcQFRUlE6ePGlrsiRp//79atKkiWrWrFnuNjt27FDHjh3txvLy8jRnzhydOXPGNmaxWGSxWBQeHu7QmivdcIWFhSkyMlIvvPCCunfvrpo1a6pevXo6f/68Dh48qIsXL2ru3Lny8vJSZmamXXolSeHh4fLy8tKuXbskSV999ZV%2B/PFH2/KHHnpIu3fv1ocffqjCwkIdPnxYAwYMKHOjGwAAcLIb7MGnzZs3V6tWrZScnKzc3FylpqZq%2BfLlGjJkiKTSe80v9xeXHTlyRE2aNLEb8/f31/79%2B/Xss8/q3LlzysnJ0dNPP63mzZsrOjraVI1XM3XGffv21bfffqt77rlHktSmTRsNGTJEQ4cOVZ8%2BfXTLLbdoxowZ%2Bv777zV16lS7bYODgzV16lTNmjVLffr00aZNm9SvXz8VFRVJKr2J7cUXX9Ty5cvVtm1bTZgwQSNHjlRsbKwkadasWYqKitKoUaMkld5UHxUVpY8%2B%2BsjMKQEAgKvdYA2XJC1evFjnzp1T165dNWLECA0aNEiDBw%2BWJKWlpenChQt262dlZdl9qvGypUuXqqCgQHfffbdiY2NltVr1yiuvyNPBl1E9rFdHT3C/zxJHR0u7d0tt27rXPVzHjrm6Asfy9ZXCwqQTJ9zqHq6XN9zi6hIcJiSk9FOXq1e73z1co0e7ugLH8fCQ/Pyk/Hz3u4erenUXHdgZH8399FPH7/MGVmWfNA8AAH4nN9iT5qsiGi4AAGCMhss0ZhAAAMDJSLgAAIAxEi7TmEEAAAAnI%2BECAADGSLhMo%2BECAADGaLhMYwYBAACcjIQLAAAYI%2BEyjRkEAABwMhIuAABgjITLNBouAABgjIbLNGYQAADAyUi4AACAMRIu05hBAAAAJyPhAgAAxki4TKPhAgAAxmi4TGMGAQAAnIyECwAAGCPhMo0ZBAAAcDISLgAAYIyEyzQaLgAAYIyGyzRmEAAAwMlIuAAAgDESLtOYQQAAACcj4QIAAMZIuEyj4QIAAMZouExjBgEAAJyMhAsAABgj4TKNGQQAAHAyEi4AAGCMhMs0Gi4AAGCMhss0ZhAAAMDJSLgAAIAxEi7TmEEAAAAnI%2BECAADGSLhMo%2BECAADGaLhMYwYBAACcjIQLAAAYI%2BEyjRkEAABwMhIuAABgjITLNBouAABgjIbLNGYQAABUOcePH9eoUaPUpk0bderUSfPnz1dJSUmZ9V5%2B%2BWU1b95cUVFRdq/s7GxJUkFBgWbPnq0OHTooOjpakyZN0tmzZx1eLw0XAAAw5unp%2BJcJVqtVCQkJCgoK0vbt2/Xmm29q06ZNWrVqVbnrx8XFKSUlxe5Vp04dSdL8%2BfO1e/durV27Vp9//rny8/M1Y8YMU/WVh4YLAABUKSkpKUpNTdWsWbMUEBCgxo0ba8yYMVq9evV17aeoqEgffvihpkyZovDwcAUHB2vatGnatm2bTp8%2B7dCauYerPMeOuboCx/L1Lf26fr106ZJra3GkW291dQWOFR0t7d4t9esn7dnj6moc5tF8q6tLcBgPj9Kv/ftLVvc5LUlSbq6rK3Acb2/Jz0%2B6eFEqKnJ1NY5VvbqLDuyEe7gyMzOVlZVlNxYSEqLQ0NDf3PbQoUMKCwtTYGCgbSwyMlI//fST8vLy5O/vb7d%2BamqqBgwYoGPHjqlBgwZ64okn1KVLF6WnpysvL0%2BRkZG2dRs3bqzq1avr4MGDqlu3rsmz/D80XAAAwJgTGq41a9Zo6dKldmMJCQmaOHHib25rsVgUEBBgN3b5e4vFYtdw3XzzzQoPD9fkyZNVr149vfvuuxo7dqzWrVunnJwcu20vq1WrlsPv46LhAgAAv7v4%2BHjFxMTYjYWEhFRoW4/LcXMFDBgwQAMGDLB9P3z4cG3YsEEff/yxunfv7pBjVAQNFwAAMOaEhCs0NLRClw/LExwcbEunLrNYLLZlv6V%2B/frKysqyrZuTk6MaNWpIKr0hPycnR7Vr165UbdfCTfMAAMDYDfYpxaioKJ08edLWZEnS/v371aRJE9WsWdNu3VdeeUXffvut3VhaWprCw8MVHh6uwMBAHTx40LYsNTVVhYWFatmypakar0bDBQAAqpTmzZurVatWSk5OVm5urlJTU7V8%2BXINGTJEktS3b1/t2rVLkpSbm6tnnnlGGRkZKigo0IoVK5Senq7%2B/fvLy8tLAwcO1KJFi5SRkaEzZ85o3rx56tOnj%2B2xEY7CJUUAAGDsBnzS/OLFizV79mx17dpVNWvW1ODBgzV48GBJpQnWhQsXJEmJiYkqLi7Www8/rIsXLyoiIkIrV660fQJx4sSJOn/%2BvPr376/i4mL16NFDc%2BbMcXi9Hlaru3242QHS0lxdgWP5%2BkphYdKJEzwW4kZ2%2BbEQbdu61WMhCtzssRC%2BvqV/jdztX053eyxEUJBksbjfYyEqeE%2B5482b5/h9Pvmk4/d5AyPhAgAAxm7AhKuqoeECAADGaLhMYwYBAACcjIQLAAAYI%2BEyjRkEAABwMhIuAABgjITLNBouAABgjIbLNGYQAADAyUi4AACAMRIu05hBAAAAJyPhAgAAxki4TKPhAgAAxmi4TGMGAQAAnIyECwAAGCPhMo0ZBAAAcDISLgAAYIyEyzQaLgAAYIyGyzRmEAAAwMlIuAAAgDESLtOYQQAAACcj4QIAAMZIuEyj4QIAAMZouExjBgEAAJyMhAsAABgj4TKNGQQAAHAyEi4AAGCMhMs0Gi4AAGCMhss0ZhAAAMDJSLgAAIAxEi7TmEEAAAAnI%2BECAADGSLhMo%2BECAADGaLhMYwYBAACcjIQLAAAYI%2BEyjRkEAABwMhIuAABgjITLNBouAABgjIbLNGYQAADAyUi4AACAMRIu02i4AACAMRou05hBAAAAJ7uuhuv48eOKiIjQ0aNHDdf75ptvFBERoYKCgkoVFRMTo3feeadS2wIAAAfz9HT86w%2Bmyp/xzz//rP79%2B6tz586uLgUAAPxOjh8/rlGjRqlNmzbq1KmT5s%2Bfr5KSknLXffvtt9W7d29FR0erX79%2B2rp1q23Z9OnT1aJFC0VFRdle7dq1c3i9Vfoerq%2B%2B%2BkpJSUmKjo7W6dOnXV0OAADu6QZLpKxWqxISEtSkSRNt375d2dnZGjNmjOrUqaMRI0bYrbtlyxa99NJLeu211xQVFaV169ZpypQp2rhxoxo0aCBJGjdunCZOnOjUmis9gxkZGRo1apTatWunjh076vHHH1dubq7dOtu3b1fPnj3Vrl07/e///q/y8/Nty9566y3FxMQoOjpa/fv3186dO8s9zr59%2BzRw4EBFR0erY8eOmjlzpm0/OTk5Wrlype66667KngYAAPgtN9glxZSUFKWmpmrWrFkKCAhQ48aNNWbMGK1evbrMuvn5%2BXriiScUHR0tb29vPfjgg/L399fevXtN1XC9Kp1wzZw5U3Xq1NGOHTt08eJFjRo1SsuWLdP06dNt63zyySd6//33lZeXp6FDh%2Br1119XQkKCdu7cqWXLlunVV19Vs2bN9MUXX2j8%2BPHavHmz6tWrZ3ecpKQkjR49Wg8%2B%2BKDOnDmjCRMmaM2aNRo2bJhiY2MllTZllZWZmamsrCy7sZDCQoWGhFR6nzccHx/7r%2B4iOtrVFThWs2b2X92Eh4erK3Ccy%2BfiTud0mXeVvt5hz8vL/qu7KCpydQWOVe77b0iIQkNDf3PbQ4cOKSwsTIGBgbaxyMhI/fTTT8rLy5O/v79t/L777rPbNjc3V3l5eapdu7Zt7Ouvv9aWLVt06tQp3XbbbZoxY4aioqIqe2rlqvRfseXLl0uS/Pz85Ofnpy5dumj37t1264wYMUKBgYEKDAzUvffeqy%2B//FIJCQl655139NBDD6lly5aSpN69e%2Butt97SJ598otGjR9vt48yZM6pRo4Y8PT0VEhKi1atXy9OB0eaaNWu0dOlSu7GECRM0cdIkhx3jhlGB/4mrlKv%2Bf3Mbb7/t6gocytfVBTiBu/3sIkm%2BbvgfqlYtV1fgWFf1Jr9geHHWAAAgAElEQVQvJ1xSLPf9NyGhQpf2LBaLAgIC7MYuf2%2BxWOwaritZrVbNmjVLkZGR6tSpkyQpPDxcXl5eGj9%2BvAICArR06VKNGjVKmzdvVnBwcGVOrVyVbrj27NmjRYsW6ejRoyooKFBxcbGtgbqsYcOGtj/ffPPNtvus0tPTtW3bNq1YscK23Gq16rbbbitznFmzZmnGjBl67bXX1K1bN8XFxalx48aVLbuM%2BPh4xcTE2I2FFBZKJ0447Bgu5%2BNT2mxlZkqFha6uxnH69XN1BY7VrFlpszV4sHTkiKurcZhLX7tPY%2BzhUfrXqbBQslpdXY1jnT/v6gocx8urtNnKzZWKi11dDa6l3PffCl5d8qhEzFxYWKjp06frxx9/1KpVq2zhzYQJE%2BzWmzp1qjZs2KCtW7dq4MCB132ca6lUw1VYWKiEhATFx8frjTfeUI0aNbR48eIy92F5XZXn%2Bv73RyhPT089/vjjGjVq1G8e6/7771f37t21bds2/etf/9IDDzyghQsX6u67765M6WWEhoaWjS/T0qRLlxyy/xtKYaF7ndeePa6uwDmOHHGrc3O3xkQqPSd3Oy93u1wllTZb7nheLuGEhKvc998KCg4OVk5Ojt2YxWKxLbtafn6%2Bxo8fr4sXL%2Brtt9%2B2uxR5NS8vL9WrV6/M5U6zKjWDeXl5ysvL09ixY1WjRg1J0pFyfiJPT0%2B3/fnkyZOqW7euJKlBgwb6/vvv7dY9efKkrOX8C2axWBQUFKT%2B/ftryZIlevTRR/X%2B%2B%2B9XpmwAAFAZN9hN81FRUTp58qStyZKk/fv3q0mTJqpZs6bdularVYmJifL19dXKlSvtmi2r1ap58%2Bbphx9%2BsI0VFhYqIyND4eHhpmq8WqXO2MPDQ56envr2229VWFio5cuXKzMzU9nZ2Sq64seJVatWKTc3VxkZGdqwYYMtlYqPj9emTZu0fft2FRcX6%2Buvv9a9996rlJQUu%2BOcOnVKMTEx2rFjh0pKSpSXl6cff/zR4ZMAAACqjubNm6tVq1ZKTk5Wbm6uUlNTtXz5cg0ZMkSS1LdvX%2B3atUuStH79eh07dkyLFi1StWrV7Pbj4eGhU6dO6ZlnnlFWVpbOnz%2Bv%2BfPny9fXVz179nRozZW6pBgYGKjHH39cM2fOlIeHhwYNGqT58%2Bdr6NCheuSRR5SQkCBPT0/16dNH999/v3Jzc9WrVy8NHjxYktS5c2clJSXp6aefVlZWlsLCwvTUU0%2BpVatWdsepV6%2Be5s6dq%2Beff14ZGRmqXr26unfvrkn/vaF95MiR%2Bu6771RSUqKioiLbJwpWrFih9u3bm5kXAABw2Q32HC5JWrx4sWbPnq2uXbuqZs2aGjx4sK3PSEtL04ULFyRJa9euVUZGRpm%2BIC4uTsnJyUpOTtazzz6r%2B%2B67T8XFxYqKitLKlSttV/AcxcNa3nW8P7q0NFdX4Fi%2BvlJYWOkHAdzpHq5bb3V1BY4VHV36ycu2bd3qHq6CfPf5J8bDo/Sv06VL7ncP11WPUazSvL2loCDJYnG/e7hc9sSir75y/D7/%2BynBPwo3evIKAABwihsw4apqaLgAAIAxGi7TmEEAAAAnI%2BECAADGSLhMYwYBAACcjIQLAAAYI%2BEyjYYLAAAYo%2BEyjRkEAABwMhIuAABgjITLNGYQAADAyUi4AACAMRIu02i4AACAMRou05hBAAAAJyPhAgAAxki4TGMGAQAAnIyECwAAGCPhMo2GCwAAGKPhMo0ZBAAAcDISLgAAYIyEyzRmEAAAwMlIuAAAgDESLtNouAAAgDEaLtOYQQAAACcj4QIAAMZIuExjBgEAAJyMhAsAABgj4TKNhgsAABij4TKNGQQAAHAyEi4AAGCMhMs0Gi4AAGCMhss0ZhAAAMDJSLgAAIAxEi7TmEEAAAAnI%2BECAADGSLhMo%2BECAADGaLhMYwYBAACcjIQLAAAYI%2BEyjRkEAABwMhIuAABgjITLNBouAABgjIbLNGYQAADAyUi4AACAMRIu05hBAABQ5Rw/flyjRo1SmzZt1KlTJ82fP18lJSXlrrtq1Sr16NFDrVq10oABA3Tw4EHbsoKCAs2ePVsdOnRQdHS0Jk2apLNnzzq8XhouAABgzNPT8S8TrFarEhISFBQUpO3bt%2BvNN9/Upk2btGrVqjLrfvbZZ1q0aJHmzZunb775Rt27d9djjz2mCxcuSJLmz5%2Bv3bt3a%2B3atfr888%2BVn5%2BvGTNmmKqvPDRcAADA2A3WcKWkpCg1NVWzZs1SQECAGjdurDFjxmj16tVl1n3vvff00EMP6Y477lD16tU1YcIESdIXX3yhoqIiffjhh5oyZYrCw8MVHBysadOmadu2bTp9%2BrSpGq/GPVzleHnDLa4uwaFCQqRBg6TVX4YpK8vV1TjOo/lWV5fgUB4ekq%2BkS1/vltWNTq2an4erS3Cc6Ghp92753tFW2rPH1dU4VMjx464uwXGsPpJCFVSYKRUWuroaBwtzdQEOk5mZqayr3pRCQkIUGhr6m9seOnRIYWFhCgwMtI1FRkbqp59%2BUl5envz9/e3W/Z//%2BR/b9x4eHmrevLkOHDigFi1aKC8vT5GRkbbljRs3VvXq1XXw4EHVrVvXzCnaoeECAACGrHL8D05r1qzR0qVL7cYSEhI0ceLE39zWYrEoICDAbuzy9xaLxa7hslgsdo3Z5XXPnj0ri8Vit%2B1ltWrVcvh9XDRcAADgdxcfH6%2BYmBi7sZCQkApt6%2BFR8QbwWut6eHgY7ud6jlERNFwAAMDQNT78Z0poaGiFLh%2BWJzg4WDk5OXZjl9Oq4OBgu/GgoKBy123atKlt3ZycHNWoUUNS6Q35OTk5ql27dqVquxZumgcAAIZKShz/MiMqKkonT560NVmStH//fjVp0kQ1a9Yss%2B6BAwds3xcXF%2BvQoUNq1aqVwsPDFRgYaPeYiNTUVBUWFqply5bmirwKDRcAAKhSmjdvrlatWik5OVm5ublKTU3V8uXLNWTIEElS3759tWvXLknSoEGDtHbtWn399de6cOGCXnrpJfn5%2BSkmJkZeXl4aOHCgFi1apIyMDJ05c0bz5s1Tnz59VKdOHYfWzCVFAABgyBmXFM1avHixZs%2Bera5du6pmzZoaPHiwBg8eLElKS0uzPWerW7duSkpK0pNPPqkzZ86oZcuWWr58uapVqyZJmjhxos6fP6/%2B/furuLhYPXr00Jw5cxxer4fV6k4fQHeMl192dQWOZXssxGq512MhHnV1BY7l4SH5%2BkqXLonHQtyo/vtYCLV1v8dCyJ0eC%2BHjI4WGSplu%2BFiIMNc8FqKgwPH7/G%2B/84dBwgUAAAzdiAlXVUPDBQAADNFwmcdN8wAAAE5GwgUAAAyRcJlHwgUAAOBkJFwAAMAQCZd5NFwAAMAQDZd5XFIEAABwMhIuAABgiITLPBIuAAAAJyPhAgAAhki4zKPhAgAAhmi4zOOSIgAAgJORcAEAAEMkXOaRcAEAADgZCRcAADBEwmUeDRcAADBEw2UelxQBAACcjIQLAAAYIuEyj4QLAADAyUi4AACAIRIu82i4AACAIRou87ikCAAA4GQkXAAAwBAJl3k0XAAAwBANl3lcUgQAAHAyEi4AAGCIhMs8Ei4AAAAnI%2BECAACGSLjMo%2BECAACGaLjM45IiAACAk5FwAQAAQyRc5pFwAQAAOBkJFwAAMETCZR4NFwAAMETDZR6XFAEAAJyMhAsAABgi4TKPhAsAAMDJSLgAAIAhEi7zaLgAAIAhGi7zuKQIAADgZL9rw/XBBx%2Boc%2BfOv%2BchAQCASSUljn/90VTZhMtqtWrp0qW66667FB0drQEDBmjXrl2uLgsAANwALBaLEhMT1bZtW7Vv314zZ85Ufn7%2BNdffvHmz%2BvXrp%2BjoaPXu3Vtr1qyxLXv55ZfVvHlzRUVF2b2ys7MrXE%2BVbbjeeOMNffDBB3r99df17bffqnv37ho/frzy8vJcXRoAAG6lKiZcM2bM0JkzZ7RlyxZt2LBBhw8f1oIFC8pdd//%2B/UpKSlJiYqJ27dqlP//5z3rmmWfsgpy4uDilpKTYverUqVPheip10/yAAQPUvXt3JSQk2MaSk5OVlpamxMREzZ07V6mpqfLz81OvXr00a9Ys%2Bfj42O3jm2%2B%2B0dChQ7V//35Vq1ZNkpSYmKhq1arpueeekyR9%2BumnWrRokU6ePKnw8HA9%2Buijuu%2B%2B%2ByRJXl5eSkpKUpMmTSRJI0eO1Msvv6zU1FTdfvvtFT6XzMxMZWVl2Y15eoaodu3Q65%2BYG1RQkP1Xd%2BHh4eoKHOvy%2BbjbeSk62tUVOE6zZvZf3clV/0ZXad7e9l/dRWGhyw7tjAapvPffkJAQhYaaf//Nzs7Wtm3b9OGHH9qaoilTpmjy5MlKSkqSr6%2Bv3fo5OTkaO3asYmJiJEldu3ZVRESEvvvuO7Vr1850PVIlG66%2Bfftq/fr1dg3X559/rokTJ2rKlCnq1auX/vnPfyorK0uDBg1SkyZN9Mgjj1zXMY4eParp06dr2bJl6tChg/bs2aMxY8aoYcOGat26tYYNG2a3/qlTpyRJtWvXvq7jrFmzRkuXLrUbmzAhQYMGTbyu/VQFffq4ugJUhDu970mSdu92dQWO9/bbrq4AFREc7OoKHOvECVdX4FDlvf8mJCRo4kTz77%2BHDx%2BWt7e3IiIibGORkZG6cOGC0tLS7MYlqVu3burWrZvt%2B6KiImVmZtr1FKmpqRowYICOHTumBg0a6IknnlCXLl0qXFOlG6758%2BfrxIkTCgsL04EDB5SVlaWePXuqT58%2B8vHxkbe3t%2BrVq6d27drpwIED132Md999VzExMerUqZMkqV27doqNjdVHH32k1q1b26176dIlzZw5U7GxsWrUqNF1HSc%2BPt7W0V72r3%2BFaPXq6y75hhUUVNpsffqpZLG4uhrH6d/f1RU4lodHabNVWChZra6uxnF872jr6hIcp1mz0mZr8GDpyBFXV%2BNYmze7ugLH8fYubbbOnpWKilxdjVtwRsJV3vtvSEiIQ/ZtsVjk7%2B8vT8//u3MqICBAknT27Nnf3H7BggXy9fXVvffeK0m6%2BeabFR4ersmTJ6tevXp69913NXbsWK1bt06NGzeuUE2VarjCwsIUFRWlrVu3atiwYfrss8/UtWtX1apVSxs3btSrr76q9PR0FRUVqaioSH379r3uY6Snp2v79u3asmWLbcxqtZbpJvPy8jRhwgR5e3tr7ty5132c0NDQMvHlF19IV6WcbsFica/zcqem5EpWq5ud2549rq7A8Y4ccb/zcuHlKqcpKnLP83IT5b3/Xo9169YpKSmp3GWJiYnX3M7D4L4Nq9WqBQsWaMOGDVq1apVq1KghqfRWqgEDBtjWGz58uDZs2KCPP/7Y8FhXqvQF7tjYWLuGa9y4cfr55581depUTZs2TYMGDZKvr6%2BSkpJUWMH/4a1XvMt4enpq0KBBmj179jXXP3v2rEaOHKnw8HAtWLDAdi8YAABwnBvxMQ5xcXGKi4srd9nOnTt17tw5FRcXy8vLS1Jp6iVd%2B9ajkpISPfnkk9q/f7/WrFmjsLAww%2BPXr1%2B/zD1oRir9KcU%2Bffpo9%2B7dSklJ0YkTJxQTE6NDhw6pevXqGjp0qHx9fWW1WpWamlru9n5%2BfpJk14z98ssvtj83aNBA33//vd02v/zyi4qLiyVJBQUFeuyxx9SqVSstXryYZgsAACepap9SbNGihUpKSux6kP379%2Bumm2665q1Hzz77rI4ePap33nmnTLP1yiuv6Ntvv7UbS0tLU3h4eIVrqnTDFRYWpsjISL3wwgvq3r27atasqXr16un8%2BfM6ePCgLl68qLlz58rLy0uZmZl26ZUkhYeHy8vLy/aRy6%2B%2B%2Bko//vijbflDDz2k3bt368MPP1RhYaEOHz6sAQMG2C4xrlixQn5%2BfpozZ47dNVoAAPDHFhQUpNjYWM2bN0/Z2dk6ceKEFi5cqPj4eNtTE4YNG6aNGzdKkv7zn/9o/fr1evXVVxUYGFhmf7m5uXrmmWeUkZGhgoICrVixQunp6ep/HTcTm/rMbN%2B%2BffX8889ryZIlkqQ2bdpoyJAhGjp0qGrWrKnHHntMffv21bhx4zR16lTdeeedtm2Dg4M1depUzZo1SzVr1lTHjh3Vr18/nTt3TpLUuHFjvfjii1qyZIlmz56tkJAQjRw5UrGxsZKktWvX6tSpU2VuoB83bpzGjx9v5rQAAMAVbsRLir/l6aef1pw5c9SrVy/5%2BPioX79%2Bmjx5sm15RkaGfv31V0mlPUVubq7uuusuu320b99eK1asUGJiooqLi/Xwww/r4sWLioiI0MqVK1W3bt0K1%2BNhvTp6gl5%2B2dUVOFZIiDRokLR6tXvdNP/oo66uwLE8PCRfX%2BnSJfe6ab6anxs9WCw6uvQxF23but9N88ePu7oCx/HxkUJDpcxM97tp/jfuK3KWTz91/D7/aI8qcrOnwgEAAEerignXjYaGCwAAGKLhMo%2B7zQEAAJyMhAsAABgi4TKPhAsAAMDJSLgAAIAhEi7zaLgAAIAhGi7zuKQIAADgZCRcAADAEAmXeSRcAAAATkbCBQAADJFwmUfDBQAADNFwmcclRQAAACcj4QIAAIZIuMyj4QIAAIZouMzjkiIAAICTkXABAABDJFzmkXABAAA4GQkXAAAwRMJlHg0XAAAwRMNlHpcUAQAAnIyECwAAGCLhMo%2BECwAAwMlIuAAAgCESLvNouAAAgCEaLvO4pAgAAOBkJFwAAMAQCZd5JFwAAABORsIFAAAMkXCZR8MFAAAM0XCZxyVFAAAAJyPhAgAAhki4zCPhAgAAcDISLgAAYIiEyzwaLgAAYIiGyzwuKQIAADgZCRcAADBEwmUeCRcAAICTkXABAABDJFzm0XABAABDNFzmcUkRAADAyWi4AACAoZISx7%2BczWKxKDExUW3btlX79u01c%2BZM5efnl7vuBx98oGbNmikqKsrutX///v%2Bef4kWLlyozp07q3Xr1ho%2BfLgyMjKuqx4aLgAA4HZmzJihM2fOaMuWLdqwYYMOHz6sBQsWXHP99u3bKyUlxe7VqlUrSdI//vEPrV27Vn//%2B9%2B1c%2BdOhYeHa8KECbJarRWuh4YLAAAYqmoJV3Z2trZt26Ynn3xSderUUd26dTVlyhStXbtWly5duu79vffeexo9erSaNWsmf39/TZs2TceOHdPevXsrvA9umgcAAIac0SBlZmYqKyvLbiwkJEShoaGm93348GF5e3srIiLCNhYZGakLFy4oLS3NbvyyU6dOadiwYTp48KBCQ0P12GOPKS4uTgUFBTp69KhatmxpW9ff318NGjTQgQMHFB0dXaGaaLjKMXq0qytwLA%2BP0q/33y9dR/p5w8vNdXUFjuXtLfn6SufPS0VFrq7GcUKOH3d1CY7j41P6dfNmqbDQtbU4Wv36rq7AcaKjpd27pb59pT17XF2NY7nRP%2BJr1qzR0qVL7cYSEhI0ceJE0/u2WCzy9/eXp%2Bf/XcgLCAiQJJ09e7bM%2BsHBwWrUqJEmT56s2267TVu3blVSUpJCQ0N16623ymq12ra/cn/l7etaaLgAAIAhZyRc8fHxiomJsRsLCQmp8Pbr1q1TUlJSucsSExOvuZ3H5RTiCnfddZfuuusu2/f33nuvPvvsM73//vvXPMa19nUtNFwAAOB3FxoaauryYVxcnOLi4spdtnPnTp07d07FxcXy8vKSVJp6SVLt2rUrtP/69evrwIEDCgoKkqenp3JycuyWWyyWCu9L4qZ5AADwG6raTfMtWrRQSUmJUlNTbWP79%2B/XTTfdpEaNGpVZf/Xq1fr000/txtLS0hQeHi5fX181bdpUBw8etC3LyclRenq6oqKiKlwTDRcAADBU1RquoKAgxcbGat68ecrOztaJEye0cOFCxcfHy%2Be/92IOGzZMGzdulCQVFRXpmWee0eHDh1VYWKgNGzbo3//%2Btx5%2B%2BGFJ0sMPP6zXX39dR44c0blz55ScnKyWLVvaHhtREVxSBAAAbufpp5/WnDlz1KtXL/n4%2BKhfv36aPHmybXlGRoZ%2B/fVXSdKQIUOUm5urCRMmyGKx6JZbbtFf//pXRUZGSpIGDRqkrKwsjRw5UufPn1fHjh21ZMmS66rHw3o9T%2B36g7h40dUVOJaHh%2BTnJ%2BXnu9UHXJSX5%2BoKHMvbWwoKkiwWN/uU4qUTri7BcXx8pNBQKTOTTyneyC5/SrFtWz6l6CBPPun4fc6b5/h93si4pAgAAOBkXFIEAACGfo/ffejuaLgAAIAhGi7zuKQIAADgZCRcAADAEAmXeTRcAADAEA2XeVxSBAAAcDISLgAAYIiEyzwSLgAAACcj4QIAAIZIuMyj4QIAAIZouMzjkiIAAICTkXABAABDJFzmkXABAAA4GQkXAAAwRMJlHg0XAAAwRMNlHpcUAQAAnIyECwAAGCLhMo%2BECwAAwMlIuAAAgCESLvNouAAAgCEaLvO4pAgAAOBkJFwAAMAQCZd5JFwAAABORsIFAAAMkXCZR8MFAAAM0XCZxyVFAAAAJyPhAgAAhki4zCPhAgAAcDISLgAAYIiEyzwaLgAAYIiGyzwuKQIAADgZCRcAADBEwmUeCRcAAICTkXABAABDJFzm0XABAABDNFzmcUkRAADAyUi4AACAIRIu80i4AAAAnIyECwAAGCLhMo%2BGCwAAGKLhMu%2B6LikeP35cEREROnr0qOF633zzjSIiIlRQUFCpomJiYvTOO%2B9UalsAAIAbTZVOuAoKCjR//nxt3rxZFy9eVGRkpGbNmqWmTZu6ujQAANxGVUy4LBaL/vKXv2j79u3y8vJS79699ec//1l%2Bfn5l1p01a5bWrVtnN1ZcXKy4uDjNmzdP06dP18cffywvLy/b8mrVqmnXrl0VrqdK3zT/wgsvaPfu3Xrvvfe0c%2BdONWjQQBMmTHB1WQAAwMVmzJihM2fOaMuWLdqwYYMOHz6sBQsWlLtucnKyUlJSbK/du3frlltuUd%2B%2BfW3rjBs3zm6d62m2JBMNV0ZGhkaNGqV27dqpY8eOevzxx5Wbm2u3zvbt29WzZ0%2B1a9dO//u//6v8/HzbsrfeeksxMTGKjo5W//79tXPnznKPs2/fPg0cOFDR0dHq2LGjZs6caduPv7%2B/pk2bpnr16snPz0/Dhg1Tenq6Tp8%2BXdnTAgAAVykpcfzLmbKzs7Vt2zY9%2BeSTqlOnjurWraspU6Zo7dq1unTp0m9uv2rVKtWvX1/du3d3WE2VvqQ4c%2BZM1alTRzt27NDFixc1atQoLVu2TNOnT7et88knn%2Bj9999XXl6ehg4dqtdff10JCQnauXOnli1bpldffVXNmjXTF198ofHjx2vz5s2qV6%2Be3XGSkpI0evRoPfjggzpz5owmTJigNWvWaNiwYUpMTLRb9%2BTJk/Lx8ZG/v3%2BFzyMzM1NZWVl2Y7VqhSgkJLQSs3Jj8vCw/%2BouvKv0BfGyLifVVyTW7sHq4%2BoKHOfy/3Tu9j%2BfJEVHu7oCx2nWzP6ru9izx2WHdkaDVN77b0hIiEJDzb//Hj58WN7e3oqIiLCNRUZG6sKFC0pLS7Mbv1pOTo6WL1%2But956y27866%2B/1pYtW3Tq1CnddtttmjFjhqKioipcU6X/1Vi%2BfLkkyc/PT35%2BfurSpYt2795tt86IESMUGBiowMBA3Xvvvfryyy%2BVkJCgd955Rw899JBatmwpSerdu7feeustffLJJxo9erTdPs6cOaMaNWrI09NTISEhWr16tTw9ywZzv/76q%2BbOnathw4apZs2aFT6PNWvWaOnSpXZjEyYkaNKkiRXeR1VRrZqrK3Csci7Du4VatVxdgaO5zw8vNsHBrq7A8a7699stvP22qytwLDf7qbm899%2BEhARNnGj%2B/ddiscjf39%2BuXwgICJAknT171nDbVatW6Y477tBtt91mGwsPD5eXl5fGjx%2BvgIAALV26VKNGjdLmzZsVXMF/DyrdcO3Zs0eLFi3S0aNHVVBQoOLiYlsDdVnDhg1tf7755pttl/rS09O1bds2rVixwrbcarXandxls2bN0owZM/Taa6%2BpW7duiouLU%2BPGje3WyczM1OjRo9WiRYsyqddviY%2BPV0xMjN1YrVohuuLqZ5Xn4VHabBUUSFarq6txnIsXXV2BY3l5lTZbublScbGrq3GcoMJMV5fgON7epc3W2bNSUZGrq3GsK%2B5VqfKaNStttgYPlo4ccXU1bsEZCVd5778hISEV3n7dunVKSkoqd5lRL%2BBh0LheunRJq1ev1ksvvWQ3fvX94VOnTtWGDRu0detWDRw4sEL1VqrhKiwsVEJCguLj4/XGG2%2BoRo0aWrx4cZn7sLyuujbi6%2BsrSfL09NTjjz%2BuUaNG/eax7r//fnXv3l3btm3Tv/71Lz3wwANauHCh7r77bkmlzdvw4cPVo0cPzZw5s9z0y0hoaGiZ%2BPLiRfdqTC6zWt3rvNzt/e6y4mI3O7fCQldX4HhFRe53Xi68XOU0R46453m5ifLef69HXFyc4uLiyl22c%2BdOnTt3TsXFxbZexGKxSJJq1659zX1%2B9913slqt6tixo%2BGxvby8VK9evTKXRI1U6qb5vLw85eXlaezYsapRo4Yk6Ug5P0Wkp6fb/nzy5EnVrVtXktSgQQN9//33duuePHlS1nK6AYvFoqCgIPXv319LlizRo48%2Bqvfff19SaSw4cuRIPfTQQ/rzn/983c0WAAD4bVXtpvkWLVqopKREqamptrH9%2B/frpptuUqNGja653Y4dO9ShQwe7fsJqtWrevHn64YcfbGOFhYXKyMhQeHh4hWuqVIfi4eEhT09PffvttyosLNTy5cuVmZmp7OxsFV3xo/mqVauUm5urjIwMbdiwwZZKxcfHa9OmTdq%2BfbuKi4v19ddf695771VKSordcU6dOqWYmBjt2LFDJSUlysvL048//mg7wZdeeklt27bV%2BPHjK3MaAACgAqpawxUUFKTY2FjNmzdP2dnZOnnLHEAAABMXSURBVHHihBYuXKj4%2BHj5%2BJR%2BkGfYsGHauHGj3XZHjhxRkyZN7MY8PDx06tQpPfPMM8rKytL58%2Bc1f/58%2Bfr6qmfPnhWuqVINV2BgoB5//HHNnDlTXbt21YULFzR//nxdunRJjzzyiIqKiuTp6ak%2Bffro/vvv1wMPPKBOnTpp8ODBkqTOnTsrKSlJTz/9tNq0aaM5c%2BboqaeeUqtWreyOU69ePc2dO1fPP/%2B82rZtq169esnPz0%2BTJk2SJK1du1YbN25UVFSU3eujjz6qzGkBAAA38fTTTys0NFS9evXSAw88oI4dO2ry5Mm25RkZGfr111/ttsnKylJgYGCZfSUnJ%2BtPf/qT7rvvPvXo0UNHjx7VypUrbVf5KsLDWt51vD%2B4/9/evQdFVfdxHP%2Bs4P0CmkKmjF2mJi/hbbx08QJaYFFOKmqZlJk5RYhlUV4eBxVl1LSaxFJ00hwnGW9pZhoikrc0rEmRpCaddBBFC2xAZXHZ5w8f9gHFFWdZztnl/ZrhD845wsc5iN/v9/z2t962GNtiuf6KvqtXvWsNV1GR0Qlqlq%2Bv1LKlVFDgXWu42lhzjY5Qc%2BrXlwICpPx871vD1b690QlqTvfu11912aOH963hMuiX%2BKOP1vzXPHiw5r%2BmmXnhZjIAAKAmeeJb%2B5gNq8wBAADcjAkXAABwigmX65hwAQAAuBkTLgAA4BQTLtdRcAEAAKcouFzHI0UAAAA3Y8IFAACcYsLlOiZcAAAAbsaECwAAOMWEy3UUXAAAwCkKLtfxSBEAAMDNmHABAACnmHC5jgkXAACAmzHhAgAATjHhch0FFwAAcIqCy3U8UgQAAHAzJlwAAMApJlyuY8IFAADgZky4AACAU0y4XEfBBQAAnKLgch2PFAEAANyMCRcAAHCKCZfrmHABAAC4GRMuAADgFBMu11FwAQAApyi4XMcjRQAAADdjwgUAAJxiwuU6JlwAAABuxoQLAAA4xYTLdRRcAADAKQou1/FIEQAAwM2YcAEAAKeYcLmOCRcAAICbMeECAABOMeFyHQUXAABwioLLdTxSBAAAcDMmXAAAwCkmXK5jwgUAAOBmTLgAAIBTTLhcR8EFAACcouByHY8UAQAA3IyCCwAAOFVWVvMfteHYsWN68sknNXLkyNteu3r1aoWEhCg4OFiRkZE6fvy441xJSYlmzpyp3r17q3v37po0aZL%2B%2BeefO8pCwQUAAJzyxIJr69atiomJUYcOHW57bWpqqj7%2B%2BGMlJibq0KFDGjBggCZOnKjLly9LkhYuXKiff/5ZGzduVFpamq5evapp06bdUR4KLgAA4HVKSkqUkpKirl273vba9evXa8SIEerbt68aN26s6OhoSdLu3bt17do1bd68WZMnT1ZQUJBatWql999/X%2Bnp6Tp//ny187BoHgAAOOWOiVR%2Bfr4uXLhQ6VibNm0UEBBQI18/MjKy2tdmZ2fr6aefdnxusVjUsWNHZWVlqVOnTioqKlLnzp0d5x944AE1btxYx48fV2BgYLW%2BBwVXFRo3NjpBzcrPz1dycopGjRpVYz/IZuCN9%2BnTT73vPkntjA5QY/Lz85Xy6afX71E77/l7SZLsdqMT1BjHfdqxw8v%2BLRnHHT8en36aoiVLllQ69tZbbykmJqbmv9ltFBQUyN/fv9IxPz8//fPPPyooKHB8XlGLFi3uaB0XBVcdcOHCBS1ZskShoaH88jEx7pP5cY88A/fJM4waNUqhoaGVjrVp06baf37Lli2Ki4ur8lxiYqKGDRtW7a9lsVhuefxW55z9uapQcAEAgFoXEBDgUkE8dOhQDR06tEaytGzZUoWFhZWOFRQU6KGHHlKrVq0kSYWFhWrSpIkkyW63q7CwUHfddVe1vweL5gEAQJ32yCOPKCsry/G5zWZTdna2goODFRQUJH9//0rbROTk5Ki0tFRdunSp9veg4AIAAHVOeHi4MjMzJUmjR4/Wxo0b9eOPP%2Bry5ctavHixGjVqpNDQUPn4%2BGjkyJH6%2BOOPdebMGf39999KTExUWFiYWrduXe3vxyPFOqBNmzZ666237ujZOGof98n8uEeegfsESQoLC9PZs2dls9lUVlamRx55RJK0Y8cOtWvXTqdOnXLss9W/f3/FxcVp6tSp%2Bvvvv9WlSxctX75cDRs2lCTFxMSouLhYw4YNk81mU0hIiOLj4%2B8oj8Vu96KXpgAAAJgQjxQBAADcjIILAADAzSi4AAAA3IyCCwAAwM0ouAAAANyMggsAAMDNKLgAAADcjIILAADAzSi4AAAA3IyCCwAAwM0ouOqYrVu3Gh0B1VD%2BhqoAAO9AwVXH/Oc//zE6Aqph/PjxRkeo84qLi/XLL7/o9OnTVZ7//PPPazkRnMnPz9eVK1eqPEejCTOg4PIiVqv1th%2B8V7ln4D4ZKzMzU6GhoXrhhRcUFhamKVOm3PSf%2BWeffWZQOlT0xx9/6KmnntKAAQPUp08fLV68WGVlZZWuodGEGfgaHQA1Jzg4WBaLxegYuI0nnnjitteUlpbWQhLcysKFCzV27FiNHz9eZ8%2Be1YwZMzRx4kStWLFCDRo0kERRbBZz585Vnz59tHTpUuXm5mrevHnKzc3VokWLHNdwr2AGFjs/iV5j/PjxatWqlSIjI6s8b7fb9dprr%2BnYsWO1nAwVDRs2TEFBQRo4cGCV5%2B12u2bOnKmsrKzaDQaHnj176vDhw/Lx8ZF0fXo8YcIE%2Bfv765NPPpEkde3aVb/%2B%2BquRMSGpV69e2r9/v6MQvnTpkqKiotS7d29Nnz5dEvcK5sCEy4vMnz9fkZGRGjNmjLp161blNUzAjPfRRx9p7Nixio2N1f3331/lNfHx8bUbCpW0aNFCf/31l%2BP%2BNGjQQEuXLtVLL72k%2BPh4xcfHMzUxiUaNGqmgoECBgYGSJD8/PyUnJ2v06NFq3bq1Jk6cyL2CKbCGy4u0bt1ay5Ytu%2BXCUUkaOnRoLSZCVTp06KAFCxbojz/%2BuOU1vXr1qsVEuNHw4cM1YcIEff/9945jTZs21cqVK5Wdna2oqKib1gnBGGFhYYqOjtZPP/3kOBYQEKBVq1Zpw4YN%2BuCDDyi4YAo8UgSAKnzxxRfy9fXV2LFjKx23Wq1auXKlNm3apNTUVIPSoZzVatWCBQvUvHlzxcbGVjpXUFCgRYsWadOmTcrOzjYoIXAdBZeXOnr0qLZs2aJz584pKSlJZWVlSk1NVVhYmNHR8D9Wq1UpKSmO/9DT09O1YcMGBQUFKSYmRk2bNjU4IQCgpvBI0Qt98803euWVV3T16lX98MMPkqQLFy5o7ty5Wr16tcHpUG727Nn69ttvJUknT57U22%2B/rU6dOun8%2BfNKSEgwOB3KHT16VHPmzFF0dLQkqaysTDt37jQ4FW5ktVq1Zs0ax%2Bfp6emKjo7W/PnzVVxcbGAy4DoKLi%2B0fPlyJScna%2B7cuY5F8oGBgVq2bJm%2B/PJLg9OhXFpampKSkiRJW7Zs0YABAxQdHa05c%2BY4CmUYi%2BbFc9yqgTl37hwNDEyBgssLnTlzRj169JBU%2BVWJDz74oC5evGhULNygpKREd911lyRp7969CgkJkXR9cfbly5eNjIb/oXnxHDQwMDsKLi90zz336PDhwzcd37Ztm9q1a2dAIlTlwQcf1KZNm7R9%2B3adPHnSUXAdPHhQ7du3NzgdJJoXT0IDA7NjHy4vFBsbqzfeeEODBg3StWvXlJCQoJycHP3yyy%2BVdl%2BGsaZNm6a4uDgVFBRo1qxZ8vPzU2FhoaKjo5WYmGh0POj/zUufPn0qHad5MZ/yBqZRo0Y0MDAlXqXopf7880%2BtX79ep0%2BfVr169RQUFKTIyMhbbrQJ8zh37pzuvvtuo2NA0s6dOzV16lQNGjRI27dv1wsvvFCpeeFVv%2Bbx66%2B/OhqY6dOna%2BjQoSosLFRISIgSExMVHh5udETUcRRcQC1KSUmp9rWjRo1yYxJUF82LZ6OBgVlQcHmhqVOn3vKczWbTggULajENKgoNDa3WdRaLRWlpaW5OA3g2Ghh4EtZweaGSkpJKn9vtduXl5enPP//Uc889Z1AqSNLu3buNjoA7QPNibsuWLavWdRaLhYILhqPg8kKLFy%2Bu8vjBgwfZsNFkzp8/r2%2B//Vbnzp3TtGnTJElZWVnq0qWLwckg0byYHQ0MPAmPFOuYIUOG6LvvvjM6BiQdOHBAb775prp166YjR47o2LFjysvLU0REhGbNmqWIiAijI%2BIWypuX%2BPh4o6OgAhoYmBn7cHkhq9V600dxcbEyMjJ4iwsTWbx4sT788EOtWrXKscdT27ZtlZSUpKVLlxqcDs48%2BuijOnTokNExUMGBAwcUFhamH374QV999ZUkKS8vTy%2B//LK2bdtmcDqAR4peKTg4uNImjeV8fHz07rvvGpAIVTl58qRjEX3F%2B9W7d2/l5uYaFQsVWK3Wm46VlpYqMzOT5sVkyhuYwYMHKzg4WNL/G5jZs2czMYbhKLi80OrVq28quBo1aqT27durVatWBqXCjVq2bKmcnBx17Nix0vF9%2B/apdevWBqVCRTQvnoMGBmZHweWFbtwVG%2Bb06quvasKECRoxYoRsNpu%2B%2BOIL/f777/ruu%2B/03nvvGR0PonnxJDQwMDsWzXuJJ554otrX7tu3z41JcCf279%2BvdevWVdpUc/To0XrssceMjgZ4lLVr1%2Bqzzz7TiBEjtGLFCk2ZMqVSAzNmzBijI6KOo%2BDyEps3b672tc8//7wbkwCejebFc9HAwMwouOqYuLg4Nms0CavVquTkZO3du1f5%2BfmqX7%2B%2BAgMDNXjwYL344ovy9eWJvxFoXgC4A7/RvZDNZtO6deuUlZVV6VVW%2Bfn5%2Bv333w1MhoqmT5%2BuI0eO6Nlnn3W819vZs2cda7kSEhIMTlg3VbeIiouLo%2BAyERoYmB0TLi8UHx%2BvPXv2qGfPntqxY4ciIiKUk5MjX19fTZ06VT179jQ6InT91VNff/217rnnnkrHz5w5o%2BHDh%2Bvw4cMGJUO52zUv7MVlHu%2B9916VDcy2bdv0%2BOOP08DAcJT8XmjXrl3auHGjAgMDlZqaqvnz58tut2vevHnKycmh4DIJPz8/NW/e/Kbj/v7%2BatasmQGJcKM5c%2Bbcsnlhc1pzycjIqLKBGTlypIYPH07BBcOx07wXunLligICAiRJvr6%2BKi0tlcVi0TvvvKPly5cbnK5uq7j7f1xcnGbOnKmjR4/q0qVLKioqUnZ2thISEjRjxgyjo0LXm5eUlBQtWrRIPj4%2Bmj9/vjZv3qzu3bsrJyfH6HiogAYGZscjRS/04osvqkePHoqNjVVkZKQiIyM1ZswYZWdnKyoqSpmZmUZHrLMefvjhSvs62e32m/Z5stvt8vHx0fHjx2s7Hm7Qs2dPZWZmymKxqEePHjp06JDq16%2BvK1euaMiQIdqzZ4/REeu0io95MzIytH37do0bN04dOnSQj4%2BPTp8%2BrdWrVyssLMyxKSpgFAouL3T8%2BHFNnjxZW7duVXp6uuLi4tSkSRMVFxdrzJgxjjd1Re2r7rqsa9eu8VJ2E6B5MTcaGHgSCi4vNGHCBD3zzDMaPHiwmjVrptOnTys7O1tt27ZV165djY6H27DZbIqKitLatWuNjlLn0byYGw0MPAkFlxdKSEjQ7t27dfHiRfXr10/PPPOMQkJC1LhxY6OjoYKioiIlJSUpKytLpaWljuMXL15USUmJ9u7da2A6SDQv3oAGBmZBweXFsrKytGvXLqWmpurs2bMaMGCAIiIiNHjwYKOjQdKUKVN06tQp9evXTytXrtTrr7%2BuEydOKD8/Xx9%2B%2BKHuvfdeoyPWeTQvnoMGBmZHwVVHZGVlacGCBfrpp5/022%2B/GR0Hkvr27audO3fKz89PwcHBOnr0qCQpOTlZV65c0aRJkwxOiHI0L%2BZHAwOzo%2BDyYnl5edq1a5d27dqlI0eOqHPnzgoPD9e4ceOMjgZJvXr10v79%2B9WgQQP16tVL%2B/btU8OGDXXt2jX1799fBw4cMDoiqkDzYk40MDA79uHyQklJSRo2bJgGDRqkb775RgMHDtT333%2BvlJQUii0TCQ4O1rRp01RSUqIHHnhAS5YsUVFRkfbs2SObzWZ0PFSQl5enNWvW6OWXX9bo0aNVUlKiuLg4o2OhApvN5njU27BhQ5WUlEiSxo0bp3Xr1hkZDZDETvNeKSMjQxEREVqyZMlNuy7DPOLj4zVjxgxZLBbFxsYqJiZGK1asUL169fTOO%2B8YHQ%2B63rykpaXpxIkT6tKli4YMGaLExET%2BXZlQeQMzd%2B5cRwMzceJE/fjjjzQwMAUeKQK16NSpU7c8V1paqn///Vc%2BPj7y9/fXfffdV4vJUJWRI0cqPDxc4eHhFFkmd%2BbMGc2YMUPJyck6cuSIYmJiVFxc7Ghgxo8fb3RE1HEUXEAtKt%2BosaoNGsuVn2N9EOAcDQw8CQUXUItyc3OrfW27du3cmATwfDQw8CQUXAAAj0QDA09CwQUAAOBmbAsBAADgZhRcAAAAbkbBBQAA4GYUXAAAAG5GwQUAAOBmFFwAAABuRsEFAADgZv8F3CEooL2jL4AAAAAASUVORK5CYII%3D\" class=\"center-img\">\n",
       "</div>\n",
       "    <div class=\"row headerrow highlight\">\n",
       "        <h1>Sample</h1>\n",
       "    </div>\n",
       "    <div class=\"row variablerow\">\n",
       "    <div class=\"col-md-12\" style=\"overflow:scroll; width: 100%%; overflow-y: hidden;\">\n",
       "        <table border=\"1\" class=\"dataframe sample\">\n",
       "  <thead>\n",
       "    <tr style=\"text-align: right;\">\n",
       "      <th></th>\n",
       "      <th>timestamp</th>\n",
       "      <th>value1</th>\n",
       "      <th>labels1</th>\n",
       "      <th>value2</th>\n",
       "      <th>labels2</th>\n",
       "    </tr>\n",
       "  </thead>\n",
       "  <tbody>\n",
       "    <tr>\n",
       "      <th>0</th>\n",
       "      <td>2014-04-01 00:00:00</td>\n",
       "      <td>-21.048383</td>\n",
       "      <td>0.0</td>\n",
       "      <td>21.519280</td>\n",
       "      <td>0.0</td>\n",
       "    </tr>\n",
       "    <tr>\n",
       "      <th>1</th>\n",
       "      <td>2014-04-01 00:05:00</td>\n",
       "      <td>-20.295477</td>\n",
       "      <td>0.0</td>\n",
       "      <td>21.707762</td>\n",
       "      <td>0.0</td>\n",
       "    </tr>\n",
       "    <tr>\n",
       "      <th>2</th>\n",
       "      <td>2014-04-01 00:10:00</td>\n",
       "      <td>-18.127229</td>\n",
       "      <td>0.0</td>\n",
       "      <td>18.097725</td>\n",
       "      <td>0.0</td>\n",
       "    </tr>\n",
       "    <tr>\n",
       "      <th>3</th>\n",
       "      <td>2014-04-01 00:15:00</td>\n",
       "      <td>-20.171665</td>\n",
       "      <td>0.0</td>\n",
       "      <td>21.954012</td>\n",
       "      <td>0.0</td>\n",
       "    </tr>\n",
       "    <tr>\n",
       "      <th>4</th>\n",
       "      <td>2014-04-01 00:20:00</td>\n",
       "      <td>-21.223762</td>\n",
       "      <td>0.0</td>\n",
       "      <td>20.840091</td>\n",
       "      <td>0.0</td>\n",
       "    </tr>\n",
       "  </tbody>\n",
       "</table>\n",
       "    </div>\n",
       "</div>\n",
       "</div>"
      ],
      "text/plain": [
       "<pandas_profiling.ProfileReport at 0x7f9892a31490>"
      ]
     },
     "execution_count": 309,
     "metadata": {},
     "output_type": "execute_result"
    }
   ],
   "source": [
    "pandas_profiling.ProfileReport(df)"
   ]
  },
  {
   "cell_type": "markdown",
   "metadata": {},
   "source": [
    "**value1** and **value2** have something `corr=-0.5`"
   ]
  },
  {
   "cell_type": "markdown",
   "metadata": {},
   "source": [
    "## Encoder\n"
   ]
  },
  {
   "cell_type": "code",
   "execution_count": 310,
   "metadata": {},
   "outputs": [
    {
     "data": {
      "text/plain": [
       "{u'encoders': {u'c0_dayOfWeek': None,\n",
       "  u'c0_timeOfDay': {u'fieldname': u'c0',\n",
       "   u'name': u'c0',\n",
       "   u'timeOfDay': [21, 9.49],\n",
       "   u'type': u'DateEncoder'},\n",
       "  u'c0_weekend': None,\n",
       "  u'c1': {u'fieldname': u'c1',\n",
       "   u'name': u'c1',\n",
       "   'resolution': 0.84582413051000005,\n",
       "   u'seed': 42,\n",
       "   u'type': u'RandomDistributedScalarEncoder'}},\n",
       " u'sensorAutoReset': None,\n",
       " u'verbosity': 0}"
      ]
     },
     "execution_count": 310,
     "metadata": {},
     "output_type": "execute_result"
    }
   ],
   "source": [
    "modelParams1['modelConfig']['modelParams']['sensorParams']"
   ]
  },
  {
   "cell_type": "code",
   "execution_count": 311,
   "metadata": {},
   "outputs": [
    {
     "data": {
      "text/plain": [
       "{u'encoders': {u'c0_dayOfWeek': None,\n",
       "  u'c0_timeOfDay': {u'fieldname': u'c0',\n",
       "   u'name': u'c0',\n",
       "   u'timeOfDay': [21, 9.49],\n",
       "   u'type': u'DateEncoder'},\n",
       "  u'c0_weekend': None,\n",
       "  u'c1': {u'fieldname': u'c1',\n",
       "   u'name': u'c1',\n",
       "   'resolution': 1.1303574668846152,\n",
       "   u'seed': 42,\n",
       "   u'type': u'RandomDistributedScalarEncoder'}},\n",
       " u'sensorAutoReset': None,\n",
       " u'verbosity': 0}"
      ]
     },
     "execution_count": 311,
     "metadata": {},
     "output_type": "execute_result"
    }
   ],
   "source": [
    "modelParams2['modelConfig']['modelParams']['sensorParams']"
   ]
  },
  {
   "cell_type": "code",
   "execution_count": 312,
   "metadata": {},
   "outputs": [
    {
     "data": {
      "text/plain": [
       "[{'labels1': 0.0,\n",
       "  'labels2': 0.0,\n",
       "  'timestamp': Timestamp('2014-04-01 00:00:00'),\n",
       "  'value1': -21.0483826823,\n",
       "  'value2': 21.519279906799998},\n",
       " {'labels1': 0.0,\n",
       "  'labels2': 0.0,\n",
       "  'timestamp': Timestamp('2014-04-01 00:05:00'),\n",
       "  'value1': -20.2954768676,\n",
       "  'value2': 21.7077624925},\n",
       " {'labels1': 0.0,\n",
       "  'labels2': 0.0,\n",
       "  'timestamp': Timestamp('2014-04-01 00:10:00'),\n",
       "  'value1': -18.127229468299998,\n",
       "  'value2': 18.0977252372},\n",
       " {'labels1': 0.0,\n",
       "  'labels2': 0.0,\n",
       "  'timestamp': Timestamp('2014-04-01 00:15:00'),\n",
       "  'value1': -20.1716653997,\n",
       "  'value2': 21.9540122797},\n",
       " {'labels1': 0.0,\n",
       "  'labels2': 0.0,\n",
       "  'timestamp': Timestamp('2014-04-01 00:20:00'),\n",
       "  'value1': -21.223761612,\n",
       "  'value2': 20.840090926}]"
      ]
     },
     "execution_count": 312,
     "metadata": {},
     "output_type": "execute_result"
    }
   ],
   "source": [
    "data = df.to_dict(orient='records')\n",
    "data[0:5]"
   ]
  },
  {
   "cell_type": "markdown",
   "metadata": {},
   "source": [
    "Check for each model the which are the econder parameters:"
   ]
  },
  {
   "cell_type": "code",
   "execution_count": 313,
   "metadata": {},
   "outputs": [
    {
     "name": "stdout",
     "output_type": "stream",
     "text": [
      "0 \n",
      "\n",
      "c0_timeOfDay {u'fieldname': u'c0', u'timeOfDay': [21, 9.49], u'type': u'DateEncoder', u'name': u'c0'} \n",
      "\n",
      "c1 {u'name': u'c1', 'resolution': 0.84582413051000005, u'seed': 42, u'fieldname': u'c1', u'type': u'RandomDistributedScalarEncoder'} \n",
      "\n",
      "0 \n",
      "\n"
     ]
    }
   ],
   "source": [
    "for k,v in modelParams1['modelConfig']['modelParams']['sensorParams']['encoders'].items():\n",
    "    if v != None:\n",
    "        print k, v, \"\\n\"\n",
    "    else: \n",
    "        print str(0), \"\\n\" "
   ]
  },
  {
   "cell_type": "code",
   "execution_count": 314,
   "metadata": {},
   "outputs": [
    {
     "name": "stdout",
     "output_type": "stream",
     "text": [
      "0 \n",
      "\n",
      "c0_timeOfDay {u'fieldname': u'c0', u'timeOfDay': [21, 9.49], u'type': u'DateEncoder', u'name': u'c0'} \n",
      "\n",
      "c1 {u'name': u'c1', 'resolution': 1.1303574668846152, u'seed': 42, u'fieldname': u'c1', u'type': u'RandomDistributedScalarEncoder'} \n",
      "\n",
      "0 \n",
      "\n"
     ]
    }
   ],
   "source": [
    "for k,v in modelParams2['modelConfig']['modelParams']['sensorParams']['encoders'].items():\n",
    "    if v != None:\n",
    "        print k, v, \"\\n\"\n",
    "    else: \n",
    "        print str(0), \"\\n\" "
   ]
  },
  {
   "cell_type": "markdown",
   "metadata": {},
   "source": [
    "We need to build: \n",
    "- 1x 'DateEncoder' which encodes the field `timestamp`\n",
    "- 1x 'ScalarEncoder' which encodes the field `value1`\n",
    "- 1x 'ScalarEncoder' which encodes the field `value2`\n",
    "\n",
    "The `values`-fields have been encoded the same way, only `resolution` change."
   ]
  },
  {
   "cell_type": "code",
   "execution_count": 315,
   "metadata": {},
   "outputs": [],
   "source": [
    "def remove_dict_key(d, keys):\n",
    "    \"\"\"\n",
    "    Remove 'keys' in dict.\n",
    "    \n",
    "    Parameters\n",
    "    ----------\n",
    "    d: dict\n",
    "    keys: list\n",
    "        List containing key(s) to delete.\n",
    "        \n",
    "    Outputp\n",
    "    -------\n",
    "    new_d: dict\n",
    "        A new dict object.\n",
    "    \n",
    "    \"\"\"\n",
    "    new_d = dict(d)\n",
    "    for i in keys: \n",
    "        del new_d[i]\n",
    "    return new_d"
   ]
  },
  {
   "cell_type": "code",
   "execution_count": 316,
   "metadata": {},
   "outputs": [],
   "source": [
    "#from nupic.encoders.random_distributed_scalar import RandomDistributedScalarEncoder\n",
    "from nupic.encoders.scalar import ScalarEncoder"
   ]
  },
  {
   "cell_type": "code",
   "execution_count": 317,
   "metadata": {},
   "outputs": [
    {
     "name": "stdout",
     "output_type": "stream",
     "text": [
      "-21.0483826823 =  [0 1 1 1 1 1 1 1 1 1 1 1 1 1 1 1 1 1 1 1 1 1 0 0 0 0 0 0 0 0 0 0 0 0 0 0 0\n",
      " 0 0 0 0 0 0 0 0 0 0 0 0 0 0 0 0 0 0 0 0 0 0 0 0 0 0 0 0 0 0 0 0 0 0 0 0 0\n",
      " 0 0 0 0 0 0 0 0 0 0 0 0 0 0 0 0 0 0 0 0 0 0 0 0 0 0 0 0 0 0 0 0 0 0 0 0 0\n",
      " 0 0 0 0 0 0 0 0 0 0 0 0 0 0 0 0 0 0 0 0 0 0 0 0 0 0 0 0 0 0 0 0 0 0 0 0 0\n",
      " 0 0 0]\n",
      "21.5192799068 =  [0 0 0 1 1 1 1 1 1 1 1 1 1 1 1 1 1 1 1 1 1 1 1 1 0 0 0 0 0 0 0 0 0 0 0 0 0\n",
      " 0 0 0 0 0 0 0 0 0 0 0 0 0 0 0 0 0 0 0 0 0 0 0 0 0 0 0 0 0 0 0 0 0 0 0 0 0\n",
      " 0 0 0 0 0 0 0 0 0 0 0 0 0 0 0 0 0 0 0 0 0 0 0 0 0 0 0 0 0 0 0 0 0 0 0 0 0\n",
      " 0 0 0 0 0 0 0 0 0 0 0 0 0 0 0 0 0 0 0 0 0 0 0 0 0 0 0 0 0 0 0 0 0 0 0 0 0\n",
      " 0 0 0]\n"
     ]
    }
   ],
   "source": [
    "v1Enc = ScalarEncoder(w=21, minval=df['value1'].min(), maxval=df['value1'].max(),\n",
    "                     resolution=modelParams1['modelConfig']['modelParams']['sensorParams']['encoders']['c1']['resolution'])\n",
    "v2Enc = ScalarEncoder(w=21, minval=df['value2'].min(), maxval=df['value2'].max(),\n",
    "                     resolution=modelParams2['modelConfig']['modelParams']['sensorParams']['encoders']['c1']['resolution'])\n",
    "\n",
    "\n",
    "print str(data[0]['value1']) + \" = \", v1Enc.encode(data[0]['value1'])\n",
    "print str(data[0]['value2']) + \" = \", v2Enc.encode(data[0]['value2'])"
   ]
  },
  {
   "cell_type": "code",
   "execution_count": 318,
   "metadata": {},
   "outputs": [
    {
     "data": {
      "text/plain": [
       "({'[-21.9987888386:87.9583481277]': ([[-21.152964708090007,\n",
       "     -21.152964708090007]],\n",
       "   '-21.15')},\n",
       " ['[-21.9987888386:87.9583481277]'])"
      ]
     },
     "execution_count": 318,
     "metadata": {},
     "output_type": "execute_result"
    }
   ],
   "source": [
    "enc = v1Enc.encode(-21)\n",
    "#print(enc)\n",
    "v1Enc.decode(enc)"
   ]
  },
  {
   "cell_type": "code",
   "execution_count": 319,
   "metadata": {},
   "outputs": [
    {
     "data": {
      "text/plain": [
       "({'[18.001009818:164.947480513]': ([[21.392082218653847, 21.392082218653847]],\n",
       "   '21.39')},\n",
       " ['[18.001009818:164.947480513]'])"
      ]
     },
     "execution_count": 319,
     "metadata": {},
     "output_type": "execute_result"
    }
   ],
   "source": [
    "enc = v2Enc.encode(21)\n",
    "#print(enc)\n",
    "v2Enc.decode(enc)"
   ]
  },
  {
   "cell_type": "code",
   "execution_count": 320,
   "metadata": {},
   "outputs": [
    {
     "data": {
      "text/plain": [
       "[{'labels1': 0.0,\n",
       "  'labels2': 0.0,\n",
       "  'timestamp': Timestamp('2014-04-01 00:00:00'),\n",
       "  'value1': -21.0483826823,\n",
       "  'value2': 21.519279906799998},\n",
       " {'labels1': 0.0,\n",
       "  'labels2': 0.0,\n",
       "  'timestamp': Timestamp('2014-04-01 00:05:00'),\n",
       "  'value1': -20.2954768676,\n",
       "  'value2': 21.7077624925},\n",
       " {'labels1': 0.0,\n",
       "  'labels2': 0.0,\n",
       "  'timestamp': Timestamp('2014-04-01 00:10:00'),\n",
       "  'value1': -18.127229468299998,\n",
       "  'value2': 18.0977252372},\n",
       " {'labels1': 0.0,\n",
       "  'labels2': 0.0,\n",
       "  'timestamp': Timestamp('2014-04-01 00:15:00'),\n",
       "  'value1': -20.1716653997,\n",
       "  'value2': 21.9540122797},\n",
       " {'labels1': 0.0,\n",
       "  'labels2': 0.0,\n",
       "  'timestamp': Timestamp('2014-04-01 00:20:00'),\n",
       "  'value1': -21.223761612,\n",
       "  'value2': 20.840090926}]"
      ]
     },
     "execution_count": 320,
     "metadata": {},
     "output_type": "execute_result"
    }
   ],
   "source": [
    "data = df.to_dict(orient='records')\n",
    "data[0:5]"
   ]
  },
  {
   "cell_type": "markdown",
   "metadata": {},
   "source": [
    "Both scalar encoders seems to be very precise for our data.  "
   ]
  },
  {
   "cell_type": "code",
   "execution_count": 321,
   "metadata": {},
   "outputs": [],
   "source": [
    "import datetime\n",
    "from nupic.encoders.date import DateEncoder"
   ]
  },
  {
   "cell_type": "markdown",
   "metadata": {},
   "source": [
    "The `timestamp` field is the same for both dataframes, and have also been encoded the same way.  \n",
    "So the is completely equivalent which one we decide to encode."
   ]
  },
  {
   "cell_type": "code",
   "execution_count": 322,
   "metadata": {},
   "outputs": [],
   "source": [
    "dEnc = DateEncoder(modelParams1['modelConfig']['modelParams']['sensorParams']['encoders']['c0_timeOfDay']['timeOfDay']) \n",
    "\n",
    "# tsObs1 = datetime.datetime.strptime(data[0]['timestamp'], \"%Y-%m-%d %H:%M:%S\")\n",
    "# print \"TimeStamp-obs0 = \", dEnc.encode(data[0]['timestamp'])\n",
    "# print \"TimeStamp-obs1 = \", dEnc.encode(data[1]['timestamp'])"
   ]
  },
  {
   "cell_type": "markdown",
   "metadata": {},
   "source": [
    "Wrap all together."
   ]
  },
  {
   "cell_type": "code",
   "execution_count": 323,
   "metadata": {},
   "outputs": [],
   "source": [
    "obs = []\n",
    "inputTs = []\n",
    "inputSDRts = []\n",
    "inputVal1 = []\n",
    "inputSDRval1 = []\n",
    "label1 = []\n",
    "inputVal2 = []\n",
    "inputSDRval2 = []\n",
    "label2 = []\n",
    "inputSDR = []  # main\n",
    "inputTsIdx = [0, len(dEnc.encode(data[0]['timestamp'])) - 1]\n",
    "inputVal1Idx = [len(dEnc.encode(data[0]['timestamp'])), \n",
    "                len(dEnc.encode(data[0]['timestamp'])) + len(v1Enc.encode(data[1]['value1'])) - 1]\n",
    "inputVal2Idx = [inputVal1Idx[1]+1, \n",
    "                inputVal1Idx[1] + len(v2Enc.encode(data[1]['value2']))]\n",
    "\n",
    "for i in xrange(len(data)):\n",
    "    obs.append(i)\n",
    "    inputTs.append(data[i]['timestamp'])  \n",
    "    inputVal1.append(data[i]['value1'])   \n",
    "    inputVal2.append(data[i]['value2'])   \n",
    "    label1.append(data[i]['labels1'])\n",
    "    label2.append(data[i]['labels2'])\n",
    "    inputSDRts.append(dEnc.encode(data[i]['timestamp']))\n",
    "    inputSDRval1.append(v1Enc.encode(data[i]['value1']))\n",
    "    inputSDRval2.append(v2Enc.encode(data[i]['value2']))\n",
    "    inputSDR.append(np.hstack((inputSDRts[i], inputSDRval1[i], inputSDRval2[i])))  # combine the 3 encoders\n",
    "    \n",
    "# send everything to dict    \n",
    "data = pd.DataFrame({'inputTs':inputTs, 'inputVal1':inputVal1, 'inputVal2':inputVal2,\n",
    "                     'label1': label1, 'label2': label2, 'inputSDR':inputSDR, \n",
    "                     'inputSDRval1':inputSDRval1, 'inputSDRval2':inputSDRval2, 'inputSDRts':inputSDRts, \n",
    "                    }, index=obs).to_dict(orient='records')"
   ]
  },
  {
   "cell_type": "code",
   "execution_count": 324,
   "metadata": {},
   "outputs": [
    {
     "data": {
      "text/plain": [
       "([0, 809], [810, 960], [961, 1111])"
      ]
     },
     "execution_count": 324,
     "metadata": {},
     "output_type": "execute_result"
    }
   ],
   "source": [
    "inputTsIdx, inputVal1Idx, inputVal2Idx"
   ]
  },
  {
   "cell_type": "code",
   "execution_count": 325,
   "metadata": {},
   "outputs": [
    {
     "name": "stdout",
     "output_type": "stream",
     "text": [
      "810\n",
      "151\n"
     ]
    }
   ],
   "source": [
    "print len(inputSDRts[0])\n",
    "print len(inputSDRval1[0])"
   ]
  },
  {
   "cell_type": "code",
   "execution_count": 326,
   "metadata": {},
   "outputs": [
    {
     "name": "stdout",
     "output_type": "stream",
     "text": [
      "len(inputSDR):  1112\n",
      "Observations:  4032\n"
     ]
    }
   ],
   "source": [
    "print \"len(inputSDR): \", len(data[0]['inputSDR'])\n",
    "#print data[0]\n",
    "print \"Observations: \", len(data)"
   ]
  },
  {
   "cell_type": "markdown",
   "metadata": {},
   "source": [
    "# Spatial Pooler\n",
    "[link to wiki](http://nupic.docs.numenta.org/1.0.3/api/algorithms/spatial-pooling.html#nupic.algorithms.spatial_pooler.SpatialPooler)\n",
    "\n",
    "Load `modelParams` fors SP:"
   ]
  },
  {
   "cell_type": "code",
   "execution_count": 327,
   "metadata": {},
   "outputs": [],
   "source": [
    "from nupic.algorithms.spatial_pooler import SpatialPooler"
   ]
  },
  {
   "cell_type": "code",
   "execution_count": 328,
   "metadata": {},
   "outputs": [
    {
     "name": "stdout",
     "output_type": "stream",
     "text": [
      "### modelParams1\n",
      "{u'columnCount': 2048, u'synPermInactiveDec': 0.0005, u'spatialImp': u'cpp', u'inputWidth': 0, u'spVerbosity': 0, u'synPermConnected': 0.2, u'synPermActiveInc': 0.003, u'potentialPct': 0.8, u'numActiveColumnsPerInhArea': 40, u'boostStrength': 0.0, u'globalInhibition': 1, u'seed': 1956}\n",
      "\n",
      " ### modelParams2\n",
      "{u'columnCount': 2048, u'synPermInactiveDec': 0.0005, u'spatialImp': u'cpp', u'inputWidth': 0, u'spVerbosity': 0, u'synPermConnected': 0.2, u'synPermActiveInc': 0.003, u'potentialPct': 0.8, u'numActiveColumnsPerInhArea': 40, u'boostStrength': 0.0, u'globalInhibition': 1, u'seed': 1956}\n"
     ]
    }
   ],
   "source": [
    "print \"### modelParams1\"\n",
    "print modelParams1['modelConfig']['modelParams']['spParams']\n",
    "print \"\\n ### modelParams2\"\n",
    "print modelParams2['modelConfig']['modelParams']['spParams']"
   ]
  },
  {
   "cell_type": "markdown",
   "metadata": {},
   "source": [
    "same same"
   ]
  },
  {
   "cell_type": "code",
   "execution_count": 329,
   "metadata": {},
   "outputs": [],
   "source": [
    "selectedSPparams = {\n",
    "    u'boostStrength': 0.0,\n",
    "#     u'columnCount': 2048,\n",
    "    u'globalInhibition': 1,\n",
    "#     u'inputWidth': 0,\n",
    "    u'numActiveColumnsPerInhArea': 40,\n",
    "    u'potentialPct': 0.8,\n",
    "    u'seed': 1956,\n",
    "    u'spVerbosity': 0,\n",
    "#     u'spatialImp': u'cpp',\n",
    "    u'synPermActiveInc': 0.003,\n",
    "    u'synPermConnected': 0.2,\n",
    "    u'synPermInactiveDec': 0.0005,\n",
    "   ### Changes\n",
    "    u'inputDimensions': (len(data[0]['inputSDR']), ),\n",
    "    u'columnDimensions': modelParams1['modelConfig']['modelParams']['spParams']['columnCount'], \n",
    "}"
   ]
  },
  {
   "cell_type": "code",
   "execution_count": 330,
   "metadata": {},
   "outputs": [],
   "source": [
    "# Init SP\n",
    "sp = SpatialPooler(**selectedSPparams)"
   ]
  },
  {
   "cell_type": "code",
   "execution_count": 331,
   "metadata": {},
   "outputs": [],
   "source": [
    "# Print SP\n",
    "cols = []\n",
    "connections = []\n",
    "\n",
    "for col in xrange(sp.getColumnDimensions()):\n",
    "    connected = np.zeros(len(data[0]['inputSDR']), dtype=\"int\")\n",
    "    sp.getConnectedSynapses(col, connected)\n",
    "    cols.append(col)\n",
    "    connections.append(connected)\n",
    "\n",
    "spSDR = dict(zip(cols, connections))"
   ]
  },
  {
   "cell_type": "code",
   "execution_count": 332,
   "metadata": {},
   "outputs": [
    {
     "name": "stdout",
     "output_type": "stream",
     "text": [
      "SP Shape:2048; 1112\n"
     ]
    }
   ],
   "source": [
    "print \"SP Shape:\" + str(len(spSDR)) + \"; \" + str(len(spSDR[0]))"
   ]
  },
  {
   "cell_type": "markdown",
   "metadata": {},
   "source": [
    "The active bits (min-columns) are set by calculating the *overlapping score* with the input vector.  \n",
    "*Overalpping score* = `inputSDR` * `spSDR\\[column]`"
   ]
  },
  {
   "cell_type": "code",
   "execution_count": 333,
   "metadata": {},
   "outputs": [],
   "source": [
    "def idx_active_cols(inputArr):\n",
    "    \"\"\"\n",
    "    This function takes an 1d or nd-array and returns a 1d-array with the index for ACTIVE bits/columns: \n",
    "    \n",
    "    Parameters\n",
    "    ----------\n",
    "    inputArr:   np.array (1d or nD)\n",
    "            \n",
    "    Output\n",
    "    ------\n",
    "    tmActiveColsIdx: 1d np.arraz\n",
    "        Array with index of active cols.\n",
    "        \n",
    "    \"\"\"\n",
    "    #tmObject.reshape(tmObject.numberOfCols, tm.cellsPerColumn)\n",
    "    activeColsVec = []  # initialize vector\n",
    "\n",
    "    for i in range(inputArr.shape[0]):\n",
    "        # assign 1 if any 1 (active cell) in the column,\n",
    "        # 0 otherwise\n",
    "        if np.any(inputArr[i]>0):\n",
    "        # if np.any(tm.compute(spSDR[track[3]['sp_active']], enableLearn=True, enableInference=True).reshape(256, 3)[i]>0):\n",
    "            activeColsVec.append(1)\n",
    "        else:\n",
    "            activeColsVec.append(0)\n",
    "    # return index of active Columns        \n",
    "    tmActiveColsIdx = np.flatnonzero(np.array(activeColsVec))\n",
    "    return tmActiveColsIdx"
   ]
  },
  {
   "cell_type": "markdown",
   "metadata": {},
   "source": [
    "`Compute` returns the to 40 active cols, as defined in:  \n",
    "`MODEL_PARAMS['modelParams']['spParams']['numActiveColumnsPerInhArea']=40`."
   ]
  },
  {
   "cell_type": "code",
   "execution_count": 334,
   "metadata": {},
   "outputs": [],
   "source": [
    "# Save all the SP-columns active for every input\n",
    "\n",
    "for i in xrange(len(data)):\n",
    "    output = np.zeros(sp.getColumnDimensions(), dtype=\"int\")\n",
    "    sp.compute(data[i]['inputSDR'], learn=False, activeArray=output)\n",
    "    data[i]['sp_active'] = idx_active_cols(output) #save to dict\n",
    "    \n",
    "#     print \"obs\" + str(i) + \", Active col: \", str(output)"
   ]
  },
  {
   "cell_type": "code",
   "execution_count": 335,
   "metadata": {},
   "outputs": [
    {
     "data": {
      "text/plain": [
       "array([ 358,  359,  366,  369,  371,  372,  375,  376,  378,  379,  384,\n",
       "       1497, 1498, 1502, 1506, 1510, 1513, 1518, 1519, 1524, 1525, 1764,\n",
       "       1769, 1773, 1775, 1776, 1779, 1780, 1786, 1788, 1789, 1792, 1794,\n",
       "       1796, 1797, 1800, 1801, 1805, 1814, 1821])"
      ]
     },
     "execution_count": 335,
     "metadata": {},
     "output_type": "execute_result"
    }
   ],
   "source": [
    "data[0]['sp_active']"
   ]
  },
  {
   "cell_type": "code",
   "execution_count": 336,
   "metadata": {},
   "outputs": [
    {
     "data": {
      "text/plain": [
       "['inputSDR',\n",
       " 'inputSDRts',\n",
       " 'inputVal2',\n",
       " 'inputVal1',\n",
       " 'inputTs',\n",
       " 'label1',\n",
       " 'sp_active',\n",
       " 'inputSDRval2',\n",
       " 'label2',\n",
       " 'inputSDRval1']"
      ]
     },
     "execution_count": 336,
     "metadata": {},
     "output_type": "execute_result"
    }
   ],
   "source": [
    "data[0].keys()"
   ]
  },
  {
   "cell_type": "code",
   "execution_count": 337,
   "metadata": {},
   "outputs": [
    {
     "name": "stdout",
     "output_type": "stream",
     "text": [
      "obs0\n",
      "Active col:  [ 358  359  366  369  371  372  375  376  378  379  384 1497 1498 1502 1506\n",
      " 1510 1513 1518 1519 1524 1525 1764 1769 1773 1775 1776 1779 1780 1786 1788\n",
      " 1789 1792 1794 1796 1797 1800 1801 1805 1814 1821]\n",
      "obs1\n",
      "Active col:  [ 358  359  366  369  371  372  375  376  378  379  384 1497 1498 1502 1503\n",
      " 1510 1513 1519 1524 1525 1538 1764 1769 1773 1775 1776 1779 1780 1786 1788\n",
      " 1789 1792 1794 1796 1797 1800 1801 1805 1814 1821]\n",
      "obs2\n",
      "Active col:  [ 358  359  366  369  371  372  375  376  378  379  384 1513 1516 1524 1525\n",
      " 1528 1530 1533 1538 1764 1769 1771 1773 1775 1776 1777 1779 1780 1781 1782\n",
      " 1786 1788 1789 1790 1792 1794 1797 1799 1800 1801]\n",
      "obs3\n",
      "Active col:  [ 358  359  366  369  371  372  375  376  378  379  384 1497 1498 1502 1503\n",
      " 1510 1513 1519 1524 1525 1538 1764 1769 1773 1775 1776 1779 1780 1786 1788\n",
      " 1789 1792 1794 1796 1797 1800 1801 1805 1814 1821]\n",
      "obs4\n",
      "Active col:  [ 358  359  366  369  371  372  375  376  378  379  384 1497 1498 1502 1506\n",
      " 1510 1513 1518 1519 1524 1525 1764 1769 1773 1775 1776 1779 1780 1786 1788\n",
      " 1789 1792 1794 1796 1797 1800 1801 1805 1814 1821]\n"
     ]
    }
   ],
   "source": [
    "for _ in xrange(5):\n",
    "    print \"obs\" + str(_)\n",
    "    print \"Active col: \", data[_]['sp_active']"
   ]
  },
  {
   "cell_type": "code",
   "execution_count": 338,
   "metadata": {},
   "outputs": [],
   "source": [
    "# Permanence\n",
    "# permanence = []\n",
    "\n",
    "# for i in xrange(sp.getColumnDimensions()):\n",
    "#     p = []\n",
    "#     sp.getPermanence(i, p)\n",
    "#     permanence.append(np.array(p))\n",
    "\n",
    "# permanence[0]"
   ]
  },
  {
   "cell_type": "markdown",
   "metadata": {},
   "source": [
    "For `Permanence > Threshold` we have a connection to the *inputSDR*."
   ]
  },
  {
   "cell_type": "markdown",
   "metadata": {},
   "source": [
    "Summarizing SP:"
   ]
  },
  {
   "cell_type": "code",
   "execution_count": 339,
   "metadata": {},
   "outputs": [
    {
     "name": "stdout",
     "output_type": "stream",
     "text": [
      "inputSDR:  [0 0 0 ..., 0 0 0]\n",
      "SDR active bits [189 190 191 192 193 194 195 196 197 198 199 200 201 202 203 204 205 206\n",
      " 207 208 209 811 812 813 814 815 816 817 818 819 820 821 822 823 824 825\n",
      " 826 827 828 829 830 831 964 965 966 967 968 969 970 971 972 973 974 975\n",
      " 976 977 978 979 980 981 982 983 984]\n",
      "SP active col:  [ 358  359  366  369  371  372  375  376  378  379  384 1497 1498 1502 1506\n",
      " 1510 1513 1518 1519 1524 1525 1764 1769 1773 1775 1776 1779 1780 1786 1788\n",
      " 1789 1792 1794 1796 1797 1800 1801 1805 1814 1821]\n",
      "\n",
      "------------\n",
      "SP active col: 358; \tOverlappin bits: 10\n",
      "SP active col: 359; \tOverlappin bits: 11\n",
      "SP active col: 366; \tOverlappin bits: 10\n",
      "SP active col: 369; \tOverlappin bits: 13\n",
      "SP active col: 371; \tOverlappin bits: 11\n",
      "SP active col: 372; \tOverlappin bits: 10\n",
      "SP active col: 375; \tOverlappin bits: 10\n",
      "SP active col: 376; \tOverlappin bits: 10\n",
      "SP active col: 378; \tOverlappin bits: 12\n",
      "SP active col: 379; \tOverlappin bits: 11\n",
      "SP active col: 384; \tOverlappin bits: 10\n",
      "SP active col: 1497; \tOverlappin bits: 11\n",
      "SP active col: 1498; \tOverlappin bits: 11\n",
      "SP active col: 1502; \tOverlappin bits: 11\n",
      "SP active col: 1506; \tOverlappin bits: 10\n",
      "SP active col: 1510; \tOverlappin bits: 11\n",
      "SP active col: 1513; \tOverlappin bits: 11\n",
      "SP active col: 1518; \tOverlappin bits: 9\n",
      "SP active col: 1519; \tOverlappin bits: 9\n",
      "SP active col: 1524; \tOverlappin bits: 11\n",
      "SP active col: 1525; \tOverlappin bits: 9\n",
      "SP active col: 1764; \tOverlappin bits: 9\n",
      "SP active col: 1769; \tOverlappin bits: 9\n",
      "SP active col: 1773; \tOverlappin bits: 9\n",
      "SP active col: 1775; \tOverlappin bits: 10\n",
      "SP active col: 1776; \tOverlappin bits: 10\n",
      "SP active col: 1779; \tOverlappin bits: 10\n",
      "SP active col: 1780; \tOverlappin bits: 13\n",
      "SP active col: 1786; \tOverlappin bits: 12\n",
      "SP active col: 1788; \tOverlappin bits: 9\n",
      "SP active col: 1789; \tOverlappin bits: 9\n",
      "SP active col: 1792; \tOverlappin bits: 10\n",
      "SP active col: 1794; \tOverlappin bits: 13\n",
      "SP active col: 1796; \tOverlappin bits: 9\n",
      "SP active col: 1797; \tOverlappin bits: 12\n",
      "SP active col: 1800; \tOverlappin bits: 9\n",
      "SP active col: 1801; \tOverlappin bits: 13\n",
      "SP active col: 1805; \tOverlappin bits: 9\n",
      "SP active col: 1814; \tOverlappin bits: 9\n",
      "SP active col: 1821; \tOverlappin bits: 9\n"
     ]
    }
   ],
   "source": [
    "entry = 0\n",
    "\n",
    "print \"inputSDR: \", data[entry]['inputSDR']\n",
    "print \"SDR active bits\", idx_active_cols(data[entry]['inputSDR'])\n",
    "print \"SP active col: \", data[entry]['sp_active']\n",
    "print \"\\n\", \"------------\"\n",
    "\n",
    "for i in data[entry]['sp_active']:\n",
    "    print \"SP active col: \" + str(i) + \"; \\tOverlappin bits: \" + str(sum(spSDR[i] * data[entry]['inputSDR']))\n",
    "\n",
    "#print \"Pemanence winning col: \", permanence[track[0]['sp_active']]"
   ]
  },
  {
   "cell_type": "markdown",
   "metadata": {},
   "source": [
    "# Temporal Pooler\n",
    "\n",
    "[link to wiki](http://nupic.docs.numenta.org/1.0.3/api/algorithms/sequence-memory.html#nupic.algorithms.backtracking_tm_cpp.BacktrackingTMCPP)\n",
    "\n",
    "Load `MODEL_PARAMS` fors TM:"
   ]
  },
  {
   "cell_type": "code",
   "execution_count": 340,
   "metadata": {},
   "outputs": [
    {
     "name": "stdout",
     "output_type": "stream",
     "text": [
      "### modelParams1\n",
      "{u'columnCount': 2048, u'activationThreshold': 13, u'pamLength': 3, u'cellsPerColumn': 32, u'permanenceDec': 0.1, u'minThreshold': 10, u'inputWidth': 2048, u'maxSynapsesPerSegment': 32, u'outputType': u'normal', u'initialPerm': 0.21, u'globalDecay': 0.0, u'maxAge': 0, u'newSynapseCount': 20, u'maxSegmentsPerCell': 128, u'permanenceInc': 0.1, u'temporalImp': u'cpp', u'seed': 1960, u'verbosity': 0}\n",
      "\n",
      " ### modelParams2\n",
      "{u'columnCount': 2048, u'activationThreshold': 13, u'pamLength': 3, u'cellsPerColumn': 32, u'permanenceDec': 0.1, u'minThreshold': 10, u'inputWidth': 2048, u'maxSynapsesPerSegment': 32, u'outputType': u'normal', u'initialPerm': 0.21, u'globalDecay': 0.0, u'maxAge': 0, u'newSynapseCount': 20, u'maxSegmentsPerCell': 128, u'permanenceInc': 0.1, u'temporalImp': u'cpp', u'seed': 1960, u'verbosity': 0}\n"
     ]
    }
   ],
   "source": [
    "print \"### modelParams1\"\n",
    "print modelParams1['modelConfig']['modelParams']['tmParams']\n",
    "print \"\\n ### modelParams2\"\n",
    "print modelParams2['modelConfig']['modelParams']['tmParams']"
   ]
  },
  {
   "cell_type": "markdown",
   "metadata": {},
   "source": [
    "same same"
   ]
  },
  {
   "cell_type": "code",
   "execution_count": 341,
   "metadata": {},
   "outputs": [],
   "source": [
    "selectedTMparams = { \n",
    "    'activationThreshold': 20,\n",
    "    'cellsPerColumn': 32,\n",
    "#     'columnCount': 2048,\n",
    "    'globalDecay': 0.0,\n",
    "    'initialPerm': 0.24,\n",
    "#     'inputWidth': 2048,\n",
    "    'maxAge': 0,\n",
    "    'maxSegmentsPerCell': 128,\n",
    "    'maxSynapsesPerSegment': 128,\n",
    "    'minThreshold': 13,\n",
    "    'newSynapseCount': 31,\n",
    "    'outputType': 'normal',\n",
    "    'permanenceDec': 0.008,\n",
    "    'permanenceInc': 0.04,\n",
    "#     'predictedSegmentDecrement': 0.001,\n",
    "    'seed': 1960,\n",
    "#     'temporalImp': 'tm_cpp',\n",
    "    'verbosity': 0,\n",
    "    ### Changes\n",
    "    'numberOfCols': modelParams1['modelConfig']['modelParams']['tmParams']['columnCount'],\n",
    "\n",
    "}"
   ]
  },
  {
   "cell_type": "markdown",
   "metadata": {},
   "source": [
    "To better understand the example we suggest to set `verbosity=5`"
   ]
  },
  {
   "cell_type": "code",
   "execution_count": 342,
   "metadata": {},
   "outputs": [],
   "source": [
    "from nupic.algorithms.backtracking_tm import BacktrackingTM"
   ]
  },
  {
   "cell_type": "code",
   "execution_count": 343,
   "metadata": {},
   "outputs": [],
   "source": [
    "# init TM\n",
    "tm = BacktrackingTM(**selectedTMparams)"
   ]
  },
  {
   "cell_type": "markdown",
   "metadata": {},
   "source": [
    "For every input, send the ACTIVE_sp_columns to TM as 0/1 vector"
   ]
  },
  {
   "cell_type": "code",
   "execution_count": 344,
   "metadata": {},
   "outputs": [],
   "source": [
    "for i in xrange(len(data)): #len(data)\n",
    "    # for every input, select the 'sp_active' col and get active bit in very col  \n",
    "     sp4tm = [spSDR.get(sp) for sp in data[i]['sp_active']]\n",
    "    # stack all the arrays in matrix and sum to see overlap \n",
    "     sp4tm = sum(np.array(sp4tm))\n",
    "    # if overlap 1 send active cols aove \n",
    "     sp4tm[sp4tm>0] = 1\n",
    "    \n",
    "    # send the vector with the SP active cols to TM\n",
    "     data[i]['sp4tm'] = sp4tm"
   ]
  },
  {
   "cell_type": "code",
   "execution_count": 345,
   "metadata": {},
   "outputs": [],
   "source": [
    "# Step 3: send the  input to the temporal memory for learning\n",
    "\n",
    "# # Send each input in the sequence in order\n",
    "# for i in xrange(len(data[:1000])):\n",
    "\n",
    "#     # The compute method performs one step of learning and/or inference. Note:\n",
    "#     # here we just perform learning but you can perform prediction/inference and\n",
    "#     # learning in the same step if you want (online learning).\n",
    "#     tm_output = tm.compute(data[i]['sp4tm'], enableLearn=True, enableInference=True)\n",
    "#     # This function prints the segments associated with every cell.$$$$\n",
    "#     # If you really want to understand the TP, uncomment this line. By following\n",
    "#     # every step you can get an excellent understanding for exactly how the TP\n",
    "#     # learns.\n",
    "#     #tm.printCells()"
   ]
  },
  {
   "cell_type": "markdown",
   "metadata": {},
   "source": [
    "Use the first 3000 entries to learn, test on the rest:"
   ]
  },
  {
   "cell_type": "markdown",
   "metadata": {},
   "source": [
    "## Anomaly Score\n",
    "\n",
    "[link](http://nupic.docs.numenta.org/stable/guides/anomaly-detection.html)\n",
    "\n",
    "The algorithm for the anomaly score is as follows:  \n",
    "\n",
    "AS = |A_(t) - (P_(t-1) cross A_(t))|  / |A_(t)|  \n",
    "\n",
    "A_(t):   Predicted columns at time t  \n",
    "P_(t-1): Active columns at time t\n",
    "\n",
    "**Note**: Here, a “predicted column” is a column with a non-zero confidence value. This is not exactly the same as having a cell in the predicted state. For more information, refer the “predicted cells vs. confidences” section below.  \n",
    "\n",
    "...to compute the confidences for a cell, the Temporal Pooler uses the soft match count (the number of active synapses, regardless of the permanence values). Therefore, the set of columns with non-zero confidences will always be a superset of the columns containing predicted cells."
   ]
  },
  {
   "cell_type": "code",
   "execution_count": 346,
   "metadata": {},
   "outputs": [],
   "source": [
    "def computeRawAnomalyScore(activeColumns, prevPredictedColumns):\n",
    "  \"\"\"Computes the raw anomaly score.\n",
    "\n",
    "  The raw anomaly score is the fraction of active columns not predicted.\n",
    "\n",
    "  :param activeColumns: array of active column indices\n",
    "  :param prevPredictedColumns: array of columns indices predicted in prev step\n",
    "  :returns: anomcaly score 0..1 (float)\n",
    "  \"\"\"\n",
    "  nActiveColumns = len(activeColumns)\n",
    "  if nActiveColumns > 0:\n",
    "    # Test whether each element of a 1-D array is also present in a second\n",
    "    # array. Sum to get the total # of columns that are active and were\n",
    "    # predicted.\n",
    "    score = np.in1d(activeColumns, prevPredictedColumns).sum()\n",
    "    # Get the percent of active columns that were NOT predicted, that is\n",
    "    # our anomaly score.\n",
    "    score = (nActiveColumns - score) / float(nActiveColumns)\n",
    "  else:\n",
    "    # There are no active columns.\n",
    "    score = 0.0\n",
    "\n",
    "  return score"
   ]
  },
  {
   "cell_type": "code",
   "execution_count": 347,
   "metadata": {},
   "outputs": [],
   "source": [
    "# Utility routine for printing the input vector\n",
    "def formatRow(x):\n",
    "    s = ''\n",
    "    for c in range(len(x)):\n",
    "        if c > 0 and c % 10 == 0:\n",
    "            s += ' '\n",
    "        s += str(x[c])\n",
    "    s += ' '\n",
    "    return s"
   ]
  },
  {
   "cell_type": "markdown",
   "metadata": {},
   "source": [
    "## Anomaly Likelihood\n",
    "\n",
    "``` \n",
    "from nupic.algorithms.anomaly_likelihood import AnomalyLikelihood\n",
    "\n",
    "class AnomalyLikelihood(claLearningPeriod=None,\n",
    "                       learningPeriod=288,\n",
    "                       estimationSamples=100,\n",
    "                       historicWindowSize=8640,\n",
    "                       reestimationPeriod=100)):\n",
    "\n",
    "    NOTE: Anomaly likelihood scores are reported at a flat 0.5 for\n",
    "    learningPeriod + estimationSamples iterations.\n",
    "\n",
    "    claLearningPeriod and learningPeriod are specifying the same variable,\n",
    "    although claLearningPeriod is a deprecated name for it.\n",
    "\n",
    "    :param learningPeriod: (claLearningPeriod: deprecated) - (int) the number of\n",
    "      iterations required for the algorithm to learn the basic patterns in the\n",
    "      dataset and for the anomaly score to 'settle down'. The default is based\n",
    "      on empirical observations but in reality this could be larger for more\n",
    "      complex domains. The downside if this is too large is that real anomalies\n",
    "      might get ignored and not flagged.\n",
    "\n",
    "    :param estimationSamples: (int) the number of reasonable anomaly scores\n",
    "      required for the initial estimate of the Gaussian. The default of 100\n",
    "      records is reasonable - we just need sufficient samples to get a decent\n",
    "      estimate for the Gaussian. It's unlikely you will need to tune this since\n",
    "      the Gaussian is re-estimated every 10 iterations by default.\n",
    "\n",
    "    :param historicWindowSize: (int) size of sliding window of historical\n",
    "      data points to maintain for periodic reestimation of the Gaussian. Note:\n",
    "      the default of 8640 is based on a month's worth of history at 5-minute\n",
    "      intervals.\n",
    "\n",
    "    :param reestimationPeriod: (int) how often we re-estimate the Gaussian\n",
    "      distribution. The ideal is to re-estimate every iteration but this is a\n",
    "      performance hit. In general the system is not very sensitive to this\n",
    "      number as long as it is small relative to the total number of records\n",
    "      processed.\n",
    "    ```"
   ]
  },
  {
   "cell_type": "code",
   "execution_count": 348,
   "metadata": {},
   "outputs": [],
   "source": [
    "from nupic.algorithms.anomaly_likelihood import AnomalyLikelihood"
   ]
  },
  {
   "cell_type": "code",
   "execution_count": 349,
   "metadata": {},
   "outputs": [],
   "source": [
    "anomalyLikelihood = AnomalyLikelihood()\n",
    "\n",
    "# for i in xrange(100):  # len(data)\n",
    "#     # Compute the Anomaly Likelihood\n",
    "#     likelihood = anomalyLikelihood.anomalyProbability(data[i]['inputVal'], data[i]['AnomalyScore'], data[i]['inputTs'])\n",
    "#     #likelihood = anomalyLikelihood.anomalyProbability(inputData[\"value\"], anomalyScore, inputData[\"dttm\"])\n",
    "#     logLikelihood = anomalyLikelihood.computeLogLikelihood(likelihood)\n",
    "#     data[i]['lh'] = likelihood    \n",
    "#     data[i]['logLH'] = likelihood\n",
    "#     #if likelihood > 0.9999:\n",
    "#         #print \"Anomaly detected:\", track[i]['inputVal'], track[i]['inputTs'], likelihood"
   ]
  },
  {
   "cell_type": "markdown",
   "metadata": {},
   "source": [
    "## Run Experiment"
   ]
  },
  {
   "cell_type": "code",
   "execution_count": 350,
   "metadata": {},
   "outputs": [],
   "source": [
    "# Step 4: send the same sequence of vectors and look at predictions made by\n",
    "# temporal memory\n",
    "\n",
    "\n",
    "for i in xrange(len(data)):  # len(data) \n",
    "#     print \"\\n\\n--------\" + str(i) + \"-----------\"\n",
    "#     print \"Raw input vector\\n\",formatRow(track[i]['sp4tm'])\n",
    "\n",
    "    # Send each vector to the TP, with learning turned off\n",
    "    tm.compute(data[i]['sp4tm'], enableLearn=True, enableInference=True)\n",
    "\n",
    "    # This method prints out the active state of each cell followed by the\n",
    "    # predicted state of each cell. For convenience the cells are grouped\n",
    "    # 10 at a time. When there are multiple cells per column the printout\n",
    "    # is arranged so the cells in a column are stacked together\n",
    "    #\n",
    "    # What you should notice is that the columns where active state is 1\n",
    "    # represent the SDR for the current input pattern and the columns where\n",
    "    # predicted state is 1 represent the SDR for the next expected pattern\n",
    "#     print \"\\nAll the active and predicted cells:\"\n",
    "#     tm.printStates(printPrevious=False, printLearnState=False)\n",
    "\n",
    "    # tm.getPredictedState() gets the predicted cells.\n",
    "    # predictedCells[c][i] represents the state of the i'th cell in the c'th\n",
    "    # column. To see if a column is predicted, we can simply take the OR\n",
    "    # across all the cells in that column. In numpy we can do this by taking\n",
    "    # the max along axis 1.\n",
    "#     print \"\\n\\nThe following columns are predicted by the temporal memory. This\"\n",
    "#     print \"should correspond to columns in the *next* item in the sequence.\"\n",
    "#     predictedCells = tm.getPredictedState()\n",
    "#     print formatRow(predictedCells.max(axis=1).nonzero())\n",
    "    \n",
    "    ## ANOMALY SCORE\n",
    "    data[i]['TMpredictedCells'] = tm.cellConfidence['t-1']\n",
    "    #data[i]['TMpredictedCells_2'] = tm.infPredictedState['t-1']\n",
    "    data[i]['TMactiveCells'] = tm.infActiveState['t']           \n",
    "    data[i]['AnomalyScore'] = computeRawAnomalyScore(idx_active_cols(tm.infActiveState['t']), idx_active_cols(tm.cellConfidence['t-1']))\n",
    "    #data[i]['AnomalyScore2'] = computeRawAnomalyScore(idx_active_cols(tm.infActiveState['t']), idx_active_cols(tm.infPredictedState['t-1']))\n",
    "    likelihood = anomalyLikelihood.anomalyProbability(data[i]['inputVal1'], data[i]['AnomalyScore'], data[i]['inputTs'])\n",
    "    #likelihood = anomalyLikelihood.anomalyProbability(inputData[\"value\"], anomalyScore, inputData[\"dttm\"])\n",
    "    logLikelihood = anomalyLikelihood.computeLogLikelihood(likelihood)\n",
    "    data[i]['lh'] = likelihood    \n",
    "    data[i]['logLH'] = logLikelihood\n",
    "    \n",
    "    if likelihood > 0.9999:\n",
    "        data[i]['flag'] = 1\n",
    "    else:\n",
    "        data[i]['flag'] = 0\n",
    "    \n",
    "    ## Anomaly Attribution\n",
    "    # check overlapping columns\n",
    "    idxOverlap = np.in1d(idx_active_cols(tm.infActiveState['t']), idx_active_cols(tm.cellConfidence['t-1']))\n",
    "    # shows actual active column that do not overalp with prediction\n",
    "    data[i]['idxAS'] = idx_active_cols(tm.infActiveState['t'])[idxOverlap == False]"
   ]
  },
  {
   "cell_type": "code",
   "execution_count": 351,
   "metadata": {},
   "outputs": [],
   "source": [
    "# vAnomalyScore = []\n",
    "# #vAnomalyScore2 = []\n",
    "# vLH = []\n",
    "# vLogLH = []\n",
    "# vFlag = []\n",
    "\n",
    "# for i in xrange(len(data)):\n",
    "#     vAnomalyScore.append(data[i].get('AnomalyScore'))    \n",
    "#  #   vAnomalyScore2.append(track[i].get('AnomalyScore'))    \n",
    "#     vLH.append(data[i].get('lh'))\n",
    "#     vLogLH.append(data[i].get('logLH'))\n",
    "#     vFlag.append(data[i].get('flag'))"
   ]
  },
  {
   "cell_type": "code",
   "execution_count": 284,
   "metadata": {},
   "outputs": [],
   "source": [
    "# pd.Series(vAnomalyScore).plot()\n",
    "# pd.Series(vLH).plot()\n",
    "# pd.Series(vLogLH).plot()\n",
    "# pd.Series(vFlag).plot()"
   ]
  },
  {
   "cell_type": "code",
   "execution_count": 352,
   "metadata": {},
   "outputs": [],
   "source": [
    "df = pd.DataFrame.from_records(data)"
   ]
  },
  {
   "cell_type": "code",
   "execution_count": 353,
   "metadata": {},
   "outputs": [],
   "source": [
    "import matplotlib.pyplot as plt \n",
    "import matplotlib.dates as mdates"
   ]
  },
  {
   "cell_type": "code",
   "execution_count": 356,
   "metadata": {},
   "outputs": [],
   "source": [
    "idcs1 = df.label1[df.label1==1].index\n",
    "idcs2 = df.label2[df.label2==1].index"
   ]
  },
  {
   "cell_type": "code",
   "execution_count": 359,
   "metadata": {},
   "outputs": [
    {
     "data": {
      "image/png": "[encoded data removed]",
      "text/plain": [
       "<Figure size 1500x700 with 2 Axes>"
      ]
     },
     "metadata": {},
     "output_type": "display_data"
    }
   ],
   "source": [
    "a = 0\n",
    "b = -1\n",
    "\n",
    "fig, ax = plt.subplots(2, sharex=True, figsize=(15,7))\n",
    "ax[0].plot(df.inputVal1[a:b], color='b')\n",
    "ax[0].plot(df.inputVal2[a:b], color='g')\n",
    "ax[0].set(ylabel='temperature_C', title=PATH_relative)\n",
    "#ax[0].vlines(idcs[a:b], 0, 1, transform=ax[0].get_xaxis_transform(), colors='y')\n",
    "#ax[0].vlines(anomalies_gt, 0, 1, transform=ax[0].get_xaxis_transform(), colors='b', linestyles={'dashed'})\n",
    "ax[0].plot(df.label1[a:b], color='y', label='groundtruth1')\n",
    "ax[0].plot(df.label1[a:b], color='m', label='groundtruth2')\n",
    "\n",
    "\n",
    "ax[1].plot(df.AnomalyScore[a:b], label='anomaly_score')\n",
    "ax[1].set(ylabel='Anomaly Score and LH')\n",
    "ax[1].plot(df.lh[a:b], color='r', alpha=0.5, label='anomaly_LH')\n",
    "ax[1].plot(df.logLH[a:b], color='c', alpha=0.5, label='logLH')\n",
    "ax[1].axhline(y=0.5, \n",
    "              color='r', linestyle='--', linewidth=0.4)\n",
    "              #xmin=data.anomaly_likelihood.index[a], xmax=data.anomaly_likelihood.index[b])\n",
    "#ax[1].vlines(idcs[a:b], 0, 1, transform=ax[1].get_xaxis_transform(), alpha=0.9, colors='y', label='groundtruth')\n",
    "ax[1].plot(df.label1[a:b], color='y', label='groundtruth1')\n",
    "ax[1].plot(df.label2[a:b], color='m', label='groundtruth2')\n",
    "ax[1].plot(df.flag[a:b], color='k', label='flag')\n",
    "ax[1].set(xlabel='time (5min)')\n",
    "ax[1].legend(loc=1)\n",
    "\n",
    "#set ticks every week\n",
    "ax[1].xaxis.set_major_locator(mdates.WeekdayLocator())\n",
    "#set major ticks format\n",
    "ax[1].xaxis.set_major_formatter(mdates.DateFormatter('%b %d'))"
   ]
  },
  {
   "cell_type": "code",
   "execution_count": null,
   "metadata": {},
   "outputs": [],
   "source": []
  },
  {
   "cell_type": "code",
   "execution_count": null,
   "metadata": {},
   "outputs": [],
   "source": []
  },
  {
   "cell_type": "code",
   "execution_count": 360,
   "metadata": {},
   "outputs": [],
   "source": [
    "import copy\n",
    "dataOut = copy.deepcopy(data)"
   ]
  },
  {
   "cell_type": "code",
   "execution_count": null,
   "metadata": {},
   "outputs": [],
   "source": [
    "# to dump to .json we need to change array to lists and datetime to str\n",
    "\n",
    "for i in xrange(len(dataOut)):\n",
    "    for k,v in dataOut[i].items():\n",
    "        if isinstance(v, np.ndarray):\n",
    "            #print dataOut[i][k].tolist\n",
    "            dataOut[i][k] = dataOut[i][k].tolist()\n",
    "        if isinstance(v, datetime.datetime):\n",
    "            dataOut[i][k] = str(dataOut[i][k])\n",
    "        else:\n",
    "            pass"
   ]
  },
  {
   "cell_type": "code",
   "execution_count": null,
   "metadata": {},
   "outputs": [],
   "source": [
    "filename = 'multi_getScal_spLearnFalse_tmLearnAll.json'\n",
    "with open(filename, 'w') as f:\n",
    "    json.dump(dataOut, f, indent=4, sort_keys=True, separators=(',', ': '))"
   ]
  },
  {
   "cell_type": "code",
   "execution_count": null,
   "metadata": {},
   "outputs": [],
   "source": []
  },
  {
   "cell_type": "code",
   "execution_count": null,
   "metadata": {},
   "outputs": [],
   "source": []
  },
  {
   "cell_type": "code",
   "execution_count": null,
   "metadata": {},
   "outputs": [],
   "source": []
  },
  {
   "cell_type": "code",
   "execution_count": null,
   "metadata": {},
   "outputs": [],
   "source": []
  },
  {
   "cell_type": "markdown",
   "metadata": {},
   "source": [
    "# Redirecting Anomaly Score\n",
    "\n",
    "Once an AS has been outputed, we want to know which are the cells the where unpredicted and causes the error to raise."
   ]
  },
  {
   "cell_type": "markdown",
   "metadata": {},
   "source": [
    "-------- 4 -----------  \n",
    "Raw input vector  \n",
    "0000010000 0010010000 0   \n",
    "\n",
    "==== PY Iteration: 56 =====  \n",
    "Previous learned pattern: array([ 0,  2,  4,  5, 19])  \n",
    "  \n",
    "Active cols: [ 5 12 15]  \n",
    "Inference Active state  \n",
    "0000000000 0000000000 0  \n",
    "0000010000 0000010000 0  \n",
    "0000000000 0010000000 0  \n",
    "  \n",
    "Inference Predicted state: [1, 7, 8, 14, 20]  \n",
    "0000000000 0000000000 0  \n",
    "0100000110 0000000000 1  \n",
    "0000000000 0000100000 0  "
   ]
  },
  {
   "cell_type": "code",
   "execution_count": 202,
   "metadata": {},
   "outputs": [
    {
     "data": {
      "text/plain": [
       "{'backup': array([[0, 0, 0],\n",
       "        [0, 0, 0],\n",
       "        [0, 0, 0],\n",
       "        [0, 0, 0],\n",
       "        [0, 0, 0],\n",
       "        [0, 0, 0],\n",
       "        [0, 0, 0],\n",
       "        [0, 0, 0],\n",
       "        [0, 0, 0],\n",
       "        [0, 0, 0],\n",
       "        [0, 0, 0],\n",
       "        [0, 0, 0],\n",
       "        [0, 0, 0],\n",
       "        [0, 0, 0],\n",
       "        [0, 0, 0],\n",
       "        [0, 0, 0],\n",
       "        [0, 0, 0],\n",
       "        [0, 0, 0],\n",
       "        [0, 0, 0],\n",
       "        [0, 0, 0],\n",
       "        [0, 0, 0]], dtype=int8), 'candidate': array([[0, 0, 0],\n",
       "        [0, 0, 0],\n",
       "        [0, 0, 0],\n",
       "        [0, 0, 0],\n",
       "        [0, 0, 0],\n",
       "        [0, 0, 0],\n",
       "        [0, 0, 0],\n",
       "        [0, 0, 0],\n",
       "        [0, 0, 0],\n",
       "        [0, 0, 0],\n",
       "        [0, 0, 0],\n",
       "        [0, 0, 0],\n",
       "        [0, 0, 0],\n",
       "        [0, 0, 0],\n",
       "        [0, 0, 0],\n",
       "        [0, 0, 0],\n",
       "        [0, 0, 0],\n",
       "        [0, 0, 0],\n",
       "        [0, 0, 0],\n",
       "        [0, 0, 0],\n",
       "        [0, 0, 0]], dtype=int8), 't': array([[0, 0, 0],\n",
       "        [0, 1, 0],\n",
       "        [0, 0, 0],\n",
       "        [0, 0, 0],\n",
       "        [0, 0, 0],\n",
       "        [0, 0, 0],\n",
       "        [0, 0, 0],\n",
       "        [0, 1, 0],\n",
       "        [0, 1, 0],\n",
       "        [0, 0, 0],\n",
       "        [0, 0, 0],\n",
       "        [0, 0, 0],\n",
       "        [0, 0, 0],\n",
       "        [0, 0, 0],\n",
       "        [0, 0, 1],\n",
       "        [0, 0, 0],\n",
       "        [0, 0, 0],\n",
       "        [0, 0, 0],\n",
       "        [0, 0, 0],\n",
       "        [0, 0, 0],\n",
       "        [0, 1, 0]], dtype=int8), 't-1': array([[0, 0, 0],\n",
       "        [0, 0, 0],\n",
       "        [0, 0, 0],\n",
       "        [0, 0, 0],\n",
       "        [0, 0, 0],\n",
       "        [0, 1, 0],\n",
       "        [0, 0, 0],\n",
       "        [0, 0, 0],\n",
       "        [0, 0, 0],\n",
       "        [0, 0, 0],\n",
       "        [0, 0, 0],\n",
       "        [0, 0, 0],\n",
       "        [0, 0, 1],\n",
       "        [0, 0, 0],\n",
       "        [0, 0, 0],\n",
       "        [0, 1, 0],\n",
       "        [0, 0, 0],\n",
       "        [0, 0, 0],\n",
       "        [0, 0, 0],\n",
       "        [0, 0, 0],\n",
       "        [0, 0, 0]], dtype=int8)}"
      ]
     },
     "execution_count": 202,
     "metadata": {},
     "output_type": "execute_result"
    }
   ],
   "source": [
    "tm.infPredictedState # [t] predicted to be active next, [t-1] predicted before, for current input "
   ]
  },
  {
   "cell_type": "code",
   "execution_count": 203,
   "metadata": {},
   "outputs": [
    {
     "name": "stdout",
     "output_type": "stream",
     "text": [
      "[ 1  7  8 14 20] \n"
     ]
    }
   ],
   "source": [
    "predictedCells = tm.getPredictedState()\n",
    "print formatRow(predictedCells.max(axis=1).nonzero())"
   ]
  },
  {
   "cell_type": "code",
   "execution_count": 198,
   "metadata": {},
   "outputs": [
    {
     "data": {
      "text/plain": [
       "array([[0, 0, 0],\n",
       "       [0, 1, 0],\n",
       "       [0, 0, 0],\n",
       "       [0, 0, 0],\n",
       "       [0, 0, 0],\n",
       "       [0, 0, 0],\n",
       "       [0, 0, 0],\n",
       "       [0, 1, 0],\n",
       "       [0, 1, 0],\n",
       "       [0, 0, 0],\n",
       "       [0, 0, 0],\n",
       "       [0, 0, 0],\n",
       "       [0, 0, 0],\n",
       "       [0, 0, 0],\n",
       "       [0, 0, 1],\n",
       "       [0, 0, 0],\n",
       "       [0, 0, 0],\n",
       "       [0, 0, 0],\n",
       "       [0, 0, 0],\n",
       "       [0, 0, 0],\n",
       "       [0, 1, 0]], dtype=int8)"
      ]
     },
     "execution_count": 198,
     "metadata": {},
     "output_type": "execute_result"
    }
   ],
   "source": [
    "tm.getPredictedState()"
   ]
  },
  {
   "cell_type": "code",
   "execution_count": 207,
   "metadata": {},
   "outputs": [
    {
     "name": "stdout",
     "output_type": "stream",
     "text": [
      "Column 0 Cell 1 : 2 segment(s)\n",
      "   Seg #0   ID:10    True 0.1785714 (  10/10  )    3 [1,1]1.00 [1,2]0.50 [7,1]1.00 [8,1]1.00 [8,2]0.50 [14,1]0.50 [14,2]1.00 [20,1]1.00\n",
      "   Seg #1   ID:36    True 0.0178571 (   1/1   )   23 [1,0]0.50 [7,0]0.50 [8,0]0.50 [14,0]0.50 [20,0]0.50\n",
      "Column 0 Cell 2 : 1 segment(s)\n",
      "   Seg #0   ID:23    True 0.1964286 (  11/11  )    1 [2,1]1.00 [10,1]1.00 [12,1]1.00 [16,2]1.00 [17,2]1.00 [20,1]1.00\n",
      "Column 1 Cell 1 : 2 segment(s)\n",
      "   Seg #0   ID:0     True 0.0178571 (   1/1   )   55\n",
      "  *Seg #1   ID:31    True 0.1785714 (  10/11  )    4 [5,1]1.00 [12,2]1.00 [15,1]1.00\n",
      "Column 1 Cell 2 : 1 segment(s)\n",
      "   Seg #0   ID:5     True 0.0178571 (   1/10  )   54 [1,1]0.50 [7,2]0.50 [8,1]0.50 [14,1]0.50 [20,2]0.50\n",
      "Column 2 Cell 1 : 3 segment(s)\n",
      "   Seg #0   ID:11    True 0.1785714 (  10/10  )    3 [1,1]1.00 [1,2]0.50 [7,1]1.00 [8,1]1.00 [8,2]0.50 [14,1]0.50 [14,2]1.00 [20,1]1.00\n",
      "   Seg #1   ID:17    True 0.1964286 (  11/11  )    2 [0,1]1.00 [2,1]1.00 [6,1]1.00 [11,1]0.50 [11,2]1.00 [13,2]1.00 [14,1]0.50 [14,2]1.00 [15,1]0.50 [15,2]1.00\n",
      "   Seg #2   ID:37    True 0.0178571 (   1/1   )   23 [1,0]0.50 [7,0]0.50 [8,0]0.50 [14,0]0.50 [20,0]0.50\n",
      "Column 2 Cell 2 : 1 segment(s)\n",
      "   Seg #0   ID:24    True 0.1964286 (  11/11  )    1 [2,1]1.00 [10,1]1.00 [12,1]1.00 [16,2]1.00 [17,2]1.00 [20,1]1.00\n",
      "Column 4 Cell 2 : 1 segment(s)\n",
      "   Seg #0   ID:25    True 0.1964286 (  11/11  )    1 [2,1]1.00 [10,1]1.00 [12,1]1.00 [16,2]1.00 [17,2]1.00 [20,1]1.00\n",
      "Column 5 Cell 1 : 2 segment(s)\n",
      "   Seg #0   ID:26    True 0.1964286 (  11/11  )    1 [2,1]1.00 [10,1]1.00 [12,1]1.00 [16,2]1.00 [17,2]1.00 [20,1]1.00\n",
      "   Seg #1   ID:28    True 0.1964286 (  11/11  )    0 [0,2]1.00 [2,2]1.00 [4,2]1.00 [5,1]1.00 [19,2]1.00\n",
      "Column 6 Cell 1 : 2 segment(s)\n",
      "   Seg #0   ID:12    True 0.1785714 (  10/10  )    3 [1,1]1.00 [1,2]0.50 [7,1]1.00 [8,1]1.00 [8,2]0.50 [14,1]0.50 [14,2]1.00 [20,1]1.00\n",
      "   Seg #1   ID:38    True 0.0178571 (   1/1   )   23 [1,0]0.50 [7,0]0.50 [8,0]0.50 [14,0]0.50 [20,0]0.50\n",
      "Column 7 Cell 1 : 2 segment(s)\n",
      "   Seg #0   ID:6     True 0.0178571 (   1/10  )   54 [1,1]0.50 [7,2]0.50 [8,1]0.50 [14,1]0.50 [20,2]0.50\n",
      "  *Seg #1   ID:32    True 0.1785714 (  10/11  )    4 [5,1]1.00 [12,2]1.00 [15,1]1.00\n",
      "Column 7 Cell 2 : 1 segment(s)\n",
      "   Seg #0   ID:1     True 0.0178571 (   1/1   )   55\n",
      "Column 8 Cell 1 : 2 segment(s)\n",
      "   Seg #0   ID:2     True 0.0178571 (   1/1   )   55\n",
      "  *Seg #1   ID:33    True 0.1785714 (  10/11  )    4 [5,1]1.00 [12,2]1.00 [15,1]1.00\n",
      "Column 8 Cell 2 : 1 segment(s)\n",
      "   Seg #0   ID:7     True 0.0178571 (   1/10  )   54 [1,1]0.50 [7,2]0.50 [8,1]0.50 [14,1]0.50 [20,2]0.50\n",
      "Column 10 Cell 1 : 1 segment(s)\n",
      "   Seg #0   ID:18    True 0.1964286 (  11/11  )    2 [0,1]1.00 [2,1]1.00 [6,1]1.00 [11,1]0.50 [11,2]1.00 [13,2]1.00 [14,1]0.50 [14,2]1.00 [15,1]0.50 [15,2]1.00\n",
      "Column 11 Cell 1 : 1 segment(s)\n",
      "   Seg #0   ID:39    True 0.0178571 (   1/1   )   23 [1,0]0.50 [7,0]0.50 [8,0]0.50 [14,0]0.50 [20,0]0.50\n",
      "Column 11 Cell 2 : 1 segment(s)\n",
      "   Seg #0   ID:13    True 0.1785714 (  10/10  )    3 [1,1]1.00 [1,2]0.50 [7,1]1.00 [8,1]1.00 [8,2]0.50 [14,1]0.50 [14,2]1.00 [20,1]1.00\n",
      "Column 12 Cell 1 : 1 segment(s)\n",
      "   Seg #0   ID:19    True 0.1964286 (  11/11  )    2 [0,1]1.00 [2,1]1.00 [6,1]1.00 [11,1]0.50 [11,2]1.00 [13,2]1.00 [14,1]0.50 [14,2]1.00 [15,1]0.50 [15,2]1.00\n",
      "Column 12 Cell 2 : 1 segment(s)\n",
      "   Seg #0   ID:29    True 0.1964286 (  11/11  )    0 [0,2]1.00 [2,2]1.00 [4,2]1.00 [5,1]1.00 [19,2]1.00\n",
      "Column 13 Cell 2 : 2 segment(s)\n",
      "   Seg #0   ID:14    True 0.1785714 (  10/10  )    3 [1,1]1.00 [1,2]0.50 [7,1]1.00 [8,1]1.00 [8,2]0.50 [14,1]0.50 [14,2]1.00 [20,1]1.00\n",
      "   Seg #1   ID:40    True 0.0178571 (   1/1   )   23 [1,0]0.50 [7,0]0.50 [8,0]0.50 [14,0]0.50 [20,0]0.50\n",
      "Column 14 Cell 1 : 3 segment(s)\n",
      "   Seg #0   ID:3     True 0.0178571 (   1/1   )   55\n",
      "   Seg #1   ID:8     True 0.0178571 (   1/1   )   54 [1,1]0.50 [7,2]0.50 [8,1]0.50 [14,1]0.50 [20,2]0.50\n",
      "   Seg #2   ID:41    True 0.0178571 (   1/1   )   23 [1,0]0.50 [7,0]0.50 [8,0]0.50 [14,0]0.50 [20,0]0.50\n",
      "Column 14 Cell 2 : 2 segment(s)\n",
      "   Seg #0   ID:15    True 0.1785714 (  10/10  )    3 [1,1]1.00 [1,2]0.50 [7,1]1.00 [8,1]1.00 [8,2]0.50 [14,1]0.50 [14,2]1.00 [20,1]1.00\n",
      "  *Seg #1   ID:34    True 0.1785714 (  10/11  )    4 [5,1]1.00 [12,2]1.00 [15,1]1.00\n",
      "Column 15 Cell 1 : 2 segment(s)\n",
      "   Seg #0   ID:30    True 0.1964286 (  11/11  )    0 [0,2]1.00 [2,2]1.00 [4,2]1.00 [5,1]1.00 [19,2]1.00\n",
      "   Seg #1   ID:42    True 0.0178571 (   1/1   )   23 [1,0]0.50 [7,0]0.50 [8,0]0.50 [14,0]0.50 [20,0]0.50\n",
      "Column 15 Cell 2 : 1 segment(s)\n",
      "   Seg #0   ID:16    True 0.1785714 (  10/10  )    3 [1,1]1.00 [1,2]0.50 [7,1]1.00 [8,1]1.00 [8,2]0.50 [14,1]0.50 [14,2]1.00 [20,1]1.00\n",
      "Column 16 Cell 2 : 1 segment(s)\n",
      "   Seg #0   ID:20    True 0.1964286 (  11/11  )    2 [0,1]1.00 [2,1]1.00 [6,1]1.00 [11,1]0.50 [11,2]1.00 [13,2]1.00 [14,1]0.50 [14,2]1.00 [15,1]0.50 [15,2]1.00\n",
      "Column 17 Cell 2 : 1 segment(s)\n",
      "   Seg #0   ID:21    True 0.1964286 (  11/11  )    2 [0,1]1.00 [2,1]1.00 [6,1]1.00 [11,1]0.50 [11,2]1.00 [13,2]1.00 [14,1]0.50 [14,2]1.00 [15,1]0.50 [15,2]1.00\n",
      "Column 19 Cell 2 : 1 segment(s)\n",
      "   Seg #0   ID:27    True 0.1964286 (  11/11  )    1 [2,1]1.00 [10,1]1.00 [12,1]1.00 [16,2]1.00 [17,2]1.00 [20,1]1.00\n",
      "Column 20 Cell 1 : 3 segment(s)\n",
      "   Seg #0   ID:9     True 0.0178571 (   1/10  )   54 [1,1]0.50 [7,2]0.50 [8,1]0.50 [14,1]0.50 [20,2]0.50\n",
      "   Seg #1   ID:22    True 0.1964286 (  11/11  )    2 [0,1]1.00 [2,1]1.00 [6,1]1.00 [11,1]0.50 [11,2]1.00 [13,2]1.00 [14,1]0.50 [14,2]1.00 [15,1]0.50 [15,2]1.00\n",
      "  *Seg #2   ID:35    True 0.1785714 (  10/11  )    4 [5,1]1.00 [12,2]1.00 [15,1]1.00\n",
      "Column 20 Cell 2 : 1 segment(s)\n",
      "   Seg #0   ID:4     True 0.0178571 (   1/1   )   55\n"
     ]
    }
   ],
   "source": [
    "for c in xrange(tm.numberOfCols):\n",
    "    for i in xrange(tm.cellsPerColumn):\n",
    "        if not False or tm.infPredictedState['t'][c, i]:\n",
    "            tm.printCell(c, i, False)"
   ]
  },
  {
   "cell_type": "markdown",
   "metadata": {},
   "source": [
    "# Trackability - Feedforward"
   ]
  },
  {
   "cell_type": "code",
   "execution_count": 37,
   "metadata": {},
   "outputs": [
    {
     "data": {
      "text/plain": [
       "[{'inputSDR': array([0, 0, 0, 0, 0, 0, 0, 1, 1, 1, 0, 0, 0, 0, 0, 0, 0, 0, 0, 0, 0], dtype=uint8),\n",
       "  'inputVal': 73.96732207,\n",
       "  'sp_active': 0},\n",
       " {'inputSDR': array([0, 0, 0, 0, 0, 0, 0, 0, 0, 1, 1, 1, 0, 0, 0, 0, 0, 0, 0, 0, 0], dtype=uint8),\n",
       "  'inputVal': 74.93588199999998,\n",
       "  'sp_active': 2},\n",
       " {'inputSDR': array([0, 0, 0, 0, 0, 0, 0, 0, 0, 0, 0, 1, 1, 1, 0, 0, 0, 0, 0, 0, 0], dtype=uint8),\n",
       "  'inputVal': 76.12416182,\n",
       "  'sp_active': 1},\n",
       " {'inputSDR': array([0, 0, 0, 0, 0, 0, 0, 0, 0, 0, 0, 0, 0, 0, 0, 1, 1, 1, 0, 0, 0], dtype=uint8),\n",
       "  'inputVal': 78.14070732,\n",
       "  'sp_active': 2},\n",
       " {'inputSDR': array([0, 0, 0, 0, 0, 0, 0, 0, 0, 0, 0, 0, 0, 0, 0, 0, 0, 1, 1, 1, 0], dtype=uint8),\n",
       "  'inputVal': 79.32983574,\n",
       "  'sp_active': 3}]"
      ]
     },
     "execution_count": 37,
     "metadata": {},
     "output_type": "execute_result"
    }
   ],
   "source": [
    "track"
   ]
  },
  {
   "cell_type": "markdown",
   "metadata": {},
   "source": [
    "The input SDR can be Decoded up to a certain granularity."
   ]
  },
  {
   "cell_type": "code",
   "execution_count": 38,
   "metadata": {},
   "outputs": [
    {
     "data": {
      "text/plain": [
       "73.96732207"
      ]
     },
     "execution_count": 38,
     "metadata": {},
     "output_type": "execute_result"
    }
   ],
   "source": [
    "track[0]['inputVal']"
   ]
  },
  {
   "cell_type": "code",
   "execution_count": 39,
   "metadata": {},
   "outputs": [
    {
     "data": {
      "text/plain": [
       "({'[70:80]': ([[73.888888888888886, 73.888888888888886]], '73.89')},\n",
       " ['[70:80]'])"
      ]
     },
     "execution_count": 39,
     "metadata": {},
     "output_type": "execute_result"
    }
   ],
   "source": [
    "vEnc.decode(track[0]['inputSDR'])"
   ]
  },
  {
   "cell_type": "markdown",
   "metadata": {},
   "source": [
    "Feed SP with `sp.compute(track[i]['inputSDR'], learn=True, activeArray=output)`,  \n",
    "and then the *Temporal Pooler* `inputSDR[track[i]['sp_active']]` = active columns in TM"
   ]
  },
  {
   "cell_type": "markdown",
   "metadata": {},
   "source": [
    "# Trackability - Backwards"
   ]
  },
  {
   "cell_type": "markdown",
   "metadata": {},
   "source": [
    "Generate *TM output* by feeding in the active columns of the *SP*."
   ]
  },
  {
   "cell_type": "code",
   "execution_count": 45,
   "metadata": {},
   "outputs": [
    {
     "data": {
      "text/plain": [
       "array([0, 1, 0, 0, 0, 0, 0, 1, 1, 0, 0, 0, 0, 0, 1, 0, 0, 0, 0, 0, 1])"
      ]
     },
     "execution_count": 45,
     "metadata": {},
     "output_type": "execute_result"
    }
   ],
   "source": [
    "spSDR[track[0]['sp_active']]"
   ]
  },
  {
   "cell_type": "code",
   "execution_count": 51,
   "metadata": {},
   "outputs": [
    {
     "data": {
      "text/plain": [
       "array([ 0.,  0.,  1.,  0.,  1.,  0.,  0.,  1.,  0.,  0.,  0.,  0.,  0.,\n",
       "        0.,  0.,  0.,  0.,  1.,  0.,  1.,  0.,  0.,  0.,  1.,  0.,  1.,\n",
       "        0.,  0.,  0.,  0.,  0.,  0.,  0.,  0.,  1.,  0.,  0.,  1.,  0.,\n",
       "        0.,  0.,  1.,  0.,  0.,  1.,  0.,  0.,  1.,  0.,  0.,  0.,  0.,\n",
       "        0.,  0.,  0.,  0.,  0.,  0.,  0.,  0.,  0.,  1.,  0.], dtype=float32)"
      ]
     },
     "execution_count": 51,
     "metadata": {},
     "output_type": "execute_result"
    }
   ],
   "source": [
    "tm.compute(spSDR[track[0]['sp_active']], enableLearn=True, enableInference=True)"
   ]
  },
  {
   "cell_type": "code",
   "execution_count": 53,
   "metadata": {},
   "outputs": [],
   "source": [
    "# return index for ACTIVE columns in TM: \n",
    "tmActive = []\n",
    "\n",
    "for i in range(tm.infActiveState['t'].shape[0]):\n",
    "    # assign 1 if any 1 (active cell) in the column,\n",
    "    # 0 otherwise\n",
    "    if np.any(tm.infActiveState['t'][i]>0):\n",
    "        tmActive.append(1)\n",
    "    else:\n",
    "        tmActive.append(0)\n",
    "# return index of active Columns        \n",
    "tm_active = np.flatnonzero(np.array(tmActive))\n",
    "del(tmActive) # delete list"
   ]
  },
  {
   "cell_type": "code",
   "execution_count": 48,
   "metadata": {},
   "outputs": [
    {
     "data": {
      "text/plain": [
       "array([ 1,  7,  8, 14, 20])"
      ]
     },
     "execution_count": 48,
     "metadata": {},
     "output_type": "execute_result"
    }
   ],
   "source": [
    "tm_active"
   ]
  },
  {
   "cell_type": "markdown",
   "metadata": {},
   "source": [
    "Build `spSDR[track[0]['sp_active']]` back:"
   ]
  },
  {
   "cell_type": "code",
   "execution_count": 44,
   "metadata": {},
   "outputs": [
    {
     "data": {
      "text/plain": [
       "array([0, 1, 0, 0, 0, 0, 0, 1, 1, 0, 0, 0, 0, 0, 1, 0, 0, 0, 0, 0, 1])"
      ]
     },
     "execution_count": 44,
     "metadata": {},
     "output_type": "execute_result"
    }
   ],
   "source": [
    "sp_active = np.zeros_like(spSDR[0])\n",
    "sp_active[tm_active] = 1\n",
    "sp_active"
   ]
  },
  {
   "cell_type": "markdown",
   "metadata": {},
   "source": [
    "Find the corresponding column in spSDR:"
   ]
  },
  {
   "cell_type": "code",
   "execution_count": 404,
   "metadata": {},
   "outputs": [
    {
     "name": "stdout",
     "output_type": "stream",
     "text": [
      "matching spSDR: [1]\n"
     ]
    }
   ],
   "source": [
    "idx = []\n",
    "for _ in spSDR:\n",
    "    i =+ 1\n",
    "    if np.array_equal(sp_active, spSDR[_]) == True:\n",
    "        idx.append(i)\n",
    "print \"matching spSDR:\", idx"
   ]
  },
  {
   "cell_type": "code",
   "execution_count": 405,
   "metadata": {},
   "outputs": [
    {
     "name": "stdout",
     "output_type": "stream",
     "text": [
      "overlap:  [0, 1, 2, 1, 0]\n",
      "InputSDR[idx]:  2\n",
      "inputSDR:  [0 0 0 0 0 0 0 0 0 0 0 1 1 1 0 0 0 0 0 0 0]\n"
     ]
    }
   ],
   "source": [
    "# calculate with which inputSDR, the active SP col has the higher overlap: \n",
    "\n",
    "\n",
    "for j in idx:\n",
    "    overlap = []\n",
    "    for i in xrange(len(track)):\n",
    "        overlap.append(sum(track[i]['inputSDR'] * spSDR[j]))\n",
    "        o = last_max_index(overlap)\n",
    "        \n",
    "    print \"overlap: \", str(overlap) +  \"\\nInputSDR[idx]: \", str(o)\n",
    "    print \"inputSDR: \", str(track[o]['inputSDR'])"
   ]
  },
  {
   "cell_type": "markdown",
   "metadata": {},
   "source": [
    "This function should be useful in case we have ties in the overlap-score."
   ]
  },
  {
   "cell_type": "code",
   "execution_count": 408,
   "metadata": {},
   "outputs": [],
   "source": [
    "def match_back_SP_to_SDR(lista):\n",
    "    '''\n",
    "    This fnc returns the indeces of the InputSDR/s that match \n",
    "    (have the highest overalpping score) the current SP the most.\n",
    "    \n",
    "    input:  copy of a list `list[:]` with the overlap score bw. \n",
    "            the winning spSDR[i] and the inputSDR[0:]   \n",
    "    output: 'match', a list, indeces of InputSDR in `track`\n",
    "    '''\n",
    "    \n",
    "    a = max(lista)\n",
    "    b = a\n",
    "    match = []\n",
    "    count = 0\n",
    "\n",
    "    while b == a:\n",
    "        i = lista.index(b)\n",
    "        out = lista.pop(i)\n",
    "        i = i+count  # fill the indexes popped out\n",
    "        match.append(i)\n",
    "        count += 1\n",
    "        b = max(lista)    \n",
    "    \n",
    "    return match"
   ]
  },
  {
   "cell_type": "code",
   "execution_count": 409,
   "metadata": {},
   "outputs": [
    {
     "data": {
      "text/plain": [
       "[2]"
      ]
     },
     "execution_count": 409,
     "metadata": {},
     "output_type": "execute_result"
    }
   ],
   "source": [
    "match_back_SP_to_SDR(overlap[:])"
   ]
  },
  {
   "cell_type": "code",
   "execution_count": 410,
   "metadata": {},
   "outputs": [
    {
     "name": "stdout",
     "output_type": "stream",
     "text": [
      "inputVal[2]: 76.12416182\n",
      "De-Encoder: ({'[70:80]': ([[76.111111111111114, 76.111111111111114]], '76.11')}, ['[70:80]'])\n",
      "-------\n"
     ]
    }
   ],
   "source": [
    "for i in match_back_SP_to_SDR(overlap[:]):\n",
    "    print \"inputVal[\" + str(i) + \"]: \" + str(track[i]['inputVal'])\n",
    "    print \"De-Encoder: \" + str(vEnc.decode(track[i]['inputSDR']))\n",
    "    print \"-------\""
   ]
  },
  {
   "cell_type": "code",
   "execution_count": null,
   "metadata": {},
   "outputs": [],
   "source": []
  },
  {
   "cell_type": "code",
   "execution_count": null,
   "metadata": {},
   "outputs": [],
   "source": []
  },
  {
   "cell_type": "code",
   "execution_count": null,
   "metadata": {},
   "outputs": [],
   "source": []
  },
  {
   "cell_type": "markdown",
   "metadata": {},
   "source": [
    "# Dataset Helpers"
   ]
  },
  {
   "cell_type": "code",
   "execution_count": 38,
   "metadata": {},
   "outputs": [
    {
     "name": "stdout",
     "output_type": "stream",
     "text": [
      "/Users/mleborgne/_git/nupic/src/nupic/datafiles/extra/hotgym/hotgym.csv\n",
      "\n",
      "gym,address,timestamp,consumption\n",
      "string,string,datetime,float\n",
      "S,,T,\n",
      "Balgowlah Platinum,Shop 67 197-215 Condamine Street Balgowlah 2093,2010-07-02 00:00:00.0,5.3\n",
      "Balgowlah Platinum,Shop 67 197-215 Condamine Street Balgowlah 2093,2010-07-02 00:15:00.0,5.5\n",
      "Balgowlah Platinum,Shop 67 197-215 Condamine Street Balgowlah 2093,2010-07-02 00:30:00.0,5.1\n",
      "Balgowlah Platinum,Shop 67 197-215 Condamine Street Balgowlah 2093,2010-07-02 00:45:00.0,5.3\n",
      "Balgowlah Platinum,Shop 67 197-215 Condamine Street Balgowlah 2093,2010-07-02 01:00:00.0,5.2\n"
     ]
    }
   ],
   "source": [
    "from pkg_resources import resource_filename\n",
    "\n",
    "datasetPath = resource_filename(\"nupic.datafiles\", \"extra/hotgym/hotgym.csv\")\n",
    "print datasetPath\n",
    "\n",
    "with open(datasetPath) as inputFile:\n",
    "    print\n",
    "    for _ in xrange(8):\n",
    "        print inputFile.next().strip()"
   ]
  },
  {
   "cell_type": "markdown",
   "metadata": {},
   "source": [
    "# Loading Data\n",
    "\n",
    "`FileRecordStream` - file reader for the NuPIC file format (CSV with three header rows, understands datetimes)"
   ]
  },
  {
   "cell_type": "code",
   "execution_count": 39,
   "metadata": {},
   "outputs": [
    {
     "name": "stdout",
     "output_type": "stream",
     "text": [
      "['Balgowlah Platinum', 'Shop 67 197-215 Condamine Street Balgowlah 2093', datetime.datetime(2010, 7, 2, 0, 0), 5.3]\n",
      "['Balgowlah Platinum', 'Shop 67 197-215 Condamine Street Balgowlah 2093', datetime.datetime(2010, 7, 2, 0, 15), 5.5]\n",
      "['Balgowlah Platinum', 'Shop 67 197-215 Condamine Street Balgowlah 2093', datetime.datetime(2010, 7, 2, 0, 30), 5.1]\n",
      "['Balgowlah Platinum', 'Shop 67 197-215 Condamine Street Balgowlah 2093', datetime.datetime(2010, 7, 2, 0, 45), 5.3]\n",
      "['Balgowlah Platinum', 'Shop 67 197-215 Condamine Street Balgowlah 2093', datetime.datetime(2010, 7, 2, 1, 0), 5.2]\n"
     ]
    }
   ],
   "source": [
    "from nupic.data.file_record_stream import FileRecordStream\n",
    "\n",
    "def getData():\n",
    "    return FileRecordStream(datasetPath)\n",
    "\n",
    "data = getData()\n",
    "for _ in xrange(5):\n",
    "    print data.next()"
   ]
  },
  {
   "cell_type": "code",
   "execution_count": 40,
   "metadata": {},
   "outputs": [],
   "source": [
    "from nupic.frameworks.opf.model_factory import ModelFactory\n",
    "model = ModelFactory.create(MODEL_PARAMS)\n",
    "model.enableInference({'predictedField': 'consumption'})"
   ]
  },
  {
   "cell_type": "code",
   "execution_count": 41,
   "metadata": {},
   "outputs": [
    {
     "name": "stdout",
     "output_type": "stream",
     "text": [
      "input:  5.3\n",
      "prediction:  5.3\n",
      "input:  5.5\n",
      "prediction:  5.5\n",
      "input:  5.1\n",
      "prediction:  5.36\n",
      "input:  5.3\n",
      "prediction:  5.1\n",
      "input:  5.2\n",
      "prediction:  5.342\n",
      "input:  5.5\n",
      "prediction:  5.2994\n",
      "input:  4.5\n",
      "prediction:  5.35958\n",
      "input:  1.2\n",
      "prediction:  4.92\n",
      "input:  1.1\n",
      "prediction:  1.2\n",
      "input:  1.2\n",
      "prediction:  1.17\n",
      "input:  1.2\n",
      "prediction:  1.179\n",
      "input:  1.2\n",
      "prediction:  1.1853\n",
      "input:  1.2\n",
      "prediction:  1.18971\n",
      "input:  1.2\n",
      "prediction:  1.192797\n",
      "input:  1.1\n",
      "prediction:  1.1949579\n",
      "input:  1.2\n",
      "prediction:  1.16647053\n",
      "input:  1.1\n",
      "prediction:  1.176529371\n",
      "input:  1.2\n",
      "prediction:  1.1535705597\n",
      "input:  1.2\n",
      "prediction:  1.16749939179\n",
      "input:  1.1\n",
      "prediction:  1.17724957425\n",
      "input:  1.2\n",
      "prediction:  1.15407470198\n",
      "input:  6.0\n",
      "prediction:  1.16785229138\n",
      "input:  7.9\n",
      "prediction:  5.551706\n",
      "input:  8.4\n",
      "prediction:  6.2561942\n",
      "input:  10.6\n",
      "prediction:  6.89933594\n",
      "input:  12.4\n",
      "prediction:  10.6\n",
      "input:  12.1\n",
      "prediction:  12.4\n",
      "input:  12.4\n",
      "prediction:  12.31\n",
      "input:  11.4\n",
      "prediction:  12.337\n",
      "input:  11.2\n",
      "prediction:  10.84\n",
      "input:  10.8\n",
      "prediction:  10.948\n",
      "input:  12.0\n",
      "prediction:  10.9036\n",
      "input:  11.8\n",
      "prediction:  11.23252\n",
      "input:  11.9\n",
      "prediction:  11.402764\n",
      "input:  11.4\n",
      "prediction:  11.5519348\n",
      "input:  11.0\n",
      "prediction:  11.50635436\n",
      "input:  9.8\n",
      "prediction:  11.354448052\n",
      "input:  9.8\n",
      "prediction:  10.8881136364\n",
      "input:  10.8\n",
      "prediction:  10.5616795455\n",
      "input:  11.1\n",
      "prediction:  10.6331756818\n",
      "input:  11.1\n",
      "prediction:  10.7732229773\n",
      "input:  11.0\n",
      "prediction:  10.8712560841\n",
      "input:  10.7\n",
      "prediction:  10.9098792589\n",
      "input:  10.6\n",
      "prediction:  10.8469154812\n",
      "input:  10.3\n",
      "prediction:  10.7728408368\n",
      "input:  10.1\n",
      "prediction:  10.6309885858\n",
      "input:  12.9\n",
      "prediction:  10.4716920101\n",
      "input:  10.5\n",
      "prediction:  10.4716920101\n",
      "input:  9.7\n",
      "prediction:  10.480184407\n",
      "input:  9.7\n",
      "prediction:  10.2461290849\n",
      "input:  9.2\n",
      "prediction:  10.0822903594\n",
      "input:  9.2\n",
      "prediction:  9.81760325161\n",
      "input:  9.2\n",
      "prediction:  9.63232227613\n",
      "input:  9.3\n",
      "prediction:  9.50262559329\n",
      "input:  9.1\n",
      "prediction:  9.4418379153\n",
      "input:  9.0\n",
      "prediction:  9.33928654071\n",
      "input:  8.9\n",
      "prediction:  9.2375005785\n",
      "input:  9.0\n",
      "prediction:  9.13625040495\n",
      "input:  8.9\n",
      "prediction:  9.09537528346\n",
      "input:  8.9\n",
      "prediction:  9.03676269843\n",
      "input:  9.0\n",
      "prediction:  8.9957338889\n",
      "input:  9.2\n",
      "prediction:  8.99701372223\n",
      "input:  10.0\n",
      "prediction:  9.05790960556\n",
      "input:  10.7\n",
      "prediction:  9.34053672389\n",
      "input:  8.9\n",
      "prediction:  9.74837570672\n",
      "input:  9.0\n",
      "prediction:  9.49386299471\n",
      "input:  9.0\n",
      "prediction:  9.34570409629\n",
      "input:  9.3\n",
      "prediction:  9.24199286741\n",
      "input:  9.3\n",
      "prediction:  9.25939500718\n",
      "input:  9.1\n",
      "prediction:  9.27157650503\n",
      "input:  9.1\n",
      "prediction:  9.22010355352\n",
      "input:  9.1\n",
      "prediction:  9.18407248746\n",
      "input:  9.2\n",
      "prediction:  9.15885074122\n",
      "input:  9.4\n",
      "prediction:  9.17119551886\n",
      "input:  9.3\n",
      "prediction:  9.2398368632\n",
      "input:  9.3\n",
      "prediction:  9.25788580424\n",
      "input:  9.1\n",
      "prediction:  9.27052006297\n",
      "input:  9.1\n",
      "prediction:  9.21936404408\n",
      "input:  11.0\n",
      "prediction:  9.18355483085\n",
      "input:  9.0\n",
      "prediction:  9.7284883816\n",
      "input:  8.6\n",
      "prediction:  9.50994186712\n",
      "input:  3.0\n",
      "prediction:  9.50994186712\n",
      "input:  1.3\n",
      "prediction:  4.344\n",
      "input:  1.2\n",
      "prediction:  1.20749660397\n",
      "input:  1.3\n",
      "prediction:  1.20524762278\n",
      "input:  1.3\n",
      "prediction:  1.23367333594\n",
      "input:  1.3\n",
      "prediction:  1.25357133516\n",
      "input:  1.2\n",
      "prediction:  1.26749993461\n",
      "input:  1.3\n",
      "prediction:  1.24724995423\n",
      "input:  1.2\n",
      "prediction:  1.26307496796\n",
      "input:  1.3\n",
      "prediction:  1.24415247757\n",
      "input:  1.2\n",
      "prediction:  1.2609067343\n",
      "input:  1.3\n",
      "prediction:  1.24263471401\n",
      "input:  1.2\n",
      "prediction:  1.25984429981\n",
      "input:  1.1\n",
      "prediction:  1.24189100987\n",
      "input:  2.3\n",
      "prediction:  1.19932370691\n",
      "input:  5.5\n",
      "prediction:  3.7308\n",
      "input:  5.5\n",
      "prediction:  6.8366746106\n",
      "input:  5.8\n",
      "prediction:  6.43567222742\n",
      "input:  5.7\n",
      "prediction:  6.24497055919\n"
     ]
    }
   ],
   "source": [
    "data = getData()\n",
    "for _ in xrange(100):\n",
    "    record = dict(zip(data.getFieldNames(), data.next()))\n",
    "    print \"input: \", record[\"consumption\"]\n",
    "    result = model.run(record)\n",
    "    print \"prediction: \", result.inferences[\"multiStepBestPredictions\"][1]"
   ]
  },
  {
   "cell_type": "code",
   "execution_count": 42,
   "metadata": {},
   "outputs": [
    {
     "name": "stdout",
     "output_type": "stream",
     "text": [
      "5-step prediction:  1.19932370691\n"
     ]
    }
   ],
   "source": [
    "print \"5-step prediction: \", result.inferences[\"multiStepBestPredictions\"][5]"
   ]
  },
  {
   "cell_type": "markdown",
   "metadata": {},
   "source": [
    "# Anomaly Score"
   ]
  },
  {
   "cell_type": "code",
   "execution_count": 43,
   "metadata": {},
   "outputs": [],
   "source": [
    "# Model Params!\n",
    "MODEL_PARAMS = {\n",
    "    # Type of model that the rest of these parameters apply to.\n",
    "    'model': \"HTMPrediction\",\n",
    "\n",
    "    # Version that specifies the format of the config.\n",
    "    'version': 1,\n",
    "\n",
    "    # Intermediate variables used to compute fields in modelParams and also\n",
    "    # referenced from the control section.\n",
    "    'aggregationInfo': {   'days': 0,\n",
    "        'fields': [('consumption', 'sum')],\n",
    "        'hours': 1,\n",
    "        'microseconds': 0,\n",
    "        'milliseconds': 0,\n",
    "        'minutes': 0,\n",
    "        'months': 0,\n",
    "        'seconds': 0,\n",
    "        'weeks': 0,\n",
    "        'years': 0},\n",
    "\n",
    "    'predictAheadTime': None,\n",
    "\n",
    "    # Model parameter dictionary.\n",
    "    'modelParams': {\n",
    "        # The type of inference that this model will perform\n",
    "        'inferenceType': 'TemporalAnomaly',\n",
    "\n",
    "        'sensorParams': {\n",
    "            # Sensor diagnostic output verbosity control;\n",
    "            # if > 0: sensor region will print out on screen what it's sensing\n",
    "            # at each step 0: silent; >=1: some info; >=2: more info;\n",
    "            # >=3: even more info (see compute() in py/regions/RecordSensor.py)\n",
    "            'verbosity' : 0,\n",
    "\n",
    "            # Include the encoders we use\n",
    "            'encoders': {\n",
    "                u'timestamp_timeOfDay': {\n",
    "                    'fieldname': u'timestamp',\n",
    "                    'name': u'timestamp_timeOfDay',\n",
    "                    'timeOfDay': (21, 0.5),\n",
    "                    'type': 'DateEncoder'},\n",
    "                u'timestamp_dayOfWeek': None,\n",
    "                u'timestamp_weekend': None,\n",
    "                u'consumption': {\n",
    "                    'clipInput': True,\n",
    "                    'fieldname': u'consumption',\n",
    "                    'maxval': 100.0,\n",
    "                    'minval': 0.0,\n",
    "                    'n': 50,\n",
    "                    'name': u'c1',\n",
    "                    'type': 'ScalarEncoder',\n",
    "                    'w': 21},},\n",
    "\n",
    "            # A dictionary specifying the period for automatically-generated\n",
    "            # resets from a RecordSensor;\n",
    "            #\n",
    "            # None = disable automatically-generated resets (also disabled if\n",
    "            # all of the specified values evaluate to 0).\n",
    "            # Valid keys is the desired combination of the following:\n",
    "            #   days, hours, minutes, seconds, milliseconds, microseconds, weeks\n",
    "            #\n",
    "            # Example for 1.5 days: sensorAutoReset = dict(days=1,hours=12),\n",
    "            #\n",
    "            # (value generated from SENSOR_AUTO_RESET)\n",
    "            'sensorAutoReset' : None,\n",
    "        },\n",
    "\n",
    "        'spEnable': True,\n",
    "\n",
    "        'spParams': {\n",
    "            # SP diagnostic output verbosity control;\n",
    "            # 0: silent; >=1: some info; >=2: more info;\n",
    "            'spVerbosity' : 0,\n",
    "\n",
    "            # Spatial Pooler implementation selector, see getSPClass\n",
    "            # in py/regions/SPRegion.py for details\n",
    "            # 'py' (default), 'cpp' (speed optimized, new)\n",
    "            'spatialImp' : 'cpp',\n",
    "\n",
    "            'globalInhibition': 1,\n",
    "\n",
    "            # Number of cell columns in the cortical region (same number for\n",
    "            # SP and TM)\n",
    "            # (see also tpNCellsPerCol)\n",
    "            'columnCount': 2048,\n",
    "\n",
    "            'inputWidth': 0,\n",
    "\n",
    "            # SP inhibition control (absolute value);\n",
    "            # Maximum number of active columns in the SP region's output (when\n",
    "            # there are more, the weaker ones are suppressed)\n",
    "            'numActiveColumnsPerInhArea': 40,\n",
    "\n",
    "            'seed': 1956,\n",
    "\n",
    "            # potentialPct\n",
    "            # What percent of the columns's receptive field is available\n",
    "            # for potential synapses. At initialization time, we will\n",
    "            # choose potentialPct * (2*potentialRadius+1)^2\n",
    "            'potentialPct': 0.5,\n",
    "\n",
    "            # The default connected threshold. Any synapse whose\n",
    "            # permanence value is above the connected threshold is\n",
    "            # a \"connected synapse\", meaning it can contribute to the\n",
    "            # cell's firing. Typical value is 0.10. Cells whose activity\n",
    "            # level before inhibition falls below minDutyCycleBeforeInh\n",
    "            # will have their own internal synPermConnectedCell\n",
    "            # threshold set below this default value.\n",
    "            # (This concept applies to both SP and TM and so 'cells'\n",
    "            # is correct here as opposed to 'columns')\n",
    "            'synPermConnected': 0.1,\n",
    "\n",
    "            'synPermActiveInc': 0.1,\n",
    "\n",
    "            'synPermInactiveDec': 0.005,\n",
    "        },\n",
    "\n",
    "        # Controls whether TM is enabled or disabled;\n",
    "        # TM is necessary for making temporal predictions, such as predicting\n",
    "        # the next inputs.  Without TP, the model is only capable of\n",
    "        # reconstructing missing sensor inputs (via SP).\n",
    "        'tmEnable' : True,\n",
    "\n",
    "        'tmParams': {\n",
    "            # TM diagnostic output verbosity control;\n",
    "            # 0: silent; [1..6]: increasing levels of verbosity\n",
    "            # (see verbosity in nupic/trunk/py/nupic/research/TP.py and BacktrackingTMCPP.py)\n",
    "            'verbosity': 0,\n",
    "\n",
    "            # Number of cell columns in the cortical region (same number for\n",
    "            # SP and TM)\n",
    "            # (see also tpNCellsPerCol)\n",
    "            'columnCount': 2048,\n",
    "\n",
    "            # The number of cells (i.e., states), allocated per column.\n",
    "            'cellsPerColumn': 32,\n",
    "\n",
    "            'inputWidth': 2048,\n",
    "\n",
    "            'seed': 1960,\n",
    "\n",
    "            # Temporal Pooler implementation selector (see _getTPClass in\n",
    "            # CLARegion.py).\n",
    "            'temporalImp': 'cpp',\n",
    "\n",
    "            # New Synapse formation count\n",
    "            # NOTE: If None, use spNumActivePerInhArea\n",
    "            #\n",
    "            # TODO: need better explanation\n",
    "            'newSynapseCount': 20,\n",
    "\n",
    "            # Maximum number of synapses per segment\n",
    "            #  > 0 for fixed-size CLA\n",
    "            # -1 for non-fixed-size CLA\n",
    "            #\n",
    "            # TODO: for Ron: once the appropriate value is placed in TP\n",
    "            # constructor, see if we should eliminate this parameter from\n",
    "            # description.py.\n",
    "            'maxSynapsesPerSegment': 32,\n",
    "\n",
    "            # Maximum number of segments per cell\n",
    "            #  > 0 for fixed-size CLA\n",
    "            # -1 for non-fixed-size CLA\n",
    "            #\n",
    "            # TODO: for Ron: once the appropriate value is placed in TP\n",
    "            # constructor, see if we should eliminate this parameter from\n",
    "            # description.py.\n",
    "            'maxSegmentsPerCell': 128,\n",
    "\n",
    "            # Initial Permanence\n",
    "            # TODO: need better explanation\n",
    "            'initialPerm': 0.21,\n",
    "\n",
    "            # Permanence Increment\n",
    "            'permanenceInc': 0.1,\n",
    "\n",
    "            # Permanence Decrement\n",
    "            # If set to None, will automatically default to tpPermanenceInc\n",
    "            # value.\n",
    "            'permanenceDec' : 0.1,\n",
    "\n",
    "            'globalDecay': 0.0,\n",
    "\n",
    "            'maxAge': 0,\n",
    "\n",
    "            # Minimum number of active synapses for a segment to be considered\n",
    "            # during search for the best-matching segments.\n",
    "            # None=use default\n",
    "            # Replaces: tpMinThreshold\n",
    "            'minThreshold': 9,\n",
    "\n",
    "            # Segment activation threshold.\n",
    "            # A segment is active if it has >= tpSegmentActivationThreshold\n",
    "            # connected synapses that are active due to infActiveState\n",
    "            # None=use default\n",
    "            # Replaces: tpActivationThreshold\n",
    "            'activationThreshold': 12,\n",
    "\n",
    "            'outputType': 'normal',\n",
    "\n",
    "            # \"Pay Attention Mode\" length. This tells the TM how many new\n",
    "            # elements to append to the end of a learned sequence at a time.\n",
    "            # Smaller values are better for datasets with short sequences,\n",
    "            # higher values are better for datasets with long sequences.\n",
    "            'pamLength': 1,\n",
    "        },\n",
    "\n",
    "        'clParams': {\n",
    "            'regionName' : 'SDRClassifierRegion',\n",
    "\n",
    "            # Classifier diagnostic output verbosity control;\n",
    "            # 0: silent; [1..6]: increasing levels of verbosity\n",
    "            'verbosity' : 0,\n",
    "\n",
    "            # This controls how fast the classifier learns/forgets. Higher values\n",
    "            # make it adapt faster and forget older patterns faster.\n",
    "            'alpha': 0.005,\n",
    "\n",
    "            # This is set after the call to updateConfigFromSubConfig and is\n",
    "            # computed from the aggregationInfo and predictAheadTime.\n",
    "            'steps': '1',\n",
    "\n",
    "            'implementation': 'cpp',\n",
    "        },\n",
    "\n",
    "        'anomalyParams': {\n",
    "            u'anomalyCacheRecords': None,\n",
    "            u'autoDetectThreshold': None,\n",
    "            u'autoDetectWaitRecords': 2184\n",
    "        },\n",
    "\n",
    "        'trainSPNetOnlyIfRequested': False,\n",
    "    },\n",
    "}"
   ]
  },
  {
   "cell_type": "code",
   "execution_count": 44,
   "metadata": {},
   "outputs": [],
   "source": [
    "from nupic.frameworks.opf.model_factory import ModelFactory\n",
    "model = ModelFactory.create(MODEL_PARAMS)\n",
    "model.enableInference({'predictedField': 'consumption'})"
   ]
  },
  {
   "cell_type": "code",
   "execution_count": 45,
   "metadata": {},
   "outputs": [
    {
     "name": "stdout",
     "output_type": "stream",
     "text": [
      "input:  5.3\n",
      "prediction:  5.3\n",
      "input:  5.5\n",
      "prediction:  5.5\n",
      "input:  5.1\n",
      "prediction:  5.36\n",
      "input:  5.3\n",
      "prediction:  5.1\n",
      "input:  5.2\n",
      "prediction:  5.342\n"
     ]
    }
   ],
   "source": [
    "data = getData()\n",
    "for _ in xrange(5):\n",
    "    record = dict(zip(data.getFieldNames(), data.next()))\n",
    "    print \"input: \", record[\"consumption\"]\n",
    "    result = model.run(record)\n",
    "    print \"prediction: \", result.inferences[\"multiStepBestPredictions\"][1]"
   ]
  },
  {
   "cell_type": "code",
   "execution_count": 46,
   "metadata": {},
   "outputs": [
    {
     "name": "stdout",
     "output_type": "stream",
     "text": [
      "ModelResult(\tpredictionNumber=4\n",
      "\trawInput={'timestamp': datetime.datetime(2010, 7, 2, 1, 0), 'gym': 'Balgowlah Platinum', 'consumption': 5.2, 'address': 'Shop 67 197-215 Condamine Street Balgowlah 2093'}\n",
      "\tsensorInput=SensorInput(\tdataRow=(5.2, 1.0)\n",
      "\tdataDict={'timestamp': datetime.datetime(2010, 7, 2, 1, 0), 'gym': 'Balgowlah Platinum', 'consumption': 5.2, 'address': 'Shop 67 197-215 Condamine Street Balgowlah 2093'}\n",
      "\tdataEncodings=[array([ 0.,  0.,  1.,  1.,  1.,  1.,  1.,  1.,  1.,  1.,  1.,  1.,  1.,\n",
      "        1.,  1.,  1.,  1.,  1.,  1.,  1.,  1.,  1.,  1.,  0.,  0.,  0.,\n",
      "        0.,  0.,  0.,  0.,  0.,  0.,  0.,  0.,  0.,  0.,  0.,  0.,  0.,\n",
      "        0.,  0.,  0.,  0.,  0.,  0.,  0.,  0.,  0.,  0.,  0.], dtype=float32), array([ 0.,  0.,  0., ...,  0.,  0.,  0.], dtype=float32)]\n",
      "\tsequenceReset=0.0\n",
      "\tcategory=-1\n",
      ")\n",
      "\tinferences={'multiStepPredictions': {1: {5.1: 0.0088801263517415546, 5.2: 0.010775254623541418, 5.341999999999999: 0.98034461902471692}}, 'multiStepBucketLikelihoods': {1: {1: 0.0088801263517415546, 2: 0.98034461902471692}}, 'multiStepBestPredictions': {1: 5.341999999999999}, 'anomalyLabel': '[]', 'anomalyScore': 0.40000001}\n",
      "\tmetrics=None\n",
      "\tpredictedFieldIdx=0\n",
      "\tpredictedFieldName=consumption\n",
      "\tclassifierInput=ClassifierInput(\tdataRow=5.2\n",
      "\tbucketIndex=2\n",
      ")\n",
      ")\n"
     ]
    }
   ],
   "source": [
    "print result"
   ]
  },
  {
   "cell_type": "code",
   "execution_count": 47,
   "metadata": {},
   "outputs": [
    {
     "name": "stdout",
     "output_type": "stream",
     "text": [
      "anomaly score:  0.4\n"
     ]
    }
   ],
   "source": [
    "print \"anomaly score: \", result.inferences[\"anomalyScore\"]"
   ]
  },
  {
   "cell_type": "markdown",
   "metadata": {},
   "source": [
    "__See Subutai's talk for more info on anomaly detection!__\n",
    "\n",
    "# Built-in OPF Clients\n",
    "\n",
    "`python examples/opf/bin/OpfRunExperiment.py examples/opf/experiments/multistep/hotgym/`\n",
    "\n",
    "Outputs `examples/opf/experiments/multistep/hotgym/inference/DefaultTask.TemporalMultiStep.predictionLog.csv`\n",
    "\n",
    "`python bin/run_swarm.py examples/opf/experiments/multistep/hotgym/permutations.py`\n",
    "\n",
    "Outputs `examples/opf/experiments/multistep/hotgym/model_0/description.py`"
   ]
  },
  {
   "cell_type": "code",
   "execution_count": null,
   "metadata": {},
   "outputs": [],
   "source": []
  }
 ],
 "metadata": {
  "kernelspec": {
   "display_name": "nupic",
   "language": "python",
   "name": "nupic"
  },
  "language_info": {
   "codemirror_mode": {
    "name": "ipython",
    "version": 2
   },
   "file_extension": ".py",
   "mimetype": "text/x-python",
   "name": "python",
   "nbconvert_exporter": "python",
   "pygments_lexer": "ipython2",
   "version": "2.7.15rc1"
  }
 },
 "nbformat": 4,
 "nbformat_minor": 2
}
