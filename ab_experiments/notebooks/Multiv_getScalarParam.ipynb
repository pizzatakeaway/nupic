{
 "cells": [
  {
   "cell_type": "markdown",
   "metadata": {},
   "source": [
    "# parameters generated using getScalar()_ HTM Univariate"
   ]
  },
  {
   "cell_type": "code",
   "execution_count": 1,
   "metadata": {},
   "outputs": [],
   "source": [
    "import numpy as np\n",
    "import pandas as pd\n",
    "import json\n",
    "import datetime\n",
    "import matplotlib.pyplot as plt \n",
    "\n",
    "# from tqdm import tqdm_notebook\n",
    "# import time"
   ]
  },
  {
   "cell_type": "markdown",
   "metadata": {},
   "source": [
    "## Load Data 1 and get Params\n",
    "Load Data and Groundtruth labels:"
   ]
  },
  {
   "cell_type": "code",
   "execution_count": 206,
   "metadata": {},
   "outputs": [],
   "source": [
    "PATH_relative1 = 'artificialWithAnomaly/art_daily_flatmiddle.csv'"
   ]
  },
  {
   "cell_type": "code",
   "execution_count": 207,
   "metadata": {},
   "outputs": [],
   "source": [
    "df1 = pd.read_csv('../data/NAB/' + PATH_relative) #parse_dates=True\n",
    "with open('../labels/NAB/combined_windows.json') as f:\n",
    "    labels = json.loads(f.read())"
   ]
  },
  {
   "cell_type": "code",
   "execution_count": 208,
   "metadata": {},
   "outputs": [
    {
     "name": "stdout",
     "output_type": "stream",
     "text": [
      "(4032, 2)\n",
      "             timestamp      value\n",
      "0  2014-04-01 00:00:00  21.519280\n",
      "1  2014-04-01 00:05:00  21.707762\n",
      "2  2014-04-01 00:10:00  18.097725\n",
      "3  2014-04-01 00:15:00  21.954012\n",
      "4  2014-04-01 00:20:00  20.840091\n"
     ]
    }
   ],
   "source": [
    "print df1.shape\n",
    "print df1.head()"
   ]
  },
  {
   "cell_type": "code",
   "execution_count": 209,
   "metadata": {},
   "outputs": [],
   "source": [
    "df1['value'] = pd.to_numeric(df1['value'])\n",
    "df1['timestamp'] = pd.to_datetime(df1['timestamp'], format=\"%Y-%m-%d %H:%M:%S\")"
   ]
  },
  {
   "cell_type": "markdown",
   "metadata": {},
   "source": [
    "Groundtruth labels for anomaly"
   ]
  },
  {
   "cell_type": "code",
   "execution_count": 214,
   "metadata": {},
   "outputs": [
    {
     "data": {
      "text/plain": [
       "[[u'2014-04-03 20:10:00.000000', u'2014-04-04 16:25:00.000000']]"
      ]
     },
     "execution_count": 214,
     "metadata": {},
     "output_type": "execute_result"
    }
   ],
   "source": [
    "labels[PATH_relative]"
   ]
  },
  {
   "cell_type": "code",
   "execution_count": 211,
   "metadata": {},
   "outputs": [],
   "source": [
    "df1['labels'] = np.zeros_like(df1.value)\n",
    "\n",
    "# set values within the range = 1\n",
    "for i in range(len(labels[PATH_relative])):\n",
    "    df1.loc[(df1['timestamp'] >= labels[PATH_relative][i][0]) & \n",
    "           (df1['timestamp'] <= labels[PATH_relative][i][1]), 'labels'] = 1"
   ]
  },
  {
   "cell_type": "code",
   "execution_count": 212,
   "metadata": {},
   "outputs": [
    {
     "data": {
      "text/html": [
       "<div>\n",
       "<style>\n",
       "    .dataframe thead tr:only-child th {\n",
       "        text-align: right;\n",
       "    }\n",
       "\n",
       "    .dataframe thead th {\n",
       "        text-align: left;\n",
       "    }\n",
       "\n",
       "    .dataframe tbody tr th {\n",
       "        vertical-align: top;\n",
       "    }\n",
       "</style>\n",
       "<table border=\"1\" class=\"dataframe\">\n",
       "  <thead>\n",
       "    <tr style=\"text-align: right;\">\n",
       "      <th></th>\n",
       "      <th>timestamp</th>\n",
       "      <th>value</th>\n",
       "      <th>labels</th>\n",
       "    </tr>\n",
       "  </thead>\n",
       "  <tbody>\n",
       "    <tr>\n",
       "      <th>0</th>\n",
       "      <td>2014-04-01 00:00:00</td>\n",
       "      <td>21.519280</td>\n",
       "      <td>0.0</td>\n",
       "    </tr>\n",
       "    <tr>\n",
       "      <th>1</th>\n",
       "      <td>2014-04-01 00:05:00</td>\n",
       "      <td>21.707762</td>\n",
       "      <td>0.0</td>\n",
       "    </tr>\n",
       "    <tr>\n",
       "      <th>2</th>\n",
       "      <td>2014-04-01 00:10:00</td>\n",
       "      <td>18.097725</td>\n",
       "      <td>0.0</td>\n",
       "    </tr>\n",
       "    <tr>\n",
       "      <th>3</th>\n",
       "      <td>2014-04-01 00:15:00</td>\n",
       "      <td>21.954012</td>\n",
       "      <td>0.0</td>\n",
       "    </tr>\n",
       "    <tr>\n",
       "      <th>4</th>\n",
       "      <td>2014-04-01 00:20:00</td>\n",
       "      <td>20.840091</td>\n",
       "      <td>0.0</td>\n",
       "    </tr>\n",
       "  </tbody>\n",
       "</table>\n",
       "</div>"
      ],
      "text/plain": [
       "            timestamp      value  labels\n",
       "0 2014-04-01 00:00:00  21.519280     0.0\n",
       "1 2014-04-01 00:05:00  21.707762     0.0\n",
       "2 2014-04-01 00:10:00  18.097725     0.0\n",
       "3 2014-04-01 00:15:00  21.954012     0.0\n",
       "4 2014-04-01 00:20:00  20.840091     0.0"
      ]
     },
     "execution_count": 212,
     "metadata": {},
     "output_type": "execute_result"
    }
   ],
   "source": [
    "df1[0:5]"
   ]
  },
  {
   "cell_type": "markdown",
   "metadata": {},
   "source": [
    "## Suggested Hyperparameters 1"
   ]
  },
  {
   "cell_type": "code",
   "execution_count": 9,
   "metadata": {},
   "outputs": [],
   "source": [
    "from nupic.frameworks.opf.common_models.cluster_params import getScalarMetricWithTimeOfDayAnomalyParams"
   ]
  },
  {
   "cell_type": "code",
   "execution_count": 10,
   "metadata": {},
   "outputs": [],
   "source": [
    "modelParams1 = getScalarMetricWithTimeOfDayAnomalyParams(df1['value'],\n",
    "                                                        minVal=df1['value'].min(), \n",
    "                                                        maxVal=df1['value'].max()\n",
    "                                                       )"
   ]
  },
  {
   "cell_type": "code",
   "execution_count": 11,
   "metadata": {},
   "outputs": [
    {
     "data": {
      "text/plain": [
       "{u'inferenceArgs': {u'inputPredictedField': u'auto',\n",
       "  u'predictedField': u'c1',\n",
       "  u'predictionSteps': [1]},\n",
       " u'modelConfig': {u'aggregationInfo': {u'days': 0,\n",
       "   u'fields': [],\n",
       "   u'hours': 0,\n",
       "   u'microseconds': 0,\n",
       "   u'milliseconds': 0,\n",
       "   u'minutes': 0,\n",
       "   u'months': 0,\n",
       "   u'seconds': 0,\n",
       "   u'weeks': 0,\n",
       "   u'years': 0},\n",
       "  u'model': u'HTMPrediction',\n",
       "  u'modelParams': {u'anomalyParams': {u'anomalyCacheRecords': None,\n",
       "    u'autoDetectThreshold': None,\n",
       "    u'autoDetectWaitRecords': 5030},\n",
       "   u'clEnable': False,\n",
       "   u'clParams': {u'alpha': 0.035828933612158,\n",
       "    u'regionName': u'SDRClassifierRegion',\n",
       "    u'steps': u'1',\n",
       "    u'verbosity': 0},\n",
       "   u'inferenceType': u'TemporalAnomaly',\n",
       "   u'sensorParams': {u'encoders': {u'c0_dayOfWeek': None,\n",
       "     u'c0_timeOfDay': {u'fieldname': u'c0',\n",
       "      u'name': u'c0',\n",
       "      u'timeOfDay': [21, 9.49],\n",
       "      u'type': u'DateEncoder'},\n",
       "     u'c0_weekend': None,\n",
       "     u'c1': {u'fieldname': u'c1',\n",
       "      u'name': u'c1',\n",
       "      'resolution': 0.84582413051000005,\n",
       "      u'seed': 42,\n",
       "      u'type': u'RandomDistributedScalarEncoder'}},\n",
       "    u'sensorAutoReset': None,\n",
       "    u'verbosity': 0},\n",
       "   u'spEnable': True,\n",
       "   u'spParams': {u'boostStrength': 0.0,\n",
       "    u'columnCount': 2048,\n",
       "    u'globalInhibition': 1,\n",
       "    u'inputWidth': 0,\n",
       "    u'numActiveColumnsPerInhArea': 40,\n",
       "    u'potentialPct': 0.8,\n",
       "    u'seed': 1956,\n",
       "    u'spVerbosity': 0,\n",
       "    u'spatialImp': u'cpp',\n",
       "    u'synPermActiveInc': 0.003,\n",
       "    u'synPermConnected': 0.2,\n",
       "    u'synPermInactiveDec': 0.0005},\n",
       "   u'tmEnable': True,\n",
       "   u'tmParams': {u'activationThreshold': 13,\n",
       "    u'cellsPerColumn': 32,\n",
       "    u'columnCount': 2048,\n",
       "    u'globalDecay': 0.0,\n",
       "    u'initialPerm': 0.21,\n",
       "    u'inputWidth': 2048,\n",
       "    u'maxAge': 0,\n",
       "    u'maxSegmentsPerCell': 128,\n",
       "    u'maxSynapsesPerSegment': 32,\n",
       "    u'minThreshold': 10,\n",
       "    u'newSynapseCount': 20,\n",
       "    u'outputType': u'normal',\n",
       "    u'pamLength': 3,\n",
       "    u'permanenceDec': 0.1,\n",
       "    u'permanenceInc': 0.1,\n",
       "    u'seed': 1960,\n",
       "    u'temporalImp': u'cpp',\n",
       "    u'verbosity': 0},\n",
       "   u'trainSPNetOnlyIfRequested': False},\n",
       "  u'predictAheadTime': None,\n",
       "  u'version': 1}}"
      ]
     },
     "execution_count": 11,
     "metadata": {},
     "output_type": "execute_result"
    }
   ],
   "source": [
    "modelParams1"
   ]
  },
  {
   "cell_type": "markdown",
   "metadata": {},
   "source": [
    "## Load Data 2 and get Params\n",
    "Load Data and Groundtruth labels:"
   ]
  },
  {
   "cell_type": "code",
   "execution_count": 96,
   "metadata": {},
   "outputs": [],
   "source": [
    "PATH_relative2 = 'artificialWithAnomaly/art_daily_jumpsup_AB.csv'\n"
   ]
  },
  {
   "cell_type": "code",
   "execution_count": 13,
   "metadata": {},
   "outputs": [],
   "source": [
    "df2 = pd.read_csv('../data/NAB/' + PATH_relative) #parse_dates=True\n",
    "with open('../labels/NAB/combined_windows.json') as f:\n",
    "    labels = json.loads(f.read())"
   ]
  },
  {
   "cell_type": "code",
   "execution_count": 14,
   "metadata": {},
   "outputs": [
    {
     "name": "stdout",
     "output_type": "stream",
     "text": [
      "(4032, 3)\n",
      "(4032, 2)\n",
      "             timestamp      value\n",
      "0  2014-04-01 00:00:00  21.519280\n",
      "1  2014-04-01 00:05:00  21.707762\n",
      "2  2014-04-01 00:10:00  18.097725\n",
      "3  2014-04-01 00:15:00  21.954012\n",
      "4  2014-04-01 00:20:00  20.840091\n"
     ]
    }
   ],
   "source": [
    "print df1.shape\n",
    "print df2.shape\n",
    "print df2.head()"
   ]
  },
  {
   "cell_type": "code",
   "execution_count": 15,
   "metadata": {},
   "outputs": [],
   "source": [
    "df2['value'] = pd.to_numeric(df2['value'])\n",
    "df2['timestamp'] = pd.to_datetime(df2['timestamp'], format=\"%Y-%m-%d %H:%M:%S\")"
   ]
  },
  {
   "cell_type": "markdown",
   "metadata": {},
   "source": [
    "Groundtruth labels for anomaly"
   ]
  },
  {
   "cell_type": "code",
   "execution_count": 16,
   "metadata": {},
   "outputs": [
    {
     "data": {
      "text/plain": [
       "[[u'2014-04-03 20:10:00.000000', u'2014-04-04 16:25:00.000000']]"
      ]
     },
     "execution_count": 16,
     "metadata": {},
     "output_type": "execute_result"
    }
   ],
   "source": [
    "labels[PATH_relative]"
   ]
  },
  {
   "cell_type": "code",
   "execution_count": 17,
   "metadata": {},
   "outputs": [],
   "source": [
    "df2['labels'] = np.zeros_like(df2.value)\n",
    "\n",
    "# set values within the range = 1\n",
    "for i in range(len(labels[PATH_relative])):\n",
    "    df2.loc[(df2['timestamp'] >= labels[PATH_relative][i][0]) & \n",
    "           (df2['timestamp'] <= labels[PATH_relative][i][1]), 'labels'] = 1"
   ]
  },
  {
   "cell_type": "code",
   "execution_count": 18,
   "metadata": {},
   "outputs": [
    {
     "data": {
      "text/html": [
       "<div>\n",
       "<style>\n",
       "    .dataframe thead tr:only-child th {\n",
       "        text-align: right;\n",
       "    }\n",
       "\n",
       "    .dataframe thead th {\n",
       "        text-align: left;\n",
       "    }\n",
       "\n",
       "    .dataframe tbody tr th {\n",
       "        vertical-align: top;\n",
       "    }\n",
       "</style>\n",
       "<table border=\"1\" class=\"dataframe\">\n",
       "  <thead>\n",
       "    <tr style=\"text-align: right;\">\n",
       "      <th></th>\n",
       "      <th>timestamp</th>\n",
       "      <th>value</th>\n",
       "      <th>labels</th>\n",
       "    </tr>\n",
       "  </thead>\n",
       "  <tbody>\n",
       "    <tr>\n",
       "      <th>0</th>\n",
       "      <td>2014-04-01 00:00:00</td>\n",
       "      <td>21.519280</td>\n",
       "      <td>0.0</td>\n",
       "    </tr>\n",
       "    <tr>\n",
       "      <th>1</th>\n",
       "      <td>2014-04-01 00:05:00</td>\n",
       "      <td>21.707762</td>\n",
       "      <td>0.0</td>\n",
       "    </tr>\n",
       "    <tr>\n",
       "      <th>2</th>\n",
       "      <td>2014-04-01 00:10:00</td>\n",
       "      <td>18.097725</td>\n",
       "      <td>0.0</td>\n",
       "    </tr>\n",
       "    <tr>\n",
       "      <th>3</th>\n",
       "      <td>2014-04-01 00:15:00</td>\n",
       "      <td>21.954012</td>\n",
       "      <td>0.0</td>\n",
       "    </tr>\n",
       "    <tr>\n",
       "      <th>4</th>\n",
       "      <td>2014-04-01 00:20:00</td>\n",
       "      <td>20.840091</td>\n",
       "      <td>0.0</td>\n",
       "    </tr>\n",
       "  </tbody>\n",
       "</table>\n",
       "</div>"
      ],
      "text/plain": [
       "            timestamp      value  labels\n",
       "0 2014-04-01 00:00:00  21.519280     0.0\n",
       "1 2014-04-01 00:05:00  21.707762     0.0\n",
       "2 2014-04-01 00:10:00  18.097725     0.0\n",
       "3 2014-04-01 00:15:00  21.954012     0.0\n",
       "4 2014-04-01 00:20:00  20.840091     0.0"
      ]
     },
     "execution_count": 18,
     "metadata": {},
     "output_type": "execute_result"
    }
   ],
   "source": [
    "df2[0:5]"
   ]
  },
  {
   "cell_type": "markdown",
   "metadata": {},
   "source": [
    "## Suggested Hyperparameters 2"
   ]
  },
  {
   "cell_type": "code",
   "execution_count": 19,
   "metadata": {},
   "outputs": [],
   "source": [
    "from nupic.frameworks.opf.common_models.cluster_params import getScalarMetricWithTimeOfDayAnomalyParams"
   ]
  },
  {
   "cell_type": "code",
   "execution_count": 20,
   "metadata": {},
   "outputs": [],
   "source": [
    "modelParams2 = getScalarMetricWithTimeOfDayAnomalyParams(df2['value'],\n",
    "                                                        minVal=df2['value'].min(), \n",
    "                                                        maxVal=df2['value'].max()\n",
    "                                                       )"
   ]
  },
  {
   "cell_type": "code",
   "execution_count": 21,
   "metadata": {},
   "outputs": [
    {
     "data": {
      "text/plain": [
       "{u'inferenceArgs': {u'inputPredictedField': u'auto',\n",
       "  u'predictedField': u'c1',\n",
       "  u'predictionSteps': [1]},\n",
       " u'modelConfig': {u'aggregationInfo': {u'days': 0,\n",
       "   u'fields': [],\n",
       "   u'hours': 0,\n",
       "   u'microseconds': 0,\n",
       "   u'milliseconds': 0,\n",
       "   u'minutes': 0,\n",
       "   u'months': 0,\n",
       "   u'seconds': 0,\n",
       "   u'weeks': 0,\n",
       "   u'years': 0},\n",
       "  u'model': u'HTMPrediction',\n",
       "  u'modelParams': {u'anomalyParams': {u'anomalyCacheRecords': None,\n",
       "    u'autoDetectThreshold': None,\n",
       "    u'autoDetectWaitRecords': 5030},\n",
       "   u'clEnable': False,\n",
       "   u'clParams': {u'alpha': 0.035828933612158,\n",
       "    u'regionName': u'SDRClassifierRegion',\n",
       "    u'steps': u'1',\n",
       "    u'verbosity': 0},\n",
       "   u'inferenceType': u'TemporalAnomaly',\n",
       "   u'sensorParams': {u'encoders': {u'c0_dayOfWeek': None,\n",
       "     u'c0_timeOfDay': {u'fieldname': u'c0',\n",
       "      u'name': u'c0',\n",
       "      u'timeOfDay': [21, 9.49],\n",
       "      u'type': u'DateEncoder'},\n",
       "     u'c0_weekend': None,\n",
       "     u'c1': {u'fieldname': u'c1',\n",
       "      u'name': u'c1',\n",
       "      'resolution': 1.1303574668846152,\n",
       "      u'seed': 42,\n",
       "      u'type': u'RandomDistributedScalarEncoder'}},\n",
       "    u'sensorAutoReset': None,\n",
       "    u'verbosity': 0},\n",
       "   u'spEnable': True,\n",
       "   u'spParams': {u'boostStrength': 0.0,\n",
       "    u'columnCount': 2048,\n",
       "    u'globalInhibition': 1,\n",
       "    u'inputWidth': 0,\n",
       "    u'numActiveColumnsPerInhArea': 40,\n",
       "    u'potentialPct': 0.8,\n",
       "    u'seed': 1956,\n",
       "    u'spVerbosity': 0,\n",
       "    u'spatialImp': u'cpp',\n",
       "    u'synPermActiveInc': 0.003,\n",
       "    u'synPermConnected': 0.2,\n",
       "    u'synPermInactiveDec': 0.0005},\n",
       "   u'tmEnable': True,\n",
       "   u'tmParams': {u'activationThreshold': 13,\n",
       "    u'cellsPerColumn': 32,\n",
       "    u'columnCount': 2048,\n",
       "    u'globalDecay': 0.0,\n",
       "    u'initialPerm': 0.21,\n",
       "    u'inputWidth': 2048,\n",
       "    u'maxAge': 0,\n",
       "    u'maxSegmentsPerCell': 128,\n",
       "    u'maxSynapsesPerSegment': 32,\n",
       "    u'minThreshold': 10,\n",
       "    u'newSynapseCount': 20,\n",
       "    u'outputType': u'normal',\n",
       "    u'pamLength': 3,\n",
       "    u'permanenceDec': 0.1,\n",
       "    u'permanenceInc': 0.1,\n",
       "    u'seed': 1960,\n",
       "    u'temporalImp': u'cpp',\n",
       "    u'verbosity': 0},\n",
       "   u'trainSPNetOnlyIfRequested': False},\n",
       "  u'predictAheadTime': None,\n",
       "  u'version': 1}}"
      ]
     },
     "execution_count": 21,
     "metadata": {},
     "output_type": "execute_result"
    }
   ],
   "source": [
    "modelParams2"
   ]
  },
  {
   "cell_type": "markdown",
   "metadata": {},
   "source": [
    "## Merge DataFrames"
   ]
  },
  {
   "cell_type": "code",
   "execution_count": 22,
   "metadata": {},
   "outputs": [],
   "source": [
    "df = pd.DataFrame.merge(df1, df2, how='left', on='timestamp', suffixes=('1','2'))"
   ]
  },
  {
   "cell_type": "code",
   "execution_count": 23,
   "metadata": {},
   "outputs": [
    {
     "data": {
      "text/plain": [
       "[{'labels1': 0.0,\n",
       "  'labels2': 0.0,\n",
       "  'timestamp': Timestamp('2014-04-01 00:00:00'),\n",
       "  'value1': -21.0483826823,\n",
       "  'value2': 21.519279906799998},\n",
       " {'labels1': 0.0,\n",
       "  'labels2': 0.0,\n",
       "  'timestamp': Timestamp('2014-04-01 00:05:00'),\n",
       "  'value1': -20.2954768676,\n",
       "  'value2': 21.7077624925},\n",
       " {'labels1': 0.0,\n",
       "  'labels2': 0.0,\n",
       "  'timestamp': Timestamp('2014-04-01 00:10:00'),\n",
       "  'value1': -18.127229468299998,\n",
       "  'value2': 18.0977252372},\n",
       " {'labels1': 0.0,\n",
       "  'labels2': 0.0,\n",
       "  'timestamp': Timestamp('2014-04-01 00:15:00'),\n",
       "  'value1': -20.1716653997,\n",
       "  'value2': 21.9540122797},\n",
       " {'labels1': 0.0,\n",
       "  'labels2': 0.0,\n",
       "  'timestamp': Timestamp('2014-04-01 00:20:00'),\n",
       "  'value1': -21.223761612,\n",
       "  'value2': 20.840090926}]"
      ]
     },
     "execution_count": 23,
     "metadata": {},
     "output_type": "execute_result"
    }
   ],
   "source": [
    "data = df.to_dict(orient='records')\n",
    "data[0:5]"
   ]
  },
  {
   "cell_type": "code",
   "execution_count": 24,
   "metadata": {},
   "outputs": [],
   "source": [
    "#import pandas_profiling"
   ]
  },
  {
   "cell_type": "code",
   "execution_count": 25,
   "metadata": {},
   "outputs": [],
   "source": [
    "#pandas_profiling.ProfileReport(df)"
   ]
  },
  {
   "cell_type": "markdown",
   "metadata": {},
   "source": [
    "**value1** and **value2** have something `corr=-0.5`"
   ]
  },
  {
   "cell_type": "markdown",
   "metadata": {},
   "source": [
    "## Encoder\n"
   ]
  },
  {
   "cell_type": "code",
   "execution_count": 26,
   "metadata": {},
   "outputs": [
    {
     "data": {
      "text/plain": [
       "{u'encoders': {u'c0_dayOfWeek': None,\n",
       "  u'c0_timeOfDay': {u'fieldname': u'c0',\n",
       "   u'name': u'c0',\n",
       "   u'timeOfDay': [21, 9.49],\n",
       "   u'type': u'DateEncoder'},\n",
       "  u'c0_weekend': None,\n",
       "  u'c1': {u'fieldname': u'c1',\n",
       "   u'name': u'c1',\n",
       "   'resolution': 0.84582413051000005,\n",
       "   u'seed': 42,\n",
       "   u'type': u'RandomDistributedScalarEncoder'}},\n",
       " u'sensorAutoReset': None,\n",
       " u'verbosity': 0}"
      ]
     },
     "execution_count": 26,
     "metadata": {},
     "output_type": "execute_result"
    }
   ],
   "source": [
    "modelParams1['modelConfig']['modelParams']['sensorParams']"
   ]
  },
  {
   "cell_type": "code",
   "execution_count": 27,
   "metadata": {},
   "outputs": [
    {
     "data": {
      "text/plain": [
       "{u'encoders': {u'c0_dayOfWeek': None,\n",
       "  u'c0_timeOfDay': {u'fieldname': u'c0',\n",
       "   u'name': u'c0',\n",
       "   u'timeOfDay': [21, 9.49],\n",
       "   u'type': u'DateEncoder'},\n",
       "  u'c0_weekend': None,\n",
       "  u'c1': {u'fieldname': u'c1',\n",
       "   u'name': u'c1',\n",
       "   'resolution': 1.1303574668846152,\n",
       "   u'seed': 42,\n",
       "   u'type': u'RandomDistributedScalarEncoder'}},\n",
       " u'sensorAutoReset': None,\n",
       " u'verbosity': 0}"
      ]
     },
     "execution_count": 27,
     "metadata": {},
     "output_type": "execute_result"
    }
   ],
   "source": [
    "modelParams2['modelConfig']['modelParams']['sensorParams']"
   ]
  },
  {
   "cell_type": "code",
   "execution_count": 28,
   "metadata": {},
   "outputs": [
    {
     "data": {
      "text/plain": [
       "[{'labels1': 0.0,\n",
       "  'labels2': 0.0,\n",
       "  'timestamp': Timestamp('2014-04-01 00:00:00'),\n",
       "  'value1': -21.0483826823,\n",
       "  'value2': 21.519279906799998},\n",
       " {'labels1': 0.0,\n",
       "  'labels2': 0.0,\n",
       "  'timestamp': Timestamp('2014-04-01 00:05:00'),\n",
       "  'value1': -20.2954768676,\n",
       "  'value2': 21.7077624925},\n",
       " {'labels1': 0.0,\n",
       "  'labels2': 0.0,\n",
       "  'timestamp': Timestamp('2014-04-01 00:10:00'),\n",
       "  'value1': -18.127229468299998,\n",
       "  'value2': 18.0977252372},\n",
       " {'labels1': 0.0,\n",
       "  'labels2': 0.0,\n",
       "  'timestamp': Timestamp('2014-04-01 00:15:00'),\n",
       "  'value1': -20.1716653997,\n",
       "  'value2': 21.9540122797},\n",
       " {'labels1': 0.0,\n",
       "  'labels2': 0.0,\n",
       "  'timestamp': Timestamp('2014-04-01 00:20:00'),\n",
       "  'value1': -21.223761612,\n",
       "  'value2': 20.840090926}]"
      ]
     },
     "execution_count": 28,
     "metadata": {},
     "output_type": "execute_result"
    }
   ],
   "source": [
    "data = df.to_dict(orient='records')\n",
    "data[0:5]"
   ]
  },
  {
   "cell_type": "markdown",
   "metadata": {},
   "source": [
    "Check for each model the which are the econder parameters:"
   ]
  },
  {
   "cell_type": "code",
   "execution_count": 29,
   "metadata": {},
   "outputs": [
    {
     "name": "stdout",
     "output_type": "stream",
     "text": [
      "0 \n",
      "\n",
      "c0_timeOfDay {u'fieldname': u'c0', u'timeOfDay': [21, 9.49], u'type': u'DateEncoder', u'name': u'c0'} \n",
      "\n",
      "c1 {u'name': u'c1', 'resolution': 0.84582413051000005, u'seed': 42, u'fieldname': u'c1', u'type': u'RandomDistributedScalarEncoder'} \n",
      "\n",
      "0 \n",
      "\n"
     ]
    }
   ],
   "source": [
    "for k,v in modelParams1['modelConfig']['modelParams']['sensorParams']['encoders'].items():\n",
    "    if v != None:\n",
    "        print k, v, \"\\n\"\n",
    "    else: \n",
    "        print str(0), \"\\n\" "
   ]
  },
  {
   "cell_type": "code",
   "execution_count": 30,
   "metadata": {},
   "outputs": [
    {
     "name": "stdout",
     "output_type": "stream",
     "text": [
      "0 \n",
      "\n",
      "c0_timeOfDay {u'fieldname': u'c0', u'timeOfDay': [21, 9.49], u'type': u'DateEncoder', u'name': u'c0'} \n",
      "\n",
      "c1 {u'name': u'c1', 'resolution': 1.1303574668846152, u'seed': 42, u'fieldname': u'c1', u'type': u'RandomDistributedScalarEncoder'} \n",
      "\n",
      "0 \n",
      "\n"
     ]
    }
   ],
   "source": [
    "for k,v in modelParams2['modelConfig']['modelParams']['sensorParams']['encoders'].items():\n",
    "    if v != None:\n",
    "        print k, v, \"\\n\"\n",
    "    else: \n",
    "        print str(0), \"\\n\" "
   ]
  },
  {
   "cell_type": "markdown",
   "metadata": {},
   "source": [
    "We need to build: \n",
    "- 1x 'DateEncoder' which encodes the field `timestamp`\n",
    "- 1x 'ScalarEncoder' which encodes the field `value1`\n",
    "- 1x 'ScalarEncoder' which encodes the field `value2`\n",
    "\n",
    "The `values`-fields have been encoded the same way, only `resolution` change."
   ]
  },
  {
   "cell_type": "code",
   "execution_count": 31,
   "metadata": {},
   "outputs": [],
   "source": [
    "def remove_dict_key(d, keys):\n",
    "    \"\"\"\n",
    "    Remove 'keys' in dict.\n",
    "    \n",
    "    Parameters\n",
    "    ----------\n",
    "    d: dict\n",
    "    keys: list\n",
    "        List containing key(s) to delete.\n",
    "        \n",
    "    Outputp\n",
    "    -------\n",
    "    new_d: dict\n",
    "        A new dict object.\n",
    "    \n",
    "    \"\"\"\n",
    "    new_d = dict(d)\n",
    "    for i in keys: \n",
    "        del new_d[i]\n",
    "    return new_d"
   ]
  },
  {
   "cell_type": "code",
   "execution_count": 32,
   "metadata": {},
   "outputs": [],
   "source": [
    "#from nupic.encoders.random_distributed_scalar import RandomDistributedScalarEncoder\n",
    "from nupic.encoders.scalar import ScalarEncoder"
   ]
  },
  {
   "cell_type": "code",
   "execution_count": 33,
   "metadata": {},
   "outputs": [
    {
     "name": "stdout",
     "output_type": "stream",
     "text": [
      "-21.0483826823 =  [0 1 1 1 1 1 1 1 1 1 1 1 1 1 1 1 1 1 1 1 1 1 0 0 0 0 0 0 0 0 0 0 0 0 0 0 0\n",
      " 0 0 0 0 0 0 0 0 0 0 0 0 0 0 0 0 0 0 0 0 0 0 0 0 0 0 0 0 0 0 0 0 0 0 0 0 0\n",
      " 0 0 0 0 0 0 0 0 0 0 0 0 0 0 0 0 0 0 0 0 0 0 0 0 0 0 0 0 0 0 0 0 0 0 0 0 0\n",
      " 0 0 0 0 0 0 0 0 0 0 0 0 0 0 0 0 0 0 0 0 0 0 0 0 0 0 0 0 0 0 0 0 0 0 0 0 0\n",
      " 0 0 0]\n",
      "21.5192799068 =  [0 0 0 1 1 1 1 1 1 1 1 1 1 1 1 1 1 1 1 1 1 1 1 1 0 0 0 0 0 0 0 0 0 0 0 0 0\n",
      " 0 0 0 0 0 0 0 0 0 0 0 0 0 0 0 0 0 0 0 0 0 0 0 0 0 0 0 0 0 0 0 0 0 0 0 0 0\n",
      " 0 0 0 0 0 0 0 0 0 0 0 0 0 0 0 0 0 0 0 0 0 0 0 0 0 0 0 0 0 0 0 0 0 0 0 0 0\n",
      " 0 0 0 0 0 0 0 0 0 0 0 0 0 0 0 0 0 0 0 0 0 0 0 0 0 0 0 0 0 0 0 0 0 0 0 0 0\n",
      " 0 0 0]\n"
     ]
    }
   ],
   "source": [
    "v1Enc = ScalarEncoder(w=21, minval=df['value1'].min(), maxval=df['value1'].max(),\n",
    "                     resolution=modelParams1['modelConfig']['modelParams']['sensorParams']['encoders']['c1']['resolution'])\n",
    "v2Enc = ScalarEncoder(w=21, minval=df['value2'].min(), maxval=df['value2'].max(),\n",
    "                     resolution=modelParams2['modelConfig']['modelParams']['sensorParams']['encoders']['c1']['resolution'])\n",
    "\n",
    "\n",
    "print str(data[0]['value1']) + \" = \", v1Enc.encode(data[0]['value1'])\n",
    "print str(data[0]['value2']) + \" = \", v2Enc.encode(data[0]['value2'])"
   ]
  },
  {
   "cell_type": "code",
   "execution_count": 34,
   "metadata": {},
   "outputs": [
    {
     "data": {
      "text/plain": [
       "({'[-21.9987888386:87.9583481277]': ([[-21.152964708090007,\n",
       "     -21.152964708090007]],\n",
       "   '-21.15')},\n",
       " ['[-21.9987888386:87.9583481277]'])"
      ]
     },
     "execution_count": 34,
     "metadata": {},
     "output_type": "execute_result"
    }
   ],
   "source": [
    "enc = v1Enc.encode(-21)\n",
    "#print(enc)\n",
    "v1Enc.decode(enc)"
   ]
  },
  {
   "cell_type": "code",
   "execution_count": 35,
   "metadata": {},
   "outputs": [
    {
     "data": {
      "text/plain": [
       "({'[18.001009818:164.947480513]': ([[21.392082218653847, 21.392082218653847]],\n",
       "   '21.39')},\n",
       " ['[18.001009818:164.947480513]'])"
      ]
     },
     "execution_count": 35,
     "metadata": {},
     "output_type": "execute_result"
    }
   ],
   "source": [
    "enc = v2Enc.encode(21)\n",
    "#print(enc)\n",
    "v2Enc.decode(enc)"
   ]
  },
  {
   "cell_type": "code",
   "execution_count": 36,
   "metadata": {},
   "outputs": [
    {
     "data": {
      "text/plain": [
       "[{'labels1': 0.0,\n",
       "  'labels2': 0.0,\n",
       "  'timestamp': Timestamp('2014-04-01 00:00:00'),\n",
       "  'value1': -21.0483826823,\n",
       "  'value2': 21.519279906799998},\n",
       " {'labels1': 0.0,\n",
       "  'labels2': 0.0,\n",
       "  'timestamp': Timestamp('2014-04-01 00:05:00'),\n",
       "  'value1': -20.2954768676,\n",
       "  'value2': 21.7077624925},\n",
       " {'labels1': 0.0,\n",
       "  'labels2': 0.0,\n",
       "  'timestamp': Timestamp('2014-04-01 00:10:00'),\n",
       "  'value1': -18.127229468299998,\n",
       "  'value2': 18.0977252372},\n",
       " {'labels1': 0.0,\n",
       "  'labels2': 0.0,\n",
       "  'timestamp': Timestamp('2014-04-01 00:15:00'),\n",
       "  'value1': -20.1716653997,\n",
       "  'value2': 21.9540122797},\n",
       " {'labels1': 0.0,\n",
       "  'labels2': 0.0,\n",
       "  'timestamp': Timestamp('2014-04-01 00:20:00'),\n",
       "  'value1': -21.223761612,\n",
       "  'value2': 20.840090926}]"
      ]
     },
     "execution_count": 36,
     "metadata": {},
     "output_type": "execute_result"
    }
   ],
   "source": [
    "data = df.to_dict(orient='records')\n",
    "data[0:5]"
   ]
  },
  {
   "cell_type": "markdown",
   "metadata": {},
   "source": [
    "Both scalar encoders seems to be very precise for our data.  "
   ]
  },
  {
   "cell_type": "code",
   "execution_count": 37,
   "metadata": {},
   "outputs": [],
   "source": [
    "import datetime\n",
    "from nupic.encoders.date import DateEncoder"
   ]
  },
  {
   "cell_type": "markdown",
   "metadata": {},
   "source": [
    "The `timestamp` field is the same for both dataframes, and have also been encoded the same way.  \n",
    "So the is completely equivalent which one we decide to encode."
   ]
  },
  {
   "cell_type": "code",
   "execution_count": 38,
   "metadata": {},
   "outputs": [],
   "source": [
    "dEnc = DateEncoder(modelParams1['modelConfig']['modelParams']['sensorParams']['encoders']['c0_timeOfDay']['timeOfDay']) \n",
    "\n",
    "# tsObs1 = datetime.datetime.strptime(data[0]['timestamp'], \"%Y-%m-%d %H:%M:%S\")\n",
    "# print \"TimeStamp-obs0 = \", dEnc.encode(data[0]['timestamp'])\n",
    "# print \"TimeStamp-obs1 = \", dEnc.encode(data[1]['timestamp'])"
   ]
  },
  {
   "cell_type": "markdown",
   "metadata": {},
   "source": [
    "Wrap all together."
   ]
  },
  {
   "cell_type": "code",
   "execution_count": 39,
   "metadata": {},
   "outputs": [],
   "source": [
    "obs = []\n",
    "inputTs = []\n",
    "inputSDRts = []\n",
    "inputVal1 = []\n",
    "inputSDRval1 = []\n",
    "label1 = []\n",
    "inputVal2 = []\n",
    "inputSDRval2 = []\n",
    "label2 = []\n",
    "inputSDR = []  # main\n",
    "inputTsIdx = [0, len(dEnc.encode(data[0]['timestamp'])) - 1]\n",
    "inputVal1Idx = [len(dEnc.encode(data[0]['timestamp'])), \n",
    "                len(dEnc.encode(data[0]['timestamp'])) + len(v1Enc.encode(data[1]['value1'])) - 1]\n",
    "inputVal2Idx = [inputVal1Idx[1]+1, \n",
    "                inputVal1Idx[1] + len(v2Enc.encode(data[1]['value2']))]\n",
    "\n",
    "for i in xrange(len(data)):\n",
    "    obs.append(i)\n",
    "    inputTs.append(data[i]['timestamp'])  \n",
    "    inputVal1.append(data[i]['value1'])   \n",
    "    inputVal2.append(data[i]['value2'])   \n",
    "    label1.append(data[i]['labels1'])\n",
    "    label2.append(data[i]['labels2'])\n",
    "    inputSDRts.append(dEnc.encode(data[i]['timestamp']))\n",
    "    inputSDRval1.append(v1Enc.encode(data[i]['value1']))\n",
    "    inputSDRval2.append(v2Enc.encode(data[i]['value2']))\n",
    "    inputSDR.append(np.hstack((inputSDRts[i], inputSDRval1[i], inputSDRval2[i])))  # combine the 3 encoders\n",
    "    \n",
    "# send everything to dict    \n",
    "data = pd.DataFrame({'inputTs':inputTs, 'inputVal1':inputVal1, 'inputVal2':inputVal2,\n",
    "                     'label1': label1, 'label2': label2, 'inputSDR':inputSDR, \n",
    "                     'inputSDRval1':inputSDRval1, 'inputSDRval2':inputSDRval2, 'inputSDRts':inputSDRts, \n",
    "                    }, index=obs).to_dict(orient='records')"
   ]
  },
  {
   "cell_type": "code",
   "execution_count": 40,
   "metadata": {},
   "outputs": [
    {
     "data": {
      "text/plain": [
       "([0, 809], [810, 960], [961, 1111])"
      ]
     },
     "execution_count": 40,
     "metadata": {},
     "output_type": "execute_result"
    }
   ],
   "source": [
    "inputTsIdx, inputVal1Idx, inputVal2Idx"
   ]
  },
  {
   "cell_type": "code",
   "execution_count": 41,
   "metadata": {},
   "outputs": [
    {
     "name": "stdout",
     "output_type": "stream",
     "text": [
      "810\n",
      "151\n"
     ]
    }
   ],
   "source": [
    "print len(inputSDRts[0])\n",
    "print len(inputSDRval1[0])"
   ]
  },
  {
   "cell_type": "code",
   "execution_count": 42,
   "metadata": {},
   "outputs": [
    {
     "name": "stdout",
     "output_type": "stream",
     "text": [
      "len(inputSDR):  1112\n",
      "Observations:  4032\n"
     ]
    }
   ],
   "source": [
    "print \"len(inputSDR): \", len(data[0]['inputSDR'])\n",
    "#print data[0]\n",
    "print \"Observations: \", len(data)"
   ]
  },
  {
   "cell_type": "markdown",
   "metadata": {},
   "source": [
    "# Spatial Pooler\n",
    "[link to wiki](http://nupic.docs.numenta.org/1.0.3/api/algorithms/spatial-pooling.html#nupic.algorithms.spatial_pooler.SpatialPooler)\n",
    "\n",
    "Load `modelParams` fors SP:"
   ]
  },
  {
   "cell_type": "code",
   "execution_count": 43,
   "metadata": {},
   "outputs": [],
   "source": [
    "from nupic.algorithms.spatial_pooler import SpatialPooler"
   ]
  },
  {
   "cell_type": "code",
   "execution_count": 44,
   "metadata": {},
   "outputs": [
    {
     "name": "stdout",
     "output_type": "stream",
     "text": [
      "### modelParams1\n",
      "{u'columnCount': 2048, u'synPermInactiveDec': 0.0005, u'spatialImp': u'cpp', u'inputWidth': 0, u'spVerbosity': 0, u'synPermConnected': 0.2, u'synPermActiveInc': 0.003, u'potentialPct': 0.8, u'numActiveColumnsPerInhArea': 40, u'boostStrength': 0.0, u'globalInhibition': 1, u'seed': 1956}\n",
      "\n",
      " ### modelParams2\n",
      "{u'columnCount': 2048, u'synPermInactiveDec': 0.0005, u'spatialImp': u'cpp', u'inputWidth': 0, u'spVerbosity': 0, u'synPermConnected': 0.2, u'synPermActiveInc': 0.003, u'potentialPct': 0.8, u'numActiveColumnsPerInhArea': 40, u'boostStrength': 0.0, u'globalInhibition': 1, u'seed': 1956}\n"
     ]
    }
   ],
   "source": [
    "print \"### modelParams1\"\n",
    "print modelParams1['modelConfig']['modelParams']['spParams']\n",
    "print \"\\n ### modelParams2\"\n",
    "print modelParams2['modelConfig']['modelParams']['spParams']"
   ]
  },
  {
   "cell_type": "markdown",
   "metadata": {},
   "source": [
    "same same"
   ]
  },
  {
   "cell_type": "code",
   "execution_count": 45,
   "metadata": {},
   "outputs": [],
   "source": [
    "selectedSPparams = {\n",
    "    u'boostStrength': 0.0,\n",
    "#     u'columnCount': 2048,\n",
    "    u'globalInhibition': 1,\n",
    "#     u'inputWidth': 0,\n",
    "    u'numActiveColumnsPerInhArea': 40,\n",
    "    u'potentialPct': 0.8,\n",
    "    u'seed': 1956,\n",
    "    u'spVerbosity': 0,\n",
    "#     u'spatialImp': u'cpp',\n",
    "    u'synPermActiveInc': 0.003,\n",
    "    u'synPermConnected': 0.2,\n",
    "    u'synPermInactiveDec': 0.0005,\n",
    "   ### Changes\n",
    "    u'inputDimensions': (len(data[0]['inputSDR']), ),\n",
    "    u'columnDimensions': modelParams1['modelConfig']['modelParams']['spParams']['columnCount'], \n",
    "}"
   ]
  },
  {
   "cell_type": "code",
   "execution_count": 46,
   "metadata": {},
   "outputs": [],
   "source": [
    "# Init SP\n",
    "sp = SpatialPooler(**selectedSPparams)"
   ]
  },
  {
   "cell_type": "code",
   "execution_count": 47,
   "metadata": {},
   "outputs": [],
   "source": [
    "# Print SP\n",
    "cols = []\n",
    "connections = []\n",
    "\n",
    "for col in xrange(sp.getColumnDimensions()):\n",
    "    connected = np.zeros(len(data[0]['inputSDR']), dtype=\"int\")\n",
    "    sp.getConnectedSynapses(col, connected)\n",
    "    cols.append(col)\n",
    "    connections.append(connected)\n",
    "\n",
    "spSDR = dict(zip(cols, connections))"
   ]
  },
  {
   "cell_type": "code",
   "execution_count": 48,
   "metadata": {},
   "outputs": [
    {
     "name": "stdout",
     "output_type": "stream",
     "text": [
      "SP Shape:2048; 1112\n"
     ]
    }
   ],
   "source": [
    "print \"SP Shape:\" + str(len(spSDR)) + \"; \" + str(len(spSDR[0]))"
   ]
  },
  {
   "cell_type": "markdown",
   "metadata": {},
   "source": [
    "The active bits (min-columns) are set by calculating the *overlapping score* with the input vector.  \n",
    "*Overalpping score* = `inputSDR` * `spSDR\\[column]`"
   ]
  },
  {
   "cell_type": "code",
   "execution_count": 49,
   "metadata": {},
   "outputs": [],
   "source": [
    "def idx_active_cols(inputArr):\n",
    "    \"\"\"\n",
    "    This function takes an 1d or nd-array and returns a 1d-array with the index for ACTIVE bits/columns: \n",
    "    \n",
    "    Parameters\n",
    "    ----------\n",
    "    inputArr:   np.array (1d or nD)\n",
    "            \n",
    "    Output\n",
    "    ------\n",
    "    tmActiveColsIdx: 1d np.arraz\n",
    "        Array with index of active cols.\n",
    "        \n",
    "    \"\"\"\n",
    "    #tmObject.reshape(tmObject.numberOfCols, tm.cellsPerColumn)\n",
    "    activeColsVec = []  # initialize vector\n",
    "\n",
    "    for i in range(inputArr.shape[0]):\n",
    "        # assign 1 if any 1 (active cell) in the column,\n",
    "        # 0 otherwise\n",
    "        if np.any(inputArr[i]>0):\n",
    "        # if np.any(tm.compute(spSDR[track[3]['sp_active']], enableLearn=True, enableInference=True).reshape(256, 3)[i]>0):\n",
    "            activeColsVec.append(1)\n",
    "        else:\n",
    "            activeColsVec.append(0)\n",
    "    # return index of active Columns        \n",
    "    tmActiveColsIdx = np.flatnonzero(np.array(activeColsVec))\n",
    "    return tmActiveColsIdx"
   ]
  },
  {
   "cell_type": "markdown",
   "metadata": {},
   "source": [
    "`Compute` returns the to 40 active cols, as defined in:  \n",
    "`MODEL_PARAMS['modelParams']['spParams']['numActiveColumnsPerInhArea']=40`."
   ]
  },
  {
   "cell_type": "code",
   "execution_count": 50,
   "metadata": {},
   "outputs": [],
   "source": [
    "# Save all the SP-columns active for every input\n",
    "\n",
    "for i in xrange(len(data)):\n",
    "    output = np.zeros(sp.getColumnDimensions(), dtype=\"int\")\n",
    "    sp.compute(data[i]['inputSDR'], learn=False, activeArray=output)\n",
    "    data[i]['sp_active'] = idx_active_cols(output) #save to dict\n",
    "    \n",
    "#     print \"obs\" + str(i) + \", Active col: \", str(output)"
   ]
  },
  {
   "cell_type": "code",
   "execution_count": 51,
   "metadata": {},
   "outputs": [
    {
     "data": {
      "text/plain": [
       "array([ 358,  359,  366,  369,  371,  372,  375,  376,  378,  379,  384,\n",
       "       1497, 1498, 1502, 1506, 1510, 1513, 1518, 1519, 1524, 1525, 1764,\n",
       "       1769, 1773, 1775, 1776, 1779, 1780, 1786, 1788, 1789, 1792, 1794,\n",
       "       1796, 1797, 1800, 1801, 1805, 1814, 1821])"
      ]
     },
     "execution_count": 51,
     "metadata": {},
     "output_type": "execute_result"
    }
   ],
   "source": [
    "data[0]['sp_active']"
   ]
  },
  {
   "cell_type": "code",
   "execution_count": 52,
   "metadata": {},
   "outputs": [
    {
     "data": {
      "text/plain": [
       "['inputSDR',\n",
       " 'inputSDRts',\n",
       " 'inputVal2',\n",
       " 'inputVal1',\n",
       " 'inputTs',\n",
       " 'label1',\n",
       " 'sp_active',\n",
       " 'inputSDRval2',\n",
       " 'label2',\n",
       " 'inputSDRval1']"
      ]
     },
     "execution_count": 52,
     "metadata": {},
     "output_type": "execute_result"
    }
   ],
   "source": [
    "data[0].keys()"
   ]
  },
  {
   "cell_type": "code",
   "execution_count": 53,
   "metadata": {},
   "outputs": [
    {
     "name": "stdout",
     "output_type": "stream",
     "text": [
      "obs0\n",
      "Active col:  [ 358  359  366  369  371  372  375  376  378  379  384 1497 1498 1502 1506\n",
      " 1510 1513 1518 1519 1524 1525 1764 1769 1773 1775 1776 1779 1780 1786 1788\n",
      " 1789 1792 1794 1796 1797 1800 1801 1805 1814 1821]\n",
      "obs1\n",
      "Active col:  [ 358  359  366  369  371  372  375  376  378  379  384 1497 1498 1502 1503\n",
      " 1510 1513 1519 1524 1525 1538 1764 1769 1773 1775 1776 1779 1780 1786 1788\n",
      " 1789 1792 1794 1796 1797 1800 1801 1805 1814 1821]\n",
      "obs2\n",
      "Active col:  [ 358  359  366  369  371  372  375  376  378  379  384 1513 1516 1524 1525\n",
      " 1528 1530 1533 1538 1764 1769 1771 1773 1775 1776 1777 1779 1780 1781 1782\n",
      " 1786 1788 1789 1790 1792 1794 1797 1799 1800 1801]\n",
      "obs3\n",
      "Active col:  [ 358  359  366  369  371  372  375  376  378  379  384 1497 1498 1502 1503\n",
      " 1510 1513 1519 1524 1525 1538 1764 1769 1773 1775 1776 1779 1780 1786 1788\n",
      " 1789 1792 1794 1796 1797 1800 1801 1805 1814 1821]\n",
      "obs4\n",
      "Active col:  [ 358  359  366  369  371  372  375  376  378  379  384 1497 1498 1502 1506\n",
      " 1510 1513 1518 1519 1524 1525 1764 1769 1773 1775 1776 1779 1780 1786 1788\n",
      " 1789 1792 1794 1796 1797 1800 1801 1805 1814 1821]\n"
     ]
    }
   ],
   "source": [
    "for _ in xrange(5):\n",
    "    print \"obs\" + str(_)\n",
    "    print \"Active col: \", data[_]['sp_active']"
   ]
  },
  {
   "cell_type": "code",
   "execution_count": 54,
   "metadata": {},
   "outputs": [],
   "source": [
    "# Permanence\n",
    "# permanence = []\n",
    "\n",
    "# for i in xrange(sp.getColumnDimensions()):\n",
    "#     p = []\n",
    "#     sp.getPermanence(i, p)\n",
    "#     permanence.append(np.array(p))\n",
    "\n",
    "# permanence[0]"
   ]
  },
  {
   "cell_type": "markdown",
   "metadata": {},
   "source": [
    "For `Permanence > Threshold` we have a connection to the *inputSDR*."
   ]
  },
  {
   "cell_type": "markdown",
   "metadata": {},
   "source": [
    "Summarizing SP:"
   ]
  },
  {
   "cell_type": "code",
   "execution_count": 55,
   "metadata": {},
   "outputs": [
    {
     "name": "stdout",
     "output_type": "stream",
     "text": [
      "inputSDR:  [0 0 0 ..., 0 0 0]\n",
      "SDR active bits [189 190 191 192 193 194 195 196 197 198 199 200 201 202 203 204 205 206\n",
      " 207 208 209 811 812 813 814 815 816 817 818 819 820 821 822 823 824 825\n",
      " 826 827 828 829 830 831 964 965 966 967 968 969 970 971 972 973 974 975\n",
      " 976 977 978 979 980 981 982 983 984]\n",
      "SP active col:  [ 358  359  366  369  371  372  375  376  378  379  384 1497 1498 1502 1506\n",
      " 1510 1513 1518 1519 1524 1525 1764 1769 1773 1775 1776 1779 1780 1786 1788\n",
      " 1789 1792 1794 1796 1797 1800 1801 1805 1814 1821]\n",
      "\n",
      "------------\n",
      "SP active col: 358; \tOverlappin bits: 10\n",
      "SP active col: 359; \tOverlappin bits: 11\n",
      "SP active col: 366; \tOverlappin bits: 10\n",
      "SP active col: 369; \tOverlappin bits: 13\n",
      "SP active col: 371; \tOverlappin bits: 11\n",
      "SP active col: 372; \tOverlappin bits: 10\n",
      "SP active col: 375; \tOverlappin bits: 10\n",
      "SP active col: 376; \tOverlappin bits: 10\n",
      "SP active col: 378; \tOverlappin bits: 12\n",
      "SP active col: 379; \tOverlappin bits: 11\n",
      "SP active col: 384; \tOverlappin bits: 10\n",
      "SP active col: 1497; \tOverlappin bits: 11\n",
      "SP active col: 1498; \tOverlappin bits: 11\n",
      "SP active col: 1502; \tOverlappin bits: 11\n",
      "SP active col: 1506; \tOverlappin bits: 10\n",
      "SP active col: 1510; \tOverlappin bits: 11\n",
      "SP active col: 1513; \tOverlappin bits: 11\n",
      "SP active col: 1518; \tOverlappin bits: 9\n",
      "SP active col: 1519; \tOverlappin bits: 9\n",
      "SP active col: 1524; \tOverlappin bits: 11\n",
      "SP active col: 1525; \tOverlappin bits: 9\n",
      "SP active col: 1764; \tOverlappin bits: 9\n",
      "SP active col: 1769; \tOverlappin bits: 9\n",
      "SP active col: 1773; \tOverlappin bits: 9\n",
      "SP active col: 1775; \tOverlappin bits: 10\n",
      "SP active col: 1776; \tOverlappin bits: 10\n",
      "SP active col: 1779; \tOverlappin bits: 10\n",
      "SP active col: 1780; \tOverlappin bits: 13\n",
      "SP active col: 1786; \tOverlappin bits: 12\n",
      "SP active col: 1788; \tOverlappin bits: 9\n",
      "SP active col: 1789; \tOverlappin bits: 9\n",
      "SP active col: 1792; \tOverlappin bits: 10\n",
      "SP active col: 1794; \tOverlappin bits: 13\n",
      "SP active col: 1796; \tOverlappin bits: 9\n",
      "SP active col: 1797; \tOverlappin bits: 12\n",
      "SP active col: 1800; \tOverlappin bits: 9\n",
      "SP active col: 1801; \tOverlappin bits: 13\n",
      "SP active col: 1805; \tOverlappin bits: 9\n",
      "SP active col: 1814; \tOverlappin bits: 9\n",
      "SP active col: 1821; \tOverlappin bits: 9\n"
     ]
    }
   ],
   "source": [
    "entry = 0\n",
    "\n",
    "print \"inputSDR: \", data[entry]['inputSDR']\n",
    "print \"SDR active bits\", idx_active_cols(data[entry]['inputSDR'])\n",
    "print \"SP active col: \", data[entry]['sp_active']\n",
    "print \"\\n\", \"------------\"\n",
    "\n",
    "for i in data[entry]['sp_active']:\n",
    "    print \"SP active col: \" + str(i) + \"; \\tOverlappin bits: \" + str(sum(spSDR[i] * data[entry]['inputSDR']))\n",
    "\n",
    "#print \"Pemanence winning col: \", permanence[track[0]['sp_active']]"
   ]
  },
  {
   "cell_type": "markdown",
   "metadata": {},
   "source": [
    "# Temporal Pooler\n",
    "\n",
    "[link to wiki](http://nupic.docs.numenta.org/1.0.3/api/algorithms/sequence-memory.html#nupic.algorithms.backtracking_tm_cpp.BacktrackingTMCPP)\n",
    "\n",
    "Load `MODEL_PARAMS` fors TM:"
   ]
  },
  {
   "cell_type": "code",
   "execution_count": 56,
   "metadata": {},
   "outputs": [
    {
     "name": "stdout",
     "output_type": "stream",
     "text": [
      "### modelParams1\n",
      "{u'columnCount': 2048, u'activationThreshold': 13, u'pamLength': 3, u'cellsPerColumn': 32, u'permanenceDec': 0.1, u'minThreshold': 10, u'inputWidth': 2048, u'maxSynapsesPerSegment': 32, u'outputType': u'normal', u'initialPerm': 0.21, u'globalDecay': 0.0, u'maxAge': 0, u'newSynapseCount': 20, u'maxSegmentsPerCell': 128, u'permanenceInc': 0.1, u'temporalImp': u'cpp', u'seed': 1960, u'verbosity': 0}\n",
      "\n",
      " ### modelParams2\n",
      "{u'columnCount': 2048, u'activationThreshold': 13, u'pamLength': 3, u'cellsPerColumn': 32, u'permanenceDec': 0.1, u'minThreshold': 10, u'inputWidth': 2048, u'maxSynapsesPerSegment': 32, u'outputType': u'normal', u'initialPerm': 0.21, u'globalDecay': 0.0, u'maxAge': 0, u'newSynapseCount': 20, u'maxSegmentsPerCell': 128, u'permanenceInc': 0.1, u'temporalImp': u'cpp', u'seed': 1960, u'verbosity': 0}\n"
     ]
    }
   ],
   "source": [
    "print \"### modelParams1\"\n",
    "print modelParams1['modelConfig']['modelParams']['tmParams']\n",
    "print \"\\n ### modelParams2\"\n",
    "print modelParams2['modelConfig']['modelParams']['tmParams']"
   ]
  },
  {
   "cell_type": "markdown",
   "metadata": {},
   "source": [
    "same same"
   ]
  },
  {
   "cell_type": "code",
   "execution_count": 57,
   "metadata": {},
   "outputs": [],
   "source": [
    "selectedTMparams = { \n",
    "    'activationThreshold': 20,\n",
    "    'cellsPerColumn': 32,\n",
    "#     'columnCount': 2048,\n",
    "    'globalDecay': 0.0,\n",
    "    'initialPerm': 0.24,\n",
    "#     'inputWidth': 2048,\n",
    "    'maxAge': 0,\n",
    "    'maxSegmentsPerCell': 128,\n",
    "    'maxSynapsesPerSegment': 128,\n",
    "    'minThreshold': 13,\n",
    "    'newSynapseCount': 31,\n",
    "    'outputType': 'normal',\n",
    "    'permanenceDec': 0.008,\n",
    "    'permanenceInc': 0.04,\n",
    "#     'predictedSegmentDecrement': 0.001,\n",
    "    'seed': 1960,\n",
    "#     'temporalImp': 'tm_cpp',\n",
    "    'verbosity': 0,\n",
    "    ### Changes\n",
    "    'numberOfCols': modelParams1['modelConfig']['modelParams']['tmParams']['columnCount'],\n",
    "\n",
    "}"
   ]
  },
  {
   "cell_type": "markdown",
   "metadata": {},
   "source": [
    "To better understand the example we suggest to set `verbosity=5`"
   ]
  },
  {
   "cell_type": "code",
   "execution_count": 58,
   "metadata": {},
   "outputs": [],
   "source": [
    "from nupic.algorithms.backtracking_tm import BacktrackingTM"
   ]
  },
  {
   "cell_type": "code",
   "execution_count": 59,
   "metadata": {},
   "outputs": [],
   "source": [
    "# init TM\n",
    "tm = BacktrackingTM(**selectedTMparams)"
   ]
  },
  {
   "cell_type": "markdown",
   "metadata": {},
   "source": [
    "For every input, send the ACTIVE_sp_columns to TM as 0/1 vector"
   ]
  },
  {
   "cell_type": "code",
   "execution_count": 60,
   "metadata": {},
   "outputs": [],
   "source": [
    "for i in xrange(len(data)): #len(data)\n",
    "    # for every input, select the 'sp_active' col and get active bit in very col  \n",
    "     sp4tm = [spSDR.get(sp) for sp in data[i]['sp_active']]\n",
    "    # stack all the arrays in matrix and sum to see overlap \n",
    "     sp4tm = sum(np.array(sp4tm))\n",
    "    # if overlap 1 send active cols aove \n",
    "     sp4tm[sp4tm>0] = 1\n",
    "    \n",
    "    # send the vector with the SP active cols to TM\n",
    "     data[i]['sp4tm'] = sp4tm"
   ]
  },
  {
   "cell_type": "code",
   "execution_count": 61,
   "metadata": {},
   "outputs": [],
   "source": [
    "# Step 3: send the  input to the temporal memory for learning\n",
    "\n",
    "# # Send each input in the sequence in order\n",
    "# for i in xrange(len(data[:1000])):\n",
    "\n",
    "#     # The compute method performs one step of learning and/or inference. Note:\n",
    "#     # here we just perform learning but you can perform prediction/inference and\n",
    "#     # learning in the same step if you want (online learning).\n",
    "#     tm_output = tm.compute(data[i]['sp4tm'], enableLearn=True, enableInference=True)\n",
    "#     # This function prints the segments associated with every cell.$$$$\n",
    "#     # If you really want to understand the TP, uncomment this line. By following\n",
    "#     # every step you can get an excellent understanding for exactly how the TP\n",
    "#     # learns.\n",
    "#     #tm.printCells()"
   ]
  },
  {
   "cell_type": "markdown",
   "metadata": {},
   "source": [
    "Use the first 3000 entries to learn, test on the rest:"
   ]
  },
  {
   "cell_type": "markdown",
   "metadata": {},
   "source": [
    "## Anomaly Score\n",
    "\n",
    "[link](http://nupic.docs.numenta.org/stable/guides/anomaly-detection.html)\n",
    "\n",
    "The algorithm for the anomaly score is as follows:  \n",
    "\n",
    "AS = |A_(t) - (P_(t-1) cross A_(t))|  / |A_(t)|  \n",
    "\n",
    "A_(t):   Predicted columns at time t  \n",
    "P_(t-1): Active columns at time t\n",
    "\n",
    "**Note**: Here, a “predicted column” is a column with a non-zero confidence value. This is not exactly the same as having a cell in the predicted state. For more information, refer the “predicted cells vs. confidences” section below.  \n",
    "\n",
    "...to compute the confidences for a cell, the Temporal Pooler uses the soft match count (the number of active synapses, regardless of the permanence values). Therefore, the set of columns with non-zero confidences will always be a superset of the columns containing predicted cells."
   ]
  },
  {
   "cell_type": "code",
   "execution_count": 62,
   "metadata": {},
   "outputs": [],
   "source": [
    "def computeRawAnomalyScore(activeColumns, prevPredictedColumns):\n",
    "  \"\"\"Computes the raw anomaly score.\n",
    "\n",
    "  The raw anomaly score is the fraction of active columns not predicted.\n",
    "\n",
    "  :param activeColumns: array of active column indices\n",
    "  :param prevPredictedColumns: array of columns indices predicted in prev step\n",
    "  :returns: anomcaly score 0..1 (float)\n",
    "  \"\"\"\n",
    "  nActiveColumns = len(activeColumns)\n",
    "  if nActiveColumns > 0:\n",
    "    # Test whether each element of a 1-D array is also present in a second\n",
    "    # array. Sum to get the total # of columns that are active and were\n",
    "    # predicted.\n",
    "    score = np.in1d(activeColumns, prevPredictedColumns).sum()\n",
    "    # Get the percent of active columns that were NOT predicted, that is\n",
    "    # our anomaly score.\n",
    "    score = (nActiveColumns - score) / float(nActiveColumns)\n",
    "  else:\n",
    "    # There are no active columns.\n",
    "    score = 0.0\n",
    "\n",
    "  return score"
   ]
  },
  {
   "cell_type": "code",
   "execution_count": 63,
   "metadata": {},
   "outputs": [],
   "source": [
    "# Utility routine for printing the input vector\n",
    "def formatRow(x):\n",
    "    s = ''\n",
    "    for c in range(len(x)):\n",
    "        if c > 0 and c % 10 == 0:\n",
    "            s += ' '\n",
    "        s += str(x[c])\n",
    "    s += ' '\n",
    "    return s"
   ]
  },
  {
   "cell_type": "markdown",
   "metadata": {},
   "source": [
    "## Anomaly Likelihood\n",
    "\n",
    "``` \n",
    "from nupic.algorithms.anomaly_likelihood import AnomalyLikelihood\n",
    "\n",
    "class AnomalyLikelihood(claLearningPeriod=None,\n",
    "                       learningPeriod=288,\n",
    "                       estimationSamples=100,\n",
    "                       historicWindowSize=8640,\n",
    "                       reestimationPeriod=100)):\n",
    "\n",
    "    NOTE: Anomaly likelihood scores are reported at a flat 0.5 for\n",
    "    learningPeriod + estimationSamples iterations.\n",
    "\n",
    "    claLearningPeriod and learningPeriod are specifying the same variable,\n",
    "    although claLearningPeriod is a deprecated name for it.\n",
    "\n",
    "    :param learningPeriod: (claLearningPeriod: deprecated) - (int) the number of\n",
    "      iterations required for the algorithm to learn the basic patterns in the\n",
    "      dataset and for the anomaly score to 'settle down'. The default is based\n",
    "      on empirical observations but in reality this could be larger for more\n",
    "      complex domains. The downside if this is too large is that real anomalies\n",
    "      might get ignored and not flagged.\n",
    "\n",
    "    :param estimationSamples: (int) the number of reasonable anomaly scores\n",
    "      required for the initial estimate of the Gaussian. The default of 100\n",
    "      records is reasonable - we just need sufficient samples to get a decent\n",
    "      estimate for the Gaussian. It's unlikely you will need to tune this since\n",
    "      the Gaussian is re-estimated every 10 iterations by default.\n",
    "\n",
    "    :param historicWindowSize: (int) size of sliding window of historical\n",
    "      data points to maintain for periodic reestimation of the Gaussian. Note:\n",
    "      the default of 8640 is based on a month's worth of history at 5-minute\n",
    "      intervals.\n",
    "\n",
    "    :param reestimationPeriod: (int) how often we re-estimate the Gaussian\n",
    "      distribution. The ideal is to re-estimate every iteration but this is a\n",
    "      performance hit. In general the system is not very sensitive to this\n",
    "      number as long as it is small relative to the total number of records\n",
    "      processed.\n",
    "    ```"
   ]
  },
  {
   "cell_type": "code",
   "execution_count": 64,
   "metadata": {},
   "outputs": [],
   "source": [
    "from nupic.algorithms.anomaly_likelihood import AnomalyLikelihood"
   ]
  },
  {
   "cell_type": "code",
   "execution_count": 65,
   "metadata": {},
   "outputs": [],
   "source": [
    "anomalyLikelihood = AnomalyLikelihood()\n",
    "\n",
    "# for i in xrange(100):  # len(data)\n",
    "#     # Compute the Anomaly Likelihood\n",
    "#     likelihood = anomalyLikelihood.anomalyProbability(data[i]['inputVal'], data[i]['AnomalyScore'], data[i]['inputTs'])\n",
    "#     #likelihood = anomalyLikelihood.anomalyProbability(inputData[\"value\"], anomalyScore, inputData[\"dttm\"])\n",
    "#     logLikelihood = anomalyLikelihood.computeLogLikelihood(likelihood)\n",
    "#     data[i]['lh'] = likelihood    \n",
    "#     data[i]['logLH'] = likelihood\n",
    "#     #if likelihood > 0.9999:\n",
    "#         #print \"Anomaly detected:\", track[i]['inputVal'], track[i]['inputTs'], likelihood"
   ]
  },
  {
   "cell_type": "markdown",
   "metadata": {},
   "source": [
    "## Run Experiment"
   ]
  },
  {
   "cell_type": "code",
   "execution_count": 66,
   "metadata": {},
   "outputs": [],
   "source": [
    "# Step 4: send the same sequence of vectors and look at predictions made by\n",
    "# temporal memory\n",
    "\n",
    "\n",
    "for i in xrange(len(data)):  # len(data) \n",
    "#     print \"\\n\\n--------\" + str(i) + \"-----------\"\n",
    "#     print \"Raw input vector\\n\",formatRow(track[i]['sp4tm'])\n",
    "\n",
    "    # Send each vector to the TP, with learning turned off\n",
    "    tm.compute(data[i]['sp4tm'], enableLearn=True, enableInference=True)\n",
    "\n",
    "    # This method prints out the active state of each cell followed by the\n",
    "    # predicted state of each cell. For convenience the cells are grouped\n",
    "    # 10 at a time. When there are multiple cells per column the printout\n",
    "    # is arranged so the cells in a column are stacked together\n",
    "    #\n",
    "    # What you should notice is that the columns where active state is 1\n",
    "    # represent the SDR for the current input pattern and the columns where\n",
    "    # predicted state is 1 represent the SDR for the next expected pattern\n",
    "#     print \"\\nAll the active and predicted cells:\"\n",
    "#     tm.printStates(printPrevious=False, printLearnState=False)\n",
    "\n",
    "    # tm.getPredictedState() gets the predicted cells.\n",
    "    # predictedCells[c][i] represents the state of the i'th cell in the c'th\n",
    "    # column. To see if a column is predicted, we can simply take the OR\n",
    "    # across all the cells in that column. In numpy we can do this by taking\n",
    "    # the max along axis 1.\n",
    "#     print \"\\n\\nThe following columns are predicted by the temporal memory. This\"\n",
    "#     print \"should correspond to columns in the *next* item in the sequence.\"\n",
    "#     predictedCells = tm.getPredictedState()\n",
    "#     print formatRow(predictedCells.max(axis=1).nonzero())\n",
    "    \n",
    "    ## ANOMALY SCORE\n",
    "    data[i]['TMpredictedCells'] = tm.cellConfidence['t-1']\n",
    "    #data[i]['TMpredictedCells_2'] = tm.infPredictedState['t-1']\n",
    "    data[i]['TMactiveCells'] = tm.infActiveState['t']           \n",
    "    data[i]['AnomalyScore'] = computeRawAnomalyScore(idx_active_cols(tm.infActiveState['t']), idx_active_cols(tm.cellConfidence['t-1']))\n",
    "    #data[i]['AnomalyScore2'] = computeRawAnomalyScore(idx_active_cols(tm.infActiveState['t']), idx_active_cols(tm.infPredictedState['t-1']))\n",
    "    likelihood = anomalyLikelihood.anomalyProbability(data[i]['inputVal1'], data[i]['AnomalyScore'], data[i]['inputTs'])\n",
    "    #likelihood = anomalyLikelihood.anomalyProbability(inputData[\"value\"], anomalyScore, inputData[\"dttm\"])\n",
    "    logLikelihood = anomalyLikelihood.computeLogLikelihood(likelihood)\n",
    "    data[i]['lh'] = likelihood    \n",
    "    data[i]['logLH'] = logLikelihood\n",
    "    \n",
    "    if likelihood > 0.9999:\n",
    "        data[i]['flagLH'] = 1\n",
    "    else:\n",
    "        data[i]['flagLH'] = 0\n",
    "    \n",
    "    ## Anomaly Attribution\n",
    "    # check overlapping columns\n",
    "    idxOverlap = np.in1d(idx_active_cols(tm.infActiveState['t']), idx_active_cols(tm.cellConfidence['t-1']))\n",
    "    # shows actual active column that do not overalp with prediction\n",
    "    data[i]['idxAS'] = idx_active_cols(tm.infActiveState['t'])[idxOverlap == False]"
   ]
  },
  {
   "cell_type": "markdown",
   "metadata": {},
   "source": [
    "## Results Inspection"
   ]
  },
  {
   "cell_type": "code",
   "execution_count": 67,
   "metadata": {},
   "outputs": [],
   "source": [
    "# vAnomalyScore = []\n",
    "# #vAnomalyScore2 = []\n",
    "# vLH = []\n",
    "# vLogLH = []\n",
    "# vFlagLH = []\n",
    "\n",
    "# for i in xrange(len(data)):\n",
    "#     vAnomalyScore.append(data[i].get('AnomalyScore'))    \n",
    "#  #   vAnomalyScore2.append(track[i].get('AnomalyScore'))    \n",
    "#     vLH.append(data[i].get('lh'))\n",
    "#     vLogLH.append(data[i].get('logLH'))\n",
    "#     vFlagLH.append(data[i].get('flagLH'))"
   ]
  },
  {
   "cell_type": "code",
   "execution_count": 68,
   "metadata": {},
   "outputs": [],
   "source": [
    "# pd.Series(vAnomalyScore).plot()\n",
    "# pd.Series(vLH).plot()\n",
    "# pd.Series(vLogLH).plot()\n",
    "# pd.Series(vFlagLH).plot()"
   ]
  },
  {
   "cell_type": "code",
   "execution_count": 69,
   "metadata": {},
   "outputs": [],
   "source": [
    "df = pd.DataFrame.from_records(data)"
   ]
  },
  {
   "cell_type": "code",
   "execution_count": 70,
   "metadata": {},
   "outputs": [],
   "source": [
    "import matplotlib.pyplot as plt \n",
    "import matplotlib.dates as mdates"
   ]
  },
  {
   "cell_type": "code",
   "execution_count": 71,
   "metadata": {},
   "outputs": [],
   "source": [
    "idcs1 = df.label1[df.label1==1].index\n",
    "idcs2 = df.label2[df.label2==1].index"
   ]
  },
  {
   "cell_type": "code",
   "execution_count": 72,
   "metadata": {},
   "outputs": [
    {
     "data": {
      "image/png": "[encoded data removed]",
      "text/plain": [
       "<Figure size 1080x504 with 2 Axes>"
      ]
     },
     "metadata": {
      "needs_background": "light"
     },
     "output_type": "display_data"
    }
   ],
   "source": [
    "a = 0\n",
    "b = -1\n",
    "\n",
    "fig, ax = plt.subplots(2, sharex=True, figsize=(15,7))\n",
    "ax[0].plot(df.inputVal1[a:b], color='b')\n",
    "ax[0].plot(df.inputVal2[a:b], color='g')\n",
    "ax[0].set(ylabel='temperature_C', title=PATH_relative)\n",
    "#ax[0].vlines(idcs[a:b], 0, 1, transform=ax[0].get_xaxis_transform(), colors='y')\n",
    "#ax[0].vlines(anomalies_gt, 0, 1, transform=ax[0].get_xaxis_transform(), colors='b', linestyles={'dashed'})\n",
    "ax[0].plot(df.label1[a:b], color='y', label='groundtruth1')\n",
    "ax[0].plot(df.label1[a:b], color='m', label='groundtruth2')\n",
    "\n",
    "\n",
    "ax[1].plot(df.AnomalyScore[a:b], label='anomaly_score')\n",
    "ax[1].set(ylabel='Anomaly Score and LH')\n",
    "ax[1].plot(df.lh[a:b], color='r', alpha=0.5, label='anomaly_LH')\n",
    "ax[1].plot(df.logLH[a:b], color='c', alpha=0.5, label='logLH')\n",
    "ax[1].axhline(y=0.5, \n",
    "              color='r', linestyle='--', linewidth=0.4)\n",
    "              #xmin=data.anomaly_likelihood.index[a], xmax=data.anomaly_likelihood.index[b])\n",
    "#ax[1].vlines(idcs[a:b], 0, 1, transform=ax[1].get_xaxis_transform(), alpha=0.9, colors='y', label='groundtruth')\n",
    "ax[1].plot(df.label1[a:b], color='y', label='groundtruth1')\n",
    "ax[1].plot(df.label2[a:b], color='m', label='groundtruth2')\n",
    "ax[1].plot(df.flagLH[a:b], color='k', label='flagLH')\n",
    "ax[1].set(xlabel='time (5min)')\n",
    "ax[1].legend(loc=1)\n",
    "\n",
    "#set ticks every week\n",
    "ax[1].xaxis.set_major_locator(mdates.WeekdayLocator())\n",
    "#set major ticks format\n",
    "ax[1].xaxis.set_major_formatter(mdates.DateFormatter('%b %d'))"
   ]
  },
  {
   "cell_type": "code",
   "execution_count": 531,
   "metadata": {},
   "outputs": [
    {
     "data": {
      "text/plain": [
       "Index([u'AnomalyScore', u'TMactiveCells', u'TMpredictedCells', u'flagLH',\n",
       "       u'idxAS', u'inputSDR', u'inputSDRts', u'inputSDRval1', u'inputSDRval2',\n",
       "       u'inputTs', u'inputVal1', u'inputVal2', u'label1', u'label2', u'lh',\n",
       "       u'logLH', u'sp4tm', u'sp_active', u'labels', u'flagLogLH'],\n",
       "      dtype='object')"
      ]
     },
     "execution_count": 531,
     "metadata": {},
     "output_type": "execute_result"
    }
   ],
   "source": [
    "df.columns"
   ]
  },
  {
   "cell_type": "code",
   "execution_count": 74,
   "metadata": {},
   "outputs": [
    {
     "name": "stdout",
     "output_type": "stream",
     "text": [
      "Number of Anomaly according to HTM:  8\n",
      "Number of Anomaly according to GT:  5\n"
     ]
    }
   ],
   "source": [
    "print \"Number of Anomaly according to HTM: \", sum(df.flagLH)\n",
    "print \"Number of Anomaly according to GT: \", sum(df.loc[(df['label1'] == 1) | (df['label2'] == 1), 'flagLH'])"
   ]
  },
  {
   "cell_type": "markdown",
   "metadata": {},
   "source": [
    "Which Sensor caused the anomaly?"
   ]
  },
  {
   "cell_type": "code",
   "execution_count": 75,
   "metadata": {},
   "outputs": [
    {
     "data": {
      "text/plain": [
       "401     [898, 902, 904, 906, 1004, 1018, 1026, 1029, 1...\n",
       "402     [227, 883, 884, 889, 890, 891, 892, 895, 896, ...\n",
       "690     [883, 884, 885, 887, 889, 890, 891, 892, 893, ...\n",
       "876     [190, 225, 226, 230, 231, 802, 832, 1051, 1052...\n",
       "899                                                    []\n",
       "2883    [199, 204, 210, 213, 217, 229, 866, 869, 870, ...\n",
       "2884    [207, 225, 226, 229, 230, 231, 236, 870, 871, ...\n",
       "2893                                                   []\n",
       "Name: idxAS, dtype: object"
      ]
     },
     "execution_count": 75,
     "metadata": {},
     "output_type": "execute_result"
    }
   ],
   "source": [
    "df.loc[df['flagLH']==1, 'idxAS']"
   ]
  },
  {
   "cell_type": "code",
   "execution_count": 76,
   "metadata": {},
   "outputs": [
    {
     "data": {
      "text/plain": [
       "([0, 809], [810, 960], [961, 1111])"
      ]
     },
     "execution_count": 76,
     "metadata": {},
     "output_type": "execute_result"
    }
   ],
   "source": [
    "inputTsIdx, inputVal1Idx, inputVal2Idx"
   ]
  },
  {
   "cell_type": "code",
   "execution_count": 77,
   "metadata": {},
   "outputs": [],
   "source": [
    "featureImportance = []\n",
    "\n",
    "for i in df.loc[df['flagLH']==1, 'idxAS'].index:\n",
    "    attribution = []\n",
    "    for j in df.loc[i, 'idxAS']:\n",
    "        if j <= inputTsIdx[1]:\n",
    "            attribution.append(0)\n",
    "        if j >= inputVal1Idx[0] and j <= inputVal1Idx[1]:\n",
    "            attribution.append(1)\n",
    "        if j >= inputVal2Idx[0] and j <= inputVal2Idx[1]:\n",
    "            attribution.append(2)    \n",
    "        else:\n",
    "            pass\n",
    "    temp = {'idx':i, 'ts': attribution.count(0), 'val1': attribution.count(1), 'val2': attribution.count(2)}\n",
    "    featureImportance.append(temp)"
   ]
  },
  {
   "cell_type": "code",
   "execution_count": 78,
   "metadata": {},
   "outputs": [
    {
     "data": {
      "text/plain": [
       "[{'idx': 401, 'ts': 0, 'val1': 4, 'val2': 10},\n",
       " {'idx': 402, 'ts': 1, 'val1': 11, 'val2': 8},\n",
       " {'idx': 690, 'ts': 0, 'val1': 22, 'val2': 1},\n",
       " {'idx': 876, 'ts': 6, 'val1': 1, 'val2': 34},\n",
       " {'idx': 899, 'ts': 0, 'val1': 0, 'val2': 0},\n",
       " {'idx': 2883, 'ts': 6, 'val1': 26, 'val2': 6},\n",
       " {'idx': 2884, 'ts': 7, 'val1': 26, 'val2': 0},\n",
       " {'idx': 2893, 'ts': 0, 'val1': 0, 'val2': 0}]"
      ]
     },
     "execution_count": 78,
     "metadata": {},
     "output_type": "execute_result"
    }
   ],
   "source": [
    "featureImportance"
   ]
  },
  {
   "cell_type": "code",
   "execution_count": 79,
   "metadata": {},
   "outputs": [
    {
     "data": {
      "image/png": "[encoded data removed]",
      "text/plain": [
       "<Figure size 432x288 with 1 Axes>"
      ]
     },
     "metadata": {
      "needs_background": "light"
     },
     "output_type": "display_data"
    },
    {
     "data": {
      "image/png": "[encoded data removed]",
      "text/plain": [
       "<Figure size 432x288 with 1 Axes>"
      ]
     },
     "metadata": {
      "needs_background": "light"
     },
     "output_type": "display_data"
    },
    {
     "data": {
      "image/png": "[encoded data removed]",
      "text/plain": [
       "<Figure size 432x288 with 1 Axes>"
      ]
     },
     "metadata": {
      "needs_background": "light"
     },
     "output_type": "display_data"
    },
    {
     "data": {
      "image/png": "[encoded data removed]",
      "text/plain": [
       "<Figure size 432x288 with 1 Axes>"
      ]
     },
     "metadata": {
      "needs_background": "light"
     },
     "output_type": "display_data"
    },
    {
     "data": {
      "image/png": "[encoded data removed]",
      "text/plain": [
       "<Figure size 432x288 with 1 Axes>"
      ]
     },
     "metadata": {
      "needs_background": "light"
     },
     "output_type": "display_data"
    },
    {
     "data": {
      "image/png": "[encoded data removed]",
      "text/plain": [
       "<Figure size 432x288 with 1 Axes>"
      ]
     },
     "metadata": {
      "needs_background": "light"
     },
     "output_type": "display_data"
    },
    {
     "data": {
      "image/png": "[encoded data removed]",
      "text/plain": [
       "<Figure size 432x288 with 1 Axes>"
      ]
     },
     "metadata": {
      "needs_background": "light"
     },
     "output_type": "display_data"
    },
    {
     "data": {
      "image/png": "[encoded data removed]",
      "text/plain": [
       "<Figure size 432x288 with 1 Axes>"
      ]
     },
     "metadata": {
      "needs_background": "light"
     },
     "output_type": "display_data"
    }
   ],
   "source": [
    "for i in xrange(len(featureImportance)):\n",
    "    names = [k for k,v in featureImportance[i].iteritems() if k not in ('idx')]\n",
    "    values = [v for k,v in featureImportance[i].iteritems() if k not in ('idx')]\n",
    "    plt.figure()\n",
    "    plt.bar(names, values)\n",
    "    plt.title(df.loc[featureImportance[i]['idx'], ['label1', 'label2', 'flagLH']])"
   ]
  },
  {
   "cell_type": "markdown",
   "metadata": {},
   "source": [
    "**TODOES**\n",
    "Inspect 899 and 2893, why `idxAS` array is empty?"
   ]
  },
  {
   "cell_type": "code",
   "execution_count": 80,
   "metadata": {},
   "outputs": [
    {
     "data": {
      "text/plain": [
       "array([], dtype=int64)"
      ]
     },
     "execution_count": 80,
     "metadata": {},
     "output_type": "execute_result"
    }
   ],
   "source": [
    "df.loc[899, 'idxAS']\n",
    "df.loc[2893, 'idxAS']"
   ]
  },
  {
   "cell_type": "markdown",
   "metadata": {},
   "source": [
    "## Scorer"
   ]
  },
  {
   "cell_type": "code",
   "execution_count": 385,
   "metadata": {},
   "outputs": [],
   "source": [
    "# Group all labels together\n",
    "df['labels'] = df.loc[: , ['label1', 'label2']].sum(axis=1)\n",
    "#be sure they sum to 1, also for anomalies that happens at the same time on different variables\n",
    "df['labels'] = [1 if x>0 else 0 for x in df['labels']]"
   ]
  },
  {
   "cell_type": "code",
   "execution_count": 386,
   "metadata": {},
   "outputs": [
    {
     "data": {
      "text/plain": [
       "Index([u'AnomalyScore', u'TMactiveCells', u'TMpredictedCells', u'flag',\n",
       "       u'idxAS', u'inputSDR', u'inputSDRts', u'inputSDRval1', u'inputSDRval2',\n",
       "       u'inputTs', u'inputVal1', u'inputVal2', u'label1', u'label2', u'lh',\n",
       "       u'logLH', u'sp4tm', u'sp_active', u'labels'],\n",
       "      dtype='object')"
      ]
     },
     "execution_count": 386,
     "metadata": {},
     "output_type": "execute_result"
    }
   ],
   "source": [
    "df.columns"
   ]
  },
  {
   "cell_type": "code",
   "execution_count": 281,
   "metadata": {},
   "outputs": [],
   "source": [
    "# lPATH_relative = (PATH_relative1, PATH_relative2)\n",
    "# # [labels[i] for i in lPATH_relative] returns a list of lists [[[list1]],[[list2]]], \n",
    "# # so adding \"val for sublist in labels[i]\" we flat it down to [[list1],[list2]]\n",
    "# windows = [j for j in labels[i] for i in lPATH_relative]\n",
    "# # change format from str to datetime\n",
    "# windows = [[datetime.datetime.strptime(string, '%Y-%m-%d %H:%M:%S.%f') for string in sublist] for sublist in windows]"
   ]
  },
  {
   "cell_type": "markdown",
   "metadata": {},
   "source": [
    "We don't need the anomaly window, as time stamp, since we already integrated it in the `labels`, maybe is simpler to work on with the `labels`, insted of makes copies and copies of the same variable."
   ]
  },
  {
   "cell_type": "code",
   "execution_count": 888,
   "metadata": {},
   "outputs": [],
   "source": [
    "i = 0\n",
    "previous = 0\n",
    "windows = []\n",
    "idx = list(df[df['labels']==1]['labels'].index)\n",
    "window = []\n",
    "window.append(idx.pop(0))\n",
    "\n",
    "while idx:\n",
    "    current = idx.pop(0)\n",
    "    if current == (window[previous]+1):\n",
    "        window.append(current)\n",
    "        previous += 1\n",
    "    else:\n",
    "        windows.append(window)\n",
    "        window = []  # reset window\n",
    "        previous = 0\n",
    "        window.append(current)\n",
    "# store the last `window` before while break\n",
    "windows.append(window)"
   ]
  },
  {
   "cell_type": "code",
   "execution_count": 895,
   "metadata": {},
   "outputs": [
    {
     "data": {
      "text/plain": [
       "Index([u'AnomalyScore', u'TMactiveCells', u'TMpredictedCells', u'flagLH',\n",
       "       u'idxAS', u'inputSDR', u'inputSDRts', u'inputSDRval1', u'inputSDRval2',\n",
       "       u'inputTs', u'inputVal1', u'inputVal2', u'label1', u'label2', u'lh',\n",
       "       u'logLH', u'sp4tm', u'sp_active', u'labels', u'flagLogLH'],\n",
       "      dtype='object')"
      ]
     },
     "execution_count": 895,
     "metadata": {},
     "output_type": "execute_result"
    }
   ],
   "source": [
    "df.columns"
   ]
  },
  {
   "cell_type": "code",
   "execution_count": 898,
   "metadata": {},
   "outputs": [],
   "source": [
    "def nab_confusion_matrix(df, labelCol, predCol, windows, output='array'):\n",
    "    \"\"\"\n",
    "    This function builds a confusion matrix how described in https://arxiv.org/abs/1510.03336.\\\n",
    "    The anomalies are usually not single observations, but a succession of observations: 'windows'.\\\n",
    "    If an anomaly is detected within the window, than TP=+1. Otherwise, if for an anomaly window no \\\n",
    "    anomalous event are detected then FN=+1. The particularity is that a window o points just returns \\\n",
    "    weather 1 TP or 1 FP, no matter how many detections have been detected within the intervall.\n",
    "    \n",
    "    Parameters\n",
    "    ----------\n",
    "    df: pd.DataFrame\n",
    "        Dataframe containing the grountruth labels and the predictions.\n",
    "    labelCol: str\n",
    "        Column's name within the dataframe where the groundtruth labels are stored.\n",
    "    predCol: str\n",
    "        Column's name within the dataframe where the predictions are stored.\n",
    "    windows: list of lists\n",
    "        List of with indices for every window.\n",
    "        Example of a list containing 2 anomaly windows. \n",
    "        windows = [[10, 11, 12, 13, 14, 15, 16], \n",
    "                   [65, 66, 67, 68, 69, 70]]\n",
    "    output: str, deafault='array' or 'df'\n",
    "        To determine if the output should be an array or a dataframe. \n",
    "    \n",
    "    Output\n",
    "    ------\n",
    "    cm: pd.DataFrame or array\n",
    "        Nice formatted dataframe or a simple matrix containing the Confusion Matrix.\n",
    "        \n",
    "    \"\"\"\n",
    "       \n",
    "    TN = 0\n",
    "    FP = 0\n",
    "    TP = 0\n",
    "    FN = 0\n",
    "\n",
    "    for i in xrange(df.shape[0]):\n",
    "        if (df.loc[i, labelCol]==0) & (df.loc[i, predCol]==0):\n",
    "            TN =+ TN+1\n",
    "        if (df.loc[i, labelCol]==0) & (df.loc[i, predCol]==1):\n",
    "            FP =+ FP+1\n",
    "               \n",
    "    for i in xrange(len(windows)):\n",
    "        #for every window:\n",
    "        #proof that all the 'labels' in the window are 1:\n",
    "        if (df.loc[windows[i], labelCol].sum()) == (len(df.loc[windows[i], labelCol])):\n",
    "            # if any anomaly has been detected in the window assign 1 to TP\n",
    "            if df.loc[windows[i], labelCol].sum() > 0:\n",
    "                TP =+ TP+1\n",
    "            # if no anomaly has been detected in the window assign 1 to FN    \n",
    "            if df.loc[windows[i], labelCol].sum() == 0:\n",
    "                FN =+ FN+1\n",
    "        else:\n",
    "            print \"Sum Anomalies within the window: \", df.loc[windows[i], labelCol].sum()\n",
    "            print \"Lenght Anomaly window: \", len(df.loc[windows[i], labelCol])\n",
    "            print \"Sum Anomalies within the window must be the lenght of the nomaly window.\"\n",
    "            print \"'labels' whitin the window are not all 1. Check 'labels'!!\"\n",
    "    \n",
    "    if output == 'array':\n",
    "        cm = np.array([TP, FP, FN, TN]).reshape(2, 2)\n",
    "    \n",
    "    if output == 'df':\n",
    "        cm = pd.DataFrame(np.array([TP, FP, FN, TN]).reshape(2,2),\n",
    "                 index=pd.MultiIndex.from_product([['Predicted'], ['T', 'F']]),\n",
    "                 columns=pd.MultiIndex.from_product([['Groundtruth'],['T', 'F']]))\n",
    "    return cm"
   ]
  },
  {
   "cell_type": "code",
   "execution_count": 899,
   "metadata": {},
   "outputs": [],
   "source": [
    "# def nab_confusion_matrix(df, labelCol, predCol, windows, output='array'):\n",
    "#     \"\"\"\n",
    "#     This function builds a confusion matrix how described in https://arxiv.org/abs/1510.03336.\\\n",
    "#     The anomalies are usually not single observations, but a succession of observations: 'windows'.\\\n",
    "#     If an anomaly is detected within the window, than TP=+1. Otherwise, if for an anomaly window no \\\n",
    "#     anomalous event are detected then FN=+1. The particularity is that a window o points just returns \\\n",
    "#     weather 1 TP or 1 FP, no matter how many detections have been detected within the intervall.\n",
    "    \n",
    "#     Parameters\n",
    "#     ----------\n",
    "#     df: pd.DataFrame\n",
    "#         Dataframe containing the grountruth labels and the predictions.\n",
    "#     labelCol: str\n",
    "#         Column's name within the dataframe where the groundtruth labels are stored.\n",
    "#     predCol: str\n",
    "#         Column's name within the dataframe where the predictions are stored.\n",
    "#     windows: list of lists\n",
    "#         List of `datetime` obejcts. for every window a 'start' and an 'end'.\n",
    "#         Example of a list containing 2 anomaly windows. \n",
    "#         windows = [[2014-04-03 20:10:00.000000, 2014-04-04 16:25:00.000000'], \n",
    "#                    [2014-04-03 20:10:00.000000, 2014-04-04 16:25:00.000000]]\n",
    "#     output: str, deafault='array' or 'df'\n",
    "#         To determine if the output should be an array or a dataframe. \n",
    "    \n",
    "#     Output\n",
    "#     ------\n",
    "#     cm: pd.DataFrame or array\n",
    "#         Nice formatted dataframe or a simple matrix containing the Confusion Matrix.\n",
    "        \n",
    "#     \"\"\"\n",
    "       \n",
    "#     TN = 0\n",
    "#     FP = 0\n",
    "#     TP = 0\n",
    "#     FN = 0\n",
    "\n",
    "#     for i in xrange(df.shape[0]):\n",
    "#         if (df.loc[i, labelCol]==0) & (df.loc[i, predCol]==0):\n",
    "#             TN =+ TN+1\n",
    "#         if (df.loc[i, labelCol]==0) & (df.loc[i, predCol]==1):\n",
    "#             FP =+ FP+1\n",
    "               \n",
    "#     for i in xrange(len(windows)):\n",
    "#         #for every window:\n",
    "#         #proof that all the 'labels' in the window are 1:\n",
    "#         if (df[(df.inputTs >= windows[i][0]) & (df.inputTs <= windows[i][1])][labelCol].sum()) == \\\n",
    "#            (len(df[(df.inputTs >= windows[i][0]) & (df.inputTs <= windows[i][1])][labelCol])):\n",
    "#             # if any anomaly has been detected in the window assign 1 to TP\n",
    "#             if df[(df.inputTs >= windows[i][0]) & (df.inputTs <= windows[i][1])][predCol].sum() > 0:\n",
    "#                 TP =+ TP+1\n",
    "#             # if no anomaly has been detected in the window assign 1 to FN    \n",
    "#             if df[(df.inputTs >= windows[i][0]) & (df.inputTs <= windows[i][1])][predCol].sum() == 0:\n",
    "#                 FN =+ FN+1\n",
    "#         else:\n",
    "#             print \"Sum Anomalies within the window: \", df[(df.inputTs >= windows[i][0]) & (df.inputTs <= windows[i][1])][labelCol].sum()\n",
    "#             print \"Lenght Anomaly window: \", len(df[(df.inputTs >= windows[i][0]) & (df.inputTs <= windows[i][1])][labelCol])\n",
    "#             print \"Sum Anomalies within the window must be the lenght of the nomaly window.\"\n",
    "#             print \"'labels' whitin the window are not all 1. Check 'labels'!!\"\n",
    "    \n",
    "#     if output == 'array':\n",
    "#         cm = np.array([TP, FP, FN, TN]).reshape(2, 2)\n",
    "    \n",
    "#     if output == 'df':\n",
    "#         cm = pd.DataFrame(np.array([TP, FP, FN, TN]).reshape(2,2),\n",
    "#                  index=pd.MultiIndex.from_product([['Predicted'], ['T', 'F']]),\n",
    "#                  columns=pd.MultiIndex.from_product([['Groundtruth'],['T', 'F']]))\n",
    "#     return cm"
   ]
  },
  {
   "cell_type": "markdown",
   "metadata": {},
   "source": [
    "## ROC"
   ]
  },
  {
   "cell_type": "code",
   "execution_count": 900,
   "metadata": {},
   "outputs": [],
   "source": [
    "tprLH = []\n",
    "fprLH = []\n",
    "tprLogLH = []\n",
    "fprLogLH = []\n",
    "tpLH = [] \n",
    "tnLH = []\n",
    "threshLH = []\n",
    "tpLogLH = [] \n",
    "tnLogLH = []\n",
    "threshLogLH = []\n",
    "\n",
    "\n",
    "for j in np.arange(0, 1, 0.01):\n",
    "    #j=j\n",
    "    df['flagLH'] = [1 if x>=j else 0 for x in df['lh']]\n",
    "    #print list(df['flagLH']).count(1)\n",
    "    cm = nab_confusion_matrix(df, labelCol='labels', predCol='flagLH', windows=windows)\n",
    "    tprLH.append(float(cm[0,0])/float(cm[0,0]+cm[1,0]))  #True Positive Rate = sensitivity\n",
    "    fprLH.append(float(cm[0,1])/float(cm[0,1]+cm[1,1]))  #False Positive Rate = (1-Specificity)\n",
    "    tpLH.append(cm[0,0])\n",
    "    tnLH.append(cm[1,1])\n",
    "    threshLH.append(j)\n",
    "     \n",
    "        \n",
    "for j in np.arange(0, 1, 0.01):\n",
    "    df['flagLogLH'] = [1 if x>=j else 0 for x in df['logLH']]\n",
    "    cm = nab_confusion_matrix(df, labelCol='labels', predCol='flagLogLH', windows=windows)\n",
    "    tprLogLH.append(cm[0,0]/(cm[0,0]+cm[1,0]))  #True Positive Rate = sensitivity\n",
    "    fprLogLH.append(cm[0,1]/(cm[0,1]+cm[1,1]))  #False Positive Rate = (1-Specificity)\n",
    "    tpLogLH.append(cm[0,0])\n",
    "    tnLogLH.append(cm[1,1])\n",
    "    threshLogLH.append(j)\n",
    "    \n",
    "dfTuningLH = pd.DataFrame()\n",
    "dfTuningLH['tpLH'] = np.asarray(tpLH)\n",
    "dfTuningLH['tnLH'] = np.asarray(tnLH)\n",
    "dfTuningLH['tprLH'] = np.asarray(tprLH)\n",
    "dfTuningLH['fprLH'] = np.asarray(fprLH)\n",
    "dfTuningLH['thresLH'] = np.asarray(threshLH)\n",
    "\n",
    "dfTuningLogLH = pd.DataFrame()\n",
    "dfTuningLogLH['tpLogLH'] = np.asarray(tpLogLH)\n",
    "dfTuningLogLH['tnLogLH'] = np.asarray(tnLogLH)\n",
    "dfTuningLogLH['tprLogLH'] = np.asarray(tprLogLH)\n",
    "dfTuningLogLH['fprLogLH'] = np.asarray(fprLogLH)\n",
    "dfTuningLogLH['thresLogLH'] = np.asarray(threshLogLH)"
   ]
  },
  {
   "cell_type": "code",
   "execution_count": 915,
   "metadata": {},
   "outputs": [
    {
     "data": {
      "text/plain": [
       "Index([u'AnomalyScore', u'TMactiveCells', u'TMpredictedCells', u'flagLH',\n",
       "       u'idxAS', u'inputSDR', u'inputSDRts', u'inputSDRval1', u'inputSDRval2',\n",
       "       u'inputTs', u'inputVal1', u'inputVal2', u'label1', u'label2', u'lh',\n",
       "       u'logLH', u'sp4tm', u'sp_active', u'labels', u'flagLogLH'],\n",
       "      dtype='object')"
      ]
     },
     "execution_count": 915,
     "metadata": {},
     "output_type": "execute_result"
    }
   ],
   "source": [
    "df.columns"
   ]
  },
  {
   "cell_type": "code",
   "execution_count": 918,
   "metadata": {},
   "outputs": [
    {
     "data": {
      "image/png": "[encoded data removed]",
      "text/plain": [
       "<Figure size 1080x432 with 4 Axes>"
      ]
     },
     "metadata": {
      "needs_background": "light"
     },
     "output_type": "display_data"
    }
   ],
   "source": [
    "fig, ax = plt.subplots(2, 2, figsize=(15,6))\n",
    "\n",
    "ax[0,0].plot(df.lh)\n",
    "ax[0,0].plot(df.AnomalyScore, alpha=0.4)\n",
    "ax[0,0].vlines(df[df['labels']==1]['labels'].index, 0, 1, \n",
    "               transform=ax[0,0].get_xaxis_transform(), \n",
    "               colors='y', alpha=0.5)\n",
    "ax[0,0].set(\n",
    "    title='Anomaly Likelihood',\n",
    "    ylabel='Anomaly LH')\n",
    "\n",
    "ax[0,1].plot(df.logLH)\n",
    "ax[0,1].plot(df.AnomalyScore, alpha=0.4)\n",
    "ax[0,1].set(\n",
    "    title='Anomaly LogLH',\n",
    "    ylabel='Anomaly LogLH')\n",
    "ax[0,1].vlines(df[df['labels']==1]['labels'].index, 0, 1, \n",
    "               transform=ax[0,1].get_xaxis_transform(), \n",
    "               colors='y', alpha=0.5)\n",
    "\n",
    "ax[1,0].plot(dfTuningLH.fprLH, dfTuningLH.tprLH)\n",
    "ax[1,0].set(\n",
    "    title='ROC Anomaly LH',\n",
    "    xlabel='FPR', xlim=(-0.1,1.1), \n",
    "    ylabel='TPR', ylim=(-0.1,1.1))\n",
    "\n",
    "ax[1,1].plot(dfTuningLogLH.fprLogLH, dfTuningLogLH.tprLogLH)\n",
    "ax[1,1].set(\n",
    "    title='ROC Anomaly LogLH',\n",
    "    xlabel='FPR', xlim=(-0.1,1.1), \n",
    "    ylabel='TPR', ylim=(-0.1,1.1))\n",
    "\n",
    "plt.show()"
   ]
  },
  {
   "cell_type": "code",
   "execution_count": 902,
   "metadata": {},
   "outputs": [
    {
     "data": {
      "text/plain": [
       "<matplotlib.axes._subplots.AxesSubplot at 0x7fa1ecd25490>"
      ]
     },
     "execution_count": 902,
     "metadata": {},
     "output_type": "execute_result"
    },
    {
     "data": {
      "image/png": "[encoded data removed]",
      "text/plain": [
       "<Figure size 432x288 with 1 Axes>"
      ]
     },
     "metadata": {
      "needs_background": "light"
     },
     "output_type": "display_data"
    },
    {
     "data": {
      "image/png": "[encoded data removed]",
      "text/plain": [
       "<Figure size 432x288 with 1 Axes>"
      ]
     },
     "metadata": {
      "needs_background": "light"
     },
     "output_type": "display_data"
    }
   ],
   "source": [
    "plt.figure(1)\n",
    "pd.Series(tprLH).plot(color='m')\n",
    "pd.Series(fprLH).plot(color='b', alpha=.5)\n",
    "\n",
    "plt.figure(2)\n",
    "pd.Series(tprLogLH).plot(color='m')\n",
    "pd.Series(fprLogLH).plot(color='b', alpha=.5)\n"
   ]
  },
  {
   "cell_type": "markdown",
   "metadata": {},
   "source": [
    "Proof:"
   ]
  },
  {
   "cell_type": "code",
   "execution_count": 903,
   "metadata": {},
   "outputs": [
    {
     "name": "stdout",
     "output_type": "stream",
     "text": [
      "[[   2 3385]\n",
      " [   0    0]]\n",
      "LH Threshold:  0.5\n",
      "TPR 1.0\n",
      "FPR 1.0\n",
      "-------------------\n",
      "[[   2 2102]\n",
      " [   0 1283]]\n",
      "LH Threshold:  0.8\n",
      "TPR 1.0\n",
      "FPR 0.620974889217\n"
     ]
    }
   ],
   "source": [
    "j = 0.5\n",
    "df['flagLH'] = [1 if x>=j else 0 for x in df['lh']]\n",
    "cm = nab_confusion_matrix(df, labelCol='labels', predCol='flagLH', windows=windows)\n",
    "print cm\n",
    "\n",
    "print \"LH Threshold: \", j\n",
    "print \"TPR\", float(cm[0,0])/float(cm[0,0]+cm[1,0])\n",
    "print \"FPR\", float(cm[0,1])/float(cm[0,1]+cm[1,1])\n",
    "print \"-------------------\"\n",
    "\n",
    "j = 0.8\n",
    "df['flagLH'] = [1 if x>=j else 0 for x in df['lh']]\n",
    "cm = nab_confusion_matrix(df, labelCol='labels', predCol='flagLH', windows=windows)\n",
    "print cm\n",
    "\n",
    "print \"LH Threshold: \", j\n",
    "print \"TPR\", float(cm[0,0])/float(cm[0,0]+cm[1,0])\n",
    "print \"FPR\", float(cm[0,1])/float(cm[0,1]+cm[1,1])\n"
   ]
  },
  {
   "cell_type": "markdown",
   "metadata": {},
   "source": [
    "ROCR is not vary usefull since we have high unbalanced data.  \n",
    "As long we detect a in the Anomaly Window, does not matter for which *LH threshold*, the `TP` does not change.\n",
    "On the other hand, the `FPR`, change the threshold will cause to have a lot of `TN` or `FN` so that also there,   "
   ]
  },
  {
   "cell_type": "markdown",
   "metadata": {},
   "source": [
    "Find *sweet-LH-spot* where: min(LH)_or_max(LH)_, max(tn)"
   ]
  },
  {
   "cell_type": "code",
   "execution_count": 904,
   "metadata": {},
   "outputs": [
    {
     "data": {
      "text/plain": [
       "Index([u'tpLH', u'tnLH', u'tprLH', u'fprLH', u'thresLH'], dtype='object')"
      ]
     },
     "execution_count": 904,
     "metadata": {},
     "output_type": "execute_result"
    }
   ],
   "source": [
    "dfTuningLH.columns"
   ]
  },
  {
   "cell_type": "code",
   "execution_count": 905,
   "metadata": {},
   "outputs": [
    {
     "data": {
      "text/html": [
       "<div>\n",
       "<style>\n",
       "    .dataframe thead tr:only-child th {\n",
       "        text-align: right;\n",
       "    }\n",
       "\n",
       "    .dataframe thead th {\n",
       "        text-align: left;\n",
       "    }\n",
       "\n",
       "    .dataframe tbody tr th {\n",
       "        vertical-align: top;\n",
       "    }\n",
       "</style>\n",
       "<table border=\"1\" class=\"dataframe\">\n",
       "  <thead>\n",
       "    <tr style=\"text-align: right;\">\n",
       "      <th></th>\n",
       "      <th>tpLH</th>\n",
       "      <th>tnLH</th>\n",
       "      <th>tprLH</th>\n",
       "      <th>fprLH</th>\n",
       "      <th>thresLH</th>\n",
       "    </tr>\n",
       "  </thead>\n",
       "  <tbody>\n",
       "    <tr>\n",
       "      <th>99</th>\n",
       "      <td>2</td>\n",
       "      <td>3367</td>\n",
       "      <td>1.0</td>\n",
       "      <td>0.005318</td>\n",
       "      <td>0.99</td>\n",
       "    </tr>\n",
       "  </tbody>\n",
       "</table>\n",
       "</div>"
      ],
      "text/plain": [
       "    tpLH  tnLH  tprLH     fprLH  thresLH\n",
       "99     2  3367    1.0  0.005318     0.99"
      ]
     },
     "execution_count": 905,
     "metadata": {},
     "output_type": "execute_result"
    }
   ],
   "source": [
    "dfTuningLH[dfTuningLH.tnLH == dfTuningLH.tnLH.max()]"
   ]
  },
  {
   "cell_type": "markdown",
   "metadata": {},
   "source": [
    "max anomaly = max TP\n",
    "min falseAlarm = min FP\n",
    "max TN\n",
    "\n",
    "Optimierung on traininig"
   ]
  },
  {
   "cell_type": "code",
   "execution_count": null,
   "metadata": {},
   "outputs": [],
   "source": []
  },
  {
   "cell_type": "code",
   "execution_count": null,
   "metadata": {},
   "outputs": [],
   "source": []
  },
  {
   "cell_type": "markdown",
   "metadata": {},
   "source": [
    "# Save"
   ]
  },
  {
   "cell_type": "code",
   "execution_count": 81,
   "metadata": {},
   "outputs": [],
   "source": [
    "# import copy\n",
    "# dataOut = copy.deepcopy(data)"
   ]
  },
  {
   "cell_type": "code",
   "execution_count": 82,
   "metadata": {},
   "outputs": [],
   "source": [
    "# # to dump to .json we need to change array to lists and datetime to str\n",
    "\n",
    "# for i in xrange(len(dataOut)):\n",
    "#     for k,v in dataOut[i].items():\n",
    "#         if isinstance(v, np.ndarray):\n",
    "#             #print dataOut[i][k].tolist\n",
    "#             dataOut[i][k] = dataOut[i][k].tolist()\n",
    "#         if isinstance(v, datetime.datetime):\n",
    "#             dataOut[i][k] = str(dataOut[i][k])\n",
    "#         else:\n",
    "#             pass"
   ]
  },
  {
   "cell_type": "code",
   "execution_count": 83,
   "metadata": {},
   "outputs": [],
   "source": [
    "# filename = 'multi_getScal_spLearnFalse_tmLearnAll.json'\n",
    "# with open(filename, 'w') as f:\n",
    "#     json.dump(dataOut, f, indent=4, sort_keys=True, separators=(',', ': '))"
   ]
  }
 ],
 "metadata": {
  "kernelspec": {
   "display_name": "nupic",
   "language": "python",
   "name": "nupic"
  },
  "language_info": {
   "codemirror_mode": {
    "name": "ipython",
    "version": 2
   },
   "file_extension": ".py",
   "mimetype": "text/x-python",
   "name": "python",
   "nbconvert_exporter": "python",
   "pygments_lexer": "ipython2",
   "version": "2.7.15rc1"
  }
 },
 "nbformat": 4,
 "nbformat_minor": 2
}
