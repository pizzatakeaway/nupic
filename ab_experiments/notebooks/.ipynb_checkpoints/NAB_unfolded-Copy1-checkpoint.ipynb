{
 "cells": [
  {
   "cell_type": "markdown",
   "metadata": {},
   "source": [
    "# NAB unfolded\n",
    "In this notebook we will explore the code fot Anomaly Detection, presented in [NAB](https://github.com/numenta/NAB), since is it seems to be the most reliable version.\n",
    "\n",
    "[Here](https://www.youtube.com/watch?v=-N-2Cv-Q8h8) a presentation of the code `NAB/nab/detectors/numenta/numenta_detector.py`.\n",
    "\n",
    "**PROCESS**: `input > create_model > encoder > SP > TM > AnomalyScore > AnomalyLH`\n",
    "\n",
    "1. Everything is executed by **run.py**, which takes in a lot of information to start **runner.py**, which specifies the set of profiles, thresholds, and/or detectors --`numenta` in our case. \n",
    "1. To **LOAD the data .csv**, `runner.py` calls the script **corpus.py** which has two classes, *DataFile* followed by *Corpus*. *DataFile* loads the .csv which is called in the class *Corpus* in `#123`, `#135`. \n",
    "1. Afterwards, in **runner.py** `#93` calls the class *CorpusLaber* from **labeler.py**, which takes care af aggregating the groundtruth labels and saving to .json the timestamps for the anomaly.\n",
    "1. **runner.py** executes the different detectors: *detect()* `#99` --> **numenta_detector.py** \n",
    "1. **numenta_detector.py** is more a wrapper that contains the childclass *NumentaDetector(AnomalyDetector)* `#42` which inherits methods from the parent class `AnomalyDetector` descripted in **base.py**, such `getAdditionalHeaders()` and `handleRecord()`\n",
    "1. In **base.py**, *AnomalyDetector* takes as argument `dataSet` that is loaded using *Corpus* and among all, transforms our `pd.Dataframe`  into a `dict` *InputData*.\n",
    "1. *handleRecord* in **anomaly-detector.py** calculates *Anomaly Score*, and *Anomaly LH*, called `rawScore` and `anomalyScore` respectively from `dict` *InputData* **????? #83**.\n",
    "1. In **anomaly-detector.py**, the Model is initialized in `#113`, but it is not clear (to me), how is it feed with info. \n",
    "    ```\n",
    "      def initialize(self):\n",
    "        # Get config params, setting the RDSE resolution\n",
    "        rangePadding = abs(self.inputMax - self.inputMin) * 0.2\n",
    "        modelParams = getScalarMetricWithTimeOfDayAnomalyParams(\n",
    "          metricData=[0],\n",
    "          minVal=self.inputMin-rangePadding,\n",
    "          maxVal=self.inputMax+rangePadding,\n",
    "          minResolution=0.001,\n",
    "          tmImplementation = \"cpp\"\n",
    "        )[\"modelConfig\"]\n",
    "    ```\n",
    "1. In **numenta_detector.py** `#116` Our first intuition is to get an overview of the fnc `from nupic.frameworks.opf.common_models.cluster_params import(getScalarMetricWithTimeOfDayAnomalyParams)`, \n",
    "[PATH](~/.local/share/virtualenvs/nupic-JMYHf7mp/lib/python2.7/site-packages/nupic/frameworks/opf/common_models/cluster_params.py`) since is the scripts that feeds the *Model*. \n",
    "1. **cluster_params.py**:\n",
    "    - `#120`: **def _rangeGen(data, std=1)** calculates min/max values to use given the data and returns `minval, maxval` that are passed to `getScalarMetricWithTimeOfDayAnomalyParams` in `#29`\n",
    "    - `#29`: **def getScalarMetricWithTimeOfDayAnomalyParams** returns a dict that will be the input of `nupic.frameworks.opf.model_factory.ModelFactory.create`.\n",
    "    The dict contains `modelConfig` and `inferenceArgs` top-level properties. The value of the `modelConfig` property is for passing to `~nupic.frameworks.opf.model_factory.ModelFactory.create` method as the `modelConfig` parameter. The `inferenceArgs` property is for passing to the resulting model's `~nupic.frameworks.opf.model.Model.enableInference` method as the `inferenceArgs` parameter.\n",
    "    \n",
    "/ 1. In `numenta_detector.py #141` is defined the fnc `_setupEncoderParams(self, encoderParams)`, but some puzzle is missing.\n",
    "    "
   ]
  },
  {
   "cell_type": "markdown",
   "metadata": {},
   "source": [
    "### Load Data\n",
    "\n"
   ]
  },
  {
   "cell_type": "markdown",
   "metadata": {},
   "source": [
    "**class Corpus** in courpus.py"
   ]
  },
  {
   "cell_type": "code",
   "execution_count": 15,
   "metadata": {},
   "outputs": [],
   "source": [
    "import copy\n",
    "import os\n",
    "import pandas\n",
    "\n",
    "from nab.util import (absoluteFilePaths,\n",
    "                      createPath)"
   ]
  },
  {
   "cell_type": "code",
   "execution_count": 16,
   "metadata": {},
   "outputs": [],
   "source": [
    "from nab.corpus import Corpus"
   ]
  },
  {
   "cell_type": "markdown",
   "metadata": {},
   "source": [
    "class **DataFile** in corpus.py"
   ]
  },
  {
   "cell_type": "code",
   "execution_count": 17,
   "metadata": {},
   "outputs": [],
   "source": [
    "from nab.corpus import DataFile"
   ]
  },
  {
   "cell_type": "markdown",
   "metadata": {},
   "source": [
    "example of `DataFile` output"
   ]
  },
  {
   "cell_type": "code",
   "execution_count": 18,
   "metadata": {
    "scrolled": true
   },
   "outputs": [
    {
     "data": {
      "text/plain": [
       "{'data':                 timestamp      value\n",
       " 0     2013-12-02 21:15:00  73.967322\n",
       " 1     2013-12-02 21:20:00  74.935882\n",
       " 2     2013-12-02 21:25:00  76.124162\n",
       " 3     2013-12-02 21:30:00  78.140707\n",
       " 4     2013-12-02 21:35:00  79.329836\n",
       " 5     2013-12-02 21:40:00  78.710418\n",
       " 6     2013-12-02 21:45:00  80.269784\n",
       " 7     2013-12-02 21:50:00  80.272828\n",
       " 8     2013-12-02 21:55:00  80.353425\n",
       " 9     2013-12-02 22:00:00  79.486523\n",
       " 10    2013-12-02 22:05:00  80.783277\n",
       " 11    2013-12-02 22:10:00  79.508159\n",
       " 12    2013-12-02 22:15:00  79.302033\n",
       " 13    2013-12-02 22:20:00  80.802624\n",
       " 14    2013-12-02 22:25:00  80.377789\n",
       " 15    2013-12-02 22:30:00  80.479237\n",
       " 16    2013-12-02 22:35:00  81.423560\n",
       " 17    2013-12-02 22:40:00  81.373575\n",
       " 18    2013-12-02 22:45:00  81.690942\n",
       " 19    2013-12-02 22:50:00  80.181250\n",
       " 20    2013-12-02 22:55:00  81.767178\n",
       " 21    2013-12-02 23:00:00  81.259781\n",
       " 22    2013-12-02 23:05:00  80.302937\n",
       " 23    2013-12-02 23:10:00  81.114590\n",
       " 24    2013-12-02 23:15:00  81.748109\n",
       " 25    2013-12-02 23:20:00  81.994607\n",
       " 26    2013-12-02 23:25:00  81.258053\n",
       " 27    2013-12-02 23:30:00  83.118039\n",
       " 28    2013-12-02 23:35:00  81.247021\n",
       " 29    2013-12-02 23:40:00  82.735869\n",
       " ...                   ...        ...\n",
       " 22665 2014-02-19 13:00:00  93.405691\n",
       " 22666 2014-02-19 13:05:00  94.124466\n",
       " 22667 2014-02-19 13:10:00  93.650855\n",
       " 22668 2014-02-19 13:15:00  94.342091\n",
       " 22669 2014-02-19 13:20:00  94.617205\n",
       " 22670 2014-02-19 13:25:00  94.534074\n",
       " 22671 2014-02-19 13:30:00  94.806127\n",
       " 22672 2014-02-19 13:35:00  95.553183\n",
       " 22673 2014-02-19 13:40:00  94.657280\n",
       " 22674 2014-02-19 13:45:00  95.377308\n",
       " 22675 2014-02-19 13:50:00  96.820556\n",
       " 22676 2014-02-19 13:55:00  94.900900\n",
       " 22677 2014-02-19 14:00:00  95.108901\n",
       " 22678 2014-02-19 14:05:00  97.184352\n",
       " 22679 2014-02-19 14:10:00  95.556043\n",
       " 22680 2014-02-19 14:15:00  96.103572\n",
       " 22681 2014-02-19 14:20:00  95.961107\n",
       " 22682 2014-02-19 14:25:00  97.760870\n",
       " 22683 2014-02-19 14:30:00  97.175704\n",
       " 22684 2014-02-19 14:35:00  96.768563\n",
       " 22685 2014-02-19 14:40:00  96.739868\n",
       " 22686 2014-02-19 14:45:00  97.284578\n",
       " 22687 2014-02-19 14:50:00  97.549774\n",
       " 22688 2014-02-19 14:55:00  98.162952\n",
       " 22689 2014-02-19 15:00:00  97.360905\n",
       " 22690 2014-02-19 15:05:00  98.185415\n",
       " 22691 2014-02-19 15:10:00  97.804168\n",
       " 22692 2014-02-19 15:15:00  97.135468\n",
       " 22693 2014-02-19 15:20:00  98.056852\n",
       " 22694 2014-02-19 15:25:00  96.903861\n",
       " \n",
       " [22695 rows x 2 columns],\n",
       " 'fileName': 'machine_temperature_system_failure.csv',\n",
       " 'srcPath': '../data/realKnownCause/machine_temperature_system_failure.csv'}"
      ]
     },
     "execution_count": 18,
     "metadata": {},
     "output_type": "execute_result"
    }
   ],
   "source": [
    "temp = DataFile(\"../data/realKnownCause/machine_temperature_system_failure.csv\")\n",
    "vars(temp)"
   ]
  },
  {
   "cell_type": "markdown",
   "metadata": {},
   "source": [
    "exploring method **getDataFiles()**, in class Corpus, which calls the class **DataFile**"
   ]
  },
  {
   "cell_type": "code",
   "execution_count": 19,
   "metadata": {
    "scrolled": true
   },
   "outputs": [
    {
     "data": {
      "text/html": [
       "<div>\n",
       "<style>\n",
       "    .dataframe thead tr:only-child th {\n",
       "        text-align: right;\n",
       "    }\n",
       "\n",
       "    .dataframe thead th {\n",
       "        text-align: left;\n",
       "    }\n",
       "\n",
       "    .dataframe tbody tr th {\n",
       "        vertical-align: top;\n",
       "    }\n",
       "</style>\n",
       "<table border=\"1\" class=\"dataframe\">\n",
       "  <thead>\n",
       "    <tr style=\"text-align: right;\">\n",
       "      <th></th>\n",
       "      <th>timestamp</th>\n",
       "      <th>value</th>\n",
       "    </tr>\n",
       "  </thead>\n",
       "  <tbody>\n",
       "    <tr>\n",
       "      <th>0</th>\n",
       "      <td>2014-04-01 00:00:00</td>\n",
       "      <td>18.622185</td>\n",
       "    </tr>\n",
       "    <tr>\n",
       "      <th>1</th>\n",
       "      <td>2014-04-01 00:05:00</td>\n",
       "      <td>8.163417</td>\n",
       "    </tr>\n",
       "    <tr>\n",
       "      <th>2</th>\n",
       "      <td>2014-04-01 00:10:00</td>\n",
       "      <td>13.292383</td>\n",
       "    </tr>\n",
       "    <tr>\n",
       "      <th>3</th>\n",
       "      <td>2014-04-01 00:15:00</td>\n",
       "      <td>11.667046</td>\n",
       "    </tr>\n",
       "    <tr>\n",
       "      <th>4</th>\n",
       "      <td>2014-04-01 00:20:00</td>\n",
       "      <td>12.940358</td>\n",
       "    </tr>\n",
       "    <tr>\n",
       "      <th>5</th>\n",
       "      <td>2014-04-01 00:25:00</td>\n",
       "      <td>14.277310</td>\n",
       "    </tr>\n",
       "    <tr>\n",
       "      <th>6</th>\n",
       "      <td>2014-04-01 00:30:00</td>\n",
       "      <td>12.791481</td>\n",
       "    </tr>\n",
       "    <tr>\n",
       "      <th>7</th>\n",
       "      <td>2014-04-01 00:35:00</td>\n",
       "      <td>12.563315</td>\n",
       "    </tr>\n",
       "    <tr>\n",
       "      <th>8</th>\n",
       "      <td>2014-04-01 00:40:00</td>\n",
       "      <td>16.059958</td>\n",
       "    </tr>\n",
       "    <tr>\n",
       "      <th>9</th>\n",
       "      <td>2014-04-01 00:45:00</td>\n",
       "      <td>15.544639</td>\n",
       "    </tr>\n",
       "    <tr>\n",
       "      <th>10</th>\n",
       "      <td>2014-04-01 00:50:00</td>\n",
       "      <td>17.165984</td>\n",
       "    </tr>\n",
       "    <tr>\n",
       "      <th>11</th>\n",
       "      <td>2014-04-01 00:55:00</td>\n",
       "      <td>10.749549</td>\n",
       "    </tr>\n",
       "    <tr>\n",
       "      <th>12</th>\n",
       "      <td>2014-04-01 01:00:00</td>\n",
       "      <td>14.704814</td>\n",
       "    </tr>\n",
       "    <tr>\n",
       "      <th>13</th>\n",
       "      <td>2014-04-01 01:05:00</td>\n",
       "      <td>14.437143</td>\n",
       "    </tr>\n",
       "    <tr>\n",
       "      <th>14</th>\n",
       "      <td>2014-04-01 01:10:00</td>\n",
       "      <td>12.067116</td>\n",
       "    </tr>\n",
       "    <tr>\n",
       "      <th>15</th>\n",
       "      <td>2014-04-01 01:15:00</td>\n",
       "      <td>13.346633</td>\n",
       "    </tr>\n",
       "    <tr>\n",
       "      <th>16</th>\n",
       "      <td>2014-04-01 01:20:00</td>\n",
       "      <td>11.451604</td>\n",
       "    </tr>\n",
       "    <tr>\n",
       "      <th>17</th>\n",
       "      <td>2014-04-01 01:25:00</td>\n",
       "      <td>9.560288</td>\n",
       "    </tr>\n",
       "    <tr>\n",
       "      <th>18</th>\n",
       "      <td>2014-04-01 01:30:00</td>\n",
       "      <td>10.351813</td>\n",
       "    </tr>\n",
       "    <tr>\n",
       "      <th>19</th>\n",
       "      <td>2014-04-01 01:35:00</td>\n",
       "      <td>9.160650</td>\n",
       "    </tr>\n",
       "    <tr>\n",
       "      <th>20</th>\n",
       "      <td>2014-04-01 01:40:00</td>\n",
       "      <td>15.513765</td>\n",
       "    </tr>\n",
       "    <tr>\n",
       "      <th>21</th>\n",
       "      <td>2014-04-01 01:45:00</td>\n",
       "      <td>15.268001</td>\n",
       "    </tr>\n",
       "    <tr>\n",
       "      <th>22</th>\n",
       "      <td>2014-04-01 01:50:00</td>\n",
       "      <td>18.456670</td>\n",
       "    </tr>\n",
       "    <tr>\n",
       "      <th>23</th>\n",
       "      <td>2014-04-01 01:55:00</td>\n",
       "      <td>16.026463</td>\n",
       "    </tr>\n",
       "    <tr>\n",
       "      <th>24</th>\n",
       "      <td>2014-04-01 02:00:00</td>\n",
       "      <td>8.572504</td>\n",
       "    </tr>\n",
       "    <tr>\n",
       "      <th>25</th>\n",
       "      <td>2014-04-01 02:05:00</td>\n",
       "      <td>17.726697</td>\n",
       "    </tr>\n",
       "    <tr>\n",
       "      <th>26</th>\n",
       "      <td>2014-04-01 02:10:00</td>\n",
       "      <td>17.489427</td>\n",
       "    </tr>\n",
       "    <tr>\n",
       "      <th>27</th>\n",
       "      <td>2014-04-01 02:15:00</td>\n",
       "      <td>12.876524</td>\n",
       "    </tr>\n",
       "    <tr>\n",
       "      <th>28</th>\n",
       "      <td>2014-04-01 02:20:00</td>\n",
       "      <td>14.444494</td>\n",
       "    </tr>\n",
       "    <tr>\n",
       "      <th>29</th>\n",
       "      <td>2014-04-01 02:25:00</td>\n",
       "      <td>18.736862</td>\n",
       "    </tr>\n",
       "    <tr>\n",
       "      <th>...</th>\n",
       "      <td>...</td>\n",
       "      <td>...</td>\n",
       "    </tr>\n",
       "    <tr>\n",
       "      <th>4002</th>\n",
       "      <td>2014-04-14 21:30:00</td>\n",
       "      <td>11.645336</td>\n",
       "    </tr>\n",
       "    <tr>\n",
       "      <th>4003</th>\n",
       "      <td>2014-04-14 21:35:00</td>\n",
       "      <td>18.749657</td>\n",
       "    </tr>\n",
       "    <tr>\n",
       "      <th>4004</th>\n",
       "      <td>2014-04-14 21:40:00</td>\n",
       "      <td>17.497874</td>\n",
       "    </tr>\n",
       "    <tr>\n",
       "      <th>4005</th>\n",
       "      <td>2014-04-14 21:45:00</td>\n",
       "      <td>11.553479</td>\n",
       "    </tr>\n",
       "    <tr>\n",
       "      <th>4006</th>\n",
       "      <td>2014-04-14 21:50:00</td>\n",
       "      <td>13.101587</td>\n",
       "    </tr>\n",
       "    <tr>\n",
       "      <th>4007</th>\n",
       "      <td>2014-04-14 21:55:00</td>\n",
       "      <td>12.565859</td>\n",
       "    </tr>\n",
       "    <tr>\n",
       "      <th>4008</th>\n",
       "      <td>2014-04-14 22:00:00</td>\n",
       "      <td>9.640052</td>\n",
       "    </tr>\n",
       "    <tr>\n",
       "      <th>4009</th>\n",
       "      <td>2014-04-14 22:05:00</td>\n",
       "      <td>18.536013</td>\n",
       "    </tr>\n",
       "    <tr>\n",
       "      <th>4010</th>\n",
       "      <td>2014-04-14 22:10:00</td>\n",
       "      <td>12.447437</td>\n",
       "    </tr>\n",
       "    <tr>\n",
       "      <th>4011</th>\n",
       "      <td>2014-04-14 22:15:00</td>\n",
       "      <td>17.628620</td>\n",
       "    </tr>\n",
       "    <tr>\n",
       "      <th>4012</th>\n",
       "      <td>2014-04-14 22:20:00</td>\n",
       "      <td>10.082919</td>\n",
       "    </tr>\n",
       "    <tr>\n",
       "      <th>4013</th>\n",
       "      <td>2014-04-14 22:25:00</td>\n",
       "      <td>14.026579</td>\n",
       "    </tr>\n",
       "    <tr>\n",
       "      <th>4014</th>\n",
       "      <td>2014-04-14 22:30:00</td>\n",
       "      <td>8.263575</td>\n",
       "    </tr>\n",
       "    <tr>\n",
       "      <th>4015</th>\n",
       "      <td>2014-04-14 22:35:00</td>\n",
       "      <td>16.406425</td>\n",
       "    </tr>\n",
       "    <tr>\n",
       "      <th>4016</th>\n",
       "      <td>2014-04-14 22:40:00</td>\n",
       "      <td>14.390053</td>\n",
       "    </tr>\n",
       "    <tr>\n",
       "      <th>4017</th>\n",
       "      <td>2014-04-14 22:45:00</td>\n",
       "      <td>14.881485</td>\n",
       "    </tr>\n",
       "    <tr>\n",
       "      <th>4018</th>\n",
       "      <td>2014-04-14 22:50:00</td>\n",
       "      <td>8.568930</td>\n",
       "    </tr>\n",
       "    <tr>\n",
       "      <th>4019</th>\n",
       "      <td>2014-04-14 22:55:00</td>\n",
       "      <td>10.321422</td>\n",
       "    </tr>\n",
       "    <tr>\n",
       "      <th>4020</th>\n",
       "      <td>2014-04-14 23:00:00</td>\n",
       "      <td>8.817640</td>\n",
       "    </tr>\n",
       "    <tr>\n",
       "      <th>4021</th>\n",
       "      <td>2014-04-14 23:05:00</td>\n",
       "      <td>11.178057</td>\n",
       "    </tr>\n",
       "    <tr>\n",
       "      <th>4022</th>\n",
       "      <td>2014-04-14 23:10:00</td>\n",
       "      <td>14.901829</td>\n",
       "    </tr>\n",
       "    <tr>\n",
       "      <th>4023</th>\n",
       "      <td>2014-04-14 23:15:00</td>\n",
       "      <td>14.228046</td>\n",
       "    </tr>\n",
       "    <tr>\n",
       "      <th>4024</th>\n",
       "      <td>2014-04-14 23:20:00</td>\n",
       "      <td>14.733648</td>\n",
       "    </tr>\n",
       "    <tr>\n",
       "      <th>4025</th>\n",
       "      <td>2014-04-14 23:25:00</td>\n",
       "      <td>14.041764</td>\n",
       "    </tr>\n",
       "    <tr>\n",
       "      <th>4026</th>\n",
       "      <td>2014-04-14 23:30:00</td>\n",
       "      <td>11.003317</td>\n",
       "    </tr>\n",
       "    <tr>\n",
       "      <th>4027</th>\n",
       "      <td>2014-04-14 23:35:00</td>\n",
       "      <td>10.689582</td>\n",
       "    </tr>\n",
       "    <tr>\n",
       "      <th>4028</th>\n",
       "      <td>2014-04-14 23:40:00</td>\n",
       "      <td>9.507657</td>\n",
       "    </tr>\n",
       "    <tr>\n",
       "      <th>4029</th>\n",
       "      <td>2014-04-14 23:45:00</td>\n",
       "      <td>17.339780</td>\n",
       "    </tr>\n",
       "    <tr>\n",
       "      <th>4030</th>\n",
       "      <td>2014-04-14 23:50:00</td>\n",
       "      <td>14.781273</td>\n",
       "    </tr>\n",
       "    <tr>\n",
       "      <th>4031</th>\n",
       "      <td>2014-04-14 23:55:00</td>\n",
       "      <td>10.051621</td>\n",
       "    </tr>\n",
       "  </tbody>\n",
       "</table>\n",
       "<p>4032 rows × 2 columns</p>\n",
       "</div>"
      ],
      "text/plain": [
       "               timestamp      value\n",
       "0    2014-04-01 00:00:00  18.622185\n",
       "1    2014-04-01 00:05:00   8.163417\n",
       "2    2014-04-01 00:10:00  13.292383\n",
       "3    2014-04-01 00:15:00  11.667046\n",
       "4    2014-04-01 00:20:00  12.940358\n",
       "5    2014-04-01 00:25:00  14.277310\n",
       "6    2014-04-01 00:30:00  12.791481\n",
       "7    2014-04-01 00:35:00  12.563315\n",
       "8    2014-04-01 00:40:00  16.059958\n",
       "9    2014-04-01 00:45:00  15.544639\n",
       "10   2014-04-01 00:50:00  17.165984\n",
       "11   2014-04-01 00:55:00  10.749549\n",
       "12   2014-04-01 01:00:00  14.704814\n",
       "13   2014-04-01 01:05:00  14.437143\n",
       "14   2014-04-01 01:10:00  12.067116\n",
       "15   2014-04-01 01:15:00  13.346633\n",
       "16   2014-04-01 01:20:00  11.451604\n",
       "17   2014-04-01 01:25:00   9.560288\n",
       "18   2014-04-01 01:30:00  10.351813\n",
       "19   2014-04-01 01:35:00   9.160650\n",
       "20   2014-04-01 01:40:00  15.513765\n",
       "21   2014-04-01 01:45:00  15.268001\n",
       "22   2014-04-01 01:50:00  18.456670\n",
       "23   2014-04-01 01:55:00  16.026463\n",
       "24   2014-04-01 02:00:00   8.572504\n",
       "25   2014-04-01 02:05:00  17.726697\n",
       "26   2014-04-01 02:10:00  17.489427\n",
       "27   2014-04-01 02:15:00  12.876524\n",
       "28   2014-04-01 02:20:00  14.444494\n",
       "29   2014-04-01 02:25:00  18.736862\n",
       "...                  ...        ...\n",
       "4002 2014-04-14 21:30:00  11.645336\n",
       "4003 2014-04-14 21:35:00  18.749657\n",
       "4004 2014-04-14 21:40:00  17.497874\n",
       "4005 2014-04-14 21:45:00  11.553479\n",
       "4006 2014-04-14 21:50:00  13.101587\n",
       "4007 2014-04-14 21:55:00  12.565859\n",
       "4008 2014-04-14 22:00:00   9.640052\n",
       "4009 2014-04-14 22:05:00  18.536013\n",
       "4010 2014-04-14 22:10:00  12.447437\n",
       "4011 2014-04-14 22:15:00  17.628620\n",
       "4012 2014-04-14 22:20:00  10.082919\n",
       "4013 2014-04-14 22:25:00  14.026579\n",
       "4014 2014-04-14 22:30:00   8.263575\n",
       "4015 2014-04-14 22:35:00  16.406425\n",
       "4016 2014-04-14 22:40:00  14.390053\n",
       "4017 2014-04-14 22:45:00  14.881485\n",
       "4018 2014-04-14 22:50:00   8.568930\n",
       "4019 2014-04-14 22:55:00  10.321422\n",
       "4020 2014-04-14 23:00:00   8.817640\n",
       "4021 2014-04-14 23:05:00  11.178057\n",
       "4022 2014-04-14 23:10:00  14.901829\n",
       "4023 2014-04-14 23:15:00  14.228046\n",
       "4024 2014-04-14 23:20:00  14.733648\n",
       "4025 2014-04-14 23:25:00  14.041764\n",
       "4026 2014-04-14 23:30:00  11.003317\n",
       "4027 2014-04-14 23:35:00  10.689582\n",
       "4028 2014-04-14 23:40:00   9.507657\n",
       "4029 2014-04-14 23:45:00  17.339780\n",
       "4030 2014-04-14 23:50:00  14.781273\n",
       "4031 2014-04-14 23:55:00  10.051621\n",
       "\n",
       "[4032 rows x 2 columns]"
      ]
     },
     "execution_count": 19,
     "metadata": {},
     "output_type": "execute_result"
    }
   ],
   "source": [
    "filePaths = absoluteFilePaths(\"../data/\")\n",
    "dataSets = [DataFile(path) for path in filePaths if \".csv\" in path] #DataFile loaded by DataFile class\n",
    "dataSets[1].data  # access items in dataSets which is a list of DataFile objects"
   ]
  },
  {
   "cell_type": "code",
   "execution_count": 20,
   "metadata": {},
   "outputs": [
    {
     "data": {
      "text/plain": [
       "[('../data',\n",
       "  ['artificialNoAnomaly',\n",
       "   'realTraffic',\n",
       "   'realAWSCloudwatch',\n",
       "   'realAdExchange',\n",
       "   'realKnownCause',\n",
       "   'realTweets',\n",
       "   'artificialWithAnomaly'],\n",
       "  ['README.md']),\n",
       " ('../data/artificialNoAnomaly',\n",
       "  [],\n",
       "  ['art_daily_no_noise.csv',\n",
       "   'art_noisy.csv',\n",
       "   'art_daily_perfect_square_wave.csv',\n",
       "   'art_daily_small_noise.csv',\n",
       "   'art_flatline.csv']),\n",
       " ('../data/realTraffic',\n",
       "  [],\n",
       "  ['occupancy_t4013.csv',\n",
       "   'speed_6005.csv',\n",
       "   'TravelTime_387.csv',\n",
       "   'TravelTime_451.csv',\n",
       "   'occupancy_6005.csv',\n",
       "   'speed_t4013.csv',\n",
       "   'speed_7578.csv']),\n",
       " ('../data/realAWSCloudwatch',\n",
       "  [],\n",
       "  ['rds_cpu_utilization_e47b3b.csv',\n",
       "   'iio_us-east-1_i-a2eb1cd9_NetworkIn.csv',\n",
       "   'ec2_cpu_utilization_825cc2.csv',\n",
       "   'rds_cpu_utilization_cc0c53.csv',\n",
       "   'ec2_cpu_utilization_ac20cd.csv',\n",
       "   'elb_request_count_8c0756.csv',\n",
       "   'ec2_cpu_utilization_24ae8d.csv',\n",
       "   'ec2_cpu_utilization_fe7f93.csv',\n",
       "   'ec2_cpu_utilization_53ea38.csv',\n",
       "   'ec2_cpu_utilization_c6585a.csv',\n",
       "   'ec2_disk_write_bytes_c0d644.csv',\n",
       "   'ec2_disk_write_bytes_1ef3de.csv',\n",
       "   'ec2_network_in_5abac7.csv',\n",
       "   'ec2_cpu_utilization_5f5533.csv',\n",
       "   'grok_asg_anomaly.csv',\n",
       "   'ec2_cpu_utilization_77c1ca.csv',\n",
       "   'ec2_network_in_257a54.csv']),\n",
       " ('../data/realAdExchange',\n",
       "  [],\n",
       "  ['exchange-2_cpc_results.csv',\n",
       "   'exchange-4_cpc_results.csv',\n",
       "   'exchange-3_cpm_results.csv',\n",
       "   'exchange-4_cpm_results.csv',\n",
       "   'exchange-3_cpc_results.csv',\n",
       "   'exchange-2_cpm_results.csv']),\n",
       " ('../data/realKnownCause',\n",
       "  [],\n",
       "  ['cpu_utilization_asg_misconfiguration.csv',\n",
       "   'machine_temperature_system_failure.csv',\n",
       "   'ambient_temperature_system_failure.csv',\n",
       "   'rogue_agent_key_updown.csv',\n",
       "   'ec2_request_latency_system_failure.csv',\n",
       "   'nyc_taxi.csv',\n",
       "   'rogue_agent_key_hold.csv']),\n",
       " ('../data/realTweets',\n",
       "  [],\n",
       "  ['Twitter_volume_PFE.csv',\n",
       "   'Twitter_volume_CVS.csv',\n",
       "   'Twitter_volume_AMZN.csv',\n",
       "   'Twitter_volume_IBM.csv',\n",
       "   'Twitter_volume_UPS.csv',\n",
       "   'Twitter_volume_KO.csv',\n",
       "   'Twitter_volume_CRM.csv',\n",
       "   'Twitter_volume_AAPL.csv',\n",
       "   'Twitter_volume_FB.csv',\n",
       "   'Twitter_volume_GOOG.csv']),\n",
       " ('../data/artificialWithAnomaly',\n",
       "  [],\n",
       "  ['art_daily_flatmiddle.csv',\n",
       "   'art_increase_spike_density.csv',\n",
       "   'art_daily_jumpsup.csv',\n",
       "   'art_load_balancer_spikes.csv',\n",
       "   'art_daily_nojump.csv',\n",
       "   'art_daily_jumpsdown.csv'])]"
      ]
     },
     "execution_count": 20,
     "metadata": {},
     "output_type": "execute_result"
    }
   ],
   "source": [
    "list(os.walk(\"../data\"))"
   ]
  },
  {
   "cell_type": "code",
   "execution_count": 21,
   "metadata": {},
   "outputs": [
    {
     "data": {
      "text/plain": [
       "58"
      ]
     },
     "execution_count": 21,
     "metadata": {},
     "output_type": "execute_result"
    }
   ],
   "source": [
    "len(dataSets)"
   ]
  },
  {
   "cell_type": "code",
   "execution_count": 22,
   "metadata": {},
   "outputs": [
    {
     "data": {
      "text/plain": [
       "'machine_temperature_system_failure.csv'"
      ]
     },
     "execution_count": 22,
     "metadata": {},
     "output_type": "execute_result"
    }
   ],
   "source": [
    "dataSets[36].fileName"
   ]
  },
  {
   "cell_type": "markdown",
   "metadata": {},
   "source": [
    "class **AnomalyDetector** in base.py"
   ]
  },
  {
   "cell_type": "code",
   "execution_count": 23,
   "metadata": {},
   "outputs": [],
   "source": [
    "import abc\n",
    "import os\n",
    "import pandas\n",
    "import sys\n",
    "\n",
    "from datetime import datetime\n",
    "from nab.util import createPath, getProbationPeriod\n",
    "\n",
    "from nab.detectors.numenta.numenta_detector import NumentaDetector\n",
    "# child class of AnomalyDetector(object)"
   ]
  },
  {
   "cell_type": "code",
   "execution_count": 24,
   "metadata": {},
   "outputs": [],
   "source": [
    "#AnomalyDetector(dataSets[0])"
   ]
  },
  {
   "cell_type": "markdown",
   "metadata": {},
   "source": [
    "We can not simply call the class."
   ]
  },
  {
   "cell_type": "markdown",
   "metadata": {},
   "source": [
    "**run()** method in class AnomalyDetector which calls the class **Corpus** and outputs a dict"
   ]
  },
  {
   "cell_type": "code",
   "execution_count": 55,
   "metadata": {},
   "outputs": [],
   "source": [
    "row = []\n",
    "inputData = []\n",
    "\n",
    "for i, row in dataSets[1].data.iterrows():\n",
    "    inputData.append(row.to_dict())\n",
    "    #print i\n",
    "    #print row"
   ]
  },
  {
   "cell_type": "code",
   "execution_count": 51,
   "metadata": {},
   "outputs": [
    {
     "data": {
      "text/plain": [
       "{'timestamp': Timestamp('2014-04-14 23:55:00'), 'value': 10.0516211375}"
      ]
     },
     "execution_count": 51,
     "metadata": {},
     "output_type": "execute_result"
    }
   ],
   "source": [
    "inputData #dictionary"
   ]
  },
  {
   "cell_type": "code",
   "execution_count": 27,
   "metadata": {},
   "outputs": [
    {
     "ename": "TypeError",
     "evalue": "unbound method handleRecord() must be called with NumentaDetector instance as first argument (got dict instance instead)",
     "output_type": "error",
     "traceback": [
      "\u001b[0;31m---------------------------------------------------------------------------\u001b[0m",
      "\u001b[0;31mTypeError\u001b[0m                                 Traceback (most recent call last)",
      "\u001b[0;32m<ipython-input-27-4c6e29fd05e3>\u001b[0m in \u001b[0;36m<module>\u001b[0;34m()\u001b[0m\n\u001b[0;32m----> 1\u001b[0;31m \u001b[0mNumentaDetector\u001b[0m\u001b[0;34m.\u001b[0m\u001b[0mhandleRecord\u001b[0m\u001b[0;34m(\u001b[0m\u001b[0minputData\u001b[0m\u001b[0;34m)\u001b[0m\u001b[0;34m\u001b[0m\u001b[0m\n\u001b[0m",
      "\u001b[0;31mTypeError\u001b[0m: unbound method handleRecord() must be called with NumentaDetector instance as first argument (got dict instance instead)"
     ]
    }
   ],
   "source": [
    "NumentaDetector.handleRecord(inputData)"
   ]
  },
  {
   "cell_type": "markdown",
   "metadata": {},
   "source": [
    "## Create Model "
   ]
  },
  {
   "cell_type": "markdown",
   "metadata": {},
   "source": [
    "from **cluster_params.py**"
   ]
  },
  {
   "cell_type": "code",
   "execution_count": 28,
   "metadata": {},
   "outputs": [],
   "source": [
    "import numpy as np\n",
    "from nupic.frameworks.opf.common_models.cluster_params import _rangeGen"
   ]
  },
  {
   "cell_type": "code",
   "execution_count": 29,
   "metadata": {},
   "outputs": [
    {
     "data": {
      "text/plain": [
       "(-7.9508824900404171, 107.95085177004042)"
      ]
     },
     "execution_count": 29,
     "metadata": {},
     "output_type": "execute_result"
    }
   ],
   "source": [
    "_rangeGen(dataSets[0].data['value'])"
   ]
  },
  {
   "cell_type": "code",
   "execution_count": 30,
   "metadata": {
    "pixiedust": {
     "displayParams": {}
    }
   },
   "outputs": [],
   "source": [
    "import json\n",
    "import os\n",
    "from pkg_resources import resource_stream\n",
    "\n",
    "from nupic.frameworks.opf.common_models.cluster_params import (\n",
    "  getScalarMetricWithTimeOfDayAnomalyParams)\n"
   ]
  },
  {
   "cell_type": "code",
   "execution_count": 31,
   "metadata": {},
   "outputs": [
    {
     "name": "stdout",
     "output_type": "stream",
     "text": [
      "anomaly_params_random_encoder/best_single_metric_anomaly_params_cpp.json\n"
     ]
    }
   ],
   "source": [
    "import os\n",
    "paramFileRelativePath = os.path.join(\"anomaly_params_random_encoder\", \"best_single_metric_anomaly_params_cpp.json\")\n",
    "print paramFileRelativePath"
   ]
  },
  {
   "cell_type": "code",
   "execution_count": 69,
   "metadata": {
    "pixiedust": {
     "displayParams": {}
    },
    "scrolled": true
   },
   "outputs": [],
   "source": [
    "modelParams = getScalarMetricWithTimeOfDayAnomalyParams(dataSets[36].data['value'], tmImplementation = \"cpp\")"
   ]
  },
  {
   "cell_type": "code",
   "execution_count": 70,
   "metadata": {},
   "outputs": [
    {
     "data": {
      "text/plain": [
       "{u'c0_dayOfWeek': None,\n",
       " u'c0_timeOfDay': {u'fieldname': u'c0',\n",
       "  u'name': u'c0',\n",
       "  u'timeOfDay': [21, 9.49],\n",
       "  u'type': u'DateEncoder'},\n",
       " u'c0_weekend': None,\n",
       " u'c1': {u'fieldname': u'c1',\n",
       "  u'name': u'c1',\n",
       "  'resolution': 1.0301464677633101,\n",
       "  u'seed': 42,\n",
       "  u'type': u'RandomDistributedScalarEncoder'}}"
      ]
     },
     "execution_count": 70,
     "metadata": {},
     "output_type": "execute_result"
    }
   ],
   "source": [
    "modelParams['modelConfig']['modelParams']['sensorParams']['encoders']"
   ]
  },
  {
   "cell_type": "code",
   "execution_count": 71,
   "metadata": {},
   "outputs": [],
   "source": [
    "def _setupEncoderParams(encoderParams):\n",
    "    # The encoder must expect the NAB-specific datafile headers\n",
    "    encoderParams[\"timestamp_dayOfWeek\"] = encoderParams.pop(\"c0_dayOfWeek\")\n",
    "    encoderParams[\"timestamp_timeOfDay\"] = encoderParams.pop(\"c0_timeOfDay\")\n",
    "    encoderParams[\"timestamp_timeOfDay\"][\"fieldname\"] = \"timestamp\"\n",
    "    encoderParams[\"timestamp_timeOfDay\"][\"name\"] = \"timestamp\"\n",
    "    encoderParams[\"timestamp_weekend\"] = encoderParams.pop(\"c0_weekend\")\n",
    "    encoderParams[\"value\"] = encoderParams.pop(\"c1\")\n",
    "    encoderParams[\"value\"][\"fieldname\"] = \"value\"\n",
    "    encoderParams[\"value\"][\"name\"] = \"value\"\n",
    "    encoderParams[\"value2\"] = {u'fieldname': 'value2',\n",
    "        u'name': 'value',\n",
    "        'resolution': 1.0301464677633101,\n",
    "        u'seed': 42,\n",
    "        u'type': u'RandomDistributedScalarEncoder'}\n",
    "\n",
    "    sensorParams = encoderParams[\"value\"]"
   ]
  },
  {
   "cell_type": "code",
   "execution_count": 72,
   "metadata": {},
   "outputs": [],
   "source": [
    "_setupEncoderParams(modelParams[\"modelConfig\"][\"modelParams\"][\"sensorParams\"][\"encoders\"])"
   ]
  },
  {
   "cell_type": "code",
   "execution_count": 73,
   "metadata": {},
   "outputs": [
    {
     "data": {
      "text/plain": [
       "{'timestamp_dayOfWeek': None,\n",
       " 'timestamp_timeOfDay': {u'fieldname': 'timestamp',\n",
       "  u'name': 'timestamp',\n",
       "  u'timeOfDay': [21, 9.49],\n",
       "  u'type': u'DateEncoder'},\n",
       " 'timestamp_weekend': None,\n",
       " 'value': {u'fieldname': 'value',\n",
       "  u'name': 'value',\n",
       "  'resolution': 1.0301464677633101,\n",
       "  u'seed': 42,\n",
       "  u'type': u'RandomDistributedScalarEncoder'},\n",
       " 'value2': {u'fieldname': 'value2',\n",
       "  u'name': 'value',\n",
       "  'resolution': 1.03014646776331,\n",
       "  u'seed': 42,\n",
       "  u'type': u'RandomDistributedScalarEncoder'}}"
      ]
     },
     "execution_count": 73,
     "metadata": {},
     "output_type": "execute_result"
    }
   ],
   "source": [
    "modelParams[\"modelConfig\"][\"modelParams\"][\"sensorParams\"][\"encoders\"]"
   ]
  },
  {
   "cell_type": "code",
   "execution_count": 88,
   "metadata": {},
   "outputs": [],
   "source": [
    "df = dataSets[1].data\n",
    "df[\"value2\"] = df[\"value\"]\n",
    "inputData = df.to_dict(orient='records')"
   ]
  },
  {
   "cell_type": "code",
   "execution_count": 89,
   "metadata": {},
   "outputs": [],
   "source": [
    "from nupic.frameworks.opf.model_factory import ModelFactory\n",
    "model = ModelFactory.create(modelParams[\"modelConfig\"])\n",
    "model\n",
    "model.enableInference({\"predictedField\": \"value\"})\n",
    "for entry in inputData[:1000]:\n",
    "    model.run(entry)"
   ]
  },
  {
   "cell_type": "code",
   "execution_count": 90,
   "metadata": {},
   "outputs": [
    {
     "data": {
      "text/plain": [
       "ModelResult(\tpredictionNumber=1000\n",
       "\trawInput={'timestamp': Timestamp('2014-04-04 11:25:00'), 'value2': 13.1076491927, 'value': 13.1076491927}\n",
       "\tsensorInput=SensorInput(\tdataRow=(11.416666666666666, 13.1076491927, 13.1076491927)\n",
       "\tdataDict={'timestamp': Timestamp('2014-04-04 11:25:00'), 'value2': 13.1076491927, 'value': 13.1076491927}\n",
       "\tdataEncodings=[array([ 0.,  0.,  0.,  0.,  0.,  0.,  0.,  0.,  0.,  0.,  0.,  0.,  0.,\n",
       "        0.,  0.,  1.,  1.,  1.,  1.,  1.,  1.,  1.,  1.,  1.,  1.,  1.,\n",
       "        1.,  1.,  1.,  1.,  1.,  1.,  1.,  1.,  1.,  1.,  0.,  0.,  0.,\n",
       "        0.,  0.,  0.,  0.,  0.,  0.,  0.,  0.,  0.,  0.,  0.,  0.,  0.,\n",
       "        0.,  0.], dtype=float32), array([ 0.,  0.,  0.,  0.,  0.,  0.,  0.,  0.,  0.,  0.,  0.,  0.,  0.,\n",
       "        0.,  0.,  0.,  0.,  0.,  0.,  0.,  0.,  0.,  0.,  0.,  0.,  0.,\n",
       "        0.,  0.,  0.,  0.,  0.,  0.,  0.,  0.,  0.,  0.,  0.,  0.,  0.,\n",
       "        0.,  0.,  1.,  0.,  0.,  0.,  0.,  0.,  0.,  0.,  0.,  0.,  0.,\n",
       "        0.,  0.,  0.,  0.,  0.,  0.,  0.,  0.,  0.,  0.,  0.,  0.,  0.,\n",
       "        0.,  1.,  0.,  0.,  1.,  0.,  0.,  0.,  0.,  0.,  0.,  0.,  0.,\n",
       "        0.,  0.,  1.,  0.,  0.,  0.,  0.,  0.,  0.,  0.,  0.,  0.,  0.,\n",
       "        0.,  0.,  0.,  1.,  0.,  0.,  0.,  0.,  0.,  1.,  0.,  0.,  0.,\n",
       "        0.,  0.,  0.,  0.,  0.,  0.,  0.,  0.,  0.,  0.,  0.,  0.,  0.,\n",
       "        0.,  0.,  1.,  0.,  0.,  0.,  0.,  0.,  0.,  0.,  0.,  0.,  0.,\n",
       "        0.,  0.,  0.,  0.,  0.,  0.,  0.,  0.,  0.,  0.,  0.,  0.,  0.,\n",
       "        0.,  0.,  0.,  0.,  0.,  0.,  0.,  0.,  0.,  0.,  0.,  0.,  0.,\n",
       "        0.,  0.,  0.,  0.,  0.,  0.,  0.,  0.,  0.,  0.,  0.,  0.,  0.,\n",
       "        0.,  0.,  0.,  0.,  0.,  0.,  0.,  0.,  0.,  0.,  0.,  0.,  0.,\n",
       "        0.,  0.,  0.,  0.,  0.,  0.,  0.,  0.,  0.,  0.,  0.,  0.,  0.,\n",
       "        0.,  0.,  0.,  0.,  0.,  0.,  0.,  0.,  0.,  0.,  0.,  0.,  0.,\n",
       "        0.,  0.,  0.,  0.,  0.,  0.,  0.,  0.,  0.,  0.,  0.,  0.,  0.,\n",
       "        0.,  0.,  0.,  0.,  0.,  0.,  0.,  0.,  0.,  0.,  0.,  0.,  0.,\n",
       "        0.,  0.,  1.,  0.,  1.,  0.,  0.,  0.,  0.,  0.,  0.,  0.,  0.,\n",
       "        0.,  0.,  0.,  0.,  0.,  0.,  0.,  0.,  0.,  0.,  0.,  0.,  0.,\n",
       "        0.,  0.,  0.,  0.,  0.,  1.,  0.,  0.,  0.,  0.,  0.,  0.,  0.,\n",
       "        0.,  0.,  0.,  0.,  0.,  0.,  0.,  0.,  0.,  1.,  0.,  0.,  0.,\n",
       "        0.,  0.,  1.,  0.,  0.,  0.,  0.,  0.,  0.,  0.,  0.,  0.,  0.,\n",
       "        0.,  1.,  0.,  0.,  0.,  0.,  0.,  0.,  0.,  0.,  0.,  0.,  0.,\n",
       "        1.,  0.,  1.,  0.,  1.,  0.,  0.,  0.,  0.,  0.,  0.,  0.,  0.,\n",
       "        0.,  0.,  0.,  0.,  0.,  0.,  1.,  0.,  1.,  0.,  0.,  0.,  0.,\n",
       "        0.,  0.,  0.,  0.,  0.,  0.,  0.,  0.,  1.,  0.,  0.,  0.,  0.,\n",
       "        0.,  0.,  0.,  0.,  0.,  0.,  0.,  0.,  0.,  0.,  1.,  0.,  0.,\n",
       "        0.,  0.,  0.,  0.,  0.,  0.,  0.,  0.,  0.,  0.,  0.,  0.,  0.,\n",
       "        0.,  0.,  0.,  0.,  0.,  0.,  0.,  0.,  1.,  0.,  0.,  0.,  0.,\n",
       "        0.,  0.,  0.,  0.,  0.,  0.,  0.,  0.,  0.,  0.], dtype=float32), array([ 0.,  0.,  0.,  0.,  0.,  0.,  0.,  0.,  0.,  0.,  0.,  0.,  0.,\n",
       "        0.,  0.,  0.,  0.,  0.,  0.,  0.,  0.,  0.,  0.,  0.,  0.,  0.,\n",
       "        0.,  0.,  0.,  0.,  0.,  0.,  0.,  0.,  0.,  0.,  0.,  0.,  0.,\n",
       "        0.,  0.,  1.,  0.,  0.,  0.,  0.,  0.,  0.,  0.,  0.,  0.,  0.,\n",
       "        0.,  0.,  0.,  0.,  0.,  0.,  0.,  0.,  0.,  0.,  0.,  0.,  0.,\n",
       "        0.,  1.,  0.,  0.,  1.,  0.,  0.,  0.,  0.,  0.,  0.,  0.,  0.,\n",
       "        0.,  0.,  1.,  0.,  0.,  0.,  0.,  0.,  0.,  0.,  0.,  0.,  0.,\n",
       "        0.,  0.,  0.,  1.,  0.,  0.,  0.,  0.,  0.,  1.,  0.,  0.,  0.,\n",
       "        0.,  0.,  0.,  0.,  0.,  0.,  0.,  0.,  0.,  0.,  0.,  0.,  0.,\n",
       "        0.,  0.,  1.,  0.,  0.,  0.,  0.,  0.,  0.,  0.,  0.,  0.,  0.,\n",
       "        0.,  0.,  0.,  0.,  0.,  0.,  0.,  0.,  0.,  0.,  0.,  0.,  0.,\n",
       "        0.,  0.,  0.,  0.,  0.,  0.,  0.,  0.,  0.,  0.,  0.,  0.,  0.,\n",
       "        0.,  0.,  0.,  0.,  0.,  0.,  0.,  0.,  0.,  0.,  0.,  0.,  0.,\n",
       "        0.,  0.,  0.,  0.,  0.,  0.,  0.,  0.,  0.,  0.,  0.,  0.,  0.,\n",
       "        0.,  0.,  0.,  0.,  0.,  0.,  0.,  0.,  0.,  0.,  0.,  0.,  0.,\n",
       "        0.,  0.,  0.,  0.,  0.,  0.,  0.,  0.,  0.,  0.,  0.,  0.,  0.,\n",
       "        0.,  0.,  0.,  0.,  0.,  0.,  0.,  0.,  0.,  0.,  0.,  0.,  0.,\n",
       "        0.,  0.,  0.,  0.,  0.,  0.,  0.,  0.,  0.,  0.,  0.,  0.,  0.,\n",
       "        0.,  0.,  1.,  0.,  1.,  0.,  0.,  0.,  0.,  0.,  0.,  0.,  0.,\n",
       "        0.,  0.,  0.,  0.,  0.,  0.,  0.,  0.,  0.,  0.,  0.,  0.,  0.,\n",
       "        0.,  0.,  0.,  0.,  0.,  1.,  0.,  0.,  0.,  0.,  0.,  0.,  0.,\n",
       "        0.,  0.,  0.,  0.,  0.,  0.,  0.,  0.,  0.,  1.,  0.,  0.,  0.,\n",
       "        0.,  0.,  1.,  0.,  0.,  0.,  0.,  0.,  0.,  0.,  0.,  0.,  0.,\n",
       "        0.,  1.,  0.,  0.,  0.,  0.,  0.,  0.,  0.,  0.,  0.,  0.,  0.,\n",
       "        1.,  0.,  1.,  0.,  1.,  0.,  0.,  0.,  0.,  0.,  0.,  0.,  0.,\n",
       "        0.,  0.,  0.,  0.,  0.,  0.,  1.,  0.,  1.,  0.,  0.,  0.,  0.,\n",
       "        0.,  0.,  0.,  0.,  0.,  0.,  0.,  0.,  1.,  0.,  0.,  0.,  0.,\n",
       "        0.,  0.,  0.,  0.,  0.,  0.,  0.,  0.,  0.,  0.,  1.,  0.,  0.,\n",
       "        0.,  0.,  0.,  0.,  0.,  0.,  0.,  0.,  0.,  0.,  0.,  0.,  0.,\n",
       "        0.,  0.,  0.,  0.,  0.,  0.,  0.,  0.,  1.,  0.,  0.,  0.,  0.,\n",
       "        0.,  0.,  0.,  0.,  0.,  0.,  0.,  0.,  0.,  0.], dtype=float32)]\n",
       "\tsequenceReset=0.0\n",
       "\tcategory=-1\n",
       ")\n",
       "\tinferences={'anomalyLabel': '[]', 'anomalyScore': 0.0}\n",
       "\tmetrics=None\n",
       "\tpredictedFieldIdx=None\n",
       "\tpredictedFieldName=value\n",
       "\tclassifierInput=ClassifierInput(\tdataRow=None\n",
       "\tbucketIndex=None\n",
       ")\n",
       ")"
      ]
     },
     "execution_count": 90,
     "metadata": {},
     "output_type": "execute_result"
    }
   ],
   "source": [
    "res = model.run(inputData[1001])\n",
    "res"
   ]
  },
  {
   "cell_type": "markdown",
   "metadata": {},
   "source": [
    "### Run Model"
   ]
  },
  {
   "cell_type": "code",
   "execution_count": null,
   "metadata": {},
   "outputs": [],
   "source": []
  },
  {
   "cell_type": "markdown",
   "metadata": {},
   "source": [
    "`from nupic.frameworks.opf.model import Model`\n",
    "\n",
    "```\n",
    "**def run(self, inputRecord)** runs 1 iteration. Input= inputRecord, output=Model.Result\n",
    "inputRecord: (object)\n",
    "    :param  A record object formatted according to\n",
    "           :meth:`~nupic.data.record_stream.RecordStreamIface.getNextRecord` or\n",
    "           :meth:`~nupic.data.record_stream.RecordStreamIface.getNextRecordDict`\n",
    "           result format.\n",
    "    :returns: (:class:`~nupic.frameworks.opf.opf_utils.ModelResult`)\n",
    "             An ModelResult namedtuple. The contents of ModelResult.inferences\n",
    "             depends on the the specific inference type of this model, which\n",
    "             can be queried by :meth:`.getInferenceType`.\n",
    "```\n",
    "\n"
   ]
  },
  {
   "cell_type": "code",
   "execution_count": null,
   "metadata": {},
   "outputs": [],
   "source": []
  }
 ],
 "metadata": {
  "kernelspec": {
   "display_name": "nupic",
   "language": "python",
   "name": "nupic"
  },
  "language_info": {
   "codemirror_mode": {
    "name": "ipython",
    "version": 2
   },
   "file_extension": ".py",
   "mimetype": "text/x-python",
   "name": "python",
   "nbconvert_exporter": "python",
   "pygments_lexer": "ipython2",
   "version": "2.7.15rc1"
  }
 },
 "nbformat": 4,
 "nbformat_minor": 2
}
