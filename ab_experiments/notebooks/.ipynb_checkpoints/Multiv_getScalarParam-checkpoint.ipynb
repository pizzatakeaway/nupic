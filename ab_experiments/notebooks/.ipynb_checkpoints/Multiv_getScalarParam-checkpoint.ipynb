{
 "cells": [
  {
   "cell_type": "markdown",
   "metadata": {},
   "source": [
    "# parameters generated using getScalar()_ HTM Univariate"
   ]
  },
  {
   "cell_type": "code",
   "execution_count": 1,
   "metadata": {},
   "outputs": [],
   "source": [
    "import numpy as np\n",
    "import pandas as pd\n",
    "import json\n",
    "import datetime\n",
    "import matplotlib.pyplot as plt \n",
    "\n",
    "# from tqdm import tqdm_notebook\n",
    "# import time"
   ]
  },
  {
   "cell_type": "markdown",
   "metadata": {},
   "source": [
    "## Load Data 1 and get Params\n",
    "Load Data and Groundtruth labels:"
   ]
  },
  {
   "cell_type": "code",
   "execution_count": 206,
   "metadata": {},
   "outputs": [],
   "source": [
    "PATH_relative1 = 'artificialWithAnomaly/art_daily_flatmiddle.csv'"
   ]
  },
  {
   "cell_type": "code",
   "execution_count": 207,
   "metadata": {},
   "outputs": [],
   "source": [
    "df1 = pd.read_csv('../data/NAB/' + PATH_relative) #parse_dates=True\n",
    "with open('../labels/NAB/combined_windows.json') as f:\n",
    "    labels = json.loads(f.read())"
   ]
  },
  {
   "cell_type": "code",
   "execution_count": 208,
   "metadata": {},
   "outputs": [
    {
     "name": "stdout",
     "output_type": "stream",
     "text": [
      "(4032, 2)\n",
      "             timestamp      value\n",
      "0  2014-04-01 00:00:00  21.519280\n",
      "1  2014-04-01 00:05:00  21.707762\n",
      "2  2014-04-01 00:10:00  18.097725\n",
      "3  2014-04-01 00:15:00  21.954012\n",
      "4  2014-04-01 00:20:00  20.840091\n"
     ]
    }
   ],
   "source": [
    "print df1.shape\n",
    "print df1.head()"
   ]
  },
  {
   "cell_type": "code",
   "execution_count": 209,
   "metadata": {},
   "outputs": [],
   "source": [
    "df1['value'] = pd.to_numeric(df1['value'])\n",
    "df1['timestamp'] = pd.to_datetime(df1['timestamp'], format=\"%Y-%m-%d %H:%M:%S\")"
   ]
  },
  {
   "cell_type": "markdown",
   "metadata": {},
   "source": [
    "Groundtruth labels for anomaly"
   ]
  },
  {
   "cell_type": "code",
   "execution_count": 214,
   "metadata": {},
   "outputs": [
    {
     "data": {
      "text/plain": [
       "[[u'2014-04-03 20:10:00.000000', u'2014-04-04 16:25:00.000000']]"
      ]
     },
     "execution_count": 214,
     "metadata": {},
     "output_type": "execute_result"
    }
   ],
   "source": [
    "labels[PATH_relative]"
   ]
  },
  {
   "cell_type": "code",
   "execution_count": 211,
   "metadata": {},
   "outputs": [],
   "source": [
    "df1['labels'] = np.zeros_like(df1.value)\n",
    "\n",
    "# set values within the range = 1\n",
    "for i in range(len(labels[PATH_relative])):\n",
    "    df1.loc[(df1['timestamp'] >= labels[PATH_relative][i][0]) & \n",
    "           (df1['timestamp'] <= labels[PATH_relative][i][1]), 'labels'] = 1"
   ]
  },
  {
   "cell_type": "code",
   "execution_count": 212,
   "metadata": {},
   "outputs": [
    {
     "data": {
      "text/html": [
       "<div>\n",
       "<style>\n",
       "    .dataframe thead tr:only-child th {\n",
       "        text-align: right;\n",
       "    }\n",
       "\n",
       "    .dataframe thead th {\n",
       "        text-align: left;\n",
       "    }\n",
       "\n",
       "    .dataframe tbody tr th {\n",
       "        vertical-align: top;\n",
       "    }\n",
       "</style>\n",
       "<table border=\"1\" class=\"dataframe\">\n",
       "  <thead>\n",
       "    <tr style=\"text-align: right;\">\n",
       "      <th></th>\n",
       "      <th>timestamp</th>\n",
       "      <th>value</th>\n",
       "      <th>labels</th>\n",
       "    </tr>\n",
       "  </thead>\n",
       "  <tbody>\n",
       "    <tr>\n",
       "      <th>0</th>\n",
       "      <td>2014-04-01 00:00:00</td>\n",
       "      <td>21.519280</td>\n",
       "      <td>0.0</td>\n",
       "    </tr>\n",
       "    <tr>\n",
       "      <th>1</th>\n",
       "      <td>2014-04-01 00:05:00</td>\n",
       "      <td>21.707762</td>\n",
       "      <td>0.0</td>\n",
       "    </tr>\n",
       "    <tr>\n",
       "      <th>2</th>\n",
       "      <td>2014-04-01 00:10:00</td>\n",
       "      <td>18.097725</td>\n",
       "      <td>0.0</td>\n",
       "    </tr>\n",
       "    <tr>\n",
       "      <th>3</th>\n",
       "      <td>2014-04-01 00:15:00</td>\n",
       "      <td>21.954012</td>\n",
       "      <td>0.0</td>\n",
       "    </tr>\n",
       "    <tr>\n",
       "      <th>4</th>\n",
       "      <td>2014-04-01 00:20:00</td>\n",
       "      <td>20.840091</td>\n",
       "      <td>0.0</td>\n",
       "    </tr>\n",
       "  </tbody>\n",
       "</table>\n",
       "</div>"
      ],
      "text/plain": [
       "            timestamp      value  labels\n",
       "0 2014-04-01 00:00:00  21.519280     0.0\n",
       "1 2014-04-01 00:05:00  21.707762     0.0\n",
       "2 2014-04-01 00:10:00  18.097725     0.0\n",
       "3 2014-04-01 00:15:00  21.954012     0.0\n",
       "4 2014-04-01 00:20:00  20.840091     0.0"
      ]
     },
     "execution_count": 212,
     "metadata": {},
     "output_type": "execute_result"
    }
   ],
   "source": [
    "df1[0:5]"
   ]
  },
  {
   "cell_type": "markdown",
   "metadata": {},
   "source": [
    "## Suggested Hyperparameters 1"
   ]
  },
  {
   "cell_type": "code",
   "execution_count": 9,
   "metadata": {},
   "outputs": [],
   "source": [
    "from nupic.frameworks.opf.common_models.cluster_params import getScalarMetricWithTimeOfDayAnomalyParams"
   ]
  },
  {
   "cell_type": "code",
   "execution_count": 10,
   "metadata": {},
   "outputs": [],
   "source": [
    "modelParams1 = getScalarMetricWithTimeOfDayAnomalyParams(df1['value'],\n",
    "                                                        minVal=df1['value'].min(), \n",
    "                                                        maxVal=df1['value'].max()\n",
    "                                                       )"
   ]
  },
  {
   "cell_type": "code",
   "execution_count": 11,
   "metadata": {},
   "outputs": [
    {
     "data": {
      "text/plain": [
       "{u'inferenceArgs': {u'inputPredictedField': u'auto',\n",
       "  u'predictedField': u'c1',\n",
       "  u'predictionSteps': [1]},\n",
       " u'modelConfig': {u'aggregationInfo': {u'days': 0,\n",
       "   u'fields': [],\n",
       "   u'hours': 0,\n",
       "   u'microseconds': 0,\n",
       "   u'milliseconds': 0,\n",
       "   u'minutes': 0,\n",
       "   u'months': 0,\n",
       "   u'seconds': 0,\n",
       "   u'weeks': 0,\n",
       "   u'years': 0},\n",
       "  u'model': u'HTMPrediction',\n",
       "  u'modelParams': {u'anomalyParams': {u'anomalyCacheRecords': None,\n",
       "    u'autoDetectThreshold': None,\n",
       "    u'autoDetectWaitRecords': 5030},\n",
       "   u'clEnable': False,\n",
       "   u'clParams': {u'alpha': 0.035828933612158,\n",
       "    u'regionName': u'SDRClassifierRegion',\n",
       "    u'steps': u'1',\n",
       "    u'verbosity': 0},\n",
       "   u'inferenceType': u'TemporalAnomaly',\n",
       "   u'sensorParams': {u'encoders': {u'c0_dayOfWeek': None,\n",
       "     u'c0_timeOfDay': {u'fieldname': u'c0',\n",
       "      u'name': u'c0',\n",
       "      u'timeOfDay': [21, 9.49],\n",
       "      u'type': u'DateEncoder'},\n",
       "     u'c0_weekend': None,\n",
       "     u'c1': {u'fieldname': u'c1',\n",
       "      u'name': u'c1',\n",
       "      'resolution': 0.84582413051000005,\n",
       "      u'seed': 42,\n",
       "      u'type': u'RandomDistributedScalarEncoder'}},\n",
       "    u'sensorAutoReset': None,\n",
       "    u'verbosity': 0},\n",
       "   u'spEnable': True,\n",
       "   u'spParams': {u'boostStrength': 0.0,\n",
       "    u'columnCount': 2048,\n",
       "    u'globalInhibition': 1,\n",
       "    u'inputWidth': 0,\n",
       "    u'numActiveColumnsPerInhArea': 40,\n",
       "    u'potentialPct': 0.8,\n",
       "    u'seed': 1956,\n",
       "    u'spVerbosity': 0,\n",
       "    u'spatialImp': u'cpp',\n",
       "    u'synPermActiveInc': 0.003,\n",
       "    u'synPermConnected': 0.2,\n",
       "    u'synPermInactiveDec': 0.0005},\n",
       "   u'tmEnable': True,\n",
       "   u'tmParams': {u'activationThreshold': 13,\n",
       "    u'cellsPerColumn': 32,\n",
       "    u'columnCount': 2048,\n",
       "    u'globalDecay': 0.0,\n",
       "    u'initialPerm': 0.21,\n",
       "    u'inputWidth': 2048,\n",
       "    u'maxAge': 0,\n",
       "    u'maxSegmentsPerCell': 128,\n",
       "    u'maxSynapsesPerSegment': 32,\n",
       "    u'minThreshold': 10,\n",
       "    u'newSynapseCount': 20,\n",
       "    u'outputType': u'normal',\n",
       "    u'pamLength': 3,\n",
       "    u'permanenceDec': 0.1,\n",
       "    u'permanenceInc': 0.1,\n",
       "    u'seed': 1960,\n",
       "    u'temporalImp': u'cpp',\n",
       "    u'verbosity': 0},\n",
       "   u'trainSPNetOnlyIfRequested': False},\n",
       "  u'predictAheadTime': None,\n",
       "  u'version': 1}}"
      ]
     },
     "execution_count": 11,
     "metadata": {},
     "output_type": "execute_result"
    }
   ],
   "source": [
    "modelParams1"
   ]
  },
  {
   "cell_type": "markdown",
   "metadata": {},
   "source": [
    "## Load Data 2 and get Params\n",
    "Load Data and Groundtruth labels:"
   ]
  },
  {
   "cell_type": "code",
   "execution_count": 96,
   "metadata": {},
   "outputs": [],
   "source": [
    "PATH_relative2 = 'artificialWithAnomaly/art_daily_jumpsup_AB.csv'\n"
   ]
  },
  {
   "cell_type": "code",
   "execution_count": 13,
   "metadata": {},
   "outputs": [],
   "source": [
    "df2 = pd.read_csv('../data/NAB/' + PATH_relative) #parse_dates=True\n",
    "with open('../labels/NAB/combined_windows.json') as f:\n",
    "    labels = json.loads(f.read())"
   ]
  },
  {
   "cell_type": "code",
   "execution_count": 14,
   "metadata": {},
   "outputs": [
    {
     "name": "stdout",
     "output_type": "stream",
     "text": [
      "(4032, 3)\n",
      "(4032, 2)\n",
      "             timestamp      value\n",
      "0  2014-04-01 00:00:00  21.519280\n",
      "1  2014-04-01 00:05:00  21.707762\n",
      "2  2014-04-01 00:10:00  18.097725\n",
      "3  2014-04-01 00:15:00  21.954012\n",
      "4  2014-04-01 00:20:00  20.840091\n"
     ]
    }
   ],
   "source": [
    "print df1.shape\n",
    "print df2.shape\n",
    "print df2.head()"
   ]
  },
  {
   "cell_type": "code",
   "execution_count": 15,
   "metadata": {},
   "outputs": [],
   "source": [
    "df2['value'] = pd.to_numeric(df2['value'])\n",
    "df2['timestamp'] = pd.to_datetime(df2['timestamp'], format=\"%Y-%m-%d %H:%M:%S\")"
   ]
  },
  {
   "cell_type": "markdown",
   "metadata": {},
   "source": [
    "Groundtruth labels for anomaly"
   ]
  },
  {
   "cell_type": "code",
   "execution_count": 16,
   "metadata": {},
   "outputs": [
    {
     "data": {
      "text/plain": [
       "[[u'2014-04-03 20:10:00.000000', u'2014-04-04 16:25:00.000000']]"
      ]
     },
     "execution_count": 16,
     "metadata": {},
     "output_type": "execute_result"
    }
   ],
   "source": [
    "labels[PATH_relative]"
   ]
  },
  {
   "cell_type": "code",
   "execution_count": 17,
   "metadata": {},
   "outputs": [],
   "source": [
    "df2['labels'] = np.zeros_like(df2.value)\n",
    "\n",
    "# set values within the range = 1\n",
    "for i in range(len(labels[PATH_relative])):\n",
    "    df2.loc[(df2['timestamp'] >= labels[PATH_relative][i][0]) & \n",
    "           (df2['timestamp'] <= labels[PATH_relative][i][1]), 'labels'] = 1"
   ]
  },
  {
   "cell_type": "code",
   "execution_count": 18,
   "metadata": {},
   "outputs": [
    {
     "data": {
      "text/html": [
       "<div>\n",
       "<style>\n",
       "    .dataframe thead tr:only-child th {\n",
       "        text-align: right;\n",
       "    }\n",
       "\n",
       "    .dataframe thead th {\n",
       "        text-align: left;\n",
       "    }\n",
       "\n",
       "    .dataframe tbody tr th {\n",
       "        vertical-align: top;\n",
       "    }\n",
       "</style>\n",
       "<table border=\"1\" class=\"dataframe\">\n",
       "  <thead>\n",
       "    <tr style=\"text-align: right;\">\n",
       "      <th></th>\n",
       "      <th>timestamp</th>\n",
       "      <th>value</th>\n",
       "      <th>labels</th>\n",
       "    </tr>\n",
       "  </thead>\n",
       "  <tbody>\n",
       "    <tr>\n",
       "      <th>0</th>\n",
       "      <td>2014-04-01 00:00:00</td>\n",
       "      <td>21.519280</td>\n",
       "      <td>0.0</td>\n",
       "    </tr>\n",
       "    <tr>\n",
       "      <th>1</th>\n",
       "      <td>2014-04-01 00:05:00</td>\n",
       "      <td>21.707762</td>\n",
       "      <td>0.0</td>\n",
       "    </tr>\n",
       "    <tr>\n",
       "      <th>2</th>\n",
       "      <td>2014-04-01 00:10:00</td>\n",
       "      <td>18.097725</td>\n",
       "      <td>0.0</td>\n",
       "    </tr>\n",
       "    <tr>\n",
       "      <th>3</th>\n",
       "      <td>2014-04-01 00:15:00</td>\n",
       "      <td>21.954012</td>\n",
       "      <td>0.0</td>\n",
       "    </tr>\n",
       "    <tr>\n",
       "      <th>4</th>\n",
       "      <td>2014-04-01 00:20:00</td>\n",
       "      <td>20.840091</td>\n",
       "      <td>0.0</td>\n",
       "    </tr>\n",
       "  </tbody>\n",
       "</table>\n",
       "</div>"
      ],
      "text/plain": [
       "            timestamp      value  labels\n",
       "0 2014-04-01 00:00:00  21.519280     0.0\n",
       "1 2014-04-01 00:05:00  21.707762     0.0\n",
       "2 2014-04-01 00:10:00  18.097725     0.0\n",
       "3 2014-04-01 00:15:00  21.954012     0.0\n",
       "4 2014-04-01 00:20:00  20.840091     0.0"
      ]
     },
     "execution_count": 18,
     "metadata": {},
     "output_type": "execute_result"
    }
   ],
   "source": [
    "df2[0:5]"
   ]
  },
  {
   "cell_type": "markdown",
   "metadata": {},
   "source": [
    "## Suggested Hyperparameters 2"
   ]
  },
  {
   "cell_type": "code",
   "execution_count": 19,
   "metadata": {},
   "outputs": [],
   "source": [
    "from nupic.frameworks.opf.common_models.cluster_params import getScalarMetricWithTimeOfDayAnomalyParams"
   ]
  },
  {
   "cell_type": "code",
   "execution_count": 20,
   "metadata": {},
   "outputs": [],
   "source": [
    "modelParams2 = getScalarMetricWithTimeOfDayAnomalyParams(df2['value'],\n",
    "                                                        minVal=df2['value'].min(), \n",
    "                                                        maxVal=df2['value'].max()\n",
    "                                                       )"
   ]
  },
  {
   "cell_type": "code",
   "execution_count": 21,
   "metadata": {},
   "outputs": [
    {
     "data": {
      "text/plain": [
       "{u'inferenceArgs': {u'inputPredictedField': u'auto',\n",
       "  u'predictedField': u'c1',\n",
       "  u'predictionSteps': [1]},\n",
       " u'modelConfig': {u'aggregationInfo': {u'days': 0,\n",
       "   u'fields': [],\n",
       "   u'hours': 0,\n",
       "   u'microseconds': 0,\n",
       "   u'milliseconds': 0,\n",
       "   u'minutes': 0,\n",
       "   u'months': 0,\n",
       "   u'seconds': 0,\n",
       "   u'weeks': 0,\n",
       "   u'years': 0},\n",
       "  u'model': u'HTMPrediction',\n",
       "  u'modelParams': {u'anomalyParams': {u'anomalyCacheRecords': None,\n",
       "    u'autoDetectThreshold': None,\n",
       "    u'autoDetectWaitRecords': 5030},\n",
       "   u'clEnable': False,\n",
       "   u'clParams': {u'alpha': 0.035828933612158,\n",
       "    u'regionName': u'SDRClassifierRegion',\n",
       "    u'steps': u'1',\n",
       "    u'verbosity': 0},\n",
       "   u'inferenceType': u'TemporalAnomaly',\n",
       "   u'sensorParams': {u'encoders': {u'c0_dayOfWeek': None,\n",
       "     u'c0_timeOfDay': {u'fieldname': u'c0',\n",
       "      u'name': u'c0',\n",
       "      u'timeOfDay': [21, 9.49],\n",
       "      u'type': u'DateEncoder'},\n",
       "     u'c0_weekend': None,\n",
       "     u'c1': {u'fieldname': u'c1',\n",
       "      u'name': u'c1',\n",
       "      'resolution': 1.1303574668846152,\n",
       "      u'seed': 42,\n",
       "      u'type': u'RandomDistributedScalarEncoder'}},\n",
       "    u'sensorAutoReset': None,\n",
       "    u'verbosity': 0},\n",
       "   u'spEnable': True,\n",
       "   u'spParams': {u'boostStrength': 0.0,\n",
       "    u'columnCount': 2048,\n",
       "    u'globalInhibition': 1,\n",
       "    u'inputWidth': 0,\n",
       "    u'numActiveColumnsPerInhArea': 40,\n",
       "    u'potentialPct': 0.8,\n",
       "    u'seed': 1956,\n",
       "    u'spVerbosity': 0,\n",
       "    u'spatialImp': u'cpp',\n",
       "    u'synPermActiveInc': 0.003,\n",
       "    u'synPermConnected': 0.2,\n",
       "    u'synPermInactiveDec': 0.0005},\n",
       "   u'tmEnable': True,\n",
       "   u'tmParams': {u'activationThreshold': 13,\n",
       "    u'cellsPerColumn': 32,\n",
       "    u'columnCount': 2048,\n",
       "    u'globalDecay': 0.0,\n",
       "    u'initialPerm': 0.21,\n",
       "    u'inputWidth': 2048,\n",
       "    u'maxAge': 0,\n",
       "    u'maxSegmentsPerCell': 128,\n",
       "    u'maxSynapsesPerSegment': 32,\n",
       "    u'minThreshold': 10,\n",
       "    u'newSynapseCount': 20,\n",
       "    u'outputType': u'normal',\n",
       "    u'pamLength': 3,\n",
       "    u'permanenceDec': 0.1,\n",
       "    u'permanenceInc': 0.1,\n",
       "    u'seed': 1960,\n",
       "    u'temporalImp': u'cpp',\n",
       "    u'verbosity': 0},\n",
       "   u'trainSPNetOnlyIfRequested': False},\n",
       "  u'predictAheadTime': None,\n",
       "  u'version': 1}}"
      ]
     },
     "execution_count": 21,
     "metadata": {},
     "output_type": "execute_result"
    }
   ],
   "source": [
    "modelParams2"
   ]
  },
  {
   "cell_type": "markdown",
   "metadata": {},
   "source": [
    "## Merge DataFrames"
   ]
  },
  {
   "cell_type": "code",
   "execution_count": 22,
   "metadata": {},
   "outputs": [],
   "source": [
    "df = pd.DataFrame.merge(df1, df2, how='left', on='timestamp', suffixes=('1','2'))"
   ]
  },
  {
   "cell_type": "code",
   "execution_count": 23,
   "metadata": {},
   "outputs": [
    {
     "data": {
      "text/plain": [
       "[{'labels1': 0.0,\n",
       "  'labels2': 0.0,\n",
       "  'timestamp': Timestamp('2014-04-01 00:00:00'),\n",
       "  'value1': -21.0483826823,\n",
       "  'value2': 21.519279906799998},\n",
       " {'labels1': 0.0,\n",
       "  'labels2': 0.0,\n",
       "  'timestamp': Timestamp('2014-04-01 00:05:00'),\n",
       "  'value1': -20.2954768676,\n",
       "  'value2': 21.7077624925},\n",
       " {'labels1': 0.0,\n",
       "  'labels2': 0.0,\n",
       "  'timestamp': Timestamp('2014-04-01 00:10:00'),\n",
       "  'value1': -18.127229468299998,\n",
       "  'value2': 18.0977252372},\n",
       " {'labels1': 0.0,\n",
       "  'labels2': 0.0,\n",
       "  'timestamp': Timestamp('2014-04-01 00:15:00'),\n",
       "  'value1': -20.1716653997,\n",
       "  'value2': 21.9540122797},\n",
       " {'labels1': 0.0,\n",
       "  'labels2': 0.0,\n",
       "  'timestamp': Timestamp('2014-04-01 00:20:00'),\n",
       "  'value1': -21.223761612,\n",
       "  'value2': 20.840090926}]"
      ]
     },
     "execution_count": 23,
     "metadata": {},
     "output_type": "execute_result"
    }
   ],
   "source": [
    "data = df.to_dict(orient='records')\n",
    "data[0:5]"
   ]
  },
  {
   "cell_type": "code",
   "execution_count": 24,
   "metadata": {},
   "outputs": [],
   "source": [
    "#import pandas_profiling"
   ]
  },
  {
   "cell_type": "code",
   "execution_count": 25,
   "metadata": {},
   "outputs": [],
   "source": [
    "#pandas_profiling.ProfileReport(df)"
   ]
  },
  {
   "cell_type": "markdown",
   "metadata": {},
   "source": [
    "**value1** and **value2** have something `corr=-0.5`"
   ]
  },
  {
   "cell_type": "markdown",
   "metadata": {},
   "source": [
    "## Encoder\n"
   ]
  },
  {
   "cell_type": "code",
   "execution_count": 26,
   "metadata": {},
   "outputs": [
    {
     "data": {
      "text/plain": [
       "{u'encoders': {u'c0_dayOfWeek': None,\n",
       "  u'c0_timeOfDay': {u'fieldname': u'c0',\n",
       "   u'name': u'c0',\n",
       "   u'timeOfDay': [21, 9.49],\n",
       "   u'type': u'DateEncoder'},\n",
       "  u'c0_weekend': None,\n",
       "  u'c1': {u'fieldname': u'c1',\n",
       "   u'name': u'c1',\n",
       "   'resolution': 0.84582413051000005,\n",
       "   u'seed': 42,\n",
       "   u'type': u'RandomDistributedScalarEncoder'}},\n",
       " u'sensorAutoReset': None,\n",
       " u'verbosity': 0}"
      ]
     },
     "execution_count": 26,
     "metadata": {},
     "output_type": "execute_result"
    }
   ],
   "source": [
    "modelParams1['modelConfig']['modelParams']['sensorParams']"
   ]
  },
  {
   "cell_type": "code",
   "execution_count": 27,
   "metadata": {},
   "outputs": [
    {
     "data": {
      "text/plain": [
       "{u'encoders': {u'c0_dayOfWeek': None,\n",
       "  u'c0_timeOfDay': {u'fieldname': u'c0',\n",
       "   u'name': u'c0',\n",
       "   u'timeOfDay': [21, 9.49],\n",
       "   u'type': u'DateEncoder'},\n",
       "  u'c0_weekend': None,\n",
       "  u'c1': {u'fieldname': u'c1',\n",
       "   u'name': u'c1',\n",
       "   'resolution': 1.1303574668846152,\n",
       "   u'seed': 42,\n",
       "   u'type': u'RandomDistributedScalarEncoder'}},\n",
       " u'sensorAutoReset': None,\n",
       " u'verbosity': 0}"
      ]
     },
     "execution_count": 27,
     "metadata": {},
     "output_type": "execute_result"
    }
   ],
   "source": [
    "modelParams2['modelConfig']['modelParams']['sensorParams']"
   ]
  },
  {
   "cell_type": "code",
   "execution_count": 28,
   "metadata": {},
   "outputs": [
    {
     "data": {
      "text/plain": [
       "[{'labels1': 0.0,\n",
       "  'labels2': 0.0,\n",
       "  'timestamp': Timestamp('2014-04-01 00:00:00'),\n",
       "  'value1': -21.0483826823,\n",
       "  'value2': 21.519279906799998},\n",
       " {'labels1': 0.0,\n",
       "  'labels2': 0.0,\n",
       "  'timestamp': Timestamp('2014-04-01 00:05:00'),\n",
       "  'value1': -20.2954768676,\n",
       "  'value2': 21.7077624925},\n",
       " {'labels1': 0.0,\n",
       "  'labels2': 0.0,\n",
       "  'timestamp': Timestamp('2014-04-01 00:10:00'),\n",
       "  'value1': -18.127229468299998,\n",
       "  'value2': 18.0977252372},\n",
       " {'labels1': 0.0,\n",
       "  'labels2': 0.0,\n",
       "  'timestamp': Timestamp('2014-04-01 00:15:00'),\n",
       "  'value1': -20.1716653997,\n",
       "  'value2': 21.9540122797},\n",
       " {'labels1': 0.0,\n",
       "  'labels2': 0.0,\n",
       "  'timestamp': Timestamp('2014-04-01 00:20:00'),\n",
       "  'value1': -21.223761612,\n",
       "  'value2': 20.840090926}]"
      ]
     },
     "execution_count": 28,
     "metadata": {},
     "output_type": "execute_result"
    }
   ],
   "source": [
    "data = df.to_dict(orient='records')\n",
    "data[0:5]"
   ]
  },
  {
   "cell_type": "markdown",
   "metadata": {},
   "source": [
    "Check for each model the which are the econder parameters:"
   ]
  },
  {
   "cell_type": "code",
   "execution_count": 29,
   "metadata": {},
   "outputs": [
    {
     "name": "stdout",
     "output_type": "stream",
     "text": [
      "0 \n",
      "\n",
      "c0_timeOfDay {u'fieldname': u'c0', u'timeOfDay': [21, 9.49], u'type': u'DateEncoder', u'name': u'c0'} \n",
      "\n",
      "c1 {u'name': u'c1', 'resolution': 0.84582413051000005, u'seed': 42, u'fieldname': u'c1', u'type': u'RandomDistributedScalarEncoder'} \n",
      "\n",
      "0 \n",
      "\n"
     ]
    }
   ],
   "source": [
    "for k,v in modelParams1['modelConfig']['modelParams']['sensorParams']['encoders'].items():\n",
    "    if v != None:\n",
    "        print k, v, \"\\n\"\n",
    "    else: \n",
    "        print str(0), \"\\n\" "
   ]
  },
  {
   "cell_type": "code",
   "execution_count": 30,
   "metadata": {},
   "outputs": [
    {
     "name": "stdout",
     "output_type": "stream",
     "text": [
      "0 \n",
      "\n",
      "c0_timeOfDay {u'fieldname': u'c0', u'timeOfDay': [21, 9.49], u'type': u'DateEncoder', u'name': u'c0'} \n",
      "\n",
      "c1 {u'name': u'c1', 'resolution': 1.1303574668846152, u'seed': 42, u'fieldname': u'c1', u'type': u'RandomDistributedScalarEncoder'} \n",
      "\n",
      "0 \n",
      "\n"
     ]
    }
   ],
   "source": [
    "for k,v in modelParams2['modelConfig']['modelParams']['sensorParams']['encoders'].items():\n",
    "    if v != None:\n",
    "        print k, v, \"\\n\"\n",
    "    else: \n",
    "        print str(0), \"\\n\" "
   ]
  },
  {
   "cell_type": "markdown",
   "metadata": {},
   "source": [
    "We need to build: \n",
    "- 1x 'DateEncoder' which encodes the field `timestamp`\n",
    "- 1x 'ScalarEncoder' which encodes the field `value1`\n",
    "- 1x 'ScalarEncoder' which encodes the field `value2`\n",
    "\n",
    "The `values`-fields have been encoded the same way, only `resolution` change."
   ]
  },
  {
   "cell_type": "code",
   "execution_count": 31,
   "metadata": {},
   "outputs": [],
   "source": [
    "def remove_dict_key(d, keys):\n",
    "    \"\"\"\n",
    "    Remove 'keys' in dict.\n",
    "    \n",
    "    Parameters\n",
    "    ----------\n",
    "    d: dict\n",
    "    keys: list\n",
    "        List containing key(s) to delete.\n",
    "        \n",
    "    Outputp\n",
    "    -------\n",
    "    new_d: dict\n",
    "        A new dict object.\n",
    "    \n",
    "    \"\"\"\n",
    "    new_d = dict(d)\n",
    "    for i in keys: \n",
    "        del new_d[i]\n",
    "    return new_d"
   ]
  },
  {
   "cell_type": "code",
   "execution_count": 32,
   "metadata": {},
   "outputs": [],
   "source": [
    "#from nupic.encoders.random_distributed_scalar import RandomDistributedScalarEncoder\n",
    "from nupic.encoders.scalar import ScalarEncoder"
   ]
  },
  {
   "cell_type": "code",
   "execution_count": 33,
   "metadata": {},
   "outputs": [
    {
     "name": "stdout",
     "output_type": "stream",
     "text": [
      "-21.0483826823 =  [0 1 1 1 1 1 1 1 1 1 1 1 1 1 1 1 1 1 1 1 1 1 0 0 0 0 0 0 0 0 0 0 0 0 0 0 0\n",
      " 0 0 0 0 0 0 0 0 0 0 0 0 0 0 0 0 0 0 0 0 0 0 0 0 0 0 0 0 0 0 0 0 0 0 0 0 0\n",
      " 0 0 0 0 0 0 0 0 0 0 0 0 0 0 0 0 0 0 0 0 0 0 0 0 0 0 0 0 0 0 0 0 0 0 0 0 0\n",
      " 0 0 0 0 0 0 0 0 0 0 0 0 0 0 0 0 0 0 0 0 0 0 0 0 0 0 0 0 0 0 0 0 0 0 0 0 0\n",
      " 0 0 0]\n",
      "21.5192799068 =  [0 0 0 1 1 1 1 1 1 1 1 1 1 1 1 1 1 1 1 1 1 1 1 1 0 0 0 0 0 0 0 0 0 0 0 0 0\n",
      " 0 0 0 0 0 0 0 0 0 0 0 0 0 0 0 0 0 0 0 0 0 0 0 0 0 0 0 0 0 0 0 0 0 0 0 0 0\n",
      " 0 0 0 0 0 0 0 0 0 0 0 0 0 0 0 0 0 0 0 0 0 0 0 0 0 0 0 0 0 0 0 0 0 0 0 0 0\n",
      " 0 0 0 0 0 0 0 0 0 0 0 0 0 0 0 0 0 0 0 0 0 0 0 0 0 0 0 0 0 0 0 0 0 0 0 0 0\n",
      " 0 0 0]\n"
     ]
    }
   ],
   "source": [
    "v1Enc = ScalarEncoder(w=21, minval=df['value1'].min(), maxval=df['value1'].max(),\n",
    "                     resolution=modelParams1['modelConfig']['modelParams']['sensorParams']['encoders']['c1']['resolution'])\n",
    "v2Enc = ScalarEncoder(w=21, minval=df['value2'].min(), maxval=df['value2'].max(),\n",
    "                     resolution=modelParams2['modelConfig']['modelParams']['sensorParams']['encoders']['c1']['resolution'])\n",
    "\n",
    "\n",
    "print str(data[0]['value1']) + \" = \", v1Enc.encode(data[0]['value1'])\n",
    "print str(data[0]['value2']) + \" = \", v2Enc.encode(data[0]['value2'])"
   ]
  },
  {
   "cell_type": "code",
   "execution_count": 34,
   "metadata": {},
   "outputs": [
    {
     "data": {
      "text/plain": [
       "({'[-21.9987888386:87.9583481277]': ([[-21.152964708090007,\n",
       "     -21.152964708090007]],\n",
       "   '-21.15')},\n",
       " ['[-21.9987888386:87.9583481277]'])"
      ]
     },
     "execution_count": 34,
     "metadata": {},
     "output_type": "execute_result"
    }
   ],
   "source": [
    "enc = v1Enc.encode(-21)\n",
    "#print(enc)\n",
    "v1Enc.decode(enc)"
   ]
  },
  {
   "cell_type": "code",
   "execution_count": 35,
   "metadata": {},
   "outputs": [
    {
     "data": {
      "text/plain": [
       "({'[18.001009818:164.947480513]': ([[21.392082218653847, 21.392082218653847]],\n",
       "   '21.39')},\n",
       " ['[18.001009818:164.947480513]'])"
      ]
     },
     "execution_count": 35,
     "metadata": {},
     "output_type": "execute_result"
    }
   ],
   "source": [
    "enc = v2Enc.encode(21)\n",
    "#print(enc)\n",
    "v2Enc.decode(enc)"
   ]
  },
  {
   "cell_type": "code",
   "execution_count": 36,
   "metadata": {},
   "outputs": [
    {
     "data": {
      "text/plain": [
       "[{'labels1': 0.0,\n",
       "  'labels2': 0.0,\n",
       "  'timestamp': Timestamp('2014-04-01 00:00:00'),\n",
       "  'value1': -21.0483826823,\n",
       "  'value2': 21.519279906799998},\n",
       " {'labels1': 0.0,\n",
       "  'labels2': 0.0,\n",
       "  'timestamp': Timestamp('2014-04-01 00:05:00'),\n",
       "  'value1': -20.2954768676,\n",
       "  'value2': 21.7077624925},\n",
       " {'labels1': 0.0,\n",
       "  'labels2': 0.0,\n",
       "  'timestamp': Timestamp('2014-04-01 00:10:00'),\n",
       "  'value1': -18.127229468299998,\n",
       "  'value2': 18.0977252372},\n",
       " {'labels1': 0.0,\n",
       "  'labels2': 0.0,\n",
       "  'timestamp': Timestamp('2014-04-01 00:15:00'),\n",
       "  'value1': -20.1716653997,\n",
       "  'value2': 21.9540122797},\n",
       " {'labels1': 0.0,\n",
       "  'labels2': 0.0,\n",
       "  'timestamp': Timestamp('2014-04-01 00:20:00'),\n",
       "  'value1': -21.223761612,\n",
       "  'value2': 20.840090926}]"
      ]
     },
     "execution_count": 36,
     "metadata": {},
     "output_type": "execute_result"
    }
   ],
   "source": [
    "data = df.to_dict(orient='records')\n",
    "data[0:5]"
   ]
  },
  {
   "cell_type": "markdown",
   "metadata": {},
   "source": [
    "Both scalar encoders seems to be very precise for our data.  "
   ]
  },
  {
   "cell_type": "code",
   "execution_count": 37,
   "metadata": {},
   "outputs": [],
   "source": [
    "import datetime\n",
    "from nupic.encoders.date import DateEncoder"
   ]
  },
  {
   "cell_type": "markdown",
   "metadata": {},
   "source": [
    "The `timestamp` field is the same for both dataframes, and have also been encoded the same way.  \n",
    "So the is completely equivalent which one we decide to encode."
   ]
  },
  {
   "cell_type": "code",
   "execution_count": 38,
   "metadata": {},
   "outputs": [],
   "source": [
    "dEnc = DateEncoder(modelParams1['modelConfig']['modelParams']['sensorParams']['encoders']['c0_timeOfDay']['timeOfDay']) \n",
    "\n",
    "# tsObs1 = datetime.datetime.strptime(data[0]['timestamp'], \"%Y-%m-%d %H:%M:%S\")\n",
    "# print \"TimeStamp-obs0 = \", dEnc.encode(data[0]['timestamp'])\n",
    "# print \"TimeStamp-obs1 = \", dEnc.encode(data[1]['timestamp'])"
   ]
  },
  {
   "cell_type": "markdown",
   "metadata": {},
   "source": [
    "Wrap all together."
   ]
  },
  {
   "cell_type": "code",
   "execution_count": 39,
   "metadata": {},
   "outputs": [],
   "source": [
    "obs = []\n",
    "inputTs = []\n",
    "inputSDRts = []\n",
    "inputVal1 = []\n",
    "inputSDRval1 = []\n",
    "label1 = []\n",
    "inputVal2 = []\n",
    "inputSDRval2 = []\n",
    "label2 = []\n",
    "inputSDR = []  # main\n",
    "inputTsIdx = [0, len(dEnc.encode(data[0]['timestamp'])) - 1]\n",
    "inputVal1Idx = [len(dEnc.encode(data[0]['timestamp'])), \n",
    "                len(dEnc.encode(data[0]['timestamp'])) + len(v1Enc.encode(data[1]['value1'])) - 1]\n",
    "inputVal2Idx = [inputVal1Idx[1]+1, \n",
    "                inputVal1Idx[1] + len(v2Enc.encode(data[1]['value2']))]\n",
    "\n",
    "for i in xrange(len(data)):\n",
    "    obs.append(i)\n",
    "    inputTs.append(data[i]['timestamp'])  \n",
    "    inputVal1.append(data[i]['value1'])   \n",
    "    inputVal2.append(data[i]['value2'])   \n",
    "    label1.append(data[i]['labels1'])\n",
    "    label2.append(data[i]['labels2'])\n",
    "    inputSDRts.append(dEnc.encode(data[i]['timestamp']))\n",
    "    inputSDRval1.append(v1Enc.encode(data[i]['value1']))\n",
    "    inputSDRval2.append(v2Enc.encode(data[i]['value2']))\n",
    "    inputSDR.append(np.hstack((inputSDRts[i], inputSDRval1[i], inputSDRval2[i])))  # combine the 3 encoders\n",
    "    \n",
    "# send everything to dict    \n",
    "data = pd.DataFrame({'inputTs':inputTs, 'inputVal1':inputVal1, 'inputVal2':inputVal2,\n",
    "                     'label1': label1, 'label2': label2, 'inputSDR':inputSDR, \n",
    "                     'inputSDRval1':inputSDRval1, 'inputSDRval2':inputSDRval2, 'inputSDRts':inputSDRts, \n",
    "                    }, index=obs).to_dict(orient='records')"
   ]
  },
  {
   "cell_type": "code",
   "execution_count": 40,
   "metadata": {},
   "outputs": [
    {
     "data": {
      "text/plain": [
       "([0, 809], [810, 960], [961, 1111])"
      ]
     },
     "execution_count": 40,
     "metadata": {},
     "output_type": "execute_result"
    }
   ],
   "source": [
    "inputTsIdx, inputVal1Idx, inputVal2Idx"
   ]
  },
  {
   "cell_type": "code",
   "execution_count": 41,
   "metadata": {},
   "outputs": [
    {
     "name": "stdout",
     "output_type": "stream",
     "text": [
      "810\n",
      "151\n"
     ]
    }
   ],
   "source": [
    "print len(inputSDRts[0])\n",
    "print len(inputSDRval1[0])"
   ]
  },
  {
   "cell_type": "code",
   "execution_count": 42,
   "metadata": {},
   "outputs": [
    {
     "name": "stdout",
     "output_type": "stream",
     "text": [
      "len(inputSDR):  1112\n",
      "Observations:  4032\n"
     ]
    }
   ],
   "source": [
    "print \"len(inputSDR): \", len(data[0]['inputSDR'])\n",
    "#print data[0]\n",
    "print \"Observations: \", len(data)"
   ]
  },
  {
   "cell_type": "markdown",
   "metadata": {},
   "source": [
    "# Spatial Pooler\n",
    "[link to wiki](http://nupic.docs.numenta.org/1.0.3/api/algorithms/spatial-pooling.html#nupic.algorithms.spatial_pooler.SpatialPooler)\n",
    "\n",
    "Load `modelParams` fors SP:"
   ]
  },
  {
   "cell_type": "code",
   "execution_count": 43,
   "metadata": {},
   "outputs": [],
   "source": [
    "from nupic.algorithms.spatial_pooler import SpatialPooler"
   ]
  },
  {
   "cell_type": "code",
   "execution_count": 44,
   "metadata": {},
   "outputs": [
    {
     "name": "stdout",
     "output_type": "stream",
     "text": [
      "### modelParams1\n",
      "{u'columnCount': 2048, u'synPermInactiveDec': 0.0005, u'spatialImp': u'cpp', u'inputWidth': 0, u'spVerbosity': 0, u'synPermConnected': 0.2, u'synPermActiveInc': 0.003, u'potentialPct': 0.8, u'numActiveColumnsPerInhArea': 40, u'boostStrength': 0.0, u'globalInhibition': 1, u'seed': 1956}\n",
      "\n",
      " ### modelParams2\n",
      "{u'columnCount': 2048, u'synPermInactiveDec': 0.0005, u'spatialImp': u'cpp', u'inputWidth': 0, u'spVerbosity': 0, u'synPermConnected': 0.2, u'synPermActiveInc': 0.003, u'potentialPct': 0.8, u'numActiveColumnsPerInhArea': 40, u'boostStrength': 0.0, u'globalInhibition': 1, u'seed': 1956}\n"
     ]
    }
   ],
   "source": [
    "print \"### modelParams1\"\n",
    "print modelParams1['modelConfig']['modelParams']['spParams']\n",
    "print \"\\n ### modelParams2\"\n",
    "print modelParams2['modelConfig']['modelParams']['spParams']"
   ]
  },
  {
   "cell_type": "markdown",
   "metadata": {},
   "source": [
    "same same"
   ]
  },
  {
   "cell_type": "code",
   "execution_count": 45,
   "metadata": {},
   "outputs": [],
   "source": [
    "selectedSPparams = {\n",
    "    u'boostStrength': 0.0,\n",
    "#     u'columnCount': 2048,\n",
    "    u'globalInhibition': 1,\n",
    "#     u'inputWidth': 0,\n",
    "    u'numActiveColumnsPerInhArea': 40,\n",
    "    u'potentialPct': 0.8,\n",
    "    u'seed': 1956,\n",
    "    u'spVerbosity': 0,\n",
    "#     u'spatialImp': u'cpp',\n",
    "    u'synPermActiveInc': 0.003,\n",
    "    u'synPermConnected': 0.2,\n",
    "    u'synPermInactiveDec': 0.0005,\n",
    "   ### Changes\n",
    "    u'inputDimensions': (len(data[0]['inputSDR']), ),\n",
    "    u'columnDimensions': modelParams1['modelConfig']['modelParams']['spParams']['columnCount'], \n",
    "}"
   ]
  },
  {
   "cell_type": "code",
   "execution_count": 46,
   "metadata": {},
   "outputs": [],
   "source": [
    "# Init SP\n",
    "sp = SpatialPooler(**selectedSPparams)"
   ]
  },
  {
   "cell_type": "code",
   "execution_count": 47,
   "metadata": {},
   "outputs": [],
   "source": [
    "# Print SP\n",
    "cols = []\n",
    "connections = []\n",
    "\n",
    "for col in xrange(sp.getColumnDimensions()):\n",
    "    connected = np.zeros(len(data[0]['inputSDR']), dtype=\"int\")\n",
    "    sp.getConnectedSynapses(col, connected)\n",
    "    cols.append(col)\n",
    "    connections.append(connected)\n",
    "\n",
    "spSDR = dict(zip(cols, connections))"
   ]
  },
  {
   "cell_type": "code",
   "execution_count": 48,
   "metadata": {},
   "outputs": [
    {
     "name": "stdout",
     "output_type": "stream",
     "text": [
      "SP Shape:2048; 1112\n"
     ]
    }
   ],
   "source": [
    "print \"SP Shape:\" + str(len(spSDR)) + \"; \" + str(len(spSDR[0]))"
   ]
  },
  {
   "cell_type": "markdown",
   "metadata": {},
   "source": [
    "The active bits (min-columns) are set by calculating the *overlapping score* with the input vector.  \n",
    "*Overalpping score* = `inputSDR` * `spSDR\\[column]`"
   ]
  },
  {
   "cell_type": "code",
   "execution_count": 49,
   "metadata": {},
   "outputs": [],
   "source": [
    "def idx_active_cols(inputArr):\n",
    "    \"\"\"\n",
    "    This function takes an 1d or nd-array and returns a 1d-array with the index for ACTIVE bits/columns: \n",
    "    \n",
    "    Parameters\n",
    "    ----------\n",
    "    inputArr:   np.array (1d or nD)\n",
    "            \n",
    "    Output\n",
    "    ------\n",
    "    tmActiveColsIdx: 1d np.arraz\n",
    "        Array with index of active cols.\n",
    "        \n",
    "    \"\"\"\n",
    "    #tmObject.reshape(tmObject.numberOfCols, tm.cellsPerColumn)\n",
    "    activeColsVec = []  # initialize vector\n",
    "\n",
    "    for i in range(inputArr.shape[0]):\n",
    "        # assign 1 if any 1 (active cell) in the column,\n",
    "        # 0 otherwise\n",
    "        if np.any(inputArr[i]>0):\n",
    "        # if np.any(tm.compute(spSDR[track[3]['sp_active']], enableLearn=True, enableInference=True).reshape(256, 3)[i]>0):\n",
    "            activeColsVec.append(1)\n",
    "        else:\n",
    "            activeColsVec.append(0)\n",
    "    # return index of active Columns        \n",
    "    tmActiveColsIdx = np.flatnonzero(np.array(activeColsVec))\n",
    "    return tmActiveColsIdx"
   ]
  },
  {
   "cell_type": "markdown",
   "metadata": {},
   "source": [
    "`Compute` returns the to 40 active cols, as defined in:  \n",
    "`MODEL_PARAMS['modelParams']['spParams']['numActiveColumnsPerInhArea']=40`."
   ]
  },
  {
   "cell_type": "code",
   "execution_count": 50,
   "metadata": {},
   "outputs": [],
   "source": [
    "# Save all the SP-columns active for every input\n",
    "\n",
    "for i in xrange(len(data)):\n",
    "    output = np.zeros(sp.getColumnDimensions(), dtype=\"int\")\n",
    "    sp.compute(data[i]['inputSDR'], learn=False, activeArray=output)\n",
    "    data[i]['sp_active'] = idx_active_cols(output) #save to dict\n",
    "    \n",
    "#     print \"obs\" + str(i) + \", Active col: \", str(output)"
   ]
  },
  {
   "cell_type": "code",
   "execution_count": 51,
   "metadata": {},
   "outputs": [
    {
     "data": {
      "text/plain": [
       "array([ 358,  359,  366,  369,  371,  372,  375,  376,  378,  379,  384,\n",
       "       1497, 1498, 1502, 1506, 1510, 1513, 1518, 1519, 1524, 1525, 1764,\n",
       "       1769, 1773, 1775, 1776, 1779, 1780, 1786, 1788, 1789, 1792, 1794,\n",
       "       1796, 1797, 1800, 1801, 1805, 1814, 1821])"
      ]
     },
     "execution_count": 51,
     "metadata": {},
     "output_type": "execute_result"
    }
   ],
   "source": [
    "data[0]['sp_active']"
   ]
  },
  {
   "cell_type": "code",
   "execution_count": 52,
   "metadata": {},
   "outputs": [
    {
     "data": {
      "text/plain": [
       "['inputSDR',\n",
       " 'inputSDRts',\n",
       " 'inputVal2',\n",
       " 'inputVal1',\n",
       " 'inputTs',\n",
       " 'label1',\n",
       " 'sp_active',\n",
       " 'inputSDRval2',\n",
       " 'label2',\n",
       " 'inputSDRval1']"
      ]
     },
     "execution_count": 52,
     "metadata": {},
     "output_type": "execute_result"
    }
   ],
   "source": [
    "data[0].keys()"
   ]
  },
  {
   "cell_type": "code",
   "execution_count": 53,
   "metadata": {},
   "outputs": [
    {
     "name": "stdout",
     "output_type": "stream",
     "text": [
      "obs0\n",
      "Active col:  [ 358  359  366  369  371  372  375  376  378  379  384 1497 1498 1502 1506\n",
      " 1510 1513 1518 1519 1524 1525 1764 1769 1773 1775 1776 1779 1780 1786 1788\n",
      " 1789 1792 1794 1796 1797 1800 1801 1805 1814 1821]\n",
      "obs1\n",
      "Active col:  [ 358  359  366  369  371  372  375  376  378  379  384 1497 1498 1502 1503\n",
      " 1510 1513 1519 1524 1525 1538 1764 1769 1773 1775 1776 1779 1780 1786 1788\n",
      " 1789 1792 1794 1796 1797 1800 1801 1805 1814 1821]\n",
      "obs2\n",
      "Active col:  [ 358  359  366  369  371  372  375  376  378  379  384 1513 1516 1524 1525\n",
      " 1528 1530 1533 1538 1764 1769 1771 1773 1775 1776 1777 1779 1780 1781 1782\n",
      " 1786 1788 1789 1790 1792 1794 1797 1799 1800 1801]\n",
      "obs3\n",
      "Active col:  [ 358  359  366  369  371  372  375  376  378  379  384 1497 1498 1502 1503\n",
      " 1510 1513 1519 1524 1525 1538 1764 1769 1773 1775 1776 1779 1780 1786 1788\n",
      " 1789 1792 1794 1796 1797 1800 1801 1805 1814 1821]\n",
      "obs4\n",
      "Active col:  [ 358  359  366  369  371  372  375  376  378  379  384 1497 1498 1502 1506\n",
      " 1510 1513 1518 1519 1524 1525 1764 1769 1773 1775 1776 1779 1780 1786 1788\n",
      " 1789 1792 1794 1796 1797 1800 1801 1805 1814 1821]\n"
     ]
    }
   ],
   "source": [
    "for _ in xrange(5):\n",
    "    print \"obs\" + str(_)\n",
    "    print \"Active col: \", data[_]['sp_active']"
   ]
  },
  {
   "cell_type": "code",
   "execution_count": 54,
   "metadata": {},
   "outputs": [],
   "source": [
    "# Permanence\n",
    "# permanence = []\n",
    "\n",
    "# for i in xrange(sp.getColumnDimensions()):\n",
    "#     p = []\n",
    "#     sp.getPermanence(i, p)\n",
    "#     permanence.append(np.array(p))\n",
    "\n",
    "# permanence[0]"
   ]
  },
  {
   "cell_type": "markdown",
   "metadata": {},
   "source": [
    "For `Permanence > Threshold` we have a connection to the *inputSDR*."
   ]
  },
  {
   "cell_type": "markdown",
   "metadata": {},
   "source": [
    "Summarizing SP:"
   ]
  },
  {
   "cell_type": "code",
   "execution_count": 55,
   "metadata": {},
   "outputs": [
    {
     "name": "stdout",
     "output_type": "stream",
     "text": [
      "inputSDR:  [0 0 0 ..., 0 0 0]\n",
      "SDR active bits [189 190 191 192 193 194 195 196 197 198 199 200 201 202 203 204 205 206\n",
      " 207 208 209 811 812 813 814 815 816 817 818 819 820 821 822 823 824 825\n",
      " 826 827 828 829 830 831 964 965 966 967 968 969 970 971 972 973 974 975\n",
      " 976 977 978 979 980 981 982 983 984]\n",
      "SP active col:  [ 358  359  366  369  371  372  375  376  378  379  384 1497 1498 1502 1506\n",
      " 1510 1513 1518 1519 1524 1525 1764 1769 1773 1775 1776 1779 1780 1786 1788\n",
      " 1789 1792 1794 1796 1797 1800 1801 1805 1814 1821]\n",
      "\n",
      "------------\n",
      "SP active col: 358; \tOverlappin bits: 10\n",
      "SP active col: 359; \tOverlappin bits: 11\n",
      "SP active col: 366; \tOverlappin bits: 10\n",
      "SP active col: 369; \tOverlappin bits: 13\n",
      "SP active col: 371; \tOverlappin bits: 11\n",
      "SP active col: 372; \tOverlappin bits: 10\n",
      "SP active col: 375; \tOverlappin bits: 10\n",
      "SP active col: 376; \tOverlappin bits: 10\n",
      "SP active col: 378; \tOverlappin bits: 12\n",
      "SP active col: 379; \tOverlappin bits: 11\n",
      "SP active col: 384; \tOverlappin bits: 10\n",
      "SP active col: 1497; \tOverlappin bits: 11\n",
      "SP active col: 1498; \tOverlappin bits: 11\n",
      "SP active col: 1502; \tOverlappin bits: 11\n",
      "SP active col: 1506; \tOverlappin bits: 10\n",
      "SP active col: 1510; \tOverlappin bits: 11\n",
      "SP active col: 1513; \tOverlappin bits: 11\n",
      "SP active col: 1518; \tOverlappin bits: 9\n",
      "SP active col: 1519; \tOverlappin bits: 9\n",
      "SP active col: 1524; \tOverlappin bits: 11\n",
      "SP active col: 1525; \tOverlappin bits: 9\n",
      "SP active col: 1764; \tOverlappin bits: 9\n",
      "SP active col: 1769; \tOverlappin bits: 9\n",
      "SP active col: 1773; \tOverlappin bits: 9\n",
      "SP active col: 1775; \tOverlappin bits: 10\n",
      "SP active col: 1776; \tOverlappin bits: 10\n",
      "SP active col: 1779; \tOverlappin bits: 10\n",
      "SP active col: 1780; \tOverlappin bits: 13\n",
      "SP active col: 1786; \tOverlappin bits: 12\n",
      "SP active col: 1788; \tOverlappin bits: 9\n",
      "SP active col: 1789; \tOverlappin bits: 9\n",
      "SP active col: 1792; \tOverlappin bits: 10\n",
      "SP active col: 1794; \tOverlappin bits: 13\n",
      "SP active col: 1796; \tOverlappin bits: 9\n",
      "SP active col: 1797; \tOverlappin bits: 12\n",
      "SP active col: 1800; \tOverlappin bits: 9\n",
      "SP active col: 1801; \tOverlappin bits: 13\n",
      "SP active col: 1805; \tOverlappin bits: 9\n",
      "SP active col: 1814; \tOverlappin bits: 9\n",
      "SP active col: 1821; \tOverlappin bits: 9\n"
     ]
    }
   ],
   "source": [
    "entry = 0\n",
    "\n",
    "print \"inputSDR: \", data[entry]['inputSDR']\n",
    "print \"SDR active bits\", idx_active_cols(data[entry]['inputSDR'])\n",
    "print \"SP active col: \", data[entry]['sp_active']\n",
    "print \"\\n\", \"------------\"\n",
    "\n",
    "for i in data[entry]['sp_active']:\n",
    "    print \"SP active col: \" + str(i) + \"; \\tOverlappin bits: \" + str(sum(spSDR[i] * data[entry]['inputSDR']))\n",
    "\n",
    "#print \"Pemanence winning col: \", permanence[track[0]['sp_active']]"
   ]
  },
  {
   "cell_type": "markdown",
   "metadata": {},
   "source": [
    "# Temporal Pooler\n",
    "\n",
    "[link to wiki](http://nupic.docs.numenta.org/1.0.3/api/algorithms/sequence-memory.html#nupic.algorithms.backtracking_tm_cpp.BacktrackingTMCPP)\n",
    "\n",
    "Load `MODEL_PARAMS` fors TM:"
   ]
  },
  {
   "cell_type": "code",
   "execution_count": 56,
   "metadata": {},
   "outputs": [
    {
     "name": "stdout",
     "output_type": "stream",
     "text": [
      "### modelParams1\n",
      "{u'columnCount': 2048, u'activationThreshold': 13, u'pamLength': 3, u'cellsPerColumn': 32, u'permanenceDec': 0.1, u'minThreshold': 10, u'inputWidth': 2048, u'maxSynapsesPerSegment': 32, u'outputType': u'normal', u'initialPerm': 0.21, u'globalDecay': 0.0, u'maxAge': 0, u'newSynapseCount': 20, u'maxSegmentsPerCell': 128, u'permanenceInc': 0.1, u'temporalImp': u'cpp', u'seed': 1960, u'verbosity': 0}\n",
      "\n",
      " ### modelParams2\n",
      "{u'columnCount': 2048, u'activationThreshold': 13, u'pamLength': 3, u'cellsPerColumn': 32, u'permanenceDec': 0.1, u'minThreshold': 10, u'inputWidth': 2048, u'maxSynapsesPerSegment': 32, u'outputType': u'normal', u'initialPerm': 0.21, u'globalDecay': 0.0, u'maxAge': 0, u'newSynapseCount': 20, u'maxSegmentsPerCell': 128, u'permanenceInc': 0.1, u'temporalImp': u'cpp', u'seed': 1960, u'verbosity': 0}\n"
     ]
    }
   ],
   "source": [
    "print \"### modelParams1\"\n",
    "print modelParams1['modelConfig']['modelParams']['tmParams']\n",
    "print \"\\n ### modelParams2\"\n",
    "print modelParams2['modelConfig']['modelParams']['tmParams']"
   ]
  },
  {
   "cell_type": "markdown",
   "metadata": {},
   "source": [
    "same same"
   ]
  },
  {
   "cell_type": "code",
   "execution_count": 57,
   "metadata": {},
   "outputs": [],
   "source": [
    "selectedTMparams = { \n",
    "    'activationThreshold': 20,\n",
    "    'cellsPerColumn': 32,\n",
    "#     'columnCount': 2048,\n",
    "    'globalDecay': 0.0,\n",
    "    'initialPerm': 0.24,\n",
    "#     'inputWidth': 2048,\n",
    "    'maxAge': 0,\n",
    "    'maxSegmentsPerCell': 128,\n",
    "    'maxSynapsesPerSegment': 128,\n",
    "    'minThreshold': 13,\n",
    "    'newSynapseCount': 31,\n",
    "    'outputType': 'normal',\n",
    "    'permanenceDec': 0.008,\n",
    "    'permanenceInc': 0.04,\n",
    "#     'predictedSegmentDecrement': 0.001,\n",
    "    'seed': 1960,\n",
    "#     'temporalImp': 'tm_cpp',\n",
    "    'verbosity': 0,\n",
    "    ### Changes\n",
    "    'numberOfCols': modelParams1['modelConfig']['modelParams']['tmParams']['columnCount'],\n",
    "\n",
    "}"
   ]
  },
  {
   "cell_type": "markdown",
   "metadata": {},
   "source": [
    "To better understand the example we suggest to set `verbosity=5`"
   ]
  },
  {
   "cell_type": "code",
   "execution_count": 58,
   "metadata": {},
   "outputs": [],
   "source": [
    "from nupic.algorithms.backtracking_tm import BacktrackingTM"
   ]
  },
  {
   "cell_type": "code",
   "execution_count": 59,
   "metadata": {},
   "outputs": [],
   "source": [
    "# init TM\n",
    "tm = BacktrackingTM(**selectedTMparams)"
   ]
  },
  {
   "cell_type": "markdown",
   "metadata": {},
   "source": [
    "For every input, send the ACTIVE_sp_columns to TM as 0/1 vector"
   ]
  },
  {
   "cell_type": "code",
   "execution_count": 60,
   "metadata": {},
   "outputs": [],
   "source": [
    "for i in xrange(len(data)): #len(data)\n",
    "    # for every input, select the 'sp_active' col and get active bit in very col  \n",
    "     sp4tm = [spSDR.get(sp) for sp in data[i]['sp_active']]\n",
    "    # stack all the arrays in matrix and sum to see overlap \n",
    "     sp4tm = sum(np.array(sp4tm))\n",
    "    # if overlap 1 send active cols aove \n",
    "     sp4tm[sp4tm>0] = 1\n",
    "    \n",
    "    # send the vector with the SP active cols to TM\n",
    "     data[i]['sp4tm'] = sp4tm"
   ]
  },
  {
   "cell_type": "code",
   "execution_count": 61,
   "metadata": {},
   "outputs": [],
   "source": [
    "# Step 3: send the  input to the temporal memory for learning\n",
    "\n",
    "# # Send each input in the sequence in order\n",
    "# for i in xrange(len(data[:1000])):\n",
    "\n",
    "#     # The compute method performs one step of learning and/or inference. Note:\n",
    "#     # here we just perform learning but you can perform prediction/inference and\n",
    "#     # learning in the same step if you want (online learning).\n",
    "#     tm_output = tm.compute(data[i]['sp4tm'], enableLearn=True, enableInference=True)\n",
    "#     # This function prints the segments associated with every cell.$$$$\n",
    "#     # If you really want to understand the TP, uncomment this line. By following\n",
    "#     # every step you can get an excellent understanding for exactly how the TP\n",
    "#     # learns.\n",
    "#     #tm.printCells()"
   ]
  },
  {
   "cell_type": "markdown",
   "metadata": {},
   "source": [
    "Use the first 3000 entries to learn, test on the rest:"
   ]
  },
  {
   "cell_type": "markdown",
   "metadata": {},
   "source": [
    "## Anomaly Score\n",
    "\n",
    "[link](http://nupic.docs.numenta.org/stable/guides/anomaly-detection.html)\n",
    "\n",
    "The algorithm for the anomaly score is as follows:  \n",
    "\n",
    "AS = |A_(t) - (P_(t-1) cross A_(t))|  / |A_(t)|  \n",
    "\n",
    "A_(t):   Predicted columns at time t  \n",
    "P_(t-1): Active columns at time t\n",
    "\n",
    "**Note**: Here, a “predicted column” is a column with a non-zero confidence value. This is not exactly the same as having a cell in the predicted state. For more information, refer the “predicted cells vs. confidences” section below.  \n",
    "\n",
    "...to compute the confidences for a cell, the Temporal Pooler uses the soft match count (the number of active synapses, regardless of the permanence values). Therefore, the set of columns with non-zero confidences will always be a superset of the columns containing predicted cells."
   ]
  },
  {
   "cell_type": "code",
   "execution_count": 62,
   "metadata": {},
   "outputs": [],
   "source": [
    "def computeRawAnomalyScore(activeColumns, prevPredictedColumns):\n",
    "  \"\"\"Computes the raw anomaly score.\n",
    "\n",
    "  The raw anomaly score is the fraction of active columns not predicted.\n",
    "\n",
    "  :param activeColumns: array of active column indices\n",
    "  :param prevPredictedColumns: array of columns indices predicted in prev step\n",
    "  :returns: anomcaly score 0..1 (float)\n",
    "  \"\"\"\n",
    "  nActiveColumns = len(activeColumns)\n",
    "  if nActiveColumns > 0:\n",
    "    # Test whether each element of a 1-D array is also present in a second\n",
    "    # array. Sum to get the total # of columns that are active and were\n",
    "    # predicted.\n",
    "    score = np.in1d(activeColumns, prevPredictedColumns).sum()\n",
    "    # Get the percent of active columns that were NOT predicted, that is\n",
    "    # our anomaly score.\n",
    "    score = (nActiveColumns - score) / float(nActiveColumns)\n",
    "  else:\n",
    "    # There are no active columns.\n",
    "    score = 0.0\n",
    "\n",
    "  return score"
   ]
  },
  {
   "cell_type": "code",
   "execution_count": 63,
   "metadata": {},
   "outputs": [],
   "source": [
    "# Utility routine for printing the input vector\n",
    "def formatRow(x):\n",
    "    s = ''\n",
    "    for c in range(len(x)):\n",
    "        if c > 0 and c % 10 == 0:\n",
    "            s += ' '\n",
    "        s += str(x[c])\n",
    "    s += ' '\n",
    "    return s"
   ]
  },
  {
   "cell_type": "markdown",
   "metadata": {},
   "source": [
    "## Anomaly Likelihood\n",
    "\n",
    "``` \n",
    "from nupic.algorithms.anomaly_likelihood import AnomalyLikelihood\n",
    "\n",
    "class AnomalyLikelihood(claLearningPeriod=None,\n",
    "                       learningPeriod=288,\n",
    "                       estimationSamples=100,\n",
    "                       historicWindowSize=8640,\n",
    "                       reestimationPeriod=100)):\n",
    "\n",
    "    NOTE: Anomaly likelihood scores are reported at a flat 0.5 for\n",
    "    learningPeriod + estimationSamples iterations.\n",
    "\n",
    "    claLearningPeriod and learningPeriod are specifying the same variable,\n",
    "    although claLearningPeriod is a deprecated name for it.\n",
    "\n",
    "    :param learningPeriod: (claLearningPeriod: deprecated) - (int) the number of\n",
    "      iterations required for the algorithm to learn the basic patterns in the\n",
    "      dataset and for the anomaly score to 'settle down'. The default is based\n",
    "      on empirical observations but in reality this could be larger for more\n",
    "      complex domains. The downside if this is too large is that real anomalies\n",
    "      might get ignored and not flagged.\n",
    "\n",
    "    :param estimationSamples: (int) the number of reasonable anomaly scores\n",
    "      required for the initial estimate of the Gaussian. The default of 100\n",
    "      records is reasonable - we just need sufficient samples to get a decent\n",
    "      estimate for the Gaussian. It's unlikely you will need to tune this since\n",
    "      the Gaussian is re-estimated every 10 iterations by default.\n",
    "\n",
    "    :param historicWindowSize: (int) size of sliding window of historical\n",
    "      data points to maintain for periodic reestimation of the Gaussian. Note:\n",
    "      the default of 8640 is based on a month's worth of history at 5-minute\n",
    "      intervals.\n",
    "\n",
    "    :param reestimationPeriod: (int) how often we re-estimate the Gaussian\n",
    "      distribution. The ideal is to re-estimate every iteration but this is a\n",
    "      performance hit. In general the system is not very sensitive to this\n",
    "      number as long as it is small relative to the total number of records\n",
    "      processed.\n",
    "    ```"
   ]
  },
  {
   "cell_type": "code",
   "execution_count": 64,
   "metadata": {},
   "outputs": [],
   "source": [
    "from nupic.algorithms.anomaly_likelihood import AnomalyLikelihood"
   ]
  },
  {
   "cell_type": "code",
   "execution_count": 65,
   "metadata": {},
   "outputs": [],
   "source": [
    "anomalyLikelihood = AnomalyLikelihood()\n",
    "\n",
    "# for i in xrange(100):  # len(data)\n",
    "#     # Compute the Anomaly Likelihood\n",
    "#     likelihood = anomalyLikelihood.anomalyProbability(data[i]['inputVal'], data[i]['AnomalyScore'], data[i]['inputTs'])\n",
    "#     #likelihood = anomalyLikelihood.anomalyProbability(inputData[\"value\"], anomalyScore, inputData[\"dttm\"])\n",
    "#     logLikelihood = anomalyLikelihood.computeLogLikelihood(likelihood)\n",
    "#     data[i]['lh'] = likelihood    \n",
    "#     data[i]['logLH'] = likelihood\n",
    "#     #if likelihood > 0.9999:\n",
    "#         #print \"Anomaly detected:\", track[i]['inputVal'], track[i]['inputTs'], likelihood"
   ]
  },
  {
   "cell_type": "markdown",
   "metadata": {},
   "source": [
    "## Run Experiment"
   ]
  },
  {
   "cell_type": "code",
   "execution_count": 66,
   "metadata": {},
   "outputs": [],
   "source": [
    "# Step 4: send the same sequence of vectors and look at predictions made by\n",
    "# temporal memory\n",
    "\n",
    "\n",
    "for i in xrange(len(data)):  # len(data) \n",
    "#     print \"\\n\\n--------\" + str(i) + \"-----------\"\n",
    "#     print \"Raw input vector\\n\",formatRow(track[i]['sp4tm'])\n",
    "\n",
    "    # Send each vector to the TP, with learning turned off\n",
    "    tm.compute(data[i]['sp4tm'], enableLearn=True, enableInference=True)\n",
    "\n",
    "    # This method prints out the active state of each cell followed by the\n",
    "    # predicted state of each cell. For convenience the cells are grouped\n",
    "    # 10 at a time. When there are multiple cells per column the printout\n",
    "    # is arranged so the cells in a column are stacked together\n",
    "    #\n",
    "    # What you should notice is that the columns where active state is 1\n",
    "    # represent the SDR for the current input pattern and the columns where\n",
    "    # predicted state is 1 represent the SDR for the next expected pattern\n",
    "#     print \"\\nAll the active and predicted cells:\"\n",
    "#     tm.printStates(printPrevious=False, printLearnState=False)\n",
    "\n",
    "    # tm.getPredictedState() gets the predicted cells.\n",
    "    # predictedCells[c][i] represents the state of the i'th cell in the c'th\n",
    "    # column. To see if a column is predicted, we can simply take the OR\n",
    "    # across all the cells in that column. In numpy we can do this by taking\n",
    "    # the max along axis 1.\n",
    "#     print \"\\n\\nThe following columns are predicted by the temporal memory. This\"\n",
    "#     print \"should correspond to columns in the *next* item in the sequence.\"\n",
    "#     predictedCells = tm.getPredictedState()\n",
    "#     print formatRow(predictedCells.max(axis=1).nonzero())\n",
    "    \n",
    "    ## ANOMALY SCORE\n",
    "    data[i]['TMpredictedCells'] = tm.cellConfidence['t-1']\n",
    "    #data[i]['TMpredictedCells_2'] = tm.infPredictedState['t-1']\n",
    "    data[i]['TMactiveCells'] = tm.infActiveState['t']           \n",
    "    data[i]['AnomalyScore'] = computeRawAnomalyScore(idx_active_cols(tm.infActiveState['t']), idx_active_cols(tm.cellConfidence['t-1']))\n",
    "    #data[i]['AnomalyScore2'] = computeRawAnomalyScore(idx_active_cols(tm.infActiveState['t']), idx_active_cols(tm.infPredictedState['t-1']))\n",
    "    likelihood = anomalyLikelihood.anomalyProbability(data[i]['inputVal1'], data[i]['AnomalyScore'], data[i]['inputTs'])\n",
    "    #likelihood = anomalyLikelihood.anomalyProbability(inputData[\"value\"], anomalyScore, inputData[\"dttm\"])\n",
    "    logLikelihood = anomalyLikelihood.computeLogLikelihood(likelihood)\n",
    "    data[i]['lh'] = likelihood    \n",
    "    data[i]['logLH'] = logLikelihood\n",
    "    \n",
    "    if likelihood > 0.9999:\n",
    "        data[i]['flagLH'] = 1\n",
    "    else:\n",
    "        data[i]['flagLH'] = 0\n",
    "    \n",
    "    ## Anomaly Attribution\n",
    "    # check overlapping columns\n",
    "    idxOverlap = np.in1d(idx_active_cols(tm.infActiveState['t']), idx_active_cols(tm.cellConfidence['t-1']))\n",
    "    # shows actual active column that do not overalp with prediction\n",
    "    data[i]['idxAS'] = idx_active_cols(tm.infActiveState['t'])[idxOverlap == False]"
   ]
  },
  {
   "cell_type": "markdown",
   "metadata": {},
   "source": [
    "## Results Inspection"
   ]
  },
  {
   "cell_type": "code",
   "execution_count": 67,
   "metadata": {},
   "outputs": [],
   "source": [
    "# vAnomalyScore = []\n",
    "# #vAnomalyScore2 = []\n",
    "# vLH = []\n",
    "# vLogLH = []\n",
    "# vFlagLH = []\n",
    "\n",
    "# for i in xrange(len(data)):\n",
    "#     vAnomalyScore.append(data[i].get('AnomalyScore'))    \n",
    "#  #   vAnomalyScore2.append(track[i].get('AnomalyScore'))    \n",
    "#     vLH.append(data[i].get('lh'))\n",
    "#     vLogLH.append(data[i].get('logLH'))\n",
    "#     vFlagLH.append(data[i].get('flagLH'))"
   ]
  },
  {
   "cell_type": "code",
   "execution_count": 68,
   "metadata": {},
   "outputs": [],
   "source": [
    "# pd.Series(vAnomalyScore).plot()\n",
    "# pd.Series(vLH).plot()\n",
    "# pd.Series(vLogLH).plot()\n",
    "# pd.Series(vFlagLH).plot()"
   ]
  },
  {
   "cell_type": "code",
   "execution_count": 69,
   "metadata": {},
   "outputs": [],
   "source": [
    "df = pd.DataFrame.from_records(data)"
   ]
  },
  {
   "cell_type": "code",
   "execution_count": 70,
   "metadata": {},
   "outputs": [],
   "source": [
    "import matplotlib.pyplot as plt \n",
    "import matplotlib.dates as mdates"
   ]
  },
  {
   "cell_type": "code",
   "execution_count": 71,
   "metadata": {},
   "outputs": [],
   "source": [
    "idcs1 = df.label1[df.label1==1].index\n",
    "idcs2 = df.label2[df.label2==1].index"
   ]
  },
  {
   "cell_type": "code",
   "execution_count": 72,
   "metadata": {},
   "outputs": [
    {
     "data": {
      "image/png": "[encoded data removed]",
      "text/plain": [
       "<Figure size 1080x504 with 2 Axes>"
      ]
     },
     "metadata": {
      "needs_background": "light"
     },
     "output_type": "display_data"
    }
   ],
   "source": [
    "a = 0\n",
    "b = -1\n",
    "\n",
    "fig, ax = plt.subplots(2, sharex=True, figsize=(15,7))\n",
    "ax[0].plot(df.inputVal1[a:b], color='b')\n",
    "ax[0].plot(df.inputVal2[a:b], color='g')\n",
    "ax[0].set(ylabel='temperature_C', title=PATH_relative)\n",
    "#ax[0].vlines(idcs[a:b], 0, 1, transform=ax[0].get_xaxis_transform(), colors='y')\n",
    "#ax[0].vlines(anomalies_gt, 0, 1, transform=ax[0].get_xaxis_transform(), colors='b', linestyles={'dashed'})\n",
    "ax[0].plot(df.label1[a:b], color='y', label='groundtruth1')\n",
    "ax[0].plot(df.label1[a:b], color='m', label='groundtruth2')\n",
    "\n",
    "\n",
    "ax[1].plot(df.AnomalyScore[a:b], label='anomaly_score')\n",
    "ax[1].set(ylabel='Anomaly Score and LH')\n",
    "ax[1].plot(df.lh[a:b], color='r', alpha=0.5, label='anomaly_LH')\n",
    "ax[1].plot(df.logLH[a:b], color='c', alpha=0.5, label='logLH')\n",
    "ax[1].axhline(y=0.5, \n",
    "              color='r', linestyle='--', linewidth=0.4)\n",
    "              #xmin=data.anomaly_likelihood.index[a], xmax=data.anomaly_likelihood.index[b])\n",
    "#ax[1].vlines(idcs[a:b], 0, 1, transform=ax[1].get_xaxis_transform(), alpha=0.9, colors='y', label='groundtruth')\n",
    "ax[1].plot(df.label1[a:b], color='y', label='groundtruth1')\n",
    "ax[1].plot(df.label2[a:b], color='m', label='groundtruth2')\n",
    "ax[1].plot(df.flagLH[a:b], color='k', label='flagLH')\n",
    "ax[1].set(xlabel='time (5min)')\n",
    "ax[1].legend(loc=1)\n",
    "\n",
    "#set ticks every week\n",
    "ax[1].xaxis.set_major_locator(mdates.WeekdayLocator())\n",
    "#set major ticks format\n",
    "ax[1].xaxis.set_major_formatter(mdates.DateFormatter('%b %d'))"
   ]
  },
  {
   "cell_type": "code",
   "execution_count": 531,
   "metadata": {},
   "outputs": [
    {
     "data": {
      "text/plain": [
       "Index([u'AnomalyScore', u'TMactiveCells', u'TMpredictedCells', u'flagLH',\n",
       "       u'idxAS', u'inputSDR', u'inputSDRts', u'inputSDRval1', u'inputSDRval2',\n",
       "       u'inputTs', u'inputVal1', u'inputVal2', u'label1', u'label2', u'lh',\n",
       "       u'logLH', u'sp4tm', u'sp_active', u'labels', u'flagLogLH'],\n",
       "      dtype='object')"
      ]
     },
     "execution_count": 531,
     "metadata": {},
     "output_type": "execute_result"
    }
   ],
   "source": [
    "df.columns"
   ]
  },
  {
   "cell_type": "code",
   "execution_count": 74,
   "metadata": {},
   "outputs": [
    {
     "name": "stdout",
     "output_type": "stream",
     "text": [
      "Number of Anomaly according to HTM:  8\n",
      "Number of Anomaly according to GT:  5\n"
     ]
    }
   ],
   "source": [
    "print \"Number of Anomaly according to HTM: \", sum(df.flagLH)\n",
    "print \"Number of Anomaly according to GT: \", sum(df.loc[(df['label1'] == 1) | (df['label2'] == 1), 'flagLH'])"
   ]
  },
  {
   "cell_type": "markdown",
   "metadata": {},
   "source": [
    "Which Sensor caused the anomaly?"
   ]
  },
  {
   "cell_type": "code",
   "execution_count": 75,
   "metadata": {},
   "outputs": [
    {
     "data": {
      "text/plain": [
       "401     [898, 902, 904, 906, 1004, 1018, 1026, 1029, 1...\n",
       "402     [227, 883, 884, 889, 890, 891, 892, 895, 896, ...\n",
       "690     [883, 884, 885, 887, 889, 890, 891, 892, 893, ...\n",
       "876     [190, 225, 226, 230, 231, 802, 832, 1051, 1052...\n",
       "899                                                    []\n",
       "2883    [199, 204, 210, 213, 217, 229, 866, 869, 870, ...\n",
       "2884    [207, 225, 226, 229, 230, 231, 236, 870, 871, ...\n",
       "2893                                                   []\n",
       "Name: idxAS, dtype: object"
      ]
     },
     "execution_count": 75,
     "metadata": {},
     "output_type": "execute_result"
    }
   ],
   "source": [
    "df.loc[df['flagLH']==1, 'idxAS']"
   ]
  },
  {
   "cell_type": "code",
   "execution_count": 76,
   "metadata": {},
   "outputs": [
    {
     "data": {
      "text/plain": [
       "([0, 809], [810, 960], [961, 1111])"
      ]
     },
     "execution_count": 76,
     "metadata": {},
     "output_type": "execute_result"
    }
   ],
   "source": [
    "inputTsIdx, inputVal1Idx, inputVal2Idx"
   ]
  },
  {
   "cell_type": "code",
   "execution_count": 77,
   "metadata": {},
   "outputs": [],
   "source": [
    "featureImportance = []\n",
    "\n",
    "for i in df.loc[df['flagLH']==1, 'idxAS'].index:\n",
    "    attribution = []\n",
    "    for j in df.loc[i, 'idxAS']:\n",
    "        if j <= inputTsIdx[1]:\n",
    "            attribution.append(0)\n",
    "        if j >= inputVal1Idx[0] and j <= inputVal1Idx[1]:\n",
    "            attribution.append(1)\n",
    "        if j >= inputVal2Idx[0] and j <= inputVal2Idx[1]:\n",
    "            attribution.append(2)    \n",
    "        else:\n",
    "            pass\n",
    "    temp = {'idx':i, 'ts': attribution.count(0), 'val1': attribution.count(1), 'val2': attribution.count(2)}\n",
    "    featureImportance.append(temp)"
   ]
  },
  {
   "cell_type": "code",
   "execution_count": 78,
   "metadata": {},
   "outputs": [
    {
     "data": {
      "text/plain": [
       "[{'idx': 401, 'ts': 0, 'val1': 4, 'val2': 10},\n",
       " {'idx': 402, 'ts': 1, 'val1': 11, 'val2': 8},\n",
       " {'idx': 690, 'ts': 0, 'val1': 22, 'val2': 1},\n",
       " {'idx': 876, 'ts': 6, 'val1': 1, 'val2': 34},\n",
       " {'idx': 899, 'ts': 0, 'val1': 0, 'val2': 0},\n",
       " {'idx': 2883, 'ts': 6, 'val1': 26, 'val2': 6},\n",
       " {'idx': 2884, 'ts': 7, 'val1': 26, 'val2': 0},\n",
       " {'idx': 2893, 'ts': 0, 'val1': 0, 'val2': 0}]"
      ]
     },
     "execution_count": 78,
     "metadata": {},
     "output_type": "execute_result"
    }
   ],
   "source": [
    "featureImportance"
   ]
  },
  {
   "cell_type": "code",
   "execution_count": 79,
   "metadata": {},
   "outputs": [
    {
     "data": {
      "image/png": "[encoded data removed]",
      "text/plain": [
       "<Figure size 432x288 with 1 Axes>"
      ]
     },
     "metadata": {
      "needs_background": "light"
     },
     "output_type": "display_data"
    },
    {
     "data": {
      "image/png": "[encoded data removed]",
      "text/plain": [
       "<Figure size 432x288 with 1 Axes>"
      ]
     },
     "metadata": {
      "needs_background": "light"
     },
     "output_type": "display_data"
    },
    {
     "data": {
      "image/png": "[encoded data removed]",
      "text/plain": [
       "<Figure size 432x288 with 1 Axes>"
      ]
     },
     "metadata": {
      "needs_background": "light"
     },
     "output_type": "display_data"
    },
    {
     "data": {
      "image/png": "[encoded data removed]",
      "text/plain": [
       "<Figure size 432x288 with 1 Axes>"
      ]
     },
     "metadata": {
      "needs_background": "light"
     },
     "output_type": "display_data"
    },
    {
     "data": {
      "image/png": "[encoded data removed]",
      "text/plain": [
       "<Figure size 432x288 with 1 Axes>"
      ]
     },
     "metadata": {
      "needs_background": "light"
     },
     "output_type": "display_data"
    },
    {
     "data": {
      "image/png": "[encoded data removed]",
      "text/plain": [
       "<Figure size 432x288 with 1 Axes>"
      ]
     },
     "metadata": {
      "needs_background": "light"
     },
     "output_type": "display_data"
    },
    {
     "data": {
      "image/png": "[encoded data removed]",
      "text/plain": [
       "<Figure size 432x288 with 1 Axes>"
      ]
     },
     "metadata": {
      "needs_background": "light"
     },
     "output_type": "display_data"
    },
    {
     "data": {
      "image/png": "[encoded data removed]",
      "text/plain": [
       "<Figure size 432x288 with 1 Axes>"
      ]
     },
     "metadata": {
      "needs_background": "light"
     },
     "output_type": "display_data"
    }
   ],
   "source": [
    "for i in xrange(len(featureImportance)):\n",
    "    names = [k for k,v in featureImportance[i].iteritems() if k not in ('idx')]\n",
    "    values = [v for k,v in featureImportance[i].iteritems() if k not in ('idx')]\n",
    "    plt.figure()\n",
    "    plt.bar(names, values)\n",
    "    plt.title(df.loc[featureImportance[i]['idx'], ['label1', 'label2', 'flagLH']])"
   ]
  },
  {
   "cell_type": "markdown",
   "metadata": {},
   "source": [
    "**TODOES**\n",
    "Inspect 899 and 2893, why `idxAS` array is empty?"
   ]
  },
  {
   "cell_type": "code",
   "execution_count": 80,
   "metadata": {},
   "outputs": [
    {
     "data": {
      "text/plain": [
       "array([], dtype=int64)"
      ]
     },
     "execution_count": 80,
     "metadata": {},
     "output_type": "execute_result"
    }
   ],
   "source": [
    "df.loc[899, 'idxAS']\n",
    "df.loc[2893, 'idxAS']"
   ]
  },
  {
   "cell_type": "markdown",
   "metadata": {},
   "source": [
    "## Results"
   ]
  },
  {
   "cell_type": "code",
   "execution_count": 1281,
   "metadata": {},
   "outputs": [],
   "source": [
    "# Group all labels together\n",
    "df['labels'] = df.loc[: , ['label1', 'label2']].sum(axis=1)\n",
    "#be sure they sum to 1, also for anomalies that happens at the same time on different variables\n",
    "df['labels'] = [1 if x>0 else 0 for x in df['labels']]"
   ]
  },
  {
   "cell_type": "code",
   "execution_count": 1288,
   "metadata": {},
   "outputs": [
    {
     "data": {
      "image/png": "[encoded data removed]",
      "text/plain": [
       "<Figure size 1080x432 with 2 Axes>"
      ]
     },
     "metadata": {
      "needs_background": "light"
     },
     "output_type": "display_data"
    }
   ],
   "source": [
    "fig, ax = plt.subplots(1, 2, figsize=(15,6))\n",
    "\n",
    "ax[0].plot(df.lh)\n",
    "ax[0].plot(df.AnomalyScore, alpha=0.4)\n",
    "ax[0].vlines(df[df['labels']==1]['labels'].index, 0, 1, \n",
    "               transform=ax[0].get_xaxis_transform(), \n",
    "               colors='y', alpha=0.5)\n",
    "ax[0].set(\n",
    "    title='Anomaly Likelihood',\n",
    "    ylabel='Anomaly LH')\n",
    "\n",
    "ax[1].plot(df.logLH)\n",
    "ax[1].plot(df.AnomalyScore, alpha=0.4)\n",
    "ax[1].set(\n",
    "    title='Anomaly LogLH',\n",
    "    ylabel='Anomaly LogLH')\n",
    "ax[1].vlines(df[df['labels']==1]['labels'].index, 0, 1, \n",
    "               transform=ax[1].get_xaxis_transform(), \n",
    "               colors='y', alpha=0.5)\n",
    "\n",
    "plt.show()"
   ]
  },
  {
   "cell_type": "markdown",
   "metadata": {},
   "source": [
    "---\n",
    "We create an anomaly window boths as **as time stamp** and **indices values**. \n",
    "We will work with the **indices values**, because we already integrated it in the `labels`, maybe is simpler to work on with the `labels`, insted of makes copies and copies of the same variable.\n",
    "We mantain also the **timestamp**, to proof the `sweeper` algorithm in NAB that scores the data sets and find the best threshold value."
   ]
  },
  {
   "cell_type": "code",
   "execution_count": 985,
   "metadata": {},
   "outputs": [
    {
     "data": {
      "text/plain": [
       "('artificialWithAnomaly/art_daily_flatmiddle.csv',\n",
       " 'artificialWithAnomaly/art_daily_jumpsup_AB.csv')"
      ]
     },
     "execution_count": 985,
     "metadata": {},
     "output_type": "execute_result"
    }
   ],
   "source": [
    "lPATH_relative = (PATH_relative1, PATH_relative2)\n",
    "lPATH_relative"
   ]
  },
  {
   "cell_type": "markdown",
   "metadata": {},
   "source": [
    "We don't need the anomaly window, as time stamp, since we already integrated it in the `labels`, maybe is simpler to work on with the `labels`, insted of makes copies and copies of the same variable."
   ]
  },
  {
   "cell_type": "code",
   "execution_count": 1090,
   "metadata": {},
   "outputs": [],
   "source": [
    "lPATH_relative = (PATH_relative1, PATH_relative2)\n",
    "# [labels[i] for i in lPATH_relative] returns a list of lists [[[list1]],[[list2]]], \n",
    "windowsTS = [labels[i] for i in lPATH_relative]\n",
    "# so adding to flat it down to [[list1],[list2]]\n",
    "windowsTS = [val for sublist in windowsTS for val in sublist]\n",
    "\n",
    "# change format from str to datetime\n",
    "# windowsTS = [[datetime.datetime.strptime(string, '%Y-%m-%d %H:%M:%S.%f') for string in sublist] for sublist in windowsTS]"
   ]
  },
  {
   "cell_type": "code",
   "execution_count": 1091,
   "metadata": {},
   "outputs": [
    {
     "data": {
      "text/plain": [
       "[[u'2014-04-10 07:15:00.000000', u'2014-04-11 16:45:00.000000'],\n",
       " [u'2014-04-03 20:10:00.000000', u'2014-04-04 16:25:00.000000']]"
      ]
     },
     "execution_count": 1091,
     "metadata": {},
     "output_type": "execute_result"
    }
   ],
   "source": [
    "windowsTS"
   ]
  },
  {
   "cell_type": "code",
   "execution_count": 1255,
   "metadata": {},
   "outputs": [],
   "source": [
    "TPscore = []\n",
    "relativePosition = []\n",
    "previous = 0\n",
    "windows = []\n",
    "idx = list(df[df['labels']==1]['labels'].index)\n",
    "window = []\n",
    "window.append(idx.pop(0))\n",
    "\n",
    "while idx:\n",
    "    current = idx.pop(0)\n",
    "    if current == (window[previous]+1):\n",
    "        window.append(current)\n",
    "#        counter.append(previous)\n",
    "        previous += 1\n",
    "        \n",
    "    else:\n",
    "        #i.append(previous)\n",
    "        windows.append(window)\n",
    "        relativePosition.append(range(len(window)))\n",
    "        window = []  # reset window\n",
    "        #counter = []\n",
    "        previous = 0\n",
    "        window.append(current)\n",
    "    \n",
    "# store the last `window` after while brakes\n",
    "windows.append(window)\n",
    "relativePosition.append(range(len(window)))"
   ]
  },
  {
   "cell_type": "markdown",
   "metadata": {},
   "source": [
    "## NAB Scorer"
   ]
  },
  {
   "cell_type": "code",
   "execution_count": 1092,
   "metadata": {},
   "outputs": [],
   "source": [
    "import nab.sweeper as sw"
   ]
  },
  {
   "cell_type": "code",
   "execution_count": 1541,
   "metadata": {},
   "outputs": [
    {
     "data": {
      "text/plain": [
       "Index([u'AnomalyScore', u'TMactiveCells', u'TMpredictedCells', u'flagLH',\n",
       "       u'idxAS', u'inputSDR', u'inputSDRts', u'inputSDRval1', u'inputSDRval2',\n",
       "       u'inputTs', u'inputVal1', u'inputVal2', u'label1', u'label2', u'lh',\n",
       "       u'logLH', u'sp4tm', u'sp_active', u'labels', u'flagLogLH',\n",
       "       u'relativeWindowPosition', u'TPrelativeScore'],\n",
       "      dtype='object')"
      ]
     },
     "execution_count": 1541,
     "metadata": {},
     "output_type": "execute_result"
    }
   ],
   "source": [
    "df.columns"
   ]
  },
  {
   "cell_type": "code",
   "execution_count": 1094,
   "metadata": {},
   "outputs": [
    {
     "data": {
      "text/plain": [
       "[[u'2014-04-10 07:15:00.000000', u'2014-04-11 16:45:00.000000'],\n",
       " [u'2014-04-03 20:10:00.000000', u'2014-04-04 16:25:00.000000']]"
      ]
     },
     "execution_count": 1094,
     "metadata": {},
     "output_type": "execute_result"
    }
   ],
   "source": [
    "windowsTS"
   ]
  },
  {
   "cell_type": "code",
   "execution_count": 1096,
   "metadata": {},
   "outputs": [],
   "source": [
    "temp = sw.Sweeper()\n",
    "\n",
    "sweeper1 = temp.calcSweepScore(timestamps=df.inputTs, \n",
    "                    anomalyScores=df.lh, #df.logLH,\n",
    "                    windowLimits=windowsTS, \n",
    "                    dataSetName=\"testName\")\n",
    "sweeper2 = temp.calcScoreByThreshold(sweeper1)"
   ]
  },
  {
   "cell_type": "code",
   "execution_count": 1097,
   "metadata": {},
   "outputs": [
    {
     "data": {
      "text/plain": [
       "0.15"
      ]
     },
     "execution_count": 1097,
     "metadata": {},
     "output_type": "execute_result"
    }
   ],
   "source": [
    "temp.probationPercent"
   ]
  },
  {
   "cell_type": "code",
   "execution_count": 1104,
   "metadata": {},
   "outputs": [],
   "source": [
    "a, b = temp.scoreDataSet(timestamps=df.inputTs, \n",
    "                    anomalyScores=df.lh,\n",
    "                    windowLimits=windowsTS, \n",
    "                    dataSetName=\"testName\",\n",
    "                    threshold=0.999999)"
   ]
  },
  {
   "cell_type": "code",
   "execution_count": 1103,
   "metadata": {},
   "outputs": [
    {
     "data": {
      "text/plain": [
       "ThresholdScore(threshold=0.99999971064622173, score=0.0, tp=0, tn=3426, fp=2, fn=0, total=3428)"
      ]
     },
     "execution_count": 1103,
     "metadata": {},
     "output_type": "execute_result"
    }
   ],
   "source": [
    "b"
   ]
  },
  {
   "cell_type": "markdown",
   "metadata": {},
   "source": [
    "## MY SCORER\n",
    "\n",
    "Instead of using a Sigmoid function as suggested in NAB, we assigned the score according to the **%** position within the window.  \n",
    "Furthermore, we will just take into account the first *TP* to assign the score."
   ]
  },
  {
   "cell_type": "code",
   "execution_count": 1268,
   "metadata": {},
   "outputs": [],
   "source": [
    "df['relativeWindowPosition'] = np.zeros_like(df['labels'])\n",
    "df['TPrelativeScore'] = np.zeros_like(df['labels'])\n",
    "\n",
    "for i in xrange(len(windows)):\n",
    "    df.loc[windows[i], 'relativeWindowPosition'] = relativePosition[i]\n",
    "    for j in windows[i]:\n",
    "        df.loc[j, 'TPrelativeScore'] = 100*(1-float(df.loc[j, 'relativeWindowPosition'])/len(windows[i]))"
   ]
  },
  {
   "cell_type": "code",
   "execution_count": 1480,
   "metadata": {},
   "outputs": [],
   "source": [
    "def nab_confusion_matrix(df, labelCol, predCol, windows, output='array'):\n",
    "    \"\"\"\n",
    "    This function builds a confusion matrix how described in https://arxiv.org/abs/1510.03336.\\\n",
    "    The anomalies are usually not single observations, but a succession of observations: 'windows'.\\\n",
    "    If an anomaly is detected within the window, than TP=+1. Otherwise, if for an anomaly window no \\\n",
    "    anomalous event are detected then FN=+1. The particularity is that a window o points just returns \\\n",
    "    weather 1 TP or 1 FP, no matter how many detections have been detected within the intervall.\n",
    "    \n",
    "    Parameters\n",
    "    ----------\n",
    "    df: pd.DataFrame\n",
    "        Dataframe containing the grountruth labels and the predictions.\n",
    "    labelCol: str\n",
    "        Column's name within the dataframe where the groundtruth labels are stored.\n",
    "    predCol: str\n",
    "        Column's name within the dataframe where the predictions are stored.\n",
    "    windows: list of lists\n",
    "        List of with indices for every window.\n",
    "        Example of a list containing 2 anomaly windows. \n",
    "        windows = [[10, 11, 12, 13, 14, 15, 16], \n",
    "                   [65, 66, 67, 68, 69, 70]]\n",
    "    output: str, deafault='array' or 'df'\n",
    "        To determine if the output should be an array or a dataframe. \n",
    "    \n",
    "    Output\n",
    "    ------\n",
    "    cm: pd.DataFrame or array\n",
    "        Nice formatted dataframe or a simple matrix containing the Confusion Matrix.\n",
    "        \n",
    "    \"\"\"\n",
    "       \n",
    "    TN = 0\n",
    "    FP = 0\n",
    "    TP = 0\n",
    "    FN = 0\n",
    "\n",
    "    for i in xrange(df.shape[0]):\n",
    "        if (df.loc[i, labelCol]==0) & (df.loc[i, predCol]==0):\n",
    "            TN =+ TN+1\n",
    "        if (df.loc[i, labelCol]==0) & (df.loc[i, predCol]==1):\n",
    "            FP =+ FP+1\n",
    "               \n",
    "    for i in xrange(len(windows)):\n",
    "        #for every window:\n",
    "        #proof that all the 'labels' in the window are 1:\n",
    "        if (df.loc[windows[i], labelCol].sum()) == (len(df.loc[windows[i], labelCol])):\n",
    "            # if any anomaly has been detected in the window assign 1 to TP\n",
    "            if df.loc[windows[i], labelCol].sum() > 0:\n",
    "                TP =+ TP+1\n",
    "            # if no anomaly has been detected in the window assign 1 to FN    \n",
    "            if df.loc[windows[i], labelCol].sum() == 0:\n",
    "                FN =+ FN+1\n",
    "        else:\n",
    "            print \"Sum Anomalies within the window: \", df.loc[windows[i], labelCol].sum()\n",
    "            print \"Lenght Anomaly window: \", len(df.loc[windows[i], labelCol])\n",
    "            print \"Sum Anomalies within the window must be the lenght of the nomaly window.\"\n",
    "            print \"'labels' whitin the window are not all 1. Check 'labels'!!\"\n",
    "    \n",
    "    if output == 'array':\n",
    "        cm = np.array([TP, FP, FN, TN]).reshape(2, 2)\n",
    "    \n",
    "    if output == 'df':\n",
    "        cm = pd.DataFrame(np.array([TP, FP, FN, TN]).reshape(2,2),\n",
    "                 index=pd.MultiIndex.from_product([['Predicted'], ['T', 'F']]),\n",
    "                 columns=pd.MultiIndex.from_product([['Groundtruth'],['T', 'F']]))\n",
    "    return cm"
   ]
  },
  {
   "cell_type": "code",
   "execution_count": 1714,
   "metadata": {},
   "outputs": [],
   "source": [
    "def get_TPrelativeScore(df, anomalyWindows, predCol, TPrelativeScoreCol):\n",
    "    \"\"\"\n",
    "    This function caculates the 'True Positive relative score' for a given threshold.\n",
    "    It help us establish 'how soon' or 'haw late' an anomaly within a anomaly window has been detected.\n",
    "    The raw score for 1 anomaly window goes form 100 to 0, according to the event that has been flag.\n",
    "    This function helps sum the score of every anomaly window together.\n",
    "    \n",
    "    Parameters\n",
    "    ----------\n",
    "    df: pd.DataFrame\n",
    "        Dataframe containing the grountruth labels, predictions, LH- and/or LogLH-scores.\n",
    "    anomalyWindows: list of lists\n",
    "        List of with indices for every window.\n",
    "        Example of a list containing 2 anomaly windows. \n",
    "        windows = [[10, 11, 12, 13, 14, 15, 16], \n",
    "                   [65, 66, 67, 68, 69, 70]]\n",
    "    predCol: str\n",
    "        Column's name within the dataframe where the predictions are stored.\n",
    "    TPrelativeScoreCol: df.Series or array\n",
    "        Column's name within the dataframe where the relative scores for every TP are stored.\n",
    "    \n",
    "    Output\n",
    "    ------\n",
    "    output: array \n",
    "        The output array returns 'scoreRaw', 'maxScore' and 'scoreNormalized', where: \n",
    "        scoreRaw: float\n",
    "            Sum of the highest relative TP scores within all anomaly windows. \n",
    "            If 2 anomaly windows max value possible is 200: n * anomaly windows * 100.\n",
    "        maxScore: float \n",
    "            Sum of the max score possible.\n",
    "            If 2 anomaly windows max value possible is 200: n * anomaly windows * 100.\n",
    "        scoreNormalized: float \n",
    "            TP relative score nomalized within 100 and 0, indipendently of the number of anomaly windows.\n",
    "    \"\"\"\n",
    "    \n",
    "    scoreRaw = 0\n",
    "    maxScore = len(anomalyWindows) * 100\n",
    "    \n",
    "    for i in xrange(len(anomalyWindows)):\n",
    "        scoreRaw += df.loc[(df[predCol].index.isin(windows[i])) & (df[predCol]==1), TPrelativeScoreCol].max()\n",
    "    \n",
    "        scoreNormalized = float(scoreRaw/maxScore)*100\n",
    "    output = np.array([scoreRaw, maxScore, scoreNormalized])\n",
    "    return output    "
   ]
  },
  {
   "cell_type": "code",
   "execution_count": 1481,
   "metadata": {},
   "outputs": [],
   "source": [
    "# def nab_confusion_matrix(df, labelCol, predCol, windows, output='array'):\n",
    "#     \"\"\"\n",
    "#     This function builds a confusion matrix how described in https://arxiv.org/abs/1510.03336.\\\n",
    "#     The anomalies are usually not single observations, but a succession of observations: 'windows'.\\\n",
    "#     If an anomaly is detected within the window, than TP=+1. Otherwise, if for an anomaly window no \\\n",
    "#     anomalous event are detected then FN=+1. The particularity is that a window o points just returns \\\n",
    "#     weather 1 TP or 1 FP, no matter how many detections have been detected within the intervall.\n",
    "    \n",
    "#     Parameters\n",
    "#     ----------\n",
    "#     df: pd.DataFrame\n",
    "#         Dataframe containing the grountruth labels and the predictions.\n",
    "#     labelCol: str\n",
    "#         Column's name within the dataframe where the groundtruth labels are stored.\n",
    "#     predCol: str\n",
    "#         Column's name within the dataframe where the predictions are stored.\n",
    "#     windows: list of lists\n",
    "#         List of `datetime` obejcts. for every window a 'start' and an 'end'.\n",
    "#         Example of a list containing 2 anomaly windows. \n",
    "#         windows = [[2014-04-03 20:10:00.000000, 2014-04-04 16:25:00.000000'], \n",
    "#                    [2014-04-03 20:10:00.000000, 2014-04-04 16:25:00.000000]]\n",
    "#     output: str, deafault='array' or 'df'\n",
    "#         To determine if the output should be an array or a dataframe. \n",
    "    \n",
    "#     Output\n",
    "#     ------\n",
    "#     cm: pd.DataFrame or array\n",
    "#         Nice formatted dataframe or a simple matrix containing the Confusion Matrix.\n",
    "        \n",
    "#     \"\"\"\n",
    "       \n",
    "#     TN = 0\n",
    "#     FP = 0\n",
    "#     TP = 0\n",
    "#     FN = 0\n",
    "\n",
    "#     for i in xrange(df.shape[0]):\n",
    "#         if (df.loc[i, labelCol]==0) & (df.loc[i, predCol]==0):\n",
    "#             TN =+ TN+1\n",
    "#         if (df.loc[i, labelCol]==0) & (df.loc[i, predCol]==1):\n",
    "#             FP =+ FP+1\n",
    "               \n",
    "#     for i in xrange(len(windows)):\n",
    "#         #for every window:\n",
    "#         #proof that all the 'labels' in the window are 1:\n",
    "#         if (df[(df.inputTs >= windows[i][0]) & (df.inputTs <= windows[i][1])][labelCol].sum()) == \\\n",
    "#            (len(df[(df.inputTs >= windows[i][0]) & (df.inputTs <= windows[i][1])][labelCol])):\n",
    "#             # if any anomaly has been detected in the window assign 1 to TP\n",
    "#             if df[(df.inputTs >= windows[i][0]) & (df.inputTs <= windows[i][1])][predCol].sum() > 0:\n",
    "#                 TP =+ TP+1\n",
    "#             # if no anomaly has been detected in the window assign 1 to FN    \n",
    "#             if df[(df.inputTs >= windows[i][0]) & (df.inputTs <= windows[i][1])][predCol].sum() == 0:\n",
    "#                 FN =+ FN+1\n",
    "#         else:\n",
    "#             print \"Sum Anomalies within the window: \", df[(df.inputTs >= windows[i][0]) & (df.inputTs <= windows[i][1])][labelCol].sum()\n",
    "#             print \"Lenght Anomaly window: \", len(df[(df.inputTs >= windows[i][0]) & (df.inputTs <= windows[i][1])][labelCol])\n",
    "#             print \"Sum Anomalies within the window must be the lenght of the nomaly window.\"\n",
    "#             print \"'labels' whitin the window are not all 1. Check 'labels'!!\"\n",
    "    \n",
    "#     if output == 'array':\n",
    "#         cm = np.array([TP, FP, FN, TN]).reshape(2, 2)\n",
    "    \n",
    "#     if output == 'df':\n",
    "#         cm = pd.DataFrame(np.array([TP, FP, FN, TN]).reshape(2,2),\n",
    "#                  index=pd.MultiIndex.from_product([['Predicted'], ['T', 'F']]),\n",
    "#                  columns=pd.MultiIndex.from_product([['Groundtruth'],['T', 'F']]))\n",
    "#     return cm"
   ]
  },
  {
   "cell_type": "markdown",
   "metadata": {},
   "source": [
    "## ROC"
   ]
  },
  {
   "cell_type": "code",
   "execution_count": 1715,
   "metadata": {},
   "outputs": [],
   "source": [
    "def get_ROC_and_Scores(df, LHscoreCol, labelCol, predCol, anomalyWindows, TPrelativeScoreCol, stepFrom=0, stepTo=1, stepSize=0.01):\n",
    "    \n",
    "    \"\"\"\n",
    "    This function returns a dataframe with fpr, tpr, threshold, tp, tn, fp, fn values.\n",
    "    This function also calls the function `nab_confusion_matrix`.\n",
    "        \n",
    "    Parameters\n",
    "    ----------\n",
    "    df: pd.DataFrame\n",
    "        Dataframe containing the grountruth labels, predictions, LH- and/or LogLH-scores.\n",
    "    labelCol: str\n",
    "        Column's name within the dataframe where the groundtruth labels are stored.\n",
    "    predCol: str\n",
    "        Column's name within the dataframe where the predictions are stored.\n",
    "    LHscoreCol: str\n",
    "        Column's name within the dataframe where LH- or LogLH-scores are stored.\n",
    "    windows: list of lists\n",
    "        List of with indices for every window.\n",
    "        Example of a list containing 2 anomaly windows. \n",
    "        windows = [[10, 11, 12, 13, 14, 15, 16], \n",
    "                   [65, 66, 67, 68, 69, 70]]\n",
    "    \n",
    "    stepFrom, stepTo, stepSize: float, default= 'stepFrom=0', 'stepTo=1', 'stepSize=0.01' \n",
    "        Calcuate threshold values within the range (stepFrom, stepTo, stepSize).\n",
    "        `stepFrom` min value = min value in LHscoreCol,\n",
    "        `stepTo` max value = max value in LHscoreCol,\n",
    "        'stepSize' determine the granularity of our search.\n",
    "    \n",
    "    Output\n",
    "    ------\n",
    "    dfOut: pd.DataFrame\n",
    "        Dataframe containing fpr, tpr, tp, tn, fp, fn for every threshold value, \n",
    "        for every step within the selected range.\n",
    "        \n",
    "    \"\"\"\n",
    "   \n",
    "    tpr = []\n",
    "    fpr = []\n",
    "    tp = [] \n",
    "    tn = []\n",
    "    fp = []\n",
    "    fn = []\n",
    "    thresh = []\n",
    "    rawScore = []\n",
    "    maxScore = []\n",
    "    scoreNormalized = []\n",
    "\n",
    "    for j in np.arange(stepFrom, stepTo, stepSize):\n",
    "        df[predCol] = [1 if x>=j else 0 for x in df[LHscoreCol]]\n",
    "        cm = nab_confusion_matrix(df, labelCol=labelCol, predCol=predCol, windows=windows, output='array')\n",
    "        tpr.append(float(cm[0,0])/float(cm[0,0]+cm[1,0]))  #True Positive Rate = sensitivity\n",
    "        fpr.append(float(cm[0,1])/float(cm[0,1]+cm[1,1]))  #False Positive Rate = (1-Specificity)\n",
    "        tp.append(cm[0,0])\n",
    "        tn.append(cm[1,1])\n",
    "        fp.append(cm[0,1])\n",
    "        fn.append(cm[1,0])\n",
    "        thresh.append(j)\n",
    "        a, b, c = get_TPrelativeScore(df=df, anomalyWindows=anomalyWindows, predCol=predCol, TPrelativeScoreCol=TPrelativeScoreCol)\n",
    "        rawScore.append(a)\n",
    "        maxScore.append(b)\n",
    "        scoreNormalized.append(c)\n",
    "                \n",
    "    dfOut = pd.DataFrame({'tp':tp, 'tn':tn, 'fp':fp, 'fn':fn, 'tpr':tpr, 'fpr':fpr, 'thresh':thresh, \\\n",
    "                          'rawScore':rawScore, 'maxScore':maxScore, 'scoreNorm':scoreNormalized})\n",
    "    return dfOut"
   ]
  },
  {
   "cell_type": "code",
   "execution_count": 1719,
   "metadata": {},
   "outputs": [],
   "source": [
    "dfTuningLH = get_ROC_and_Scores(df=df, LHscoreCol='lh', labelCol='labels', predCol='flagLH', anomalyWindows=windows, TPrelativeScoreCol='TPrelativeScore')"
   ]
  },
  {
   "cell_type": "code",
   "execution_count": 1720,
   "metadata": {},
   "outputs": [
    {
     "data": {
      "text/html": [
       "<div>\n",
       "<style>\n",
       "    .dataframe thead tr:only-child th {\n",
       "        text-align: right;\n",
       "    }\n",
       "\n",
       "    .dataframe thead th {\n",
       "        text-align: left;\n",
       "    }\n",
       "\n",
       "    .dataframe tbody tr th {\n",
       "        vertical-align: top;\n",
       "    }\n",
       "</style>\n",
       "<table border=\"1\" class=\"dataframe\">\n",
       "  <thead>\n",
       "    <tr style=\"text-align: right;\">\n",
       "      <th></th>\n",
       "      <th>fn</th>\n",
       "      <th>fp</th>\n",
       "      <th>fpr</th>\n",
       "      <th>maxScore</th>\n",
       "      <th>rawScore</th>\n",
       "      <th>scoreNorm</th>\n",
       "      <th>thresh</th>\n",
       "      <th>tn</th>\n",
       "      <th>tp</th>\n",
       "      <th>tpr</th>\n",
       "    </tr>\n",
       "  </thead>\n",
       "  <tbody>\n",
       "    <tr>\n",
       "      <th>0</th>\n",
       "      <td>0</td>\n",
       "      <td>3385</td>\n",
       "      <td>1.0</td>\n",
       "      <td>200.0</td>\n",
       "      <td>200.0</td>\n",
       "      <td>100.0</td>\n",
       "      <td>0.00</td>\n",
       "      <td>0</td>\n",
       "      <td>2</td>\n",
       "      <td>1.0</td>\n",
       "    </tr>\n",
       "    <tr>\n",
       "      <th>1</th>\n",
       "      <td>0</td>\n",
       "      <td>3385</td>\n",
       "      <td>1.0</td>\n",
       "      <td>200.0</td>\n",
       "      <td>200.0</td>\n",
       "      <td>100.0</td>\n",
       "      <td>0.01</td>\n",
       "      <td>0</td>\n",
       "      <td>2</td>\n",
       "      <td>1.0</td>\n",
       "    </tr>\n",
       "    <tr>\n",
       "      <th>2</th>\n",
       "      <td>0</td>\n",
       "      <td>3385</td>\n",
       "      <td>1.0</td>\n",
       "      <td>200.0</td>\n",
       "      <td>200.0</td>\n",
       "      <td>100.0</td>\n",
       "      <td>0.02</td>\n",
       "      <td>0</td>\n",
       "      <td>2</td>\n",
       "      <td>1.0</td>\n",
       "    </tr>\n",
       "    <tr>\n",
       "      <th>3</th>\n",
       "      <td>0</td>\n",
       "      <td>3385</td>\n",
       "      <td>1.0</td>\n",
       "      <td>200.0</td>\n",
       "      <td>200.0</td>\n",
       "      <td>100.0</td>\n",
       "      <td>0.03</td>\n",
       "      <td>0</td>\n",
       "      <td>2</td>\n",
       "      <td>1.0</td>\n",
       "    </tr>\n",
       "    <tr>\n",
       "      <th>4</th>\n",
       "      <td>0</td>\n",
       "      <td>3385</td>\n",
       "      <td>1.0</td>\n",
       "      <td>200.0</td>\n",
       "      <td>200.0</td>\n",
       "      <td>100.0</td>\n",
       "      <td>0.04</td>\n",
       "      <td>0</td>\n",
       "      <td>2</td>\n",
       "      <td>1.0</td>\n",
       "    </tr>\n",
       "  </tbody>\n",
       "</table>\n",
       "</div>"
      ],
      "text/plain": [
       "   fn    fp  fpr  maxScore  rawScore  scoreNorm  thresh  tn  tp  tpr\n",
       "0   0  3385  1.0     200.0     200.0      100.0    0.00   0   2  1.0\n",
       "1   0  3385  1.0     200.0     200.0      100.0    0.01   0   2  1.0\n",
       "2   0  3385  1.0     200.0     200.0      100.0    0.02   0   2  1.0\n",
       "3   0  3385  1.0     200.0     200.0      100.0    0.03   0   2  1.0\n",
       "4   0  3385  1.0     200.0     200.0      100.0    0.04   0   2  1.0"
      ]
     },
     "execution_count": 1720,
     "metadata": {},
     "output_type": "execute_result"
    }
   ],
   "source": [
    "dfTuningLH.head()"
   ]
  },
  {
   "cell_type": "code",
   "execution_count": 1580,
   "metadata": {},
   "outputs": [],
   "source": [
    "dfTuningLogLH = get_ROC_and_Scores(df=df, LHscoreCol='logLH', labelCol='labels', predCol='flagLogLH', anomalyWindows=windows, TPrelativeScoreCol='TPrelativeScore')"
   ]
  },
  {
   "cell_type": "code",
   "execution_count": 1581,
   "metadata": {},
   "outputs": [
    {
     "data": {
      "image/png": "[encoded data removed]",
      "text/plain": [
       "<Figure size 1080x432 with 4 Axes>"
      ]
     },
     "metadata": {
      "needs_background": "light"
     },
     "output_type": "display_data"
    }
   ],
   "source": [
    "fig, ax = plt.subplots(2, 2, figsize=(15,6))\n",
    "\n",
    "ax[0,0].plot(df.lh)\n",
    "ax[0,0].plot(df.AnomalyScore, alpha=0.4)\n",
    "ax[0,0].vlines(df[df['labels']==1]['labels'].index, 0, 1, \n",
    "               transform=ax[0,0].get_xaxis_transform(), \n",
    "               colors='y', alpha=0.5)\n",
    "ax[0,0].set(\n",
    "    title='Anomaly Likelihood',\n",
    "    ylabel='Anomaly LH')\n",
    "\n",
    "ax[0,1].plot(df.logLH)\n",
    "ax[0,1].plot(df.AnomalyScore, alpha=0.4)\n",
    "ax[0,1].set(\n",
    "    title='Anomaly LogLH',\n",
    "    ylabel='Anomaly LogLH')\n",
    "ax[0,1].vlines(df[df['labels']==1]['labels'].index, 0, 1, \n",
    "               transform=ax[0,1].get_xaxis_transform(), \n",
    "               colors='y', alpha=0.5)\n",
    "\n",
    "ax[1,0].plot(dfTuningLH.fpr, dfTuningLH.tpr)\n",
    "ax[1,0].set(\n",
    "    title='ROC Anomaly LH',\n",
    "    xlabel='FPR', xlim=(-0.1,1.1), \n",
    "    ylabel='TPR', ylim=(-0.1,1.1))\n",
    "\n",
    "ax[1,1].plot(dfTuningLogLH.fpr, dfTuningLogLH.tpr)\n",
    "ax[1,1].set(\n",
    "    title='ROC Anomaly LogLH',\n",
    "    xlabel='FPR', xlim=(-0.1,1.1), \n",
    "    ylabel='TPR', ylim=(-0.1,1.1))\n",
    "\n",
    "plt.show()"
   ]
  },
  {
   "cell_type": "markdown",
   "metadata": {},
   "source": [
    "Proof:"
   ]
  },
  {
   "cell_type": "code",
   "execution_count": 1582,
   "metadata": {},
   "outputs": [],
   "source": [
    "# j = 0.5\n",
    "# df['flagLH'] = [1 if x>=j else 0 for x in df['lh']]\n",
    "# cm = nab_confusion_matrix(df, labelCol='labels', predCol='flagLH', windows=windows)\n",
    "# print cm\n",
    "\n",
    "# print \"LH Threshold: \", j\n",
    "# print \"TPR\", float(cm[0,0])/float(cm[0,0]+cm[1,0])\n",
    "# print \"FPR\", float(cm[0,1])/float(cm[0,1]+cm[1,1])\n",
    "# print \"-------------------\"\n",
    "\n",
    "# j = 0.9\n",
    "# df['flagLH'] = [1 if x>=j else 0 for x in df['lh']]\n",
    "# cm = nab_confusion_matrix(df, labelCol='labels', predCol='flagLH', windows=windows)\n",
    "# print cm\n",
    "\n",
    "# print \"LH Threshold: \", j\n",
    "# print \"TPR\", float(cm[0,0])/float(cm[0,0]+cm[1,0])\n",
    "# print \"FPR\", float(cm[0,1])/float(cm[0,1]+cm[1,1])\n",
    "\n",
    "\n",
    "### CAUTION: this proof ovverride the values for df['flagLH']"
   ]
  },
  {
   "cell_type": "markdown",
   "metadata": {},
   "source": [
    "ROCR is not vary usefull since we have high unbalanced data.  \n",
    "As long we detect a in the Anomaly Window, does not matter for which *LH threshold*, the `TP` does not change.\n",
    "On the other hand, the `FPR`, change the threshold will cause to have a lot of `TN` or `FN` so that also there,   "
   ]
  },
  {
   "cell_type": "code",
   "execution_count": 1584,
   "metadata": {},
   "outputs": [
    {
     "data": {
      "text/plain": [
       "Index([u'fn', u'fp', u'fpr', u'thresh', u'tn', u'tp', u'tpr'], dtype='object')"
      ]
     },
     "execution_count": 1584,
     "metadata": {},
     "output_type": "execute_result"
    }
   ],
   "source": [
    "dfTuningLH.columns"
   ]
  },
  {
   "cell_type": "code",
   "execution_count": 1728,
   "metadata": {},
   "outputs": [
    {
     "data": {
      "image/png": "[encoded data removed]",
      "text/plain": [
       "<Figure size 720x576 with 2 Axes>"
      ]
     },
     "metadata": {
      "needs_background": "light"
     },
     "output_type": "display_data"
    }
   ],
   "source": [
    "from matplotlib.ticker import FuncFormatter, MaxNLocator\n",
    "\n",
    "def format_fn_LH(tick_val, tick_pos, \n",
    "                 labels=dfTuningLH.thresh, \n",
    "                  xrange=dfTuningLH.shape[0]):\n",
    "    if int(tick_val) in range(xrange):\n",
    "        return labels[int(tick_val)]\n",
    "    else:\n",
    "        return ''\n",
    "\n",
    "def format_fn_logLH(tick_val, tick_pos, \n",
    "                 labels=dfTuningLogLH.thresh, \n",
    "                  xrange=dfTuningLogLH.shape[0]):\n",
    "    if int(tick_val) in range(xrange):\n",
    "        return labels[int(tick_val)]\n",
    "    else:\n",
    "        return ''\n",
    "   \n",
    "    \n",
    "fig, ax = plt.subplots(2, 1, figsize=(10,8))\n",
    "\n",
    "ax[0].grid()\n",
    "ax[0].plot(dfTuningLH.tpr, color='m')\n",
    "ax[0].plot(dfTuningLH.fpr, color='b', alpha=0.5)\n",
    "ax[0].plot(dfTuningLH.thresh, color='k', alpha=0.5)\n",
    "#ax[0].bar(dfTuningLH.fp, height=1, width=10, color='y')\n",
    "ax[0].plot(dfTuningLH.scoreNorm/100, color='g', alpha=0.5)\n",
    "ax[0].set(\n",
    "    title='ROC for LH-Scores',\n",
    "    ylabel='TPR,FPR and TP-Score',\n",
    "    xlabel='LH Threshold')\n",
    "ax[0].set_xticks(dfTuningLH.thresh, minor=True)  # set MINOR ticks frequency \n",
    "ax[0].xaxis.set_major_formatter(FuncFormatter(format_fn_LH))  # order tick values from 1 to 0\n",
    "ax[0].xaxis.set_major_locator(plt.MultipleLocator(4))  # tick+lable+grid every n steps\n",
    "#ax[0].set_xlim(0, 100)\n",
    "#Xax[0].set_xticks(np.arange(1, 0))\n",
    "#ax[0].set_xticklabels(dfTuningLH.thresh, fontdict=None, minor=True, )\n",
    "#ax[0].xaxis.set_major_locator(MaxNLocator(integer=True))\n",
    "ax[0].legend()\n",
    "\n",
    "ax[1].grid()\n",
    "ax[1].plot(dfTuningLogLH.tpr, color='m')\n",
    "ax[1].plot(dfTuningLogLH.fpr, color='b', alpha=0.5)\n",
    "ax[1].plot(dfTuningLogLH.thresh, color='k', alpha=0.5)\n",
    "ax[1].set(\n",
    "    title='ROC for LogLH-Scores',\n",
    "    xlabel='LogLH Threshold',\n",
    "    ylabel='TPR,FPR and TP-Score')\n",
    "ax[1].set_xticks(dfTuningLogLH.thresh, minor=True)  # set MINOR ticks frequency \n",
    "ax[1].xaxis.set_major_formatter(FuncFormatter(format_fn_logLH))  # order tick values from 1 to 0\n",
    "ax[1].xaxis.set_major_locator(plt.MultipleLocator(4))  # tick+lable+grid every n steps\n",
    "ax[1].legend()\n",
    "\n",
    "plt.tight_layout(h_pad=2)\n",
    "plt.show()\n",
    "\n",
    "# ADD Legend\n",
    "# ADDD SCORE according to TP and shows other values for the matrix"
   ]
  },
  {
   "cell_type": "markdown",
   "metadata": {},
   "source": [
    "As we can appreciate, eximinig the ROC plots for both **LH-** and **logLH-thresholds values**,\n",
    "the`tpr` is always 1, while the `fpr` at some threshold-value values starts decreasing:\n",
    "    - LH-Threshold: fpr starts getting better after \n",
    "    - LogLH-Thresh: fpr is approx 0 after 0.32 \n",
    "    \n",
    "We will now look more carefully:"
   ]
  },
  {
   "cell_type": "code",
   "execution_count": 1635,
   "metadata": {},
   "outputs": [
    {
     "data": {
      "text/html": [
       "<div>\n",
       "<style>\n",
       "    .dataframe thead tr:only-child th {\n",
       "        text-align: right;\n",
       "    }\n",
       "\n",
       "    .dataframe thead th {\n",
       "        text-align: left;\n",
       "    }\n",
       "\n",
       "    .dataframe tbody tr th {\n",
       "        vertical-align: top;\n",
       "    }\n",
       "</style>\n",
       "<table border=\"1\" class=\"dataframe\">\n",
       "  <thead>\n",
       "    <tr style=\"text-align: right;\">\n",
       "      <th></th>\n",
       "      <th>fn</th>\n",
       "      <th>fp</th>\n",
       "      <th>fpr</th>\n",
       "      <th>thresh</th>\n",
       "      <th>tn</th>\n",
       "      <th>tp</th>\n",
       "      <th>tpr</th>\n",
       "    </tr>\n",
       "  </thead>\n",
       "  <tbody>\n",
       "    <tr>\n",
       "      <th>99</th>\n",
       "      <td>0</td>\n",
       "      <td>18</td>\n",
       "      <td>0.005318</td>\n",
       "      <td>0.99</td>\n",
       "      <td>3367</td>\n",
       "      <td>2</td>\n",
       "      <td>1.0</td>\n",
       "    </tr>\n",
       "    <tr>\n",
       "      <th>98</th>\n",
       "      <td>0</td>\n",
       "      <td>22</td>\n",
       "      <td>0.006499</td>\n",
       "      <td>0.98</td>\n",
       "      <td>3363</td>\n",
       "      <td>2</td>\n",
       "      <td>1.0</td>\n",
       "    </tr>\n",
       "    <tr>\n",
       "      <th>96</th>\n",
       "      <td>0</td>\n",
       "      <td>23</td>\n",
       "      <td>0.006795</td>\n",
       "      <td>0.96</td>\n",
       "      <td>3362</td>\n",
       "      <td>2</td>\n",
       "      <td>1.0</td>\n",
       "    </tr>\n",
       "    <tr>\n",
       "      <th>97</th>\n",
       "      <td>0</td>\n",
       "      <td>23</td>\n",
       "      <td>0.006795</td>\n",
       "      <td>0.97</td>\n",
       "      <td>3362</td>\n",
       "      <td>2</td>\n",
       "      <td>1.0</td>\n",
       "    </tr>\n",
       "    <tr>\n",
       "      <th>95</th>\n",
       "      <td>0</td>\n",
       "      <td>63</td>\n",
       "      <td>0.018612</td>\n",
       "      <td>0.95</td>\n",
       "      <td>3322</td>\n",
       "      <td>2</td>\n",
       "      <td>1.0</td>\n",
       "    </tr>\n",
       "    <tr>\n",
       "      <th>94</th>\n",
       "      <td>0</td>\n",
       "      <td>77</td>\n",
       "      <td>0.022747</td>\n",
       "      <td>0.94</td>\n",
       "      <td>3308</td>\n",
       "      <td>2</td>\n",
       "      <td>1.0</td>\n",
       "    </tr>\n",
       "    <tr>\n",
       "      <th>93</th>\n",
       "      <td>0</td>\n",
       "      <td>120</td>\n",
       "      <td>0.035451</td>\n",
       "      <td>0.93</td>\n",
       "      <td>3265</td>\n",
       "      <td>2</td>\n",
       "      <td>1.0</td>\n",
       "    </tr>\n",
       "    <tr>\n",
       "      <th>92</th>\n",
       "      <td>0</td>\n",
       "      <td>124</td>\n",
       "      <td>0.036632</td>\n",
       "      <td>0.92</td>\n",
       "      <td>3261</td>\n",
       "      <td>2</td>\n",
       "      <td>1.0</td>\n",
       "    </tr>\n",
       "    <tr>\n",
       "      <th>91</th>\n",
       "      <td>0</td>\n",
       "      <td>159</td>\n",
       "      <td>0.046972</td>\n",
       "      <td>0.91</td>\n",
       "      <td>3226</td>\n",
       "      <td>2</td>\n",
       "      <td>1.0</td>\n",
       "    </tr>\n",
       "    <tr>\n",
       "      <th>90</th>\n",
       "      <td>0</td>\n",
       "      <td>230</td>\n",
       "      <td>0.067947</td>\n",
       "      <td>0.90</td>\n",
       "      <td>3155</td>\n",
       "      <td>2</td>\n",
       "      <td>1.0</td>\n",
       "    </tr>\n",
       "  </tbody>\n",
       "</table>\n",
       "</div>"
      ],
      "text/plain": [
       "    fn   fp       fpr  thresh    tn  tp  tpr\n",
       "99   0   18  0.005318    0.99  3367   2  1.0\n",
       "98   0   22  0.006499    0.98  3363   2  1.0\n",
       "96   0   23  0.006795    0.96  3362   2  1.0\n",
       "97   0   23  0.006795    0.97  3362   2  1.0\n",
       "95   0   63  0.018612    0.95  3322   2  1.0\n",
       "94   0   77  0.022747    0.94  3308   2  1.0\n",
       "93   0  120  0.035451    0.93  3265   2  1.0\n",
       "92   0  124  0.036632    0.92  3261   2  1.0\n",
       "91   0  159  0.046972    0.91  3226   2  1.0\n",
       "90   0  230  0.067947    0.90  3155   2  1.0"
      ]
     },
     "execution_count": 1635,
     "metadata": {},
     "output_type": "execute_result"
    }
   ],
   "source": [
    "dfTuningLH.sort_values(by=['fp', 'thresh'], ascending=[True, True])[:10]"
   ]
  },
  {
   "cell_type": "code",
   "execution_count": 1637,
   "metadata": {},
   "outputs": [
    {
     "data": {
      "text/html": [
       "<div>\n",
       "<style>\n",
       "    .dataframe thead tr:only-child th {\n",
       "        text-align: right;\n",
       "    }\n",
       "\n",
       "    .dataframe thead th {\n",
       "        text-align: left;\n",
       "    }\n",
       "\n",
       "    .dataframe tbody tr th {\n",
       "        vertical-align: top;\n",
       "    }\n",
       "</style>\n",
       "<table border=\"1\" class=\"dataframe\">\n",
       "  <thead>\n",
       "    <tr style=\"text-align: right;\">\n",
       "      <th></th>\n",
       "      <th>fn</th>\n",
       "      <th>fp</th>\n",
       "      <th>fpr</th>\n",
       "      <th>thresh</th>\n",
       "      <th>tn</th>\n",
       "      <th>tp</th>\n",
       "      <th>tpr</th>\n",
       "    </tr>\n",
       "  </thead>\n",
       "  <tbody>\n",
       "    <tr>\n",
       "      <th>59</th>\n",
       "      <td>0</td>\n",
       "      <td>0</td>\n",
       "      <td>0.0</td>\n",
       "      <td>0.59</td>\n",
       "      <td>3385</td>\n",
       "      <td>2</td>\n",
       "      <td>1.0</td>\n",
       "    </tr>\n",
       "    <tr>\n",
       "      <th>60</th>\n",
       "      <td>0</td>\n",
       "      <td>0</td>\n",
       "      <td>0.0</td>\n",
       "      <td>0.60</td>\n",
       "      <td>3385</td>\n",
       "      <td>2</td>\n",
       "      <td>1.0</td>\n",
       "    </tr>\n",
       "    <tr>\n",
       "      <th>61</th>\n",
       "      <td>0</td>\n",
       "      <td>0</td>\n",
       "      <td>0.0</td>\n",
       "      <td>0.61</td>\n",
       "      <td>3385</td>\n",
       "      <td>2</td>\n",
       "      <td>1.0</td>\n",
       "    </tr>\n",
       "    <tr>\n",
       "      <th>62</th>\n",
       "      <td>0</td>\n",
       "      <td>0</td>\n",
       "      <td>0.0</td>\n",
       "      <td>0.62</td>\n",
       "      <td>3385</td>\n",
       "      <td>2</td>\n",
       "      <td>1.0</td>\n",
       "    </tr>\n",
       "    <tr>\n",
       "      <th>63</th>\n",
       "      <td>0</td>\n",
       "      <td>0</td>\n",
       "      <td>0.0</td>\n",
       "      <td>0.63</td>\n",
       "      <td>3385</td>\n",
       "      <td>2</td>\n",
       "      <td>1.0</td>\n",
       "    </tr>\n",
       "    <tr>\n",
       "      <th>64</th>\n",
       "      <td>0</td>\n",
       "      <td>0</td>\n",
       "      <td>0.0</td>\n",
       "      <td>0.64</td>\n",
       "      <td>3385</td>\n",
       "      <td>2</td>\n",
       "      <td>1.0</td>\n",
       "    </tr>\n",
       "    <tr>\n",
       "      <th>65</th>\n",
       "      <td>0</td>\n",
       "      <td>0</td>\n",
       "      <td>0.0</td>\n",
       "      <td>0.65</td>\n",
       "      <td>3385</td>\n",
       "      <td>2</td>\n",
       "      <td>1.0</td>\n",
       "    </tr>\n",
       "    <tr>\n",
       "      <th>66</th>\n",
       "      <td>0</td>\n",
       "      <td>0</td>\n",
       "      <td>0.0</td>\n",
       "      <td>0.66</td>\n",
       "      <td>3385</td>\n",
       "      <td>2</td>\n",
       "      <td>1.0</td>\n",
       "    </tr>\n",
       "    <tr>\n",
       "      <th>67</th>\n",
       "      <td>0</td>\n",
       "      <td>0</td>\n",
       "      <td>0.0</td>\n",
       "      <td>0.67</td>\n",
       "      <td>3385</td>\n",
       "      <td>2</td>\n",
       "      <td>1.0</td>\n",
       "    </tr>\n",
       "    <tr>\n",
       "      <th>68</th>\n",
       "      <td>0</td>\n",
       "      <td>0</td>\n",
       "      <td>0.0</td>\n",
       "      <td>0.68</td>\n",
       "      <td>3385</td>\n",
       "      <td>2</td>\n",
       "      <td>1.0</td>\n",
       "    </tr>\n",
       "  </tbody>\n",
       "</table>\n",
       "</div>"
      ],
      "text/plain": [
       "    fn  fp  fpr  thresh    tn  tp  tpr\n",
       "59   0   0  0.0    0.59  3385   2  1.0\n",
       "60   0   0  0.0    0.60  3385   2  1.0\n",
       "61   0   0  0.0    0.61  3385   2  1.0\n",
       "62   0   0  0.0    0.62  3385   2  1.0\n",
       "63   0   0  0.0    0.63  3385   2  1.0\n",
       "64   0   0  0.0    0.64  3385   2  1.0\n",
       "65   0   0  0.0    0.65  3385   2  1.0\n",
       "66   0   0  0.0    0.66  3385   2  1.0\n",
       "67   0   0  0.0    0.67  3385   2  1.0\n",
       "68   0   0  0.0    0.68  3385   2  1.0"
      ]
     },
     "execution_count": 1637,
     "metadata": {},
     "output_type": "execute_result"
    }
   ],
   "source": [
    "dfTuningLogLH.sort_values(by=['fp', 'thresh'], ascending=[True, True])[:10]"
   ]
  },
  {
   "cell_type": "code",
   "execution_count": 1638,
   "metadata": {},
   "outputs": [
    {
     "data": {
      "text/html": [
       "<div>\n",
       "<style>\n",
       "    .dataframe thead tr:only-child th {\n",
       "        text-align: right;\n",
       "    }\n",
       "\n",
       "    .dataframe thead th {\n",
       "        text-align: left;\n",
       "    }\n",
       "\n",
       "    .dataframe tbody tr th {\n",
       "        vertical-align: top;\n",
       "    }\n",
       "</style>\n",
       "<table border=\"1\" class=\"dataframe\">\n",
       "  <thead>\n",
       "    <tr style=\"text-align: right;\">\n",
       "      <th></th>\n",
       "      <th>fn</th>\n",
       "      <th>fp</th>\n",
       "      <th>fpr</th>\n",
       "      <th>thresh</th>\n",
       "      <th>tn</th>\n",
       "      <th>tp</th>\n",
       "      <th>tpr</th>\n",
       "    </tr>\n",
       "  </thead>\n",
       "  <tbody>\n",
       "    <tr>\n",
       "      <th>99</th>\n",
       "      <td>0</td>\n",
       "      <td>0</td>\n",
       "      <td>0.0</td>\n",
       "      <td>0.99</td>\n",
       "      <td>3385</td>\n",
       "      <td>2</td>\n",
       "      <td>1.0</td>\n",
       "    </tr>\n",
       "    <tr>\n",
       "      <th>98</th>\n",
       "      <td>0</td>\n",
       "      <td>0</td>\n",
       "      <td>0.0</td>\n",
       "      <td>0.98</td>\n",
       "      <td>3385</td>\n",
       "      <td>2</td>\n",
       "      <td>1.0</td>\n",
       "    </tr>\n",
       "    <tr>\n",
       "      <th>97</th>\n",
       "      <td>0</td>\n",
       "      <td>0</td>\n",
       "      <td>0.0</td>\n",
       "      <td>0.97</td>\n",
       "      <td>3385</td>\n",
       "      <td>2</td>\n",
       "      <td>1.0</td>\n",
       "    </tr>\n",
       "    <tr>\n",
       "      <th>96</th>\n",
       "      <td>0</td>\n",
       "      <td>0</td>\n",
       "      <td>0.0</td>\n",
       "      <td>0.96</td>\n",
       "      <td>3385</td>\n",
       "      <td>2</td>\n",
       "      <td>1.0</td>\n",
       "    </tr>\n",
       "    <tr>\n",
       "      <th>95</th>\n",
       "      <td>0</td>\n",
       "      <td>0</td>\n",
       "      <td>0.0</td>\n",
       "      <td>0.95</td>\n",
       "      <td>3385</td>\n",
       "      <td>2</td>\n",
       "      <td>1.0</td>\n",
       "    </tr>\n",
       "    <tr>\n",
       "      <th>94</th>\n",
       "      <td>0</td>\n",
       "      <td>0</td>\n",
       "      <td>0.0</td>\n",
       "      <td>0.94</td>\n",
       "      <td>3385</td>\n",
       "      <td>2</td>\n",
       "      <td>1.0</td>\n",
       "    </tr>\n",
       "    <tr>\n",
       "      <th>93</th>\n",
       "      <td>0</td>\n",
       "      <td>0</td>\n",
       "      <td>0.0</td>\n",
       "      <td>0.93</td>\n",
       "      <td>3385</td>\n",
       "      <td>2</td>\n",
       "      <td>1.0</td>\n",
       "    </tr>\n",
       "    <tr>\n",
       "      <th>92</th>\n",
       "      <td>0</td>\n",
       "      <td>0</td>\n",
       "      <td>0.0</td>\n",
       "      <td>0.92</td>\n",
       "      <td>3385</td>\n",
       "      <td>2</td>\n",
       "      <td>1.0</td>\n",
       "    </tr>\n",
       "    <tr>\n",
       "      <th>91</th>\n",
       "      <td>0</td>\n",
       "      <td>0</td>\n",
       "      <td>0.0</td>\n",
       "      <td>0.91</td>\n",
       "      <td>3385</td>\n",
       "      <td>2</td>\n",
       "      <td>1.0</td>\n",
       "    </tr>\n",
       "    <tr>\n",
       "      <th>90</th>\n",
       "      <td>0</td>\n",
       "      <td>0</td>\n",
       "      <td>0.0</td>\n",
       "      <td>0.90</td>\n",
       "      <td>3385</td>\n",
       "      <td>2</td>\n",
       "      <td>1.0</td>\n",
       "    </tr>\n",
       "  </tbody>\n",
       "</table>\n",
       "</div>"
      ],
      "text/plain": [
       "    fn  fp  fpr  thresh    tn  tp  tpr\n",
       "99   0   0  0.0    0.99  3385   2  1.0\n",
       "98   0   0  0.0    0.98  3385   2  1.0\n",
       "97   0   0  0.0    0.97  3385   2  1.0\n",
       "96   0   0  0.0    0.96  3385   2  1.0\n",
       "95   0   0  0.0    0.95  3385   2  1.0\n",
       "94   0   0  0.0    0.94  3385   2  1.0\n",
       "93   0   0  0.0    0.93  3385   2  1.0\n",
       "92   0   0  0.0    0.92  3385   2  1.0\n",
       "91   0   0  0.0    0.91  3385   2  1.0\n",
       "90   0   0  0.0    0.90  3385   2  1.0"
      ]
     },
     "execution_count": 1638,
     "metadata": {},
     "output_type": "execute_result"
    }
   ],
   "source": [
    "dfTuningLogLH.sort_values(by=['fp', 'thresh'], ascending=[True, False])[:10]"
   ]
  },
  {
   "cell_type": "markdown",
   "metadata": {},
   "source": [
    "For `dfTuningLogLH` we found the **sweet-spot**: after `thresh=0.59`, `fn=0` and `tp=2`.\n",
    "**WE SHOULD NOW LOOK AT THE SCORE!!!!**\n",
    "\n",
    "For `dfTuningLH` at `threshold=0.99`, `fp=18`, so we might want to explore that are more carefully! \n",
    "We will go for more granular steps for the threshold (before `stepSize: 0.01`)"
   ]
  },
  {
   "cell_type": "code",
   "execution_count": 1571,
   "metadata": {},
   "outputs": [],
   "source": [
    "dfTuningLH = create_ROC(df=df, LHscoreCol='lh', labelCol='labels', predCol='flagLH', anomalyWindows=windows, \n",
    "                        stepFrom=0.47, stepTo=0.51, stepSize=0.0001)\n"
   ]
  },
  {
   "cell_type": "code",
   "execution_count": null,
   "metadata": {},
   "outputs": [],
   "source": []
  },
  {
   "cell_type": "code",
   "execution_count": null,
   "metadata": {},
   "outputs": [],
   "source": []
  },
  {
   "cell_type": "code",
   "execution_count": null,
   "metadata": {},
   "outputs": [],
   "source": []
  },
  {
   "cell_type": "code",
   "execution_count": null,
   "metadata": {},
   "outputs": [],
   "source": []
  },
  {
   "cell_type": "code",
   "execution_count": 1577,
   "metadata": {},
   "outputs": [],
   "source": [
    "# dfTuningLogLH = create_ROC(df=df, LHscoreCol='logLH', labelCol='labels', predCol='flagLogLH', anomalyWindows=windows,\n",
    "#                            stepFrom=0.90, stepTo=1, stepSize=0.0001)"
   ]
  },
  {
   "cell_type": "code",
   "execution_count": 1578,
   "metadata": {},
   "outputs": [
    {
     "data": {
      "image/png": "[encoded data removed]",
      "text/plain": [
       "<Figure size 720x576 with 2 Axes>"
      ]
     },
     "metadata": {
      "needs_background": "light"
     },
     "output_type": "display_data"
    }
   ],
   "source": [
    "from matplotlib.ticker import FuncFormatter, MaxNLocator\n",
    "\n",
    "def format_fn_LH(tick_val, tick_pos, \n",
    "                 labels=dfTuningLH.thresh.sort_values(ascending=False).reset_index(drop=True), \n",
    "                  xrange=dfTuningLH.shape[0]):\n",
    "    if int(tick_val) in range(xrange):\n",
    "        return labels[int(tick_val)]\n",
    "    else:\n",
    "        return ''\n",
    "\n",
    "def format_fn_logLH(tick_val, tick_pos, \n",
    "                 labels=dfTuningLogLH.thresh.sort_values(ascending=False).reset_index(drop=True), \n",
    "                  xrange=dfTuningLogLH.shape[0]):\n",
    "    if int(tick_val) in range(xrange):\n",
    "        return labels[int(tick_val)]\n",
    "    else:\n",
    "        return ''\n",
    "   \n",
    "    \n",
    "fig, ax = plt.subplots(2, 1, figsize=(10,8))\n",
    "\n",
    "ax[0].grid()\n",
    "ax[0].plot(dfTuningLH.tpr, color='m')\n",
    "ax[0].plot(dfTuningLH.fpr, color='b', alpha=0.5)\n",
    "ax[0].plot(dfTuningLH.thresh.sort_values(ascending=False).reset_index(drop=True), color='k', alpha=0.5)\n",
    "ax[0].set(\n",
    "    title='ROC for LH-Scores',\n",
    "    ylabel='TPR/FPR according to Threshold',\n",
    "    xlabel='Thresholds for Anomaly LH')\n",
    "ax[0].set_xticks(dfTuningLH.index, minor=True)  # set MINOR ticks frequency \n",
    "ax[0].xaxis.set_major_formatter(FuncFormatter(format_fn_LH))  # order tick values from 1 to 0\n",
    "ax[0].xaxis.set_major_locator(plt.MultipleLocator(20))  # tick+lable+grid every n steps\n",
    "#ax[0].set_xlim(0, 100)\n",
    "#Xax[0].set_xticks(np.arange(1, 0))\n",
    "#ax[0].set_xticklabels(dfTuningLH.thresh, fontdict=None, minor=True, )\n",
    "#ax[0].xaxis.set_major_locator(MaxNLocator(integer=True))\n",
    "ax[0].legend()\n",
    "\n",
    "ax[1].grid()\n",
    "ax[1].plot(dfTuningLogLH.tpr, color='m')\n",
    "ax[1].plot(dfTuningLogLH.fpr, color='b', alpha=0.5)\n",
    "ax[1].plot(dfTuningLogLH.thresh.sort_values(ascending=False).reset_index(drop=True), color='k', alpha=0.5)\n",
    "ax[1].set(\n",
    "    title='ROC for LogLH-Scores',\n",
    "    xlabel='Thresholds for Anomaly LogLH',\n",
    "    ylabel='TPR/FPR according to Threshold')\n",
    "ax[1].set_xticks(dfTuningLogLH.index, minor=True)  # set MINOR ticks frequency \n",
    "ax[1].xaxis.set_major_formatter(FuncFormatter(format_fn_logLH))  # order tick values from 1 to 0\n",
    "ax[1].xaxis.set_major_locator(plt.MultipleLocator(30))  # tick+lable+grid every n steps\n",
    "ax[1].legend()\n",
    "\n",
    "plt.tight_layout(h_pad=2)\n",
    "plt.show()\n",
    "\n",
    "# ADD Legend\n",
    "# ADDD SCORE according to TP and shows other values for the matrix"
   ]
  },
  {
   "cell_type": "markdown",
   "metadata": {},
   "source": [
    "## Setting the Thres"
   ]
  },
  {
   "cell_type": "markdown",
   "metadata": {},
   "source": [
    "Find *sweet-LH-spot* where: min(LH)_or_max(LH)_, max(tn)"
   ]
  },
  {
   "cell_type": "code",
   "execution_count": 1306,
   "metadata": {},
   "outputs": [
    {
     "data": {
      "text/plain": [
       "labels             53\n",
       "lh                 53\n",
       "TPrelativeScore    53\n",
       "dtype: int64"
      ]
     },
     "execution_count": 1306,
     "metadata": {},
     "output_type": "execute_result"
    }
   ],
   "source": [
    "df.loc[(df['labels']==1) & (df['lh']>0.98),['labels','lh','TPrelativeScore']].count()"
   ]
  },
  {
   "cell_type": "code",
   "execution_count": 1301,
   "metadata": {},
   "outputs": [
    {
     "data": {
      "text/plain": [
       "<matplotlib.axes._subplots.AxesSubplot at 0x7fa1ed634790>"
      ]
     },
     "execution_count": 1301,
     "metadata": {},
     "output_type": "execute_result"
    },
    {
     "data": {
      "image/png": "[encoded data removed]",
      "text/plain": [
       "<Figure size 432x288 with 1 Axes>"
      ]
     },
     "metadata": {
      "needs_background": "light"
     },
     "output_type": "display_data"
    }
   ],
   "source": [
    "df.loc[(df['labels']==1) & (df['lh']>0.98), 'lh'].plot()"
   ]
  },
  {
   "cell_type": "code",
   "execution_count": null,
   "metadata": {},
   "outputs": [],
   "source": []
  },
  {
   "cell_type": "code",
   "execution_count": null,
   "metadata": {},
   "outputs": [],
   "source": []
  },
  {
   "cell_type": "code",
   "execution_count": 904,
   "metadata": {},
   "outputs": [
    {
     "data": {
      "text/plain": [
       "Index([u'tpLH', u'tnLH', u'tprLH', u'fprLH', u'thresLH'], dtype='object')"
      ]
     },
     "execution_count": 904,
     "metadata": {},
     "output_type": "execute_result"
    }
   ],
   "source": [
    "dfTuningLH.columns"
   ]
  },
  {
   "cell_type": "code",
   "execution_count": 1307,
   "metadata": {},
   "outputs": [
    {
     "data": {
      "text/html": [
       "<div>\n",
       "<style>\n",
       "    .dataframe thead tr:only-child th {\n",
       "        text-align: right;\n",
       "    }\n",
       "\n",
       "    .dataframe thead th {\n",
       "        text-align: left;\n",
       "    }\n",
       "\n",
       "    .dataframe tbody tr th {\n",
       "        vertical-align: top;\n",
       "    }\n",
       "</style>\n",
       "<table border=\"1\" class=\"dataframe\">\n",
       "  <thead>\n",
       "    <tr style=\"text-align: right;\">\n",
       "      <th></th>\n",
       "      <th>tpLH</th>\n",
       "      <th>tnLH</th>\n",
       "      <th>tprLH</th>\n",
       "      <th>fprLH</th>\n",
       "      <th>thresLH</th>\n",
       "    </tr>\n",
       "  </thead>\n",
       "  <tbody>\n",
       "    <tr>\n",
       "      <th>99</th>\n",
       "      <td>2</td>\n",
       "      <td>3367</td>\n",
       "      <td>1.0</td>\n",
       "      <td>0.005318</td>\n",
       "      <td>0.99</td>\n",
       "    </tr>\n",
       "  </tbody>\n",
       "</table>\n",
       "</div>"
      ],
      "text/plain": [
       "    tpLH  tnLH  tprLH     fprLH  thresLH\n",
       "99     2  3367    1.0  0.005318     0.99"
      ]
     },
     "execution_count": 1307,
     "metadata": {},
     "output_type": "execute_result"
    }
   ],
   "source": [
    "dfTuningLH[dfTuningLH.tnLH == dfTuningLH.tnLH.max()]"
   ]
  },
  {
   "cell_type": "code",
   "execution_count": 1309,
   "metadata": {},
   "outputs": [
    {
     "data": {
      "text/plain": [
       "Index([u'tpLogLH', u'tnLogLH', u'tprLogLH', u'fprLogLH', u'thresLogLH'], dtype='object')"
      ]
     },
     "execution_count": 1309,
     "metadata": {},
     "output_type": "execute_result"
    }
   ],
   "source": [
    "dfTuningLogLH.columns"
   ]
  },
  {
   "cell_type": "code",
   "execution_count": 1310,
   "metadata": {},
   "outputs": [
    {
     "data": {
      "text/html": [
       "<div>\n",
       "<style>\n",
       "    .dataframe thead tr:only-child th {\n",
       "        text-align: right;\n",
       "    }\n",
       "\n",
       "    .dataframe thead th {\n",
       "        text-align: left;\n",
       "    }\n",
       "\n",
       "    .dataframe tbody tr th {\n",
       "        vertical-align: top;\n",
       "    }\n",
       "</style>\n",
       "<table border=\"1\" class=\"dataframe\">\n",
       "  <thead>\n",
       "    <tr style=\"text-align: right;\">\n",
       "      <th></th>\n",
       "      <th>tpLogLH</th>\n",
       "      <th>tnLogLH</th>\n",
       "      <th>tprLogLH</th>\n",
       "      <th>fprLogLH</th>\n",
       "      <th>thresLogLH</th>\n",
       "    </tr>\n",
       "  </thead>\n",
       "  <tbody>\n",
       "    <tr>\n",
       "      <th>59</th>\n",
       "      <td>2</td>\n",
       "      <td>3385</td>\n",
       "      <td>1</td>\n",
       "      <td>0</td>\n",
       "      <td>0.59</td>\n",
       "    </tr>\n",
       "    <tr>\n",
       "      <th>60</th>\n",
       "      <td>2</td>\n",
       "      <td>3385</td>\n",
       "      <td>1</td>\n",
       "      <td>0</td>\n",
       "      <td>0.60</td>\n",
       "    </tr>\n",
       "    <tr>\n",
       "      <th>61</th>\n",
       "      <td>2</td>\n",
       "      <td>3385</td>\n",
       "      <td>1</td>\n",
       "      <td>0</td>\n",
       "      <td>0.61</td>\n",
       "    </tr>\n",
       "    <tr>\n",
       "      <th>62</th>\n",
       "      <td>2</td>\n",
       "      <td>3385</td>\n",
       "      <td>1</td>\n",
       "      <td>0</td>\n",
       "      <td>0.62</td>\n",
       "    </tr>\n",
       "    <tr>\n",
       "      <th>63</th>\n",
       "      <td>2</td>\n",
       "      <td>3385</td>\n",
       "      <td>1</td>\n",
       "      <td>0</td>\n",
       "      <td>0.63</td>\n",
       "    </tr>\n",
       "    <tr>\n",
       "      <th>64</th>\n",
       "      <td>2</td>\n",
       "      <td>3385</td>\n",
       "      <td>1</td>\n",
       "      <td>0</td>\n",
       "      <td>0.64</td>\n",
       "    </tr>\n",
       "    <tr>\n",
       "      <th>65</th>\n",
       "      <td>2</td>\n",
       "      <td>3385</td>\n",
       "      <td>1</td>\n",
       "      <td>0</td>\n",
       "      <td>0.65</td>\n",
       "    </tr>\n",
       "    <tr>\n",
       "      <th>66</th>\n",
       "      <td>2</td>\n",
       "      <td>3385</td>\n",
       "      <td>1</td>\n",
       "      <td>0</td>\n",
       "      <td>0.66</td>\n",
       "    </tr>\n",
       "    <tr>\n",
       "      <th>67</th>\n",
       "      <td>2</td>\n",
       "      <td>3385</td>\n",
       "      <td>1</td>\n",
       "      <td>0</td>\n",
       "      <td>0.67</td>\n",
       "    </tr>\n",
       "    <tr>\n",
       "      <th>68</th>\n",
       "      <td>2</td>\n",
       "      <td>3385</td>\n",
       "      <td>1</td>\n",
       "      <td>0</td>\n",
       "      <td>0.68</td>\n",
       "    </tr>\n",
       "    <tr>\n",
       "      <th>69</th>\n",
       "      <td>2</td>\n",
       "      <td>3385</td>\n",
       "      <td>1</td>\n",
       "      <td>0</td>\n",
       "      <td>0.69</td>\n",
       "    </tr>\n",
       "    <tr>\n",
       "      <th>70</th>\n",
       "      <td>2</td>\n",
       "      <td>3385</td>\n",
       "      <td>1</td>\n",
       "      <td>0</td>\n",
       "      <td>0.70</td>\n",
       "    </tr>\n",
       "    <tr>\n",
       "      <th>71</th>\n",
       "      <td>2</td>\n",
       "      <td>3385</td>\n",
       "      <td>1</td>\n",
       "      <td>0</td>\n",
       "      <td>0.71</td>\n",
       "    </tr>\n",
       "    <tr>\n",
       "      <th>72</th>\n",
       "      <td>2</td>\n",
       "      <td>3385</td>\n",
       "      <td>1</td>\n",
       "      <td>0</td>\n",
       "      <td>0.72</td>\n",
       "    </tr>\n",
       "    <tr>\n",
       "      <th>73</th>\n",
       "      <td>2</td>\n",
       "      <td>3385</td>\n",
       "      <td>1</td>\n",
       "      <td>0</td>\n",
       "      <td>0.73</td>\n",
       "    </tr>\n",
       "    <tr>\n",
       "      <th>74</th>\n",
       "      <td>2</td>\n",
       "      <td>3385</td>\n",
       "      <td>1</td>\n",
       "      <td>0</td>\n",
       "      <td>0.74</td>\n",
       "    </tr>\n",
       "    <tr>\n",
       "      <th>75</th>\n",
       "      <td>2</td>\n",
       "      <td>3385</td>\n",
       "      <td>1</td>\n",
       "      <td>0</td>\n",
       "      <td>0.75</td>\n",
       "    </tr>\n",
       "    <tr>\n",
       "      <th>76</th>\n",
       "      <td>2</td>\n",
       "      <td>3385</td>\n",
       "      <td>1</td>\n",
       "      <td>0</td>\n",
       "      <td>0.76</td>\n",
       "    </tr>\n",
       "    <tr>\n",
       "      <th>77</th>\n",
       "      <td>2</td>\n",
       "      <td>3385</td>\n",
       "      <td>1</td>\n",
       "      <td>0</td>\n",
       "      <td>0.77</td>\n",
       "    </tr>\n",
       "    <tr>\n",
       "      <th>78</th>\n",
       "      <td>2</td>\n",
       "      <td>3385</td>\n",
       "      <td>1</td>\n",
       "      <td>0</td>\n",
       "      <td>0.78</td>\n",
       "    </tr>\n",
       "    <tr>\n",
       "      <th>79</th>\n",
       "      <td>2</td>\n",
       "      <td>3385</td>\n",
       "      <td>1</td>\n",
       "      <td>0</td>\n",
       "      <td>0.79</td>\n",
       "    </tr>\n",
       "    <tr>\n",
       "      <th>80</th>\n",
       "      <td>2</td>\n",
       "      <td>3385</td>\n",
       "      <td>1</td>\n",
       "      <td>0</td>\n",
       "      <td>0.80</td>\n",
       "    </tr>\n",
       "    <tr>\n",
       "      <th>81</th>\n",
       "      <td>2</td>\n",
       "      <td>3385</td>\n",
       "      <td>1</td>\n",
       "      <td>0</td>\n",
       "      <td>0.81</td>\n",
       "    </tr>\n",
       "    <tr>\n",
       "      <th>82</th>\n",
       "      <td>2</td>\n",
       "      <td>3385</td>\n",
       "      <td>1</td>\n",
       "      <td>0</td>\n",
       "      <td>0.82</td>\n",
       "    </tr>\n",
       "    <tr>\n",
       "      <th>83</th>\n",
       "      <td>2</td>\n",
       "      <td>3385</td>\n",
       "      <td>1</td>\n",
       "      <td>0</td>\n",
       "      <td>0.83</td>\n",
       "    </tr>\n",
       "    <tr>\n",
       "      <th>84</th>\n",
       "      <td>2</td>\n",
       "      <td>3385</td>\n",
       "      <td>1</td>\n",
       "      <td>0</td>\n",
       "      <td>0.84</td>\n",
       "    </tr>\n",
       "    <tr>\n",
       "      <th>85</th>\n",
       "      <td>2</td>\n",
       "      <td>3385</td>\n",
       "      <td>1</td>\n",
       "      <td>0</td>\n",
       "      <td>0.85</td>\n",
       "    </tr>\n",
       "    <tr>\n",
       "      <th>86</th>\n",
       "      <td>2</td>\n",
       "      <td>3385</td>\n",
       "      <td>1</td>\n",
       "      <td>0</td>\n",
       "      <td>0.86</td>\n",
       "    </tr>\n",
       "    <tr>\n",
       "      <th>87</th>\n",
       "      <td>2</td>\n",
       "      <td>3385</td>\n",
       "      <td>1</td>\n",
       "      <td>0</td>\n",
       "      <td>0.87</td>\n",
       "    </tr>\n",
       "    <tr>\n",
       "      <th>88</th>\n",
       "      <td>2</td>\n",
       "      <td>3385</td>\n",
       "      <td>1</td>\n",
       "      <td>0</td>\n",
       "      <td>0.88</td>\n",
       "    </tr>\n",
       "    <tr>\n",
       "      <th>89</th>\n",
       "      <td>2</td>\n",
       "      <td>3385</td>\n",
       "      <td>1</td>\n",
       "      <td>0</td>\n",
       "      <td>0.89</td>\n",
       "    </tr>\n",
       "    <tr>\n",
       "      <th>90</th>\n",
       "      <td>2</td>\n",
       "      <td>3385</td>\n",
       "      <td>1</td>\n",
       "      <td>0</td>\n",
       "      <td>0.90</td>\n",
       "    </tr>\n",
       "    <tr>\n",
       "      <th>91</th>\n",
       "      <td>2</td>\n",
       "      <td>3385</td>\n",
       "      <td>1</td>\n",
       "      <td>0</td>\n",
       "      <td>0.91</td>\n",
       "    </tr>\n",
       "    <tr>\n",
       "      <th>92</th>\n",
       "      <td>2</td>\n",
       "      <td>3385</td>\n",
       "      <td>1</td>\n",
       "      <td>0</td>\n",
       "      <td>0.92</td>\n",
       "    </tr>\n",
       "    <tr>\n",
       "      <th>93</th>\n",
       "      <td>2</td>\n",
       "      <td>3385</td>\n",
       "      <td>1</td>\n",
       "      <td>0</td>\n",
       "      <td>0.93</td>\n",
       "    </tr>\n",
       "    <tr>\n",
       "      <th>94</th>\n",
       "      <td>2</td>\n",
       "      <td>3385</td>\n",
       "      <td>1</td>\n",
       "      <td>0</td>\n",
       "      <td>0.94</td>\n",
       "    </tr>\n",
       "    <tr>\n",
       "      <th>95</th>\n",
       "      <td>2</td>\n",
       "      <td>3385</td>\n",
       "      <td>1</td>\n",
       "      <td>0</td>\n",
       "      <td>0.95</td>\n",
       "    </tr>\n",
       "    <tr>\n",
       "      <th>96</th>\n",
       "      <td>2</td>\n",
       "      <td>3385</td>\n",
       "      <td>1</td>\n",
       "      <td>0</td>\n",
       "      <td>0.96</td>\n",
       "    </tr>\n",
       "    <tr>\n",
       "      <th>97</th>\n",
       "      <td>2</td>\n",
       "      <td>3385</td>\n",
       "      <td>1</td>\n",
       "      <td>0</td>\n",
       "      <td>0.97</td>\n",
       "    </tr>\n",
       "    <tr>\n",
       "      <th>98</th>\n",
       "      <td>2</td>\n",
       "      <td>3385</td>\n",
       "      <td>1</td>\n",
       "      <td>0</td>\n",
       "      <td>0.98</td>\n",
       "    </tr>\n",
       "    <tr>\n",
       "      <th>99</th>\n",
       "      <td>2</td>\n",
       "      <td>3385</td>\n",
       "      <td>1</td>\n",
       "      <td>0</td>\n",
       "      <td>0.99</td>\n",
       "    </tr>\n",
       "  </tbody>\n",
       "</table>\n",
       "</div>"
      ],
      "text/plain": [
       "    tpLogLH  tnLogLH  tprLogLH  fprLogLH  thresLogLH\n",
       "59        2     3385         1         0        0.59\n",
       "60        2     3385         1         0        0.60\n",
       "61        2     3385         1         0        0.61\n",
       "62        2     3385         1         0        0.62\n",
       "63        2     3385         1         0        0.63\n",
       "64        2     3385         1         0        0.64\n",
       "65        2     3385         1         0        0.65\n",
       "66        2     3385         1         0        0.66\n",
       "67        2     3385         1         0        0.67\n",
       "68        2     3385         1         0        0.68\n",
       "69        2     3385         1         0        0.69\n",
       "70        2     3385         1         0        0.70\n",
       "71        2     3385         1         0        0.71\n",
       "72        2     3385         1         0        0.72\n",
       "73        2     3385         1         0        0.73\n",
       "74        2     3385         1         0        0.74\n",
       "75        2     3385         1         0        0.75\n",
       "76        2     3385         1         0        0.76\n",
       "77        2     3385         1         0        0.77\n",
       "78        2     3385         1         0        0.78\n",
       "79        2     3385         1         0        0.79\n",
       "80        2     3385         1         0        0.80\n",
       "81        2     3385         1         0        0.81\n",
       "82        2     3385         1         0        0.82\n",
       "83        2     3385         1         0        0.83\n",
       "84        2     3385         1         0        0.84\n",
       "85        2     3385         1         0        0.85\n",
       "86        2     3385         1         0        0.86\n",
       "87        2     3385         1         0        0.87\n",
       "88        2     3385         1         0        0.88\n",
       "89        2     3385         1         0        0.89\n",
       "90        2     3385         1         0        0.90\n",
       "91        2     3385         1         0        0.91\n",
       "92        2     3385         1         0        0.92\n",
       "93        2     3385         1         0        0.93\n",
       "94        2     3385         1         0        0.94\n",
       "95        2     3385         1         0        0.95\n",
       "96        2     3385         1         0        0.96\n",
       "97        2     3385         1         0        0.97\n",
       "98        2     3385         1         0        0.98\n",
       "99        2     3385         1         0        0.99"
      ]
     },
     "execution_count": 1310,
     "metadata": {},
     "output_type": "execute_result"
    }
   ],
   "source": [
    "dfTuningLogLH[dfTuningLogLH.tnLogLH == dfTuningLogLH.tnLogLH.max()]"
   ]
  },
  {
   "cell_type": "code",
   "execution_count": 1730,
   "metadata": {},
   "outputs": [
    {
     "data": {
      "text/plain": [
       "Index([u'AnomalyScore', u'TMactiveCells', u'TMpredictedCells', u'flagLH',\n",
       "       u'idxAS', u'inputSDR', u'inputSDRts', u'inputSDRval1', u'inputSDRval2',\n",
       "       u'inputTs', u'inputVal1', u'inputVal2', u'label1', u'label2', u'lh',\n",
       "       u'logLH', u'sp4tm', u'sp_active', u'labels', u'flagLogLH',\n",
       "       u'relativeWindowPosition', u'TPrelativeScore'],\n",
       "      dtype='object')"
      ]
     },
     "execution_count": 1730,
     "metadata": {},
     "output_type": "execute_result"
    }
   ],
   "source": [
    "df.columns"
   ]
  },
  {
   "cell_type": "code",
   "execution_count": 1731,
   "metadata": {},
   "outputs": [],
   "source": [
    "df.drop(['TMactiveCells', 'TMpredictedCells', 'idxAS', 'inputSDR', 'inputSDRts', 'inputSDRval1', 'inputSDRval2', 'sp4tm', 'sp_active'], axis=1, inplace=True)"
   ]
  },
  {
   "cell_type": "code",
   "execution_count": 1733,
   "metadata": {},
   "outputs": [
    {
     "data": {
      "text/html": [
       "<div>\n",
       "<style>\n",
       "    .dataframe thead tr:only-child th {\n",
       "        text-align: right;\n",
       "    }\n",
       "\n",
       "    .dataframe thead th {\n",
       "        text-align: left;\n",
       "    }\n",
       "\n",
       "    .dataframe tbody tr th {\n",
       "        vertical-align: top;\n",
       "    }\n",
       "</style>\n",
       "<table border=\"1\" class=\"dataframe\">\n",
       "  <thead>\n",
       "    <tr style=\"text-align: right;\">\n",
       "      <th></th>\n",
       "      <th>AnomalyScore</th>\n",
       "      <th>flagLH</th>\n",
       "      <th>inputTs</th>\n",
       "      <th>inputVal1</th>\n",
       "      <th>inputVal2</th>\n",
       "      <th>label1</th>\n",
       "      <th>label2</th>\n",
       "      <th>lh</th>\n",
       "      <th>logLH</th>\n",
       "      <th>labels</th>\n",
       "      <th>flagLogLH</th>\n",
       "      <th>relativeWindowPosition</th>\n",
       "      <th>TPrelativeScore</th>\n",
       "    </tr>\n",
       "  </thead>\n",
       "  <tbody>\n",
       "    <tr>\n",
       "      <th>0</th>\n",
       "      <td>1.0</td>\n",
       "      <td>0</td>\n",
       "      <td>2014-04-01 00:00:00</td>\n",
       "      <td>-21.048383</td>\n",
       "      <td>21.519280</td>\n",
       "      <td>0.0</td>\n",
       "      <td>0.0</td>\n",
       "      <td>0.5</td>\n",
       "      <td>0.030103</td>\n",
       "      <td>0</td>\n",
       "      <td>0</td>\n",
       "      <td>0</td>\n",
       "      <td>0.0</td>\n",
       "    </tr>\n",
       "    <tr>\n",
       "      <th>1</th>\n",
       "      <td>1.0</td>\n",
       "      <td>0</td>\n",
       "      <td>2014-04-01 00:05:00</td>\n",
       "      <td>-20.295477</td>\n",
       "      <td>21.707762</td>\n",
       "      <td>0.0</td>\n",
       "      <td>0.0</td>\n",
       "      <td>0.5</td>\n",
       "      <td>0.030103</td>\n",
       "      <td>0</td>\n",
       "      <td>0</td>\n",
       "      <td>0</td>\n",
       "      <td>0.0</td>\n",
       "    </tr>\n",
       "    <tr>\n",
       "      <th>2</th>\n",
       "      <td>1.0</td>\n",
       "      <td>0</td>\n",
       "      <td>2014-04-01 00:10:00</td>\n",
       "      <td>-18.127229</td>\n",
       "      <td>18.097725</td>\n",
       "      <td>0.0</td>\n",
       "      <td>0.0</td>\n",
       "      <td>0.5</td>\n",
       "      <td>0.030103</td>\n",
       "      <td>0</td>\n",
       "      <td>0</td>\n",
       "      <td>0</td>\n",
       "      <td>0.0</td>\n",
       "    </tr>\n",
       "    <tr>\n",
       "      <th>3</th>\n",
       "      <td>0.0</td>\n",
       "      <td>0</td>\n",
       "      <td>2014-04-01 00:15:00</td>\n",
       "      <td>-20.171665</td>\n",
       "      <td>21.954012</td>\n",
       "      <td>0.0</td>\n",
       "      <td>0.0</td>\n",
       "      <td>0.5</td>\n",
       "      <td>0.030103</td>\n",
       "      <td>0</td>\n",
       "      <td>0</td>\n",
       "      <td>0</td>\n",
       "      <td>0.0</td>\n",
       "    </tr>\n",
       "    <tr>\n",
       "      <th>4</th>\n",
       "      <td>0.0</td>\n",
       "      <td>0</td>\n",
       "      <td>2014-04-01 00:20:00</td>\n",
       "      <td>-21.223762</td>\n",
       "      <td>20.840091</td>\n",
       "      <td>0.0</td>\n",
       "      <td>0.0</td>\n",
       "      <td>0.5</td>\n",
       "      <td>0.030103</td>\n",
       "      <td>0</td>\n",
       "      <td>0</td>\n",
       "      <td>0</td>\n",
       "      <td>0.0</td>\n",
       "    </tr>\n",
       "  </tbody>\n",
       "</table>\n",
       "</div>"
      ],
      "text/plain": [
       "   AnomalyScore  flagLH             inputTs  inputVal1  inputVal2  label1  \\\n",
       "0           1.0       0 2014-04-01 00:00:00 -21.048383  21.519280     0.0   \n",
       "1           1.0       0 2014-04-01 00:05:00 -20.295477  21.707762     0.0   \n",
       "2           1.0       0 2014-04-01 00:10:00 -18.127229  18.097725     0.0   \n",
       "3           0.0       0 2014-04-01 00:15:00 -20.171665  21.954012     0.0   \n",
       "4           0.0       0 2014-04-01 00:20:00 -21.223762  20.840091     0.0   \n",
       "\n",
       "   label2   lh     logLH  labels  flagLogLH  relativeWindowPosition  \\\n",
       "0     0.0  0.5  0.030103       0          0                       0   \n",
       "1     0.0  0.5  0.030103       0          0                       0   \n",
       "2     0.0  0.5  0.030103       0          0                       0   \n",
       "3     0.0  0.5  0.030103       0          0                       0   \n",
       "4     0.0  0.5  0.030103       0          0                       0   \n",
       "\n",
       "   TPrelativeScore  \n",
       "0              0.0  \n",
       "1              0.0  \n",
       "2              0.0  \n",
       "3              0.0  \n",
       "4              0.0  "
      ]
     },
     "execution_count": 1733,
     "metadata": {},
     "output_type": "execute_result"
    }
   ],
   "source": [
    "df.head()"
   ]
  },
  {
   "cell_type": "markdown",
   "metadata": {},
   "source": [
    "# Save"
   ]
  },
  {
   "cell_type": "code",
   "execution_count": 81,
   "metadata": {},
   "outputs": [],
   "source": [
    "# import copy\n",
    "# dataOut = copy.deepcopy(data)"
   ]
  },
  {
   "cell_type": "code",
   "execution_count": 82,
   "metadata": {},
   "outputs": [],
   "source": [
    "# # to dump to .json we need to change array to lists and datetime to str\n",
    "\n",
    "# for i in xrange(len(dataOut)):\n",
    "#     for k,v in dataOut[i].items():\n",
    "#         if isinstance(v, np.ndarray):\n",
    "#             #print dataOut[i][k].tolist\n",
    "#             dataOut[i][k] = dataOut[i][k].tolist()\n",
    "#         if isinstance(v, datetime.datetime):\n",
    "#             dataOut[i][k] = str(dataOut[i][k])\n",
    "#         else:\n",
    "#             pass"
   ]
  },
  {
   "cell_type": "code",
   "execution_count": 1736,
   "metadata": {},
   "outputs": [],
   "source": [
    "import pickle\n",
    "\n",
    "filename = 'multi_getScal_spLearnFalse_tmLearnAll.pkl'\n",
    "with open(filename, 'wb') as f:\n",
    "    pickle.dump(df, f)#, indent=4, sort_keys=True, separators=(',', ': '))"
   ]
  }
 ],
 "metadata": {
  "kernelspec": {
   "display_name": "nupic",
   "language": "python",
   "name": "nupic"
  },
  "language_info": {
   "codemirror_mode": {
    "name": "ipython",
    "version": 2
   },
   "file_extension": ".py",
   "mimetype": "text/x-python",
   "name": "python",
   "nbconvert_exporter": "python",
   "pygments_lexer": "ipython2",
   "version": "2.7.15rc1"
  }
 },
 "nbformat": 4,
 "nbformat_minor": 2
}
